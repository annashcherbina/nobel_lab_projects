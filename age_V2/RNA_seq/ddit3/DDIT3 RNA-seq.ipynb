{
 "cells": [
  {
   "cell_type": "code",
   "execution_count": 1,
   "metadata": {},
   "outputs": [],
   "source": [
    "library(ggplot2)"
   ]
  },
  {
   "cell_type": "code",
   "execution_count": 2,
   "metadata": {},
   "outputs": [],
   "source": [
    "data=read.table(\"ddit3_inputs.tsv\",header=TRUE,sep='\\t')"
   ]
  },
  {
   "cell_type": "code",
   "execution_count": 3,
   "metadata": {},
   "outputs": [
    {
     "data": {
      "text/html": [
       "<table>\n",
       "<caption>A data.frame: 11 × 4</caption>\n",
       "<thead>\n",
       "\t<tr><th scope=col>Time</th><th scope=col>Age</th><th scope=col>MeanTPM</th><th scope=col>StdevTPM</th></tr>\n",
       "\t<tr><th scope=col>&lt;fct&gt;</th><th scope=col>&lt;fct&gt;</th><th scope=col>&lt;dbl&gt;</th><th scope=col>&lt;dbl&gt;</th></tr>\n",
       "</thead>\n",
       "<tbody>\n",
       "\t<tr><td>d0</td><td>Aged      </td><td>143.71470</td><td>19.453523</td></tr>\n",
       "\t<tr><td>d0</td><td>Young_Pax7</td><td> 48.99001</td><td> 1.814053</td></tr>\n",
       "\t<tr><td>d0</td><td>Young     </td><td> 55.45977</td><td> 5.115306</td></tr>\n",
       "\t<tr><td>d1</td><td>Aged      </td><td> 71.10959</td><td> 6.327845</td></tr>\n",
       "\t<tr><td>d1</td><td>Young     </td><td> 63.29438</td><td>12.052769</td></tr>\n",
       "\t<tr><td>d3</td><td>Aged      </td><td> 53.90461</td><td> 3.336516</td></tr>\n",
       "\t<tr><td>d3</td><td>Young     </td><td> 33.46626</td><td> 3.651234</td></tr>\n",
       "\t<tr><td>d5</td><td>Aged      </td><td> 58.65172</td><td> 3.764693</td></tr>\n",
       "\t<tr><td>d5</td><td>Young     </td><td> 51.76806</td><td> 2.241364</td></tr>\n",
       "\t<tr><td>d7</td><td>Aged      </td><td> 71.98070</td><td> 3.775036</td></tr>\n",
       "\t<tr><td>d7</td><td>Young     </td><td> 90.78153</td><td> 3.684068</td></tr>\n",
       "</tbody>\n",
       "</table>\n"
      ],
      "text/latex": [
       "A data.frame: 11 × 4\n",
       "\\begin{tabular}{r|llll}\n",
       " Time & Age & MeanTPM & StdevTPM\\\\\n",
       " <fct> & <fct> & <dbl> & <dbl>\\\\\n",
       "\\hline\n",
       "\t d0 & Aged       & 143.71470 & 19.453523\\\\\n",
       "\t d0 & Young\\_Pax7 &  48.99001 &  1.814053\\\\\n",
       "\t d0 & Young      &  55.45977 &  5.115306\\\\\n",
       "\t d1 & Aged       &  71.10959 &  6.327845\\\\\n",
       "\t d1 & Young      &  63.29438 & 12.052769\\\\\n",
       "\t d3 & Aged       &  53.90461 &  3.336516\\\\\n",
       "\t d3 & Young      &  33.46626 &  3.651234\\\\\n",
       "\t d5 & Aged       &  58.65172 &  3.764693\\\\\n",
       "\t d5 & Young      &  51.76806 &  2.241364\\\\\n",
       "\t d7 & Aged       &  71.98070 &  3.775036\\\\\n",
       "\t d7 & Young      &  90.78153 &  3.684068\\\\\n",
       "\\end{tabular}\n"
      ],
      "text/markdown": [
       "\n",
       "A data.frame: 11 × 4\n",
       "\n",
       "| Time &lt;fct&gt; | Age &lt;fct&gt; | MeanTPM &lt;dbl&gt; | StdevTPM &lt;dbl&gt; |\n",
       "|---|---|---|---|\n",
       "| d0 | Aged       | 143.71470 | 19.453523 |\n",
       "| d0 | Young_Pax7 |  48.99001 |  1.814053 |\n",
       "| d0 | Young      |  55.45977 |  5.115306 |\n",
       "| d1 | Aged       |  71.10959 |  6.327845 |\n",
       "| d1 | Young      |  63.29438 | 12.052769 |\n",
       "| d3 | Aged       |  53.90461 |  3.336516 |\n",
       "| d3 | Young      |  33.46626 |  3.651234 |\n",
       "| d5 | Aged       |  58.65172 |  3.764693 |\n",
       "| d5 | Young      |  51.76806 |  2.241364 |\n",
       "| d7 | Aged       |  71.98070 |  3.775036 |\n",
       "| d7 | Young      |  90.78153 |  3.684068 |\n",
       "\n"
      ],
      "text/plain": [
       "   Time Age        MeanTPM   StdevTPM \n",
       "1  d0   Aged       143.71470 19.453523\n",
       "2  d0   Young_Pax7  48.99001  1.814053\n",
       "3  d0   Young       55.45977  5.115306\n",
       "4  d1   Aged        71.10959  6.327845\n",
       "5  d1   Young       63.29438 12.052769\n",
       "6  d3   Aged        53.90461  3.336516\n",
       "7  d3   Young       33.46626  3.651234\n",
       "8  d5   Aged        58.65172  3.764693\n",
       "9  d5   Young       51.76806  2.241364\n",
       "10 d7   Aged        71.98070  3.775036\n",
       "11 d7   Young       90.78153  3.684068"
      ]
     },
     "metadata": {},
     "output_type": "display_data"
    }
   ],
   "source": [
    "data"
   ]
  },
  {
   "cell_type": "code",
   "execution_count": 12,
   "metadata": {},
   "outputs": [
    {
     "data": {
      "text/html": [
       "<strong>png:</strong> 2"
      ],
      "text/latex": [
       "\\textbf{png:} 2"
      ],
      "text/markdown": [
       "**png:** 2"
      ],
      "text/plain": [
       "png \n",
       "  2 "
      ]
     },
     "metadata": {},
     "output_type": "display_data"
    }
   ],
   "source": [
    "svg(filename=\"DDIT3_RNA.svg\",\n",
    "   height=4,\n",
    "   width=8,\n",
    "   pointsize=12)\n",
    "print(ggplot(data=data,\n",
    "      aes(x=data$Time,\n",
    "         y=data$MeanTPM,\n",
    "         group=data$Age,\n",
    "         color=data$Age))+\n",
    "geom_point()+\n",
    "geom_line()+\n",
    "geom_errorbar(aes(ymin=data$MeanTPM-data$StdevTPM, ymax=data$MeanTPM+data$StdevTPM), width=.2)+\n",
    "xlab(\"Day\")+\n",
    "ylab(\"Mean TPM DDIT3\")+\n",
    "scale_color_manual(name=\"Age\",values=c('#1b9e77','#d95f02','#7570b3'))+\n",
    "theme_bw(20))\n",
    "dev.off()"
   ]
  },
  {
   "cell_type": "code",
   "execution_count": null,
   "metadata": {},
   "outputs": [],
   "source": []
  }
 ],
 "metadata": {
  "kernelspec": {
   "display_name": "R 3.5",
   "language": "R",
   "name": "ir35"
  },
  "language_info": {
   "codemirror_mode": "r",
   "file_extension": ".r",
   "mimetype": "text/x-r-source",
   "name": "R",
   "pygments_lexer": "r",
   "version": "3.5.1"
  }
 },
 "nbformat": 4,
 "nbformat_minor": 2
}
