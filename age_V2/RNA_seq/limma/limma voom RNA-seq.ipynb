{
 "cells": [
  {
   "cell_type": "markdown",
   "metadata": {},
   "source": [
    "### Limma voom analysis of Age Dataset: RNA-seq\n"
   ]
  },
  {
   "cell_type": "code",
   "execution_count": 35,
   "metadata": {},
   "outputs": [],
   "source": [
    "rm(list=ls())\n",
    "#load necessary libraries \n",
    "library(ggplot2)\n",
    "library(\"BiocParallel\")\n",
    "parallelFlag=TRUE\n",
    "register(MulticoreParam(50))\n",
    "library(sva)\n",
    "library(limma)\n",
    "library(statmod)"
   ]
  },
  {
   "cell_type": "markdown",
   "metadata": {},
   "source": [
    "## Load data and design"
   ]
  },
  {
   "cell_type": "code",
   "execution_count": 36,
   "metadata": {},
   "outputs": [],
   "source": [
    "##load RNA-seq TPM\n",
    "data=read.table('../age.rna.counts.txt.tpm',header=TRUE,sep='\\t')\n",
    "rownames(data)=paste(data$GeneID,data$GeneName,sep=\"_\")\n",
    "data$GeneID=NULL\n",
    "data$GeneName=NULL"
   ]
  },
  {
   "cell_type": "code",
   "execution_count": 37,
   "metadata": {},
   "outputs": [
    {
     "data": {
      "text/html": [
       "<table>\n",
       "<caption>A data.frame: 6 × 41</caption>\n",
       "<thead>\n",
       "\t<tr><th></th><th scope=col>d0_A_Rep1</th><th scope=col>d0_A_Rep2</th><th scope=col>d0_A_Rep3</th><th scope=col>d0_A_Rep4</th><th scope=col>d0_Y_Pax7_Rep1</th><th scope=col>d0_Y_Pax7_Rep2</th><th scope=col>d0_Y_Pax7_Rep3</th><th scope=col>d0_Y_Rep1</th><th scope=col>d0_Y_Rep2</th><th scope=col>d0_Y_Rep3</th><th scope=col>⋯</th><th scope=col>d5_Y_Rep2</th><th scope=col>d5_Y_Rep3</th><th scope=col>d7_A_Rep1</th><th scope=col>d7_A_Rep2</th><th scope=col>d7_A_Rep3</th><th scope=col>d7_A_Rep4</th><th scope=col>d7_Y_Rep1</th><th scope=col>d7_Y_Rep2</th><th scope=col>d7_Y_Rep3</th><th scope=col>d7_Y_Rep4</th></tr>\n",
       "\t<tr><th></th><th scope=col>&lt;dbl&gt;</th><th scope=col>&lt;dbl&gt;</th><th scope=col>&lt;dbl&gt;</th><th scope=col>&lt;dbl&gt;</th><th scope=col>&lt;dbl&gt;</th><th scope=col>&lt;dbl&gt;</th><th scope=col>&lt;dbl&gt;</th><th scope=col>&lt;dbl&gt;</th><th scope=col>&lt;dbl&gt;</th><th scope=col>&lt;dbl&gt;</th><th scope=col>⋯</th><th scope=col>&lt;dbl&gt;</th><th scope=col>&lt;dbl&gt;</th><th scope=col>&lt;dbl&gt;</th><th scope=col>&lt;dbl&gt;</th><th scope=col>&lt;dbl&gt;</th><th scope=col>&lt;dbl&gt;</th><th scope=col>&lt;dbl&gt;</th><th scope=col>&lt;dbl&gt;</th><th scope=col>&lt;dbl&gt;</th><th scope=col>&lt;dbl&gt;</th></tr>\n",
       "</thead>\n",
       "<tbody>\n",
       "\t<tr><th scope=row>ENSMUSG00000000001_Gnai3</th><td>33.66</td><td>32.74</td><td>138.68</td><td>103.55</td><td>162.42</td><td>146.37</td><td>119.82</td><td>109.23</td><td>157.71</td><td>63.06</td><td>⋯</td><td>159.77</td><td>121.53</td><td>183.29</td><td>175.34</td><td>156.22</td><td>164.38</td><td>120.19</td><td>132.60</td><td>175.81</td><td>191.01</td></tr>\n",
       "\t<tr><th scope=row>ENSMUSG00000000028_Cdc45</th><td> 1.90</td><td> 2.33</td><td>  3.65</td><td>  8.25</td><td>  5.82</td><td>  2.95</td><td>  2.78</td><td>  4.28</td><td>  7.65</td><td> 6.26</td><td>⋯</td><td> 26.31</td><td> 28.41</td><td> 22.41</td><td> 23.37</td><td> 21.64</td><td> 14.82</td><td> 31.30</td><td> 12.53</td><td> 36.95</td><td> 31.72</td></tr>\n",
       "\t<tr><th scope=row>ENSMUSG00000000031_H19</th><td> 1.72</td><td> 2.05</td><td>  5.48</td><td>  5.61</td><td> 35.36</td><td>  5.57</td><td>  2.34</td><td>  1.06</td><td>  0.66</td><td> 4.91</td><td>⋯</td><td> 75.14</td><td>161.20</td><td> 58.76</td><td> 66.95</td><td> 42.86</td><td> 35.30</td><td> 71.70</td><td> 34.19</td><td> 25.50</td><td> 45.81</td></tr>\n",
       "\t<tr><th scope=row>ENSMUSG00000000037_Scml2</th><td> 0.39</td><td> 0.20</td><td>  0.82</td><td>  1.77</td><td>  1.54</td><td>  0.77</td><td>  0.40</td><td>  0.25</td><td>  1.02</td><td> 0.50</td><td>⋯</td><td>  2.56</td><td>  2.72</td><td>  2.86</td><td>  2.26</td><td>  4.80</td><td>  4.08</td><td>  1.39</td><td>  1.37</td><td>  3.17</td><td>  0.53</td></tr>\n",
       "\t<tr><th scope=row>ENSMUSG00000000049_Apoh</th><td> 1.22</td><td> 1.11</td><td>  0.00</td><td>  0.35</td><td>  0.00</td><td>  0.00</td><td>  0.00</td><td>  0.56</td><td>  0.00</td><td> 0.12</td><td>⋯</td><td>  0.04</td><td>  0.00</td><td>  0.00</td><td>  0.00</td><td>  0.00</td><td>  0.49</td><td>  0.10</td><td>  0.00</td><td>  0.00</td><td>  0.15</td></tr>\n",
       "\t<tr><th scope=row>ENSMUSG00000000056_Narf</th><td> 3.18</td><td> 2.53</td><td> 18.66</td><td> 11.92</td><td> 10.70</td><td> 16.04</td><td> 20.35</td><td>  5.96</td><td> 10.01</td><td>10.31</td><td>⋯</td><td>  9.64</td><td> 11.29</td><td> 14.16</td><td> 12.11</td><td> 13.64</td><td>  8.11</td><td>  5.36</td><td> 14.06</td><td> 10.36</td><td>  4.68</td></tr>\n",
       "</tbody>\n",
       "</table>\n"
      ],
      "text/latex": [
       "A data.frame: 6 × 41\n",
       "\\begin{tabular}{r|lllllllllllllllllllllllllllllllllllllllll}\n",
       "  & d0\\_A\\_Rep1 & d0\\_A\\_Rep2 & d0\\_A\\_Rep3 & d0\\_A\\_Rep4 & d0\\_Y\\_Pax7\\_Rep1 & d0\\_Y\\_Pax7\\_Rep2 & d0\\_Y\\_Pax7\\_Rep3 & d0\\_Y\\_Rep1 & d0\\_Y\\_Rep2 & d0\\_Y\\_Rep3 & d0\\_Y\\_Rep4 & d0\\_Y\\_Rep5 & d0\\_Y\\_Rep6 & d1\\_A\\_Rep1 & d1\\_A\\_Rep2 & d1\\_Y\\_Rep1 & d1\\_Y\\_Rep2 & d1\\_Y\\_Rep3 & d1\\_Y\\_Rep4 & d3\\_A\\_Rep1 & d3\\_A\\_Rep2 & D3\\_A\\_Rep3 & D3\\_A\\_Rep4 & d3\\_Y\\_Rep1 & d3\\_Y\\_Rep2 & d3\\_Y\\_Rep3 & D3\\_Y\\_Rep4 & D3\\_Y\\_Rep5 & d5\\_A\\_Rep1 & d5\\_A\\_Rep2 & d5\\_Y\\_Rep1 & d5\\_Y\\_Rep2 & d5\\_Y\\_Rep3 & d7\\_A\\_Rep1 & d7\\_A\\_Rep2 & d7\\_A\\_Rep3 & d7\\_A\\_Rep4 & d7\\_Y\\_Rep1 & d7\\_Y\\_Rep2 & d7\\_Y\\_Rep3 & d7\\_Y\\_Rep4\\\\\n",
       "  & <dbl> & <dbl> & <dbl> & <dbl> & <dbl> & <dbl> & <dbl> & <dbl> & <dbl> & <dbl> & <dbl> & <dbl> & <dbl> & <dbl> & <dbl> & <dbl> & <dbl> & <dbl> & <dbl> & <dbl> & <dbl> & <dbl> & <dbl> & <dbl> & <dbl> & <dbl> & <dbl> & <dbl> & <dbl> & <dbl> & <dbl> & <dbl> & <dbl> & <dbl> & <dbl> & <dbl> & <dbl> & <dbl> & <dbl> & <dbl> & <dbl>\\\\\n",
       "\\hline\n",
       "\tENSMUSG00000000001\\_Gnai3 & 33.66 & 32.74 & 138.68 & 103.55 & 162.42 & 146.37 & 119.82 & 109.23 & 157.71 & 63.06 & 102.83 & 231.55 & 174.64 & 149.95 & 155.51 & 137.48 & 138.49 &  95.81 & 130.68 & 115.90 & 77.59 & 149.65 & 159.69 & 133.72 & 134.37 &  80.00 & 145.58 & 151.59 & 153.75 & 150.23 & 160.62 & 159.77 & 121.53 & 183.29 & 175.34 & 156.22 & 164.38 & 120.19 & 132.60 & 175.81 & 191.01\\\\\n",
       "\tENSMUSG00000000028\\_Cdc45 &  1.90 &  2.33 &   3.65 &   8.25 &   5.82 &   2.95 &   2.78 &   4.28 &   7.65 &  6.26 &   5.88 &  32.78 &   3.08 &  47.59 &  42.55 &   5.26 &   4.41 &  20.30 &   4.03 &  73.64 & 84.86 &  66.73 &  70.92 &  55.69 &  56.60 &  73.04 &  77.33 &  88.38 &   7.72 &   6.15 &  27.66 &  26.31 &  28.41 &  22.41 &  23.37 &  21.64 &  14.82 &  31.30 &  12.53 &  36.95 &  31.72\\\\\n",
       "\tENSMUSG00000000031\\_H19 &  1.72 &  2.05 &   5.48 &   5.61 &  35.36 &   5.57 &   2.34 &   1.06 &   0.66 &  4.91 &   2.56 &   1.71 &   0.00 &   4.21 &   5.91 &   3.82 &   3.00 & 120.00 &   3.46 &  29.96 & 45.11 &  30.64 &  35.37 &  52.46 &  51.60 & 119.24 &  51.94 &  57.44 &   3.59 &   3.41 &  87.43 &  75.14 & 161.20 &  58.76 &  66.95 &  42.86 &  35.30 &  71.70 &  34.19 &  25.50 &  45.81\\\\\n",
       "\tENSMUSG00000000037\\_Scml2 &  0.39 &  0.20 &   0.82 &   1.77 &   1.54 &   0.77 &   0.40 &   0.25 &   1.02 &  0.50 &   0.53 &   2.38 &   2.13 &   1.99 &   1.49 &   1.29 &   1.35 &   1.39 &   1.40 &   1.49 &  1.59 &   2.84 &   4.20 &   1.93 &   1.53 &   1.25 &   4.89 &   2.47 &   0.08 &   0.21 &   2.63 &   2.56 &   2.72 &   2.86 &   2.26 &   4.80 &   4.08 &   1.39 &   1.37 &   3.17 &   0.53\\\\\n",
       "\tENSMUSG00000000049\\_Apoh &  1.22 &  1.11 &   0.00 &   0.35 &   0.00 &   0.00 &   0.00 &   0.56 &   0.00 &  0.12 &   0.26 &   0.00 &   0.45 &   0.04 &   1.04 &   0.72 &   0.78 &   0.07 &   0.34 &   0.00 &  0.03 &   0.00 &   0.31 &   0.00 &   0.04 &   0.02 &   0.20 &   0.00 &   0.00 &   0.00 &   0.00 &   0.04 &   0.00 &   0.00 &   0.00 &   0.00 &   0.49 &   0.10 &   0.00 &   0.00 &   0.15\\\\\n",
       "\tENSMUSG00000000056\\_Narf &  3.18 &  2.53 &  18.66 &  11.92 &  10.70 &  16.04 &  20.35 &   5.96 &  10.01 & 10.31 &   8.45 &   6.60 &  11.47 &   4.04 &   6.66 &   7.89 &   8.34 &   6.82 &   8.65 &   9.94 &  7.55 &   7.02 &  13.47 &  24.38 &  19.25 &  17.75 &  12.97 &   8.08 &  12.43 &  11.03 &  10.45 &   9.64 &  11.29 &  14.16 &  12.11 &  13.64 &   8.11 &   5.36 &  14.06 &  10.36 &   4.68\\\\\n",
       "\\end{tabular}\n"
      ],
      "text/markdown": [
       "\n",
       "A data.frame: 6 × 41\n",
       "\n",
       "| <!--/--> | d0_A_Rep1 &lt;dbl&gt; | d0_A_Rep2 &lt;dbl&gt; | d0_A_Rep3 &lt;dbl&gt; | d0_A_Rep4 &lt;dbl&gt; | d0_Y_Pax7_Rep1 &lt;dbl&gt; | d0_Y_Pax7_Rep2 &lt;dbl&gt; | d0_Y_Pax7_Rep3 &lt;dbl&gt; | d0_Y_Rep1 &lt;dbl&gt; | d0_Y_Rep2 &lt;dbl&gt; | d0_Y_Rep3 &lt;dbl&gt; | ⋯ ⋯ | d5_Y_Rep2 &lt;dbl&gt; | d5_Y_Rep3 &lt;dbl&gt; | d7_A_Rep1 &lt;dbl&gt; | d7_A_Rep2 &lt;dbl&gt; | d7_A_Rep3 &lt;dbl&gt; | d7_A_Rep4 &lt;dbl&gt; | d7_Y_Rep1 &lt;dbl&gt; | d7_Y_Rep2 &lt;dbl&gt; | d7_Y_Rep3 &lt;dbl&gt; | d7_Y_Rep4 &lt;dbl&gt; |\n",
       "|---|---|---|---|---|---|---|---|---|---|---|---|---|---|---|---|---|---|---|---|---|---|\n",
       "| ENSMUSG00000000001_Gnai3 | 33.66 | 32.74 | 138.68 | 103.55 | 162.42 | 146.37 | 119.82 | 109.23 | 157.71 | 63.06 | ⋯ | 159.77 | 121.53 | 183.29 | 175.34 | 156.22 | 164.38 | 120.19 | 132.60 | 175.81 | 191.01 |\n",
       "| ENSMUSG00000000028_Cdc45 |  1.90 |  2.33 |   3.65 |   8.25 |   5.82 |   2.95 |   2.78 |   4.28 |   7.65 |  6.26 | ⋯ |  26.31 |  28.41 |  22.41 |  23.37 |  21.64 |  14.82 |  31.30 |  12.53 |  36.95 |  31.72 |\n",
       "| ENSMUSG00000000031_H19 |  1.72 |  2.05 |   5.48 |   5.61 |  35.36 |   5.57 |   2.34 |   1.06 |   0.66 |  4.91 | ⋯ |  75.14 | 161.20 |  58.76 |  66.95 |  42.86 |  35.30 |  71.70 |  34.19 |  25.50 |  45.81 |\n",
       "| ENSMUSG00000000037_Scml2 |  0.39 |  0.20 |   0.82 |   1.77 |   1.54 |   0.77 |   0.40 |   0.25 |   1.02 |  0.50 | ⋯ |   2.56 |   2.72 |   2.86 |   2.26 |   4.80 |   4.08 |   1.39 |   1.37 |   3.17 |   0.53 |\n",
       "| ENSMUSG00000000049_Apoh |  1.22 |  1.11 |   0.00 |   0.35 |   0.00 |   0.00 |   0.00 |   0.56 |   0.00 |  0.12 | ⋯ |   0.04 |   0.00 |   0.00 |   0.00 |   0.00 |   0.49 |   0.10 |   0.00 |   0.00 |   0.15 |\n",
       "| ENSMUSG00000000056_Narf |  3.18 |  2.53 |  18.66 |  11.92 |  10.70 |  16.04 |  20.35 |   5.96 |  10.01 | 10.31 | ⋯ |   9.64 |  11.29 |  14.16 |  12.11 |  13.64 |   8.11 |   5.36 |  14.06 |  10.36 |   4.68 |\n",
       "\n"
      ],
      "text/plain": [
       "                         d0_A_Rep1 d0_A_Rep2 d0_A_Rep3 d0_A_Rep4 d0_Y_Pax7_Rep1\n",
       "ENSMUSG00000000001_Gnai3 33.66     32.74     138.68    103.55    162.42        \n",
       "ENSMUSG00000000028_Cdc45  1.90      2.33       3.65      8.25      5.82        \n",
       "ENSMUSG00000000031_H19    1.72      2.05       5.48      5.61     35.36        \n",
       "ENSMUSG00000000037_Scml2  0.39      0.20       0.82      1.77      1.54        \n",
       "ENSMUSG00000000049_Apoh   1.22      1.11       0.00      0.35      0.00        \n",
       "ENSMUSG00000000056_Narf   3.18      2.53      18.66     11.92     10.70        \n",
       "                         d0_Y_Pax7_Rep2 d0_Y_Pax7_Rep3 d0_Y_Rep1 d0_Y_Rep2\n",
       "ENSMUSG00000000001_Gnai3 146.37         119.82         109.23    157.71   \n",
       "ENSMUSG00000000028_Cdc45   2.95           2.78           4.28      7.65   \n",
       "ENSMUSG00000000031_H19     5.57           2.34           1.06      0.66   \n",
       "ENSMUSG00000000037_Scml2   0.77           0.40           0.25      1.02   \n",
       "ENSMUSG00000000049_Apoh    0.00           0.00           0.56      0.00   \n",
       "ENSMUSG00000000056_Narf   16.04          20.35           5.96     10.01   \n",
       "                         d0_Y_Rep3 ⋯ d5_Y_Rep2 d5_Y_Rep3 d7_A_Rep1 d7_A_Rep2\n",
       "ENSMUSG00000000001_Gnai3 63.06     ⋯ 159.77    121.53    183.29    175.34   \n",
       "ENSMUSG00000000028_Cdc45  6.26     ⋯  26.31     28.41     22.41     23.37   \n",
       "ENSMUSG00000000031_H19    4.91     ⋯  75.14    161.20     58.76     66.95   \n",
       "ENSMUSG00000000037_Scml2  0.50     ⋯   2.56      2.72      2.86      2.26   \n",
       "ENSMUSG00000000049_Apoh   0.12     ⋯   0.04      0.00      0.00      0.00   \n",
       "ENSMUSG00000000056_Narf  10.31     ⋯   9.64     11.29     14.16     12.11   \n",
       "                         d7_A_Rep3 d7_A_Rep4 d7_Y_Rep1 d7_Y_Rep2 d7_Y_Rep3\n",
       "ENSMUSG00000000001_Gnai3 156.22    164.38    120.19    132.60    175.81   \n",
       "ENSMUSG00000000028_Cdc45  21.64     14.82     31.30     12.53     36.95   \n",
       "ENSMUSG00000000031_H19    42.86     35.30     71.70     34.19     25.50   \n",
       "ENSMUSG00000000037_Scml2   4.80      4.08      1.39      1.37      3.17   \n",
       "ENSMUSG00000000049_Apoh    0.00      0.49      0.10      0.00      0.00   \n",
       "ENSMUSG00000000056_Narf   13.64      8.11      5.36     14.06     10.36   \n",
       "                         d7_Y_Rep4\n",
       "ENSMUSG00000000001_Gnai3 191.01   \n",
       "ENSMUSG00000000028_Cdc45  31.72   \n",
       "ENSMUSG00000000031_H19    45.81   \n",
       "ENSMUSG00000000037_Scml2   0.53   \n",
       "ENSMUSG00000000049_Apoh    0.15   \n",
       "ENSMUSG00000000056_Narf    4.68   "
      ]
     },
     "metadata": {},
     "output_type": "display_data"
    }
   ],
   "source": [
    "\n",
    "\n",
    "data=data[rowSums(data)>0,]\n",
    "\n",
    "head(data)"
   ]
  },
  {
   "cell_type": "code",
   "execution_count": 38,
   "metadata": {},
   "outputs": [
    {
     "data": {
      "text/html": [
       "37302"
      ],
      "text/latex": [
       "37302"
      ],
      "text/markdown": [
       "37302"
      ],
      "text/plain": [
       "[1] 37302"
      ]
     },
     "metadata": {},
     "output_type": "display_data"
    }
   ],
   "source": [
    "nrow(data)"
   ]
  },
  {
   "cell_type": "code",
   "execution_count": 41,
   "metadata": {},
   "outputs": [
    {
     "data": {
      "text/html": [
       "<table>\n",
       "<caption>A data.frame: 41 × 5</caption>\n",
       "<thead>\n",
       "\t<tr><th scope=col>Day</th><th scope=col>Age</th><th scope=col>Pax7</th><th scope=col>Batch</th><th scope=col>Rep</th></tr>\n",
       "\t<tr><th scope=col>&lt;int&gt;</th><th scope=col>&lt;fct&gt;</th><th scope=col>&lt;fct&gt;</th><th scope=col>&lt;fct&gt;</th><th scope=col>&lt;fct&gt;</th></tr>\n",
       "</thead>\n",
       "<tbody>\n",
       "\t<tr><td>0</td><td>A</td><td>0</td><td>R2200</td><td>d0_A_Rep1     </td></tr>\n",
       "\t<tr><td>0</td><td>A</td><td>0</td><td>R2081</td><td>d0_A_Rep2     </td></tr>\n",
       "\t<tr><td>0</td><td>A</td><td>0</td><td>R2830</td><td>d0_A_Rep3     </td></tr>\n",
       "\t<tr><td>0</td><td>A</td><td>0</td><td>R2830</td><td>d0_A_Rep4     </td></tr>\n",
       "\t<tr><td>0</td><td>Y</td><td>1</td><td>R2879</td><td>d0_Y_Pax7_Rep1</td></tr>\n",
       "\t<tr><td>0</td><td>Y</td><td>1</td><td>R2879</td><td>d0_Y_Pax7_Rep2</td></tr>\n",
       "\t<tr><td>0</td><td>Y</td><td>1</td><td>R2879</td><td>d0_Y_Pax7_Rep3</td></tr>\n",
       "\t<tr><td>0</td><td>Y</td><td>0</td><td>R2081</td><td>d0_Y_Rep1     </td></tr>\n",
       "\t<tr><td>0</td><td>Y</td><td>0</td><td>R2081</td><td>d0_Y_Rep2     </td></tr>\n",
       "\t<tr><td>0</td><td>Y</td><td>0</td><td>R2081</td><td>d0_Y_Rep3     </td></tr>\n",
       "\t<tr><td>0</td><td>Y</td><td>0</td><td>R2081</td><td>d0_Y_Rep4     </td></tr>\n",
       "\t<tr><td>0</td><td>Y</td><td>0</td><td>R2879</td><td>d0_Y_Rep5     </td></tr>\n",
       "\t<tr><td>0</td><td>Y</td><td>0</td><td>R2879</td><td>d0_Y_Rep6     </td></tr>\n",
       "\t<tr><td>1</td><td>A</td><td>0</td><td>R2278</td><td>d1_A_Rep1     </td></tr>\n",
       "\t<tr><td>1</td><td>A</td><td>0</td><td>R2278</td><td>d1_A_Rep2     </td></tr>\n",
       "\t<tr><td>1</td><td>Y</td><td>0</td><td>R2249</td><td>d1_Y_Rep1     </td></tr>\n",
       "\t<tr><td>1</td><td>Y</td><td>0</td><td>R2249</td><td>d1_Y_Rep2     </td></tr>\n",
       "\t<tr><td>1</td><td>Y</td><td>0</td><td>R2081</td><td>d1_Y_Rep3     </td></tr>\n",
       "\t<tr><td>1</td><td>Y</td><td>0</td><td>R2278</td><td>d1_Y_Rep4     </td></tr>\n",
       "\t<tr><td>3</td><td>A</td><td>0</td><td>R2249</td><td>d3_A_Rep1     </td></tr>\n",
       "\t<tr><td>3</td><td>A</td><td>0</td><td>R2081</td><td>d3_A_Rep2     </td></tr>\n",
       "\t<tr><td>3</td><td>A</td><td>0</td><td>R2830</td><td>D3_A_Rep3     </td></tr>\n",
       "\t<tr><td>3</td><td>A</td><td>0</td><td>R2830</td><td>D3_A_Rep4     </td></tr>\n",
       "\t<tr><td>3</td><td>Y</td><td>0</td><td>R2200</td><td>d3_Y_Rep1     </td></tr>\n",
       "\t<tr><td>3</td><td>Y</td><td>0</td><td>R2249</td><td>d3_Y_Rep2     </td></tr>\n",
       "\t<tr><td>3</td><td>Y</td><td>0</td><td>R2081</td><td>d3_Y_Rep3     </td></tr>\n",
       "\t<tr><td>3</td><td>Y</td><td>0</td><td>R2830</td><td>D3_Y_Rep4     </td></tr>\n",
       "\t<tr><td>3</td><td>Y</td><td>0</td><td>R2830</td><td>D3_Y_Rep5     </td></tr>\n",
       "\t<tr><td>5</td><td>A</td><td>0</td><td>R2200</td><td>d5_A_Rep1     </td></tr>\n",
       "\t<tr><td>5</td><td>A</td><td>0</td><td>R2249</td><td>d5_A_Rep2     </td></tr>\n",
       "\t<tr><td>5</td><td>Y</td><td>0</td><td>R2200</td><td>d5_Y_Rep1     </td></tr>\n",
       "\t<tr><td>5</td><td>Y</td><td>0</td><td>R2249</td><td>d5_Y_Rep2     </td></tr>\n",
       "\t<tr><td>5</td><td>Y</td><td>0</td><td>R2081</td><td>d5_Y_Rep3     </td></tr>\n",
       "\t<tr><td>7</td><td>A</td><td>0</td><td>R2249</td><td>d7_A_Rep1     </td></tr>\n",
       "\t<tr><td>7</td><td>A</td><td>0</td><td>R2278</td><td>d7_A_Rep2     </td></tr>\n",
       "\t<tr><td>7</td><td>A</td><td>0</td><td>R2830</td><td>d7_A_Rep3     </td></tr>\n",
       "\t<tr><td>7</td><td>A</td><td>0</td><td>R2830</td><td>d7_A_Rep4     </td></tr>\n",
       "\t<tr><td>7</td><td>Y</td><td>0</td><td>R2249</td><td>d7_Y_Rep1     </td></tr>\n",
       "\t<tr><td>7</td><td>Y</td><td>0</td><td>R2249</td><td>d7_Y_Rep2     </td></tr>\n",
       "\t<tr><td>7</td><td>Y</td><td>0</td><td>R2879</td><td>d7_Y_Rep3     </td></tr>\n",
       "\t<tr><td>7</td><td>Y</td><td>0</td><td>R2879</td><td>d7_Y_Rep4     </td></tr>\n",
       "</tbody>\n",
       "</table>\n"
      ],
      "text/latex": [
       "A data.frame: 41 × 5\n",
       "\\begin{tabular}{r|lllll}\n",
       " Day & Age & Pax7 & Batch & Rep\\\\\n",
       " <int> & <fct> & <fct> & <fct> & <fct>\\\\\n",
       "\\hline\n",
       "\t 0 & A & 0 & R2200 & d0\\_A\\_Rep1     \\\\\n",
       "\t 0 & A & 0 & R2081 & d0\\_A\\_Rep2     \\\\\n",
       "\t 0 & A & 0 & R2830 & d0\\_A\\_Rep3     \\\\\n",
       "\t 0 & A & 0 & R2830 & d0\\_A\\_Rep4     \\\\\n",
       "\t 0 & Y & 1 & R2879 & d0\\_Y\\_Pax7\\_Rep1\\\\\n",
       "\t 0 & Y & 1 & R2879 & d0\\_Y\\_Pax7\\_Rep2\\\\\n",
       "\t 0 & Y & 1 & R2879 & d0\\_Y\\_Pax7\\_Rep3\\\\\n",
       "\t 0 & Y & 0 & R2081 & d0\\_Y\\_Rep1     \\\\\n",
       "\t 0 & Y & 0 & R2081 & d0\\_Y\\_Rep2     \\\\\n",
       "\t 0 & Y & 0 & R2081 & d0\\_Y\\_Rep3     \\\\\n",
       "\t 0 & Y & 0 & R2081 & d0\\_Y\\_Rep4     \\\\\n",
       "\t 0 & Y & 0 & R2879 & d0\\_Y\\_Rep5     \\\\\n",
       "\t 0 & Y & 0 & R2879 & d0\\_Y\\_Rep6     \\\\\n",
       "\t 1 & A & 0 & R2278 & d1\\_A\\_Rep1     \\\\\n",
       "\t 1 & A & 0 & R2278 & d1\\_A\\_Rep2     \\\\\n",
       "\t 1 & Y & 0 & R2249 & d1\\_Y\\_Rep1     \\\\\n",
       "\t 1 & Y & 0 & R2249 & d1\\_Y\\_Rep2     \\\\\n",
       "\t 1 & Y & 0 & R2081 & d1\\_Y\\_Rep3     \\\\\n",
       "\t 1 & Y & 0 & R2278 & d1\\_Y\\_Rep4     \\\\\n",
       "\t 3 & A & 0 & R2249 & d3\\_A\\_Rep1     \\\\\n",
       "\t 3 & A & 0 & R2081 & d3\\_A\\_Rep2     \\\\\n",
       "\t 3 & A & 0 & R2830 & D3\\_A\\_Rep3     \\\\\n",
       "\t 3 & A & 0 & R2830 & D3\\_A\\_Rep4     \\\\\n",
       "\t 3 & Y & 0 & R2200 & d3\\_Y\\_Rep1     \\\\\n",
       "\t 3 & Y & 0 & R2249 & d3\\_Y\\_Rep2     \\\\\n",
       "\t 3 & Y & 0 & R2081 & d3\\_Y\\_Rep3     \\\\\n",
       "\t 3 & Y & 0 & R2830 & D3\\_Y\\_Rep4     \\\\\n",
       "\t 3 & Y & 0 & R2830 & D3\\_Y\\_Rep5     \\\\\n",
       "\t 5 & A & 0 & R2200 & d5\\_A\\_Rep1     \\\\\n",
       "\t 5 & A & 0 & R2249 & d5\\_A\\_Rep2     \\\\\n",
       "\t 5 & Y & 0 & R2200 & d5\\_Y\\_Rep1     \\\\\n",
       "\t 5 & Y & 0 & R2249 & d5\\_Y\\_Rep2     \\\\\n",
       "\t 5 & Y & 0 & R2081 & d5\\_Y\\_Rep3     \\\\\n",
       "\t 7 & A & 0 & R2249 & d7\\_A\\_Rep1     \\\\\n",
       "\t 7 & A & 0 & R2278 & d7\\_A\\_Rep2     \\\\\n",
       "\t 7 & A & 0 & R2830 & d7\\_A\\_Rep3     \\\\\n",
       "\t 7 & A & 0 & R2830 & d7\\_A\\_Rep4     \\\\\n",
       "\t 7 & Y & 0 & R2249 & d7\\_Y\\_Rep1     \\\\\n",
       "\t 7 & Y & 0 & R2249 & d7\\_Y\\_Rep2     \\\\\n",
       "\t 7 & Y & 0 & R2879 & d7\\_Y\\_Rep3     \\\\\n",
       "\t 7 & Y & 0 & R2879 & d7\\_Y\\_Rep4     \\\\\n",
       "\\end{tabular}\n"
      ],
      "text/markdown": [
       "\n",
       "A data.frame: 41 × 5\n",
       "\n",
       "| Day &lt;int&gt; | Age &lt;fct&gt; | Pax7 &lt;fct&gt; | Batch &lt;fct&gt; | Rep &lt;fct&gt; |\n",
       "|---|---|---|---|---|\n",
       "| 0 | A | 0 | R2200 | d0_A_Rep1      |\n",
       "| 0 | A | 0 | R2081 | d0_A_Rep2      |\n",
       "| 0 | A | 0 | R2830 | d0_A_Rep3      |\n",
       "| 0 | A | 0 | R2830 | d0_A_Rep4      |\n",
       "| 0 | Y | 1 | R2879 | d0_Y_Pax7_Rep1 |\n",
       "| 0 | Y | 1 | R2879 | d0_Y_Pax7_Rep2 |\n",
       "| 0 | Y | 1 | R2879 | d0_Y_Pax7_Rep3 |\n",
       "| 0 | Y | 0 | R2081 | d0_Y_Rep1      |\n",
       "| 0 | Y | 0 | R2081 | d0_Y_Rep2      |\n",
       "| 0 | Y | 0 | R2081 | d0_Y_Rep3      |\n",
       "| 0 | Y | 0 | R2081 | d0_Y_Rep4      |\n",
       "| 0 | Y | 0 | R2879 | d0_Y_Rep5      |\n",
       "| 0 | Y | 0 | R2879 | d0_Y_Rep6      |\n",
       "| 1 | A | 0 | R2278 | d1_A_Rep1      |\n",
       "| 1 | A | 0 | R2278 | d1_A_Rep2      |\n",
       "| 1 | Y | 0 | R2249 | d1_Y_Rep1      |\n",
       "| 1 | Y | 0 | R2249 | d1_Y_Rep2      |\n",
       "| 1 | Y | 0 | R2081 | d1_Y_Rep3      |\n",
       "| 1 | Y | 0 | R2278 | d1_Y_Rep4      |\n",
       "| 3 | A | 0 | R2249 | d3_A_Rep1      |\n",
       "| 3 | A | 0 | R2081 | d3_A_Rep2      |\n",
       "| 3 | A | 0 | R2830 | D3_A_Rep3      |\n",
       "| 3 | A | 0 | R2830 | D3_A_Rep4      |\n",
       "| 3 | Y | 0 | R2200 | d3_Y_Rep1      |\n",
       "| 3 | Y | 0 | R2249 | d3_Y_Rep2      |\n",
       "| 3 | Y | 0 | R2081 | d3_Y_Rep3      |\n",
       "| 3 | Y | 0 | R2830 | D3_Y_Rep4      |\n",
       "| 3 | Y | 0 | R2830 | D3_Y_Rep5      |\n",
       "| 5 | A | 0 | R2200 | d5_A_Rep1      |\n",
       "| 5 | A | 0 | R2249 | d5_A_Rep2      |\n",
       "| 5 | Y | 0 | R2200 | d5_Y_Rep1      |\n",
       "| 5 | Y | 0 | R2249 | d5_Y_Rep2      |\n",
       "| 5 | Y | 0 | R2081 | d5_Y_Rep3      |\n",
       "| 7 | A | 0 | R2249 | d7_A_Rep1      |\n",
       "| 7 | A | 0 | R2278 | d7_A_Rep2      |\n",
       "| 7 | A | 0 | R2830 | d7_A_Rep3      |\n",
       "| 7 | A | 0 | R2830 | d7_A_Rep4      |\n",
       "| 7 | Y | 0 | R2249 | d7_Y_Rep1      |\n",
       "| 7 | Y | 0 | R2249 | d7_Y_Rep2      |\n",
       "| 7 | Y | 0 | R2879 | d7_Y_Rep3      |\n",
       "| 7 | Y | 0 | R2879 | d7_Y_Rep4      |\n",
       "\n"
      ],
      "text/plain": [
       "   Day Age Pax7 Batch Rep           \n",
       "1  0   A   0    R2200 d0_A_Rep1     \n",
       "2  0   A   0    R2081 d0_A_Rep2     \n",
       "3  0   A   0    R2830 d0_A_Rep3     \n",
       "4  0   A   0    R2830 d0_A_Rep4     \n",
       "5  0   Y   1    R2879 d0_Y_Pax7_Rep1\n",
       "6  0   Y   1    R2879 d0_Y_Pax7_Rep2\n",
       "7  0   Y   1    R2879 d0_Y_Pax7_Rep3\n",
       "8  0   Y   0    R2081 d0_Y_Rep1     \n",
       "9  0   Y   0    R2081 d0_Y_Rep2     \n",
       "10 0   Y   0    R2081 d0_Y_Rep3     \n",
       "11 0   Y   0    R2081 d0_Y_Rep4     \n",
       "12 0   Y   0    R2879 d0_Y_Rep5     \n",
       "13 0   Y   0    R2879 d0_Y_Rep6     \n",
       "14 1   A   0    R2278 d1_A_Rep1     \n",
       "15 1   A   0    R2278 d1_A_Rep2     \n",
       "16 1   Y   0    R2249 d1_Y_Rep1     \n",
       "17 1   Y   0    R2249 d1_Y_Rep2     \n",
       "18 1   Y   0    R2081 d1_Y_Rep3     \n",
       "19 1   Y   0    R2278 d1_Y_Rep4     \n",
       "20 3   A   0    R2249 d3_A_Rep1     \n",
       "21 3   A   0    R2081 d3_A_Rep2     \n",
       "22 3   A   0    R2830 D3_A_Rep3     \n",
       "23 3   A   0    R2830 D3_A_Rep4     \n",
       "24 3   Y   0    R2200 d3_Y_Rep1     \n",
       "25 3   Y   0    R2249 d3_Y_Rep2     \n",
       "26 3   Y   0    R2081 d3_Y_Rep3     \n",
       "27 3   Y   0    R2830 D3_Y_Rep4     \n",
       "28 3   Y   0    R2830 D3_Y_Rep5     \n",
       "29 5   A   0    R2200 d5_A_Rep1     \n",
       "30 5   A   0    R2249 d5_A_Rep2     \n",
       "31 5   Y   0    R2200 d5_Y_Rep1     \n",
       "32 5   Y   0    R2249 d5_Y_Rep2     \n",
       "33 5   Y   0    R2081 d5_Y_Rep3     \n",
       "34 7   A   0    R2249 d7_A_Rep1     \n",
       "35 7   A   0    R2278 d7_A_Rep2     \n",
       "36 7   A   0    R2830 d7_A_Rep3     \n",
       "37 7   A   0    R2830 d7_A_Rep4     \n",
       "38 7   Y   0    R2249 d7_Y_Rep1     \n",
       "39 7   Y   0    R2249 d7_Y_Rep2     \n",
       "40 7   Y   0    R2879 d7_Y_Rep3     \n",
       "41 7   Y   0    R2879 d7_Y_Rep4     "
      ]
     },
     "metadata": {},
     "output_type": "display_data"
    }
   ],
   "source": [
    "#load the metadata\n",
    "batches=read.table(\"../batches.txt\",header=TRUE,sep='\\t')\n",
    "batches$Batch=factor(batches$Batch)\n",
    "batches$Pax7=factor(batches$Pax7)\n",
    "batches$Age=factor(batches$Age)\n",
    "batches$File=NULL\n",
    "batches"
   ]
  },
  {
   "cell_type": "code",
   "execution_count": 66,
   "metadata": {},
   "outputs": [],
   "source": [
    "#use asinh(tpm)\n",
    "E=as.matrix(asinh(data))"
   ]
  },
  {
   "cell_type": "markdown",
   "metadata": {},
   "source": [
    "## Correlation "
   ]
  },
  {
   "cell_type": "code",
   "execution_count": 67,
   "metadata": {},
   "outputs": [],
   "source": [
    "spearman_cor=cor(E, method = \"spearman\")"
   ]
  },
  {
   "cell_type": "code",
   "execution_count": 68,
   "metadata": {},
   "outputs": [],
   "source": [
    "pearson_cor=cor(E,method=\"pearson\")"
   ]
  },
  {
   "cell_type": "code",
   "execution_count": 69,
   "metadata": {},
   "outputs": [],
   "source": [
    "write.table(spearman_cor,file=\"rna.uncorrected.spearman_r.tsv\",quote=FALSE)\n",
    "write.table(pearson_cor,file=\"rna.uncorrected.pearson_r.tsv\",quote=FALSE)"
   ]
  },
  {
   "cell_type": "code",
   "execution_count": 73,
   "metadata": {},
   "outputs": [
    {
     "data": {
      "text/html": [
       "<strong>png:</strong> 2"
      ],
      "text/latex": [
       "\\textbf{png:} 2"
      ],
      "text/markdown": [
       "**png:** 2"
      ],
      "text/plain": [
       "png \n",
       "  2 "
      ]
     },
     "metadata": {},
     "output_type": "display_data"
    }
   ],
   "source": [
    "## plot correlation heatmaps \n",
    "library(gplots)\n",
    "require(gtools)\n",
    "require(RColorBrewer)\n",
    "cols <- colorRampPalette(brewer.pal(10, \"RdBu\"))(256)\n",
    "\n",
    "svg(filename=\"RNA_rep_spearman_cor_preSVA.svg\",\n",
    "   height=8,\n",
    "   width=8,\n",
    "   pointsize=12)\n",
    "cur_h=heatmap.2(as.matrix(spearman_cor), \n",
    "          trace=\"none\", \n",
    "          scale=\"none\", \n",
    "          Rowv=TRUE,\n",
    "          Colv=TRUE,\n",
    "          col=rev(cols), \n",
    "          dendrogram=\"none\",\n",
    "          margins=c(10,10),\n",
    "          main=\"RNA-seq replicates spearman correlation -- pre-SVA\")\n",
    "dev.off() \n"
   ]
  },
  {
   "cell_type": "code",
   "execution_count": 74,
   "metadata": {},
   "outputs": [
    {
     "data": {
      "text/html": [
       "<strong>null device:</strong> 1"
      ],
      "text/latex": [
       "\\textbf{null device:} 1"
      ],
      "text/markdown": [
       "**null device:** 1"
      ],
      "text/plain": [
       "null device \n",
       "          1 "
      ]
     },
     "metadata": {},
     "output_type": "display_data"
    }
   ],
   "source": [
    "dev.off() "
   ]
  },
  {
   "cell_type": "code",
   "execution_count": 75,
   "metadata": {},
   "outputs": [
    {
     "data": {
      "text/html": [
       "<strong>png:</strong> 2"
      ],
      "text/latex": [
       "\\textbf{png:} 2"
      ],
      "text/markdown": [
       "**png:** 2"
      ],
      "text/plain": [
       "png \n",
       "  2 "
      ]
     },
     "metadata": {},
     "output_type": "display_data"
    }
   ],
   "source": [
    "svg(filename=\"RNA_rep_pearson_cor_preSVA.svg\",\n",
    "   height=8,\n",
    "   width=8,\n",
    "   pointsize=12)\n",
    "cur_h=heatmap.2(as.matrix(pearson_cor), \n",
    "          trace=\"none\", \n",
    "          scale=\"none\", \n",
    "          Rowv=TRUE,\n",
    "          Colv=TRUE,\n",
    "          col=rev(cols), \n",
    "          dendrogram=\"none\",\n",
    "          margins=c(10,10),          \n",
    "          main=\"RNA-seq replicates pearson correlation -- pre-SVA\")\n",
    "\n",
    "dev.off() "
   ]
  },
  {
   "cell_type": "markdown",
   "metadata": {},
   "source": [
    "## Run PCA "
   ]
  },
  {
   "cell_type": "code",
   "execution_count": 48,
   "metadata": {},
   "outputs": [],
   "source": [
    "data.pca=prcomp(t(E))"
   ]
  },
  {
   "cell_type": "code",
   "execution_count": 49,
   "metadata": {},
   "outputs": [],
   "source": [
    "var_explained=as.character(round(100*data.pca$sdev^2/sum(data.pca$sdev^2),2))"
   ]
  },
  {
   "cell_type": "code",
   "execution_count": 76,
   "metadata": {},
   "outputs": [
    {
     "name": "stdout",
     "output_type": "stream",
     "text": [
      "      [,1]\n",
      " [1,]  0.7\n",
      " [2,]  1.9\n",
      " [3,]  3.1\n",
      " [4,]  4.3\n",
      " [5,]  5.5\n",
      " [6,]  6.7\n",
      " [7,]  7.9\n",
      " [8,]  9.1\n",
      " [9,] 10.3\n",
      "[10,] 11.5\n",
      "[11,] 12.7\n",
      "[12,] 13.9\n",
      "[13,] 15.1\n",
      "[14,] 16.3\n",
      "[15,] 17.5\n",
      "[16,] 18.7\n",
      "[17,] 19.9\n",
      "[18,] 21.1\n",
      "[19,] 22.3\n",
      "[20,] 23.5\n",
      "[21,] 24.7\n",
      "[22,] 25.9\n",
      "[23,] 27.1\n",
      "[24,] 28.3\n",
      "[25,] 29.5\n",
      "[26,] 30.7\n",
      "[27,] 31.9\n",
      "[28,] 33.1\n",
      "[29,] 34.3\n",
      "[30,] 35.5\n",
      "[31,] 36.7\n",
      "[32,] 37.9\n",
      "[33,] 39.1\n",
      "[34,] 40.3\n",
      "[35,] 41.5\n",
      "[36,] 42.7\n",
      "[37,] 43.9\n",
      "[38,] 45.1\n",
      "[39,] 46.3\n",
      "[40,] 47.5\n",
      "[41,] 48.7\n"
     ]
    },
    {
     "data": {
      "text/html": [
       "<strong>png:</strong> 2"
      ],
      "text/latex": [
       "\\textbf{png:} 2"
      ],
      "text/markdown": [
       "**png:** 2"
      ],
      "text/plain": [
       "png \n",
       "  2 "
      ]
     },
     "metadata": {},
     "output_type": "display_data"
    }
   ],
   "source": [
    "svg(filename=\"age_rna_uncorrected_scree.svg\",\n",
    "   height=3,\n",
    "   width=4,\n",
    "   pointsize=12)\n",
    "print(barplot(100*data.pca$sdev^2/sum(data.pca$sdev^2),las=2,ylab=\"% Variance Explained\",xlab=\"Principal Component\",ylim=c(0,40), xlim=c(0,10)))\n",
    "dev.off() "
   ]
  },
  {
   "cell_type": "code",
   "execution_count": 77,
   "metadata": {},
   "outputs": [],
   "source": [
    "pca_df=data.frame(data.pca$x)\n",
    "pca_df=cbind(pca_df,batches)\n",
    "pca_df$Day=factor(pca_df$Day)"
   ]
  },
  {
   "cell_type": "code",
   "execution_count": 78,
   "metadata": {},
   "outputs": [
    {
     "data": {
      "text/html": [
       "<strong>png:</strong> 2"
      ],
      "text/latex": [
       "\\textbf{png:} 2"
      ],
      "text/markdown": [
       "**png:** 2"
      ],
      "text/plain": [
       "png \n",
       "  2 "
      ]
     },
     "metadata": {},
     "output_type": "display_data"
    }
   ],
   "source": [
    "svg(filename=\"age_rna_uncorrected_PC1_vs_PC2_batch.svg\",\n",
    "   height=8,\n",
    "   width=8,\n",
    "   pointsize=12)\n",
    "print(ggplot(data=pca_df,aes(x=pca_df$PC1,y=pca_df$PC2,color=pca_df$Day,shape=pca_df$Age,label=pca_df$Rep))+\n",
    "geom_point(size=5)+\n",
    "geom_text(nudge_x=2,nudge_y = 12,size=2)+\n",
    "scale_color_manual(values=c('#e41a1c','#377eb8','#4daf4a','#984ea3','#ff7f00','#000000'))+\n",
    "theme_bw() )\n",
    "dev.off() "
   ]
  },
  {
   "cell_type": "code",
   "execution_count": 79,
   "metadata": {},
   "outputs": [
    {
     "data": {
      "text/html": [
       "<strong>png:</strong> 2"
      ],
      "text/latex": [
       "\\textbf{png:} 2"
      ],
      "text/markdown": [
       "**png:** 2"
      ],
      "text/plain": [
       "png \n",
       "  2 "
      ]
     },
     "metadata": {},
     "output_type": "display_data"
    }
   ],
   "source": [
    "svg(filename=\"age_rna_uncorrected_PC2_vs_PC3_batch.svg\",\n",
    "   height=8,\n",
    "   width=8,\n",
    "   pointsize=12)\n",
    "print(ggplot(data=pca_df,aes(x=pca_df$PC2,y=pca_df$PC3,color=pca_df$Day,shape=pca_df$Age,label=pca_df$Rep))+\n",
    "geom_point(size=5)+\n",
    "geom_text(nudge_x=2,nudge_y = 12,size=2)+\n",
    "scale_color_manual(values=c('#e41a1c','#377eb8','#4daf4a','#984ea3','#ff7f00','#000000'))+\n",
    "theme_bw())\n",
    "dev.off() "
   ]
  },
  {
   "cell_type": "code",
   "execution_count": 80,
   "metadata": {},
   "outputs": [
    {
     "data": {
      "text/html": [
       "<strong>png:</strong> 2"
      ],
      "text/latex": [
       "\\textbf{png:} 2"
      ],
      "text/markdown": [
       "**png:** 2"
      ],
      "text/plain": [
       "png \n",
       "  2 "
      ]
     },
     "metadata": {},
     "output_type": "display_data"
    }
   ],
   "source": [
    "svg(filename=\"age_rna_uncorrected_PC1_vs_PC3_batch.svg\",\n",
    "   height=8,\n",
    "   width=8,\n",
    "   pointsize=12)\n",
    "print(ggplot(data=pca_df,aes(x=pca_df$PC1,y=pca_df$PC3,color=pca_df$Day,shape=pca_df$Age,label=pca_df$Rep))+\n",
    "geom_point(size=5)+\n",
    "geom_text(nudge_x=2,nudge_y = 12,size=2)+\n",
    "scale_color_manual(values=c('#e41a1c','#377eb8','#4daf4a','#984ea3','#ff7f00','#000000'))+\n",
    "theme_bw())\n",
    "dev.off() "
   ]
  },
  {
   "cell_type": "markdown",
   "metadata": {},
   "source": [
    "## Running SVA correction "
   ]
  },
  {
   "cell_type": "code",
   "execution_count": 81,
   "metadata": {},
   "outputs": [
    {
     "data": {
      "text/html": [
       "<table>\n",
       "<caption>A data.frame: 6 × 6</caption>\n",
       "<thead>\n",
       "\t<tr><th scope=col>Day</th><th scope=col>Age</th><th scope=col>Pax7</th><th scope=col>Batch</th><th scope=col>Rep</th><th scope=col>Grouping</th></tr>\n",
       "\t<tr><th scope=col>&lt;int&gt;</th><th scope=col>&lt;fct&gt;</th><th scope=col>&lt;fct&gt;</th><th scope=col>&lt;fct&gt;</th><th scope=col>&lt;fct&gt;</th><th scope=col>&lt;fct&gt;</th></tr>\n",
       "</thead>\n",
       "<tbody>\n",
       "\t<tr><td>0</td><td>A</td><td>0</td><td>R2200</td><td>d0_A_Rep1     </td><td>0.A.0</td></tr>\n",
       "\t<tr><td>0</td><td>A</td><td>0</td><td>R2081</td><td>d0_A_Rep2     </td><td>0.A.0</td></tr>\n",
       "\t<tr><td>0</td><td>A</td><td>0</td><td>R2830</td><td>d0_A_Rep3     </td><td>0.A.0</td></tr>\n",
       "\t<tr><td>0</td><td>A</td><td>0</td><td>R2830</td><td>d0_A_Rep4     </td><td>0.A.0</td></tr>\n",
       "\t<tr><td>0</td><td>Y</td><td>1</td><td>R2879</td><td>d0_Y_Pax7_Rep1</td><td>0.Y.1</td></tr>\n",
       "\t<tr><td>0</td><td>Y</td><td>1</td><td>R2879</td><td>d0_Y_Pax7_Rep2</td><td>0.Y.1</td></tr>\n",
       "</tbody>\n",
       "</table>\n"
      ],
      "text/latex": [
       "A data.frame: 6 × 6\n",
       "\\begin{tabular}{r|llllll}\n",
       " Day & Age & Pax7 & Batch & Rep & Grouping\\\\\n",
       " <int> & <fct> & <fct> & <fct> & <fct> & <fct>\\\\\n",
       "\\hline\n",
       "\t 0 & A & 0 & R2200 & d0\\_A\\_Rep1      & 0.A.0\\\\\n",
       "\t 0 & A & 0 & R2081 & d0\\_A\\_Rep2      & 0.A.0\\\\\n",
       "\t 0 & A & 0 & R2830 & d0\\_A\\_Rep3      & 0.A.0\\\\\n",
       "\t 0 & A & 0 & R2830 & d0\\_A\\_Rep4      & 0.A.0\\\\\n",
       "\t 0 & Y & 1 & R2879 & d0\\_Y\\_Pax7\\_Rep1 & 0.Y.1\\\\\n",
       "\t 0 & Y & 1 & R2879 & d0\\_Y\\_Pax7\\_Rep2 & 0.Y.1\\\\\n",
       "\\end{tabular}\n"
      ],
      "text/markdown": [
       "\n",
       "A data.frame: 6 × 6\n",
       "\n",
       "| Day &lt;int&gt; | Age &lt;fct&gt; | Pax7 &lt;fct&gt; | Batch &lt;fct&gt; | Rep &lt;fct&gt; | Grouping &lt;fct&gt; |\n",
       "|---|---|---|---|---|---|\n",
       "| 0 | A | 0 | R2200 | d0_A_Rep1      | 0.A.0 |\n",
       "| 0 | A | 0 | R2081 | d0_A_Rep2      | 0.A.0 |\n",
       "| 0 | A | 0 | R2830 | d0_A_Rep3      | 0.A.0 |\n",
       "| 0 | A | 0 | R2830 | d0_A_Rep4      | 0.A.0 |\n",
       "| 0 | Y | 1 | R2879 | d0_Y_Pax7_Rep1 | 0.Y.1 |\n",
       "| 0 | Y | 1 | R2879 | d0_Y_Pax7_Rep2 | 0.Y.1 |\n",
       "\n"
      ],
      "text/plain": [
       "  Day Age Pax7 Batch Rep            Grouping\n",
       "1 0   A   0    R2200 d0_A_Rep1      0.A.0   \n",
       "2 0   A   0    R2081 d0_A_Rep2      0.A.0   \n",
       "3 0   A   0    R2830 d0_A_Rep3      0.A.0   \n",
       "4 0   A   0    R2830 d0_A_Rep4      0.A.0   \n",
       "5 0   Y   1    R2879 d0_Y_Pax7_Rep1 0.Y.1   \n",
       "6 0   Y   1    R2879 d0_Y_Pax7_Rep2 0.Y.1   "
      ]
     },
     "metadata": {},
     "output_type": "display_data"
    }
   ],
   "source": [
    "head(batches)"
   ]
  },
  {
   "cell_type": "code",
   "execution_count": 82,
   "metadata": {},
   "outputs": [],
   "source": [
    "Grouping <- factor(paste0(batches$Day,\".\",batches$Age, \".\", batches$Pax7))\n",
    "batches$Grouping=Grouping"
   ]
  },
  {
   "cell_type": "code",
   "execution_count": 83,
   "metadata": {},
   "outputs": [],
   "source": [
    "mod0=model.matrix(~1,data=batches)\n",
    "#mod1=model.matrix(~Day+Age+Pax7+Batch,data=batches)\n",
    "mod1=model.matrix(~0+Grouping+Batch,data=batches)"
   ]
  },
  {
   "cell_type": "code",
   "execution_count": 84,
   "metadata": {},
   "outputs": [
    {
     "name": "stdout",
     "output_type": "stream",
     "text": [
      "Number of significant surrogate variables is:  7 \n",
      "Iteration (out of 5 ):1  2  3  4  5  "
     ]
    }
   ],
   "source": [
    "sva.obj=sva(E,mod1,mod0)"
   ]
  },
  {
   "cell_type": "code",
   "execution_count": 85,
   "metadata": {},
   "outputs": [],
   "source": [
    "sur_var=data.frame(sva.obj$sv)"
   ]
  },
  {
   "cell_type": "code",
   "execution_count": 86,
   "metadata": {},
   "outputs": [],
   "source": [
    "full.design.sv=cbind(mod1,sur_var)\n"
   ]
  },
  {
   "cell_type": "code",
   "execution_count": 87,
   "metadata": {},
   "outputs": [],
   "source": [
    "#save the full design so we don't have to run SVA next time \n",
    "write.table(full.design.sv,file=\"full.design.sv.txt\",quote=FALSE,sep='\\t')\n"
   ]
  },
  {
   "cell_type": "code",
   "execution_count": 88,
   "metadata": {},
   "outputs": [],
   "source": [
    "#full.design.sv=read.table(\"full.design.sv.txt\",header=TRUE,sep='\\t')\n"
   ]
  },
  {
   "cell_type": "markdown",
   "metadata": {},
   "source": [
    "### Perform pca on the \"cleaned\" matrix with surrogate variable contributions removed\n"
   ]
  },
  {
   "cell_type": "code",
   "execution_count": 89,
   "metadata": {},
   "outputs": [
    {
     "data": {
      "text/html": [
       "41"
      ],
      "text/latex": [
       "41"
      ],
      "text/markdown": [
       "41"
      ],
      "text/plain": [
       "[1] 41"
      ]
     },
     "metadata": {},
     "output_type": "display_data"
    }
   ],
   "source": [
    "nrow(batches)"
   ]
  },
  {
   "cell_type": "code",
   "execution_count": 90,
   "metadata": {},
   "outputs": [],
   "source": [
    "cleaned_E=removeBatchEffect(E,batch=batches$Batch,covariates=sur_var,design=model.matrix(~0+Grouping,data=batches))\n"
   ]
  },
  {
   "cell_type": "code",
   "execution_count": 91,
   "metadata": {},
   "outputs": [],
   "source": [
    "## Run replicate correlation on SVA corrected dataset \n",
    "spearman_cor=cor(cleaned_E, method = \"spearman\")\n",
    "pearson_cor=cor(cleaned_E,method=\"pearson\")"
   ]
  },
  {
   "cell_type": "code",
   "execution_count": 92,
   "metadata": {},
   "outputs": [],
   "source": [
    "write.table(spearman_cor,file=\"rna.corrected.spearman_r.tsv\",quote=FALSE)\n",
    "write.table(pearson_cor,file=\"rna.corrected.pearson_r.tsv\",quote=FALSE)"
   ]
  },
  {
   "cell_type": "code",
   "execution_count": 93,
   "metadata": {},
   "outputs": [
    {
     "data": {
      "text/html": [
       "<strong>png:</strong> 2"
      ],
      "text/latex": [
       "\\textbf{png:} 2"
      ],
      "text/markdown": [
       "**png:** 2"
      ],
      "text/plain": [
       "png \n",
       "  2 "
      ]
     },
     "metadata": {},
     "output_type": "display_data"
    }
   ],
   "source": [
    "\n",
    "svg(filename=\"RNA_rep_spearman_cor_postSVA.svg\",\n",
    "   height=8,\n",
    "   width=8,\n",
    "   pointsize=12)\n",
    "cur_h=heatmap.2(as.matrix(spearman_cor), \n",
    "          trace=\"none\", \n",
    "          scale=\"none\", \n",
    "          Rowv=TRUE,\n",
    "          Colv=TRUE,\n",
    "          col=rev(cols), \n",
    "          dendrogram=\"none\",\n",
    "          margins=c(12,12),          \n",
    "          main=\"RNA-seq replicates spearman correlation -- post-SVA \")\n",
    "dev.off() \n",
    "\n"
   ]
  },
  {
   "cell_type": "code",
   "execution_count": 94,
   "metadata": {},
   "outputs": [
    {
     "data": {
      "text/html": [
       "<strong>png:</strong> 2"
      ],
      "text/latex": [
       "\\textbf{png:} 2"
      ],
      "text/markdown": [
       "**png:** 2"
      ],
      "text/plain": [
       "png \n",
       "  2 "
      ]
     },
     "metadata": {},
     "output_type": "display_data"
    }
   ],
   "source": [
    "svg(filename=\"RNA_rep_pearson_cor_postSVA.svg\",\n",
    "   height=8,\n",
    "   width=8,\n",
    "   pointsize=12)\n",
    "\n",
    "cur_h=heatmap.2(as.matrix(pearson_cor), \n",
    "          trace=\"none\", \n",
    "          scale=\"none\", \n",
    "          Rowv=TRUE,\n",
    "          Colv=TRUE,\n",
    "          col=rev(cols), \n",
    "          dendrogram=\"none\",\n",
    "          margins=c(12,12),          \n",
    "          main=\"RNA-seq replicates pearson correlation -- post SVA\")\n",
    "dev.off() \n"
   ]
  },
  {
   "cell_type": "code",
   "execution_count": 95,
   "metadata": {},
   "outputs": [],
   "source": [
    "data.pca=prcomp(t(cleaned_E))"
   ]
  },
  {
   "cell_type": "code",
   "execution_count": 96,
   "metadata": {},
   "outputs": [],
   "source": [
    "var_explained=as.character(round(100*data.pca$sdev^2/sum(data.pca$sdev^2),2))\n"
   ]
  },
  {
   "cell_type": "code",
   "execution_count": 97,
   "metadata": {},
   "outputs": [
    {
     "name": "stdout",
     "output_type": "stream",
     "text": [
      "      [,1]\n",
      " [1,]  0.7\n",
      " [2,]  1.9\n",
      " [3,]  3.1\n",
      " [4,]  4.3\n",
      " [5,]  5.5\n",
      " [6,]  6.7\n",
      " [7,]  7.9\n",
      " [8,]  9.1\n",
      " [9,] 10.3\n",
      "[10,] 11.5\n",
      "[11,] 12.7\n",
      "[12,] 13.9\n",
      "[13,] 15.1\n",
      "[14,] 16.3\n",
      "[15,] 17.5\n",
      "[16,] 18.7\n",
      "[17,] 19.9\n",
      "[18,] 21.1\n",
      "[19,] 22.3\n",
      "[20,] 23.5\n",
      "[21,] 24.7\n",
      "[22,] 25.9\n",
      "[23,] 27.1\n",
      "[24,] 28.3\n",
      "[25,] 29.5\n",
      "[26,] 30.7\n",
      "[27,] 31.9\n",
      "[28,] 33.1\n",
      "[29,] 34.3\n",
      "[30,] 35.5\n",
      "[31,] 36.7\n",
      "[32,] 37.9\n",
      "[33,] 39.1\n",
      "[34,] 40.3\n",
      "[35,] 41.5\n",
      "[36,] 42.7\n",
      "[37,] 43.9\n",
      "[38,] 45.1\n",
      "[39,] 46.3\n",
      "[40,] 47.5\n",
      "[41,] 48.7\n"
     ]
    },
    {
     "data": {
      "text/html": [
       "<strong>png:</strong> 2"
      ],
      "text/latex": [
       "\\textbf{png:} 2"
      ],
      "text/markdown": [
       "**png:** 2"
      ],
      "text/plain": [
       "png \n",
       "  2 "
      ]
     },
     "metadata": {},
     "output_type": "display_data"
    }
   ],
   "source": [
    "svg(filename=\"age_rna_corrected_scree.svg\",\n",
    "   height=3,\n",
    "   width=4,\n",
    "   pointsize=12)\n",
    "print(barplot(100*data.pca$sdev^2/sum(data.pca$sdev^2),las=2,ylab=\"% Variance Explained\",xlab=\"Principal Component\",ylim=c(0,40), xlim=c(0,10)))\n",
    "dev.off()"
   ]
  },
  {
   "cell_type": "code",
   "execution_count": 98,
   "metadata": {},
   "outputs": [
    {
     "data": {
      "text/html": [
       "<ol class=list-inline>\n",
       "\t<li>'39.21'</li>\n",
       "\t<li>'13.96'</li>\n",
       "\t<li>'9.38'</li>\n",
       "\t<li>'6.23'</li>\n",
       "\t<li>'5.37'</li>\n",
       "\t<li>'3.69'</li>\n",
       "\t<li>'3.15'</li>\n",
       "\t<li>'2.8'</li>\n",
       "\t<li>'1.94'</li>\n",
       "\t<li>'1.47'</li>\n",
       "</ol>\n"
      ],
      "text/latex": [
       "\\begin{enumerate*}\n",
       "\\item '39.21'\n",
       "\\item '13.96'\n",
       "\\item '9.38'\n",
       "\\item '6.23'\n",
       "\\item '5.37'\n",
       "\\item '3.69'\n",
       "\\item '3.15'\n",
       "\\item '2.8'\n",
       "\\item '1.94'\n",
       "\\item '1.47'\n",
       "\\end{enumerate*}\n"
      ],
      "text/markdown": [
       "1. '39.21'\n",
       "2. '13.96'\n",
       "3. '9.38'\n",
       "4. '6.23'\n",
       "5. '5.37'\n",
       "6. '3.69'\n",
       "7. '3.15'\n",
       "8. '2.8'\n",
       "9. '1.94'\n",
       "10. '1.47'\n",
       "\n",
       "\n"
      ],
      "text/plain": [
       " [1] \"39.21\" \"13.96\" \"9.38\"  \"6.23\"  \"5.37\"  \"3.69\"  \"3.15\"  \"2.8\"   \"1.94\" \n",
       "[10] \"1.47\" "
      ]
     },
     "metadata": {},
     "output_type": "display_data"
    }
   ],
   "source": [
    "var_explained[0:10]\n"
   ]
  },
  {
   "cell_type": "code",
   "execution_count": 99,
   "metadata": {},
   "outputs": [],
   "source": [
    "pca_df=data.frame(data.pca$x)\n",
    "pca_df=cbind(pca_df,batches)\n",
    "pca_df$Day=factor(pca_df$Day)"
   ]
  },
  {
   "cell_type": "code",
   "execution_count": 100,
   "metadata": {},
   "outputs": [
    {
     "data": {
      "text/html": [
       "<strong>png:</strong> 2"
      ],
      "text/latex": [
       "\\textbf{png:} 2"
      ],
      "text/markdown": [
       "**png:** 2"
      ],
      "text/plain": [
       "png \n",
       "  2 "
      ]
     },
     "metadata": {},
     "output_type": "display_data"
    }
   ],
   "source": [
    "svg(filename=\"age_rna_corrected_PC1_vs_PC2.svg\",\n",
    "   height=8,\n",
    "   width=8,\n",
    "   pointsize=12)\n",
    "print(ggplot(data=pca_df,aes(x=pca_df$PC1,y=pca_df$PC2,color=pca_df$Day,shape=pca_df$Age,label=pca_df$Rep))+\n",
    "geom_point(size=5)+\n",
    "geom_text(nudge_x=2,nudge_y = 12,size=2)+\n",
    "scale_color_manual(values=c('#e41a1c','#377eb8','#4daf4a','#984ea3','#ff7f00'))+\n",
    "theme_bw())\n",
    "dev.off()"
   ]
  },
  {
   "cell_type": "code",
   "execution_count": 101,
   "metadata": {},
   "outputs": [
    {
     "data": {
      "text/html": [
       "<strong>png:</strong> 2"
      ],
      "text/latex": [
       "\\textbf{png:} 2"
      ],
      "text/markdown": [
       "**png:** 2"
      ],
      "text/plain": [
       "png \n",
       "  2 "
      ]
     },
     "metadata": {},
     "output_type": "display_data"
    }
   ],
   "source": [
    "svg(filename=\"age_rna_corrected_PC2_vs_PC3.svg\",\n",
    "   height=8,\n",
    "   width=8,\n",
    "   pointsize=12)\n",
    "print(ggplot(data=pca_df,aes(x=pca_df$PC2,y=pca_df$PC3,color=pca_df$Day,shape=pca_df$Age,label=pca_df$Rep))+\n",
    "geom_point(size=5)+\n",
    "geom_text(nudge_x=2,nudge_y = 12,size=2)+\n",
    "scale_color_manual(values=c('#e41a1c','#377eb8','#4daf4a','#984ea3','#ff7f00'))+\n",
    "theme_bw())\n",
    "dev.off()"
   ]
  },
  {
   "cell_type": "code",
   "execution_count": 102,
   "metadata": {
    "scrolled": true
   },
   "outputs": [
    {
     "data": {
      "text/html": [
       "<strong>png:</strong> 2"
      ],
      "text/latex": [
       "\\textbf{png:} 2"
      ],
      "text/markdown": [
       "**png:** 2"
      ],
      "text/plain": [
       "png \n",
       "  2 "
      ]
     },
     "metadata": {},
     "output_type": "display_data"
    }
   ],
   "source": [
    "svg(filename=\"age_rna_corrected_PC1_vs_PC3.svg\",\n",
    "   height=8,\n",
    "   width=8,\n",
    "   pointsize=12)\n",
    "print(ggplot(data=pca_df,aes(x=pca_df$PC1,y=pca_df$PC3,color=pca_df$Day,shape=pca_df$Age,label=pca_df$Rep))+\n",
    "geom_point(size=5)+\n",
    "geom_text(nudge_x=2,nudge_y = 12,size=2)+\n",
    "scale_color_manual(values=c('#e41a1c','#377eb8','#4daf4a','#984ea3','#ff7f00'))+\n",
    "theme_bw())\n",
    "dev.off()"
   ]
  },
  {
   "cell_type": "markdown",
   "metadata": {},
   "source": [
    "### fit model with limma "
   ]
  },
  {
   "cell_type": "code",
   "execution_count": 103,
   "metadata": {},
   "outputs": [],
   "source": [
    "#fit <- lmFit(E,full.design.sv)\n",
    "fit = lmFit(cleaned_E,model.matrix(~0+Grouping))"
   ]
  },
  {
   "cell_type": "code",
   "execution_count": 104,
   "metadata": {},
   "outputs": [
    {
     "data": {
      "text/html": [
       "<ol class=list-inline>\n",
       "\t<li>'Grouping0.A.0'</li>\n",
       "\t<li>'Grouping0.Y.0'</li>\n",
       "\t<li>'Grouping0.Y.1'</li>\n",
       "\t<li>'Grouping1.A.0'</li>\n",
       "\t<li>'Grouping1.Y.0'</li>\n",
       "\t<li>'Grouping3.A.0'</li>\n",
       "\t<li>'Grouping3.Y.0'</li>\n",
       "\t<li>'Grouping5.A.0'</li>\n",
       "\t<li>'Grouping5.Y.0'</li>\n",
       "\t<li>'Grouping7.A.0'</li>\n",
       "\t<li>'Grouping7.Y.0'</li>\n",
       "</ol>\n"
      ],
      "text/latex": [
       "\\begin{enumerate*}\n",
       "\\item 'Grouping0.A.0'\n",
       "\\item 'Grouping0.Y.0'\n",
       "\\item 'Grouping0.Y.1'\n",
       "\\item 'Grouping1.A.0'\n",
       "\\item 'Grouping1.Y.0'\n",
       "\\item 'Grouping3.A.0'\n",
       "\\item 'Grouping3.Y.0'\n",
       "\\item 'Grouping5.A.0'\n",
       "\\item 'Grouping5.Y.0'\n",
       "\\item 'Grouping7.A.0'\n",
       "\\item 'Grouping7.Y.0'\n",
       "\\end{enumerate*}\n"
      ],
      "text/markdown": [
       "1. 'Grouping0.A.0'\n",
       "2. 'Grouping0.Y.0'\n",
       "3. 'Grouping0.Y.1'\n",
       "4. 'Grouping1.A.0'\n",
       "5. 'Grouping1.Y.0'\n",
       "6. 'Grouping3.A.0'\n",
       "7. 'Grouping3.Y.0'\n",
       "8. 'Grouping5.A.0'\n",
       "9. 'Grouping5.Y.0'\n",
       "10. 'Grouping7.A.0'\n",
       "11. 'Grouping7.Y.0'\n",
       "\n",
       "\n"
      ],
      "text/plain": [
       " [1] \"Grouping0.A.0\" \"Grouping0.Y.0\" \"Grouping0.Y.1\" \"Grouping1.A.0\"\n",
       " [5] \"Grouping1.Y.0\" \"Grouping3.A.0\" \"Grouping3.Y.0\" \"Grouping5.A.0\"\n",
       " [9] \"Grouping5.Y.0\" \"Grouping7.A.0\" \"Grouping7.Y.0\""
      ]
     },
     "metadata": {},
     "output_type": "display_data"
    }
   ],
   "source": [
    "colnames(fit)\n"
   ]
  },
  {
   "cell_type": "code",
   "execution_count": 105,
   "metadata": {},
   "outputs": [
    {
     "data": {
      "text/html": [
       "<ol class=list-inline>\n",
       "\t<li>'Grouping0.A.0'</li>\n",
       "\t<li>'Grouping0.Y.0'</li>\n",
       "\t<li>'Grouping0.Y.1'</li>\n",
       "\t<li>'Grouping1.A.0'</li>\n",
       "\t<li>'Grouping1.Y.0'</li>\n",
       "\t<li>'Grouping3.A.0'</li>\n",
       "\t<li>'Grouping3.Y.0'</li>\n",
       "\t<li>'Grouping5.A.0'</li>\n",
       "\t<li>'Grouping5.Y.0'</li>\n",
       "\t<li>'Grouping7.A.0'</li>\n",
       "\t<li>'Grouping7.Y.0'</li>\n",
       "</ol>\n"
      ],
      "text/latex": [
       "\\begin{enumerate*}\n",
       "\\item 'Grouping0.A.0'\n",
       "\\item 'Grouping0.Y.0'\n",
       "\\item 'Grouping0.Y.1'\n",
       "\\item 'Grouping1.A.0'\n",
       "\\item 'Grouping1.Y.0'\n",
       "\\item 'Grouping3.A.0'\n",
       "\\item 'Grouping3.Y.0'\n",
       "\\item 'Grouping5.A.0'\n",
       "\\item 'Grouping5.Y.0'\n",
       "\\item 'Grouping7.A.0'\n",
       "\\item 'Grouping7.Y.0'\n",
       "\\end{enumerate*}\n"
      ],
      "text/markdown": [
       "1. 'Grouping0.A.0'\n",
       "2. 'Grouping0.Y.0'\n",
       "3. 'Grouping0.Y.1'\n",
       "4. 'Grouping1.A.0'\n",
       "5. 'Grouping1.Y.0'\n",
       "6. 'Grouping3.A.0'\n",
       "7. 'Grouping3.Y.0'\n",
       "8. 'Grouping5.A.0'\n",
       "9. 'Grouping5.Y.0'\n",
       "10. 'Grouping7.A.0'\n",
       "11. 'Grouping7.Y.0'\n",
       "\n",
       "\n"
      ],
      "text/plain": [
       " [1] \"Grouping0.A.0\" \"Grouping0.Y.0\" \"Grouping0.Y.1\" \"Grouping1.A.0\"\n",
       " [5] \"Grouping1.Y.0\" \"Grouping3.A.0\" \"Grouping3.Y.0\" \"Grouping5.A.0\"\n",
       " [9] \"Grouping5.Y.0\" \"Grouping7.A.0\" \"Grouping7.Y.0\""
      ]
     },
     "metadata": {},
     "output_type": "display_data"
    }
   ],
   "source": [
    "colnames(fit$coefficients)"
   ]
  },
  {
   "cell_type": "markdown",
   "metadata": {},
   "source": [
    "###  Contrasts "
   ]
  },
  {
   "cell_type": "code",
   "execution_count": 106,
   "metadata": {},
   "outputs": [],
   "source": [
    "#create contrasts of interest \n",
    "cont.matrix=makeContrasts(\n",
    "    d0_Y_vs_A=\"Grouping0.Y.0 - Grouping0.A.0\",  \n",
    "    d1_Y_vs_A=\"Grouping1.Y.0 - Grouping1.A.0\",\n",
    "    d3_Y_vs_A=\"Grouping3.Y.0 - Grouping3.A.0\",\n",
    "    d5_Y_vs_A=\"Grouping5.Y.0 - Grouping5.A.0\",\n",
    "    d7_Y_vs_A=\"Grouping7.Y.0 - Grouping7.A.0\",\n",
    "    d1_Y_vs_d0_Y=\"Grouping1.Y.0 - Grouping0.Y.0\",\n",
    "    d1_A_vs_d0_A=\"Grouping1.A.0 - Grouping0.A.0\",\n",
    "    d3_Y_vs_d1_Y=\"Grouping3.Y.0 - Grouping1.Y.0\",\n",
    "    d3_A_vs_d1_A=\"Grouping3.A.0 - Grouping1.A.0\",\n",
    "    d5_Y_vs_d3_Y=\"Grouping5.Y.0 - Grouping3.Y.0\",\n",
    "    d5_A_vs_d3_A=\"Grouping5.A.0 - Grouping3.A.0\",\n",
    "    d7_Y_vs_d5_Y=\"Grouping7.Y.0 - Grouping5.Y.0\",\n",
    "    d7_A_vs_d5_A=\"Grouping7.A.0 - Grouping5.A.0\",\n",
    "    d0_Y_Pax_7_vs_d0_Y_noPax7=\"Grouping0.Y.1 - Grouping0.Y.0\",\n",
    "    levels=model.matrix(~0+Grouping))\n"
   ]
  },
  {
   "cell_type": "code",
   "execution_count": 107,
   "metadata": {},
   "outputs": [],
   "source": [
    "pval_thresh=0.01\n",
    "lfc_thresh=1"
   ]
  },
  {
   "cell_type": "code",
   "execution_count": 108,
   "metadata": {
    "scrolled": true
   },
   "outputs": [],
   "source": [
    "fit2=contrasts.fit(fit,cont.matrix)\n",
    "e=eBayes(fit2)\n",
    "comparisons=colnames(cont.matrix)"
   ]
  },
  {
   "cell_type": "code",
   "execution_count": 109,
   "metadata": {},
   "outputs": [
    {
     "name": "stdout",
     "output_type": "stream",
     "text": [
      "[1] \"d0_Y_vs_A \\n sig: 565 \\n up: 365 \\n down: 200 \\n\"\n",
      "[1] \"d1_Y_vs_A \\n sig: 1629 \\n up: 494 \\n down: 1135 \\n\"\n",
      "[1] \"d3_Y_vs_A \\n sig: 57 \\n up: 14 \\n down: 43 \\n\"\n",
      "[1] \"d5_Y_vs_A \\n sig: 2643 \\n up: 1726 \\n down: 917 \\n\"\n",
      "[1] \"d7_Y_vs_A \\n sig: 848 \\n up: 505 \\n down: 343 \\n\"\n",
      "[1] \"d1_Y_vs_d0_Y \\n sig: 626 \\n up: 434 \\n down: 192 \\n\"\n",
      "[1] \"d1_A_vs_d0_A \\n sig: 3515 \\n up: 3171 \\n down: 344 \\n\"\n",
      "[1] \"d3_Y_vs_d1_Y \\n sig: 2395 \\n up: 1401 \\n down: 994 \\n\"\n",
      "[1] \"d3_A_vs_d1_A \\n sig: 1060 \\n up: 389 \\n down: 671 \\n\"\n",
      "[1] \"d5_Y_vs_d3_Y \\n sig: 944 \\n up: 504 \\n down: 440 \\n\"\n",
      "[1] \"d5_A_vs_d3_A \\n sig: 3400 \\n up: 1074 \\n down: 2326 \\n\"\n",
      "[1] \"d7_Y_vs_d5_Y \\n sig: 1040 \\n up: 545 \\n down: 495 \\n\"\n",
      "[1] \"d7_A_vs_d5_A \\n sig: 2053 \\n up: 1248 \\n down: 805 \\n\"\n",
      "[1] \"d0_Y_Pax_7_vs_d0_Y_noPax7 \\n sig: 2602 \\n up: 1856 \\n down: 746 \\n\"\n"
     ]
    }
   ],
   "source": [
    "for(i in seq(1,length(comparisons)))\n",
    "{\n",
    "  tab<-topTable(e, number=nrow(e),coef=i,lfc=lfc_thresh, p.value = pval_thresh)\n",
    "  up=sum(tab$logFC>0)\n",
    "  down=sum(tab$logFC<0)\n",
    "  sig=nrow(tab)\n",
    "  curtitle=paste(comparisons[i],'\\n','sig:',sig,'\\n','up:',up,'\\n','down:',down,'\\n')\n",
    "  print(curtitle)\n",
    "  vals=topTable(e,number=nrow(e),coef=i)\n",
    "  vals$pscaled=-1*log10(vals$adj.P.Val)\n",
    "  vals$sig=vals$adj.P.Val<pval_thresh & abs(vals$logFC)>lfc_thresh \n",
    "  png(paste(\"volcano_diff\",comparisons[i],\".png\",sep=\"\"))\n",
    "  print(ggplot(data=vals,\n",
    "               aes(y=vals$pscaled,x=vals$logFC,color=vals$sig))+\n",
    "               geom_point(alpha=0.1)+\n",
    "               xlab(\"log2(FC)\")+\n",
    "               ylab(\"-log10(pval)\")+\n",
    "               ggtitle(curtitle)+\n",
    "               theme_bw()+\n",
    "               scale_color_manual(values=c(\"#000000\",\"#FF0000\")))\n",
    "  dev.off() \n",
    "  write.table(tab,file=paste(\"diff_\",comparisons[i],\".tsv\",sep=\"\"),quote=FALSE,sep='\\t',row.names = TRUE,col.names = TRUE)\n",
    "}\n",
    "    "
   ]
  },
  {
   "cell_type": "code",
   "execution_count": 113,
   "metadata": {},
   "outputs": [
    {
     "data": {
      "text/html": [
       "<table>\n",
       "<caption>A data.frame: 6 × 41</caption>\n",
       "<thead>\n",
       "\t<tr><th></th><th scope=col>d0_A_Rep1</th><th scope=col>d0_A_Rep2</th><th scope=col>d0_A_Rep3</th><th scope=col>d0_A_Rep4</th><th scope=col>d0_Y_Pax7_Rep1</th><th scope=col>d0_Y_Pax7_Rep2</th><th scope=col>d0_Y_Pax7_Rep3</th><th scope=col>d0_Y_Rep1</th><th scope=col>d0_Y_Rep2</th><th scope=col>d0_Y_Rep3</th><th scope=col>⋯</th><th scope=col>d5_Y_Rep2</th><th scope=col>d5_Y_Rep3</th><th scope=col>d7_A_Rep1</th><th scope=col>d7_A_Rep2</th><th scope=col>d7_A_Rep3</th><th scope=col>d7_A_Rep4</th><th scope=col>d7_Y_Rep1</th><th scope=col>d7_Y_Rep2</th><th scope=col>d7_Y_Rep3</th><th scope=col>d7_Y_Rep4</th></tr>\n",
       "\t<tr><th></th><th scope=col>&lt;dbl&gt;</th><th scope=col>&lt;dbl&gt;</th><th scope=col>&lt;dbl&gt;</th><th scope=col>&lt;dbl&gt;</th><th scope=col>&lt;dbl&gt;</th><th scope=col>&lt;dbl&gt;</th><th scope=col>&lt;dbl&gt;</th><th scope=col>&lt;dbl&gt;</th><th scope=col>&lt;dbl&gt;</th><th scope=col>&lt;dbl&gt;</th><th scope=col>⋯</th><th scope=col>&lt;dbl&gt;</th><th scope=col>&lt;dbl&gt;</th><th scope=col>&lt;dbl&gt;</th><th scope=col>&lt;dbl&gt;</th><th scope=col>&lt;dbl&gt;</th><th scope=col>&lt;dbl&gt;</th><th scope=col>&lt;dbl&gt;</th><th scope=col>&lt;dbl&gt;</th><th scope=col>&lt;dbl&gt;</th><th scope=col>&lt;dbl&gt;</th></tr>\n",
       "</thead>\n",
       "<tbody>\n",
       "\t<tr><th scope=row>ENSMUSG00000000001_Gnai3</th><td>4.7997213</td><td>5.1373116</td><td>5.2436664</td><td>4.8343823</td><td>4.77515815</td><td> 4.89767452</td><td> 4.73578084</td><td>5.6285891</td><td>5.633120010</td><td>5.5384033</td><td>⋯</td><td> 5.870667376</td><td>5.8141455</td><td>5.6033929</td><td>5.5280285</td><td>5.607970481</td><td>5.5027761</td><td>5.556444772</td><td>5.424664</td><td> 5.58144392</td><td>5.4482103</td></tr>\n",
       "\t<tr><th scope=row>ENSMUSG00000000028_Cdc45</th><td>2.1224989</td><td>2.0315831</td><td>1.9388268</td><td>2.6210054</td><td>1.80975407</td><td> 2.03398878</td><td> 2.03381833</td><td>2.0283776</td><td>2.708310785</td><td>2.7331228</td><td>⋯</td><td> 3.963019613</td><td>3.7451557</td><td>3.6649362</td><td>3.7410577</td><td>3.630358077</td><td>3.3307439</td><td>4.286974490</td><td>3.569443</td><td> 4.20931391</td><td>3.6340675</td></tr>\n",
       "\t<tr><th scope=row>ENSMUSG00000000031_H19</th><td>2.3771394</td><td>1.7311036</td><td>2.2454405</td><td>2.0734960</td><td>4.51653317</td><td> 4.95319289</td><td> 4.41803069</td><td>0.5930675</td><td>1.791865280</td><td>2.1539748</td><td>⋯</td><td> 4.427044590</td><td>4.3248902</td><td>3.8563617</td><td>4.2577650</td><td>3.750626402</td><td>3.9572555</td><td>4.885033715</td><td>5.001598</td><td> 4.85815815</td><td>4.5428810</td></tr>\n",
       "\t<tr><th scope=row>ENSMUSG00000000037_Scml2</th><td>0.3620911</td><td>0.2767164</td><td>0.0658098</td><td>0.5991354</td><td>0.06495702</td><td> 0.35692941</td><td>-0.04384437</td><td>0.2960269</td><td>0.708819114</td><td>0.7135996</td><td>⋯</td><td> 2.139982970</td><td>2.1201185</td><td>2.1105548</td><td>1.9081506</td><td>2.003212367</td><td>1.5654627</td><td>1.443000091</td><td>1.416933</td><td> 1.78097784</td><td>1.1795386</td></tr>\n",
       "\t<tr><th scope=row>ENSMUSG00000000049_Apoh</th><td>0.6239051</td><td>0.6633686</td><td>0.2273006</td><td>0.6485407</td><td>0.03622449</td><td>-0.09899279</td><td>-0.07571410</td><td>0.4958954</td><td>0.001118024</td><td>0.1206518</td><td>⋯</td><td>-0.003498623</td><td>0.1149913</td><td>0.2026911</td><td>0.3283521</td><td>0.006527713</td><td>0.5186474</td><td>0.007997031</td><td>0.104385</td><td>-0.06611364</td><td>0.3064039</td></tr>\n",
       "\t<tr><th scope=row>ENSMUSG00000000056_Narf</th><td>2.2949361</td><td>2.1674840</td><td>2.7829372</td><td>2.1176154</td><td>2.50770420</td><td> 2.81541258</td><td> 2.64287572</td><td>2.5159142</td><td>2.964207172</td><td>2.8615585</td><td>⋯</td><td> 3.255374805</td><td>3.3323751</td><td>3.1037782</td><td>3.0771856</td><td>3.700265710</td><td>2.7580200</td><td>2.749055881</td><td>2.654638</td><td> 2.89294476</td><td>2.4129904</td></tr>\n",
       "</tbody>\n",
       "</table>\n"
      ],
      "text/latex": [
       "A data.frame: 6 × 41\n",
       "\\begin{tabular}{r|lllllllllllllllllllllllllllllllllllllllll}\n",
       "  & d0\\_A\\_Rep1 & d0\\_A\\_Rep2 & d0\\_A\\_Rep3 & d0\\_A\\_Rep4 & d0\\_Y\\_Pax7\\_Rep1 & d0\\_Y\\_Pax7\\_Rep2 & d0\\_Y\\_Pax7\\_Rep3 & d0\\_Y\\_Rep1 & d0\\_Y\\_Rep2 & d0\\_Y\\_Rep3 & d0\\_Y\\_Rep4 & d0\\_Y\\_Rep5 & d0\\_Y\\_Rep6 & d1\\_A\\_Rep1 & d1\\_A\\_Rep2 & d1\\_Y\\_Rep1 & d1\\_Y\\_Rep2 & d1\\_Y\\_Rep3 & d1\\_Y\\_Rep4 & d3\\_A\\_Rep1 & d3\\_A\\_Rep2 & D3\\_A\\_Rep3 & D3\\_A\\_Rep4 & d3\\_Y\\_Rep1 & d3\\_Y\\_Rep2 & d3\\_Y\\_Rep3 & D3\\_Y\\_Rep4 & D3\\_Y\\_Rep5 & d5\\_A\\_Rep1 & d5\\_A\\_Rep2 & d5\\_Y\\_Rep1 & d5\\_Y\\_Rep2 & d5\\_Y\\_Rep3 & d7\\_A\\_Rep1 & d7\\_A\\_Rep2 & d7\\_A\\_Rep3 & d7\\_A\\_Rep4 & d7\\_Y\\_Rep1 & d7\\_Y\\_Rep2 & d7\\_Y\\_Rep3 & d7\\_Y\\_Rep4\\\\\n",
       "  & <dbl> & <dbl> & <dbl> & <dbl> & <dbl> & <dbl> & <dbl> & <dbl> & <dbl> & <dbl> & <dbl> & <dbl> & <dbl> & <dbl> & <dbl> & <dbl> & <dbl> & <dbl> & <dbl> & <dbl> & <dbl> & <dbl> & <dbl> & <dbl> & <dbl> & <dbl> & <dbl> & <dbl> & <dbl> & <dbl> & <dbl> & <dbl> & <dbl> & <dbl> & <dbl> & <dbl> & <dbl> & <dbl> & <dbl> & <dbl> & <dbl>\\\\\n",
       "\\hline\n",
       "\tENSMUSG00000000001\\_Gnai3 & 4.7997213 & 5.1373116 & 5.2436664 & 4.8343823 & 4.77515815 &  4.89767452 &  4.73578084 & 5.6285891 & 5.633120010 & 5.5384033 & 5.4785488 & 5.5588428 & 5.5440788 & 5.9172874 & 5.891375 & 5.6743925 & 5.7329068 & 5.65512591 & 5.730826 &  5.8211019 &  5.84410616 &  5.81322946 & 5.8943710 &  6.0301763 &  5.95728447 &  5.87907242 & 5.84644083 &  5.9289701 & 5.627478990 &  5.57477035 &  5.95626741 &  5.870667376 & 5.8141455 & 5.6033929 & 5.5280285 & 5.607970481 & 5.5027761 & 5.556444772 & 5.424664 &  5.58144392 & 5.4482103\\\\\n",
       "\tENSMUSG00000000028\\_Cdc45 & 2.1224989 & 2.0315831 & 1.9388268 & 2.6210054 & 1.80975407 &  2.03398878 &  2.03381833 & 2.0283776 & 2.708310785 & 2.7331228 & 2.4271252 & 2.4180228 & 2.5402225 & 4.8546732 & 4.756564 & 3.0744308 & 2.8811275 & 3.34940538 & 2.902610 &  4.9738775 &  4.89058797 &  4.79453273 & 4.5904715 &  4.6397517 &  4.64991603 &  4.67379917 & 4.81192577 &  4.9292212 & 2.861693099 &  2.73244591 &  3.99287844 &  3.963019613 & 3.7451557 & 3.6649362 & 3.7410577 & 3.630358077 & 3.3307439 & 4.286974490 & 3.569443 &  4.20931391 & 3.6340675\\\\\n",
       "\tENSMUSG00000000031\\_H19 & 2.3771394 & 1.7311036 & 2.2454405 & 2.0734960 & 4.51653317 &  4.95319289 &  4.41803069 & 0.5930675 & 1.791865280 & 2.1539748 & 1.7354930 & 1.5639167 & 1.9374783 & 2.4067462 & 2.897628 & 2.7483183 & 2.6930483 & 3.97960211 & 2.737306 &  3.6606148 &  3.04827318 &  3.54061179 & 3.1714858 &  3.6714400 &  3.85800165 &  3.89529396 & 3.89289599 &  3.8838791 & 2.166924666 &  2.44383811 &  4.43142889 &  4.427044590 & 4.3248902 & 3.8563617 & 4.2577650 & 3.750626402 & 3.9572555 & 4.885033715 & 5.001598 &  4.85815815 & 4.5428810\\\\\n",
       "\tENSMUSG00000000037\\_Scml2 & 0.3620911 & 0.2767164 & 0.0658098 & 0.5991354 & 0.06495702 &  0.35692941 & -0.04384437 & 0.2960269 & 0.708819114 & 0.7135996 & 0.5391651 & 0.5040129 & 0.5493548 & 1.8025646 & 1.503071 & 1.1263299 & 1.1906746 & 1.44468132 & 1.238821 &  1.5415317 &  1.61204287 &  1.47487958 & 1.8197036 &  1.7577050 &  1.60181359 &  1.43538617 & 2.03591380 &  1.3964262 & 0.179164563 &  0.37851447 &  2.05694962 &  2.139982970 & 2.1201185 & 2.1105548 & 1.9081506 & 2.003212367 & 1.5654627 & 1.443000091 & 1.416933 &  1.78097784 & 1.1795386\\\\\n",
       "\tENSMUSG00000000049\\_Apoh & 0.6239051 & 0.6633686 & 0.2273006 & 0.6485407 & 0.03622449 & -0.09899279 & -0.07571410 & 0.4958954 & 0.001118024 & 0.1206518 & 0.2941426 & 0.2389981 & 0.1209746 & 0.1079898 & 0.979265 & 0.5308214 & 0.6228633 & 0.07653726 & 0.324344 & -0.1518563 & -0.00320196 & -0.09510711 & 0.2535691 & -0.1119354 & -0.09722901 & -0.01608674 & 0.08180964 & -0.1454936 & 0.001798631 & -0.05491715 & -0.03025744 & -0.003498623 & 0.1149913 & 0.2026911 & 0.3283521 & 0.006527713 & 0.5186474 & 0.007997031 & 0.104385 & -0.06611364 & 0.3064039\\\\\n",
       "\tENSMUSG00000000056\\_Narf & 2.2949361 & 2.1674840 & 2.7829372 & 2.1176154 & 2.50770420 &  2.81541258 &  2.64287572 & 2.5159142 & 2.964207172 & 2.8615585 & 2.6722962 & 2.7330913 & 2.8472162 & 2.2066644 & 2.603719 & 2.7959613 & 2.5520204 & 3.08826762 & 2.922252 &  3.4485277 &  3.14179524 &  3.11324549 & 3.7973595 &  4.2146668 &  4.16607940 &  4.09016996 & 3.91167086 &  3.5391596 & 2.684129092 &  2.80269998 &  3.10603750 &  3.255374805 & 3.3323751 & 3.1037782 & 3.0771856 & 3.700265710 & 2.7580200 & 2.749055881 & 2.654638 &  2.89294476 & 2.4129904\\\\\n",
       "\\end{tabular}\n"
      ],
      "text/markdown": [
       "\n",
       "A data.frame: 6 × 41\n",
       "\n",
       "| <!--/--> | d0_A_Rep1 &lt;dbl&gt; | d0_A_Rep2 &lt;dbl&gt; | d0_A_Rep3 &lt;dbl&gt; | d0_A_Rep4 &lt;dbl&gt; | d0_Y_Pax7_Rep1 &lt;dbl&gt; | d0_Y_Pax7_Rep2 &lt;dbl&gt; | d0_Y_Pax7_Rep3 &lt;dbl&gt; | d0_Y_Rep1 &lt;dbl&gt; | d0_Y_Rep2 &lt;dbl&gt; | d0_Y_Rep3 &lt;dbl&gt; | ⋯ ⋯ | d5_Y_Rep2 &lt;dbl&gt; | d5_Y_Rep3 &lt;dbl&gt; | d7_A_Rep1 &lt;dbl&gt; | d7_A_Rep2 &lt;dbl&gt; | d7_A_Rep3 &lt;dbl&gt; | d7_A_Rep4 &lt;dbl&gt; | d7_Y_Rep1 &lt;dbl&gt; | d7_Y_Rep2 &lt;dbl&gt; | d7_Y_Rep3 &lt;dbl&gt; | d7_Y_Rep4 &lt;dbl&gt; |\n",
       "|---|---|---|---|---|---|---|---|---|---|---|---|---|---|---|---|---|---|---|---|---|---|\n",
       "| ENSMUSG00000000001_Gnai3 | 4.7997213 | 5.1373116 | 5.2436664 | 4.8343823 | 4.77515815 |  4.89767452 |  4.73578084 | 5.6285891 | 5.633120010 | 5.5384033 | ⋯ |  5.870667376 | 5.8141455 | 5.6033929 | 5.5280285 | 5.607970481 | 5.5027761 | 5.556444772 | 5.424664 |  5.58144392 | 5.4482103 |\n",
       "| ENSMUSG00000000028_Cdc45 | 2.1224989 | 2.0315831 | 1.9388268 | 2.6210054 | 1.80975407 |  2.03398878 |  2.03381833 | 2.0283776 | 2.708310785 | 2.7331228 | ⋯ |  3.963019613 | 3.7451557 | 3.6649362 | 3.7410577 | 3.630358077 | 3.3307439 | 4.286974490 | 3.569443 |  4.20931391 | 3.6340675 |\n",
       "| ENSMUSG00000000031_H19 | 2.3771394 | 1.7311036 | 2.2454405 | 2.0734960 | 4.51653317 |  4.95319289 |  4.41803069 | 0.5930675 | 1.791865280 | 2.1539748 | ⋯ |  4.427044590 | 4.3248902 | 3.8563617 | 4.2577650 | 3.750626402 | 3.9572555 | 4.885033715 | 5.001598 |  4.85815815 | 4.5428810 |\n",
       "| ENSMUSG00000000037_Scml2 | 0.3620911 | 0.2767164 | 0.0658098 | 0.5991354 | 0.06495702 |  0.35692941 | -0.04384437 | 0.2960269 | 0.708819114 | 0.7135996 | ⋯ |  2.139982970 | 2.1201185 | 2.1105548 | 1.9081506 | 2.003212367 | 1.5654627 | 1.443000091 | 1.416933 |  1.78097784 | 1.1795386 |\n",
       "| ENSMUSG00000000049_Apoh | 0.6239051 | 0.6633686 | 0.2273006 | 0.6485407 | 0.03622449 | -0.09899279 | -0.07571410 | 0.4958954 | 0.001118024 | 0.1206518 | ⋯ | -0.003498623 | 0.1149913 | 0.2026911 | 0.3283521 | 0.006527713 | 0.5186474 | 0.007997031 | 0.104385 | -0.06611364 | 0.3064039 |\n",
       "| ENSMUSG00000000056_Narf | 2.2949361 | 2.1674840 | 2.7829372 | 2.1176154 | 2.50770420 |  2.81541258 |  2.64287572 | 2.5159142 | 2.964207172 | 2.8615585 | ⋯ |  3.255374805 | 3.3323751 | 3.1037782 | 3.0771856 | 3.700265710 | 2.7580200 | 2.749055881 | 2.654638 |  2.89294476 | 2.4129904 |\n",
       "\n"
      ],
      "text/plain": [
       "                         d0_A_Rep1 d0_A_Rep2 d0_A_Rep3 d0_A_Rep4 d0_Y_Pax7_Rep1\n",
       "ENSMUSG00000000001_Gnai3 4.7997213 5.1373116 5.2436664 4.8343823 4.77515815    \n",
       "ENSMUSG00000000028_Cdc45 2.1224989 2.0315831 1.9388268 2.6210054 1.80975407    \n",
       "ENSMUSG00000000031_H19   2.3771394 1.7311036 2.2454405 2.0734960 4.51653317    \n",
       "ENSMUSG00000000037_Scml2 0.3620911 0.2767164 0.0658098 0.5991354 0.06495702    \n",
       "ENSMUSG00000000049_Apoh  0.6239051 0.6633686 0.2273006 0.6485407 0.03622449    \n",
       "ENSMUSG00000000056_Narf  2.2949361 2.1674840 2.7829372 2.1176154 2.50770420    \n",
       "                         d0_Y_Pax7_Rep2 d0_Y_Pax7_Rep3 d0_Y_Rep1 d0_Y_Rep2  \n",
       "ENSMUSG00000000001_Gnai3  4.89767452     4.73578084    5.6285891 5.633120010\n",
       "ENSMUSG00000000028_Cdc45  2.03398878     2.03381833    2.0283776 2.708310785\n",
       "ENSMUSG00000000031_H19    4.95319289     4.41803069    0.5930675 1.791865280\n",
       "ENSMUSG00000000037_Scml2  0.35692941    -0.04384437    0.2960269 0.708819114\n",
       "ENSMUSG00000000049_Apoh  -0.09899279    -0.07571410    0.4958954 0.001118024\n",
       "ENSMUSG00000000056_Narf   2.81541258     2.64287572    2.5159142 2.964207172\n",
       "                         d0_Y_Rep3 ⋯ d5_Y_Rep2    d5_Y_Rep3 d7_A_Rep1 d7_A_Rep2\n",
       "ENSMUSG00000000001_Gnai3 5.5384033 ⋯  5.870667376 5.8141455 5.6033929 5.5280285\n",
       "ENSMUSG00000000028_Cdc45 2.7331228 ⋯  3.963019613 3.7451557 3.6649362 3.7410577\n",
       "ENSMUSG00000000031_H19   2.1539748 ⋯  4.427044590 4.3248902 3.8563617 4.2577650\n",
       "ENSMUSG00000000037_Scml2 0.7135996 ⋯  2.139982970 2.1201185 2.1105548 1.9081506\n",
       "ENSMUSG00000000049_Apoh  0.1206518 ⋯ -0.003498623 0.1149913 0.2026911 0.3283521\n",
       "ENSMUSG00000000056_Narf  2.8615585 ⋯  3.255374805 3.3323751 3.1037782 3.0771856\n",
       "                         d7_A_Rep3   d7_A_Rep4 d7_Y_Rep1   d7_Y_Rep2\n",
       "ENSMUSG00000000001_Gnai3 5.607970481 5.5027761 5.556444772 5.424664 \n",
       "ENSMUSG00000000028_Cdc45 3.630358077 3.3307439 4.286974490 3.569443 \n",
       "ENSMUSG00000000031_H19   3.750626402 3.9572555 4.885033715 5.001598 \n",
       "ENSMUSG00000000037_Scml2 2.003212367 1.5654627 1.443000091 1.416933 \n",
       "ENSMUSG00000000049_Apoh  0.006527713 0.5186474 0.007997031 0.104385 \n",
       "ENSMUSG00000000056_Narf  3.700265710 2.7580200 2.749055881 2.654638 \n",
       "                         d7_Y_Rep3   d7_Y_Rep4\n",
       "ENSMUSG00000000001_Gnai3  5.58144392 5.4482103\n",
       "ENSMUSG00000000028_Cdc45  4.20931391 3.6340675\n",
       "ENSMUSG00000000031_H19    4.85815815 4.5428810\n",
       "ENSMUSG00000000037_Scml2  1.78097784 1.1795386\n",
       "ENSMUSG00000000049_Apoh  -0.06611364 0.3064039\n",
       "ENSMUSG00000000056_Narf   2.89294476 2.4129904"
      ]
     },
     "metadata": {},
     "output_type": "display_data"
    }
   ],
   "source": [
    "cleaned_E_df=as.data.frame(cleaned_E)\n",
    "head(cleaned_E_df)"
   ]
  },
  {
   "cell_type": "markdown",
   "metadata": {},
   "source": [
    "## Plot d0_Y vs d0_Y_Pax7"
   ]
  },
  {
   "cell_type": "code",
   "execution_count": 114,
   "metadata": {},
   "outputs": [],
   "source": [
    "d0_Y=(cleaned_E_df$d0_Y_Rep1+\n",
    "    cleaned_E_df$d0_Y_Rep2+\n",
    "    cleaned_E_df$d0_Y_Rep3+\n",
    "    cleaned_E_df$d0_Y_Rep4+\n",
    "    cleaned_E_df$d0_Y_Rep5+\n",
    "    cleaned_E_df$d0_Y_Rep6)/6\n",
    "d0_Y_Pax7=(cleaned_E_df$d0_Y_Pax7_Rep1+\n",
    "          cleaned_E_df$d0_Y_Pax7_Rep2+\n",
    "          cleaned_E_df$d0_Y_Pax7_Rep3)/3"
   ]
  },
  {
   "cell_type": "code",
   "execution_count": 125,
   "metadata": {},
   "outputs": [],
   "source": [
    "d0_Y_df=data.frame(rownames(cleaned_E_df),d0_Y,d0_Y_Pax7)"
   ]
  },
  {
   "cell_type": "code",
   "execution_count": 126,
   "metadata": {},
   "outputs": [
    {
     "data": {
      "text/html": [
       "<table>\n",
       "<caption>A data.frame: 6 × 3</caption>\n",
       "<thead>\n",
       "\t<tr><th scope=col>rownames.cleaned_E_df.</th><th scope=col>d0_Y</th><th scope=col>d0_Y_Pax7</th></tr>\n",
       "\t<tr><th scope=col>&lt;fct&gt;</th><th scope=col>&lt;dbl&gt;</th><th scope=col>&lt;dbl&gt;</th></tr>\n",
       "</thead>\n",
       "<tbody>\n",
       "\t<tr><td>ENSMUSG00000000001_Gnai3</td><td>5.5635971</td><td> 4.8028712</td></tr>\n",
       "\t<tr><td>ENSMUSG00000000028_Cdc45</td><td>2.4758636</td><td> 1.9591871</td></tr>\n",
       "\t<tr><td>ENSMUSG00000000031_H19  </td><td>1.6292993</td><td> 4.6292522</td></tr>\n",
       "\t<tr><td>ENSMUSG00000000037_Scml2</td><td>0.5518297</td><td> 0.1260140</td></tr>\n",
       "\t<tr><td>ENSMUSG00000000049_Apoh </td><td>0.2119634</td><td>-0.0461608</td></tr>\n",
       "\t<tr><td>ENSMUSG00000000056_Narf </td><td>2.7657139</td><td> 2.6553308</td></tr>\n",
       "</tbody>\n",
       "</table>\n"
      ],
      "text/latex": [
       "A data.frame: 6 × 3\n",
       "\\begin{tabular}{r|lll}\n",
       " rownames.cleaned\\_E\\_df. & d0\\_Y & d0\\_Y\\_Pax7\\\\\n",
       " <fct> & <dbl> & <dbl>\\\\\n",
       "\\hline\n",
       "\t ENSMUSG00000000001\\_Gnai3 & 5.5635971 &  4.8028712\\\\\n",
       "\t ENSMUSG00000000028\\_Cdc45 & 2.4758636 &  1.9591871\\\\\n",
       "\t ENSMUSG00000000031\\_H19   & 1.6292993 &  4.6292522\\\\\n",
       "\t ENSMUSG00000000037\\_Scml2 & 0.5518297 &  0.1260140\\\\\n",
       "\t ENSMUSG00000000049\\_Apoh  & 0.2119634 & -0.0461608\\\\\n",
       "\t ENSMUSG00000000056\\_Narf  & 2.7657139 &  2.6553308\\\\\n",
       "\\end{tabular}\n"
      ],
      "text/markdown": [
       "\n",
       "A data.frame: 6 × 3\n",
       "\n",
       "| rownames.cleaned_E_df. &lt;fct&gt; | d0_Y &lt;dbl&gt; | d0_Y_Pax7 &lt;dbl&gt; |\n",
       "|---|---|---|\n",
       "| ENSMUSG00000000001_Gnai3 | 5.5635971 |  4.8028712 |\n",
       "| ENSMUSG00000000028_Cdc45 | 2.4758636 |  1.9591871 |\n",
       "| ENSMUSG00000000031_H19   | 1.6292993 |  4.6292522 |\n",
       "| ENSMUSG00000000037_Scml2 | 0.5518297 |  0.1260140 |\n",
       "| ENSMUSG00000000049_Apoh  | 0.2119634 | -0.0461608 |\n",
       "| ENSMUSG00000000056_Narf  | 2.7657139 |  2.6553308 |\n",
       "\n"
      ],
      "text/plain": [
       "  rownames.cleaned_E_df.   d0_Y      d0_Y_Pax7 \n",
       "1 ENSMUSG00000000001_Gnai3 5.5635971  4.8028712\n",
       "2 ENSMUSG00000000028_Cdc45 2.4758636  1.9591871\n",
       "3 ENSMUSG00000000031_H19   1.6292993  4.6292522\n",
       "4 ENSMUSG00000000037_Scml2 0.5518297  0.1260140\n",
       "5 ENSMUSG00000000049_Apoh  0.2119634 -0.0461608\n",
       "6 ENSMUSG00000000056_Narf  2.7657139  2.6553308"
      ]
     },
     "metadata": {},
     "output_type": "display_data"
    }
   ],
   "source": [
    "head(d0_Y_df)"
   ]
  },
  {
   "cell_type": "code",
   "execution_count": 137,
   "metadata": {},
   "outputs": [
    {
     "data": {
      "text/html": [
       "<strong>png:</strong> 2"
      ],
      "text/latex": [
       "\\textbf{png:} 2"
      ],
      "text/markdown": [
       "**png:** 2"
      ],
      "text/plain": [
       "png \n",
       "  2 "
      ]
     },
     "metadata": {},
     "output_type": "display_data"
    }
   ],
   "source": [
    "svg(filename=\"RNA_d0Y_vs_d0YPax7.svg\",\n",
    "   height=8,\n",
    "   width=8,\n",
    "   pointsize=12)\n",
    "print(ggplot(data=d0_Y_df,\n",
    "      aes(x=d0_Y_df$d0_Y,\n",
    "         y=d0_Y_df$d0_Y_Pax7))+\n",
    "geom_point(alpha=0.3)+\n",
    "geom_abline(slope=1)+\n",
    "xlab(\"D0 Young\")+\n",
    "ylab(\"D0 Young PAX7\")+\n",
    "ggtitle(\"asinh(TPM) RNA expression\")+\n",
    "theme_bw(20))\n",
    "dev.off()"
   ]
  },
  {
   "cell_type": "code",
   "execution_count": 133,
   "metadata": {},
   "outputs": [],
   "source": [
    "d0_Y_df$delta=d0_Y_df$d0_Y_Pax7/d0_Y_df$d0_Y"
   ]
  },
  {
   "cell_type": "code",
   "execution_count": 134,
   "metadata": {},
   "outputs": [],
   "source": [
    "d0_Y_df=d0_Y_df[order(d0_Y_df$delta),]"
   ]
  },
  {
   "cell_type": "code",
   "execution_count": 135,
   "metadata": {},
   "outputs": [
    {
     "data": {
      "text/html": [
       "<table>\n",
       "<caption>A data.frame: 6 × 4</caption>\n",
       "<thead>\n",
       "\t<tr><th></th><th scope=col>rownames.cleaned_E_df.</th><th scope=col>d0_Y</th><th scope=col>d0_Y_Pax7</th><th scope=col>delta</th></tr>\n",
       "\t<tr><th></th><th scope=col>&lt;fct&gt;</th><th scope=col>&lt;dbl&gt;</th><th scope=col>&lt;dbl&gt;</th><th scope=col>&lt;dbl&gt;</th></tr>\n",
       "</thead>\n",
       "<tbody>\n",
       "\t<tr><th scope=row>34478</th><td>ENSMUSG00000107604_Gm44041</td><td>-1.555546e-05</td><td> 0.24682828</td><td>-15867.6271</td></tr>\n",
       "\t<tr><th scope=row>17939</th><td>ENSMUSG00000067610_Klri1  </td><td>-2.436050e-04</td><td> 0.81214533</td><td> -3333.8613</td></tr>\n",
       "\t<tr><th scope=row>381</th><td>ENSMUSG00000002190_Clgn   </td><td>-2.079709e-05</td><td> 0.03072402</td><td> -1477.3231</td></tr>\n",
       "\t<tr><th scope=row>25368</th><td>ENSMUSG00000089598_Gm26158</td><td> 7.104888e-04</td><td>-1.04954682</td><td> -1477.2180</td></tr>\n",
       "\t<tr><th scope=row>32023</th><td>ENSMUSG00000103874_Gm38360</td><td>-2.277092e-04</td><td> 0.23237066</td><td> -1020.4713</td></tr>\n",
       "\t<tr><th scope=row>28335</th><td>ENSMUSG00000096924_Gm26824</td><td> 2.093844e-04</td><td>-0.18243210</td><td>  -871.2782</td></tr>\n",
       "</tbody>\n",
       "</table>\n"
      ],
      "text/latex": [
       "A data.frame: 6 × 4\n",
       "\\begin{tabular}{r|llll}\n",
       "  & rownames.cleaned\\_E\\_df. & d0\\_Y & d0\\_Y\\_Pax7 & delta\\\\\n",
       "  & <fct> & <dbl> & <dbl> & <dbl>\\\\\n",
       "\\hline\n",
       "\t34478 & ENSMUSG00000107604\\_Gm44041 & -1.555546e-05 &  0.24682828 & -15867.6271\\\\\n",
       "\t17939 & ENSMUSG00000067610\\_Klri1   & -2.436050e-04 &  0.81214533 &  -3333.8613\\\\\n",
       "\t381 & ENSMUSG00000002190\\_Clgn    & -2.079709e-05 &  0.03072402 &  -1477.3231\\\\\n",
       "\t25368 & ENSMUSG00000089598\\_Gm26158 &  7.104888e-04 & -1.04954682 &  -1477.2180\\\\\n",
       "\t32023 & ENSMUSG00000103874\\_Gm38360 & -2.277092e-04 &  0.23237066 &  -1020.4713\\\\\n",
       "\t28335 & ENSMUSG00000096924\\_Gm26824 &  2.093844e-04 & -0.18243210 &   -871.2782\\\\\n",
       "\\end{tabular}\n"
      ],
      "text/markdown": [
       "\n",
       "A data.frame: 6 × 4\n",
       "\n",
       "| <!--/--> | rownames.cleaned_E_df. &lt;fct&gt; | d0_Y &lt;dbl&gt; | d0_Y_Pax7 &lt;dbl&gt; | delta &lt;dbl&gt; |\n",
       "|---|---|---|---|---|\n",
       "| 34478 | ENSMUSG00000107604_Gm44041 | -1.555546e-05 |  0.24682828 | -15867.6271 |\n",
       "| 17939 | ENSMUSG00000067610_Klri1   | -2.436050e-04 |  0.81214533 |  -3333.8613 |\n",
       "| 381 | ENSMUSG00000002190_Clgn    | -2.079709e-05 |  0.03072402 |  -1477.3231 |\n",
       "| 25368 | ENSMUSG00000089598_Gm26158 |  7.104888e-04 | -1.04954682 |  -1477.2180 |\n",
       "| 32023 | ENSMUSG00000103874_Gm38360 | -2.277092e-04 |  0.23237066 |  -1020.4713 |\n",
       "| 28335 | ENSMUSG00000096924_Gm26824 |  2.093844e-04 | -0.18243210 |   -871.2782 |\n",
       "\n"
      ],
      "text/plain": [
       "      rownames.cleaned_E_df.     d0_Y          d0_Y_Pax7   delta      \n",
       "34478 ENSMUSG00000107604_Gm44041 -1.555546e-05  0.24682828 -15867.6271\n",
       "17939 ENSMUSG00000067610_Klri1   -2.436050e-04  0.81214533  -3333.8613\n",
       "381   ENSMUSG00000002190_Clgn    -2.079709e-05  0.03072402  -1477.3231\n",
       "25368 ENSMUSG00000089598_Gm26158  7.104888e-04 -1.04954682  -1477.2180\n",
       "32023 ENSMUSG00000103874_Gm38360 -2.277092e-04  0.23237066  -1020.4713\n",
       "28335 ENSMUSG00000096924_Gm26824  2.093844e-04 -0.18243210   -871.2782"
      ]
     },
     "metadata": {},
     "output_type": "display_data"
    }
   ],
   "source": [
    "head(d0_Y_df)"
   ]
  },
  {
   "cell_type": "code",
   "execution_count": 136,
   "metadata": {},
   "outputs": [
    {
     "data": {
      "text/html": [
       "<table>\n",
       "<caption>A data.frame: 6 × 4</caption>\n",
       "<thead>\n",
       "\t<tr><th></th><th scope=col>rownames.cleaned_E_df.</th><th scope=col>d0_Y</th><th scope=col>d0_Y_Pax7</th><th scope=col>delta</th></tr>\n",
       "\t<tr><th></th><th scope=col>&lt;fct&gt;</th><th scope=col>&lt;dbl&gt;</th><th scope=col>&lt;dbl&gt;</th><th scope=col>&lt;dbl&gt;</th></tr>\n",
       "</thead>\n",
       "<tbody>\n",
       "\t<tr><th scope=row>32772</th><td>ENSMUSG00000105025_Rnu3b1 </td><td> 8.611725e-04</td><td> 1.16838425</td><td> 1356.737</td></tr>\n",
       "\t<tr><th scope=row>6384</th><td>ENSMUSG00000028071_Sh2d2a </td><td> 3.227369e-04</td><td> 0.82993165</td><td> 2571.542</td></tr>\n",
       "\t<tr><th scope=row>35739</th><td>ENSMUSG00000109467_Gm30646</td><td> 1.929916e-05</td><td> 0.07070968</td><td> 3663.874</td></tr>\n",
       "\t<tr><th scope=row>20297</th><td>ENSMUSG00000078945_Naip2  </td><td> 7.460942e-05</td><td> 0.36685790</td><td> 4917.045</td></tr>\n",
       "\t<tr><th scope=row>10360</th><td>ENSMUSG00000036925_Mucl2  </td><td> 1.049093e-05</td><td> 0.11567733</td><td>11026.415</td></tr>\n",
       "\t<tr><th scope=row>13191</th><td>ENSMUSG00000045440_Insm2  </td><td>-3.336446e-06</td><td>-0.08638471</td><td>25891.236</td></tr>\n",
       "</tbody>\n",
       "</table>\n"
      ],
      "text/latex": [
       "A data.frame: 6 × 4\n",
       "\\begin{tabular}{r|llll}\n",
       "  & rownames.cleaned\\_E\\_df. & d0\\_Y & d0\\_Y\\_Pax7 & delta\\\\\n",
       "  & <fct> & <dbl> & <dbl> & <dbl>\\\\\n",
       "\\hline\n",
       "\t32772 & ENSMUSG00000105025\\_Rnu3b1  &  8.611725e-04 &  1.16838425 &  1356.737\\\\\n",
       "\t6384 & ENSMUSG00000028071\\_Sh2d2a  &  3.227369e-04 &  0.82993165 &  2571.542\\\\\n",
       "\t35739 & ENSMUSG00000109467\\_Gm30646 &  1.929916e-05 &  0.07070968 &  3663.874\\\\\n",
       "\t20297 & ENSMUSG00000078945\\_Naip2   &  7.460942e-05 &  0.36685790 &  4917.045\\\\\n",
       "\t10360 & ENSMUSG00000036925\\_Mucl2   &  1.049093e-05 &  0.11567733 & 11026.415\\\\\n",
       "\t13191 & ENSMUSG00000045440\\_Insm2   & -3.336446e-06 & -0.08638471 & 25891.236\\\\\n",
       "\\end{tabular}\n"
      ],
      "text/markdown": [
       "\n",
       "A data.frame: 6 × 4\n",
       "\n",
       "| <!--/--> | rownames.cleaned_E_df. &lt;fct&gt; | d0_Y &lt;dbl&gt; | d0_Y_Pax7 &lt;dbl&gt; | delta &lt;dbl&gt; |\n",
       "|---|---|---|---|---|\n",
       "| 32772 | ENSMUSG00000105025_Rnu3b1  |  8.611725e-04 |  1.16838425 |  1356.737 |\n",
       "| 6384 | ENSMUSG00000028071_Sh2d2a  |  3.227369e-04 |  0.82993165 |  2571.542 |\n",
       "| 35739 | ENSMUSG00000109467_Gm30646 |  1.929916e-05 |  0.07070968 |  3663.874 |\n",
       "| 20297 | ENSMUSG00000078945_Naip2   |  7.460942e-05 |  0.36685790 |  4917.045 |\n",
       "| 10360 | ENSMUSG00000036925_Mucl2   |  1.049093e-05 |  0.11567733 | 11026.415 |\n",
       "| 13191 | ENSMUSG00000045440_Insm2   | -3.336446e-06 | -0.08638471 | 25891.236 |\n",
       "\n"
      ],
      "text/plain": [
       "      rownames.cleaned_E_df.     d0_Y          d0_Y_Pax7   delta    \n",
       "32772 ENSMUSG00000105025_Rnu3b1   8.611725e-04  1.16838425  1356.737\n",
       "6384  ENSMUSG00000028071_Sh2d2a   3.227369e-04  0.82993165  2571.542\n",
       "35739 ENSMUSG00000109467_Gm30646  1.929916e-05  0.07070968  3663.874\n",
       "20297 ENSMUSG00000078945_Naip2    7.460942e-05  0.36685790  4917.045\n",
       "10360 ENSMUSG00000036925_Mucl2    1.049093e-05  0.11567733 11026.415\n",
       "13191 ENSMUSG00000045440_Insm2   -3.336446e-06 -0.08638471 25891.236"
      ]
     },
     "metadata": {},
     "output_type": "display_data"
    }
   ],
   "source": [
    "tail(d0_Y_df)"
   ]
  },
  {
   "cell_type": "markdown",
   "metadata": {},
   "source": [
    "## Ddit3"
   ]
  },
  {
   "cell_type": "code",
   "execution_count": 147,
   "metadata": {},
   "outputs": [],
   "source": [
    "ddit3_subset=sinh(cleaned_E_df[rownames(cleaned_E_df)==\"ENSMUSG00000025408_Ddit3\",])"
   ]
  },
  {
   "cell_type": "code",
   "execution_count": 155,
   "metadata": {},
   "outputs": [],
   "source": [
    "write.table(ddit3_subset,file=\"DDIT3_tpm_svacorrected.txt\")"
   ]
  }
 ],
 "metadata": {
  "kernelspec": {
   "display_name": "R 3.5",
   "language": "R",
   "name": "ir35"
  },
  "language_info": {
   "codemirror_mode": "r",
   "file_extension": ".r",
   "mimetype": "text/x-r-source",
   "name": "R",
   "pygments_lexer": "r",
   "version": "3.5.1"
  }
 },
 "nbformat": 4,
 "nbformat_minor": 2
}
