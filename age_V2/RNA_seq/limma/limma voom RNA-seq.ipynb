{
 "cells": [
  {
   "cell_type": "markdown",
   "metadata": {},
   "source": [
    "### Limma voom analysis of Age Dataset: RNA-seq\n"
   ]
  },
  {
   "cell_type": "code",
   "execution_count": 430,
   "metadata": {
    "ExecuteTime": {
     "end_time": "2020-03-20T05:38:39.347068Z",
     "start_time": "2020-03-20T05:38:39.289Z"
    }
   },
   "outputs": [],
   "source": [
    "rm(list=ls())\n",
    "library(data.table)\n",
    "#load necessary libraries \n",
    "library(ggplot2)\n",
    "library(\"BiocParallel\")\n",
    "parallelFlag=TRUE\n",
    "register(MulticoreParam(50))\n",
    "library(sva)\n",
    "library(limma)\n",
    "library(statmod)"
   ]
  },
  {
   "cell_type": "markdown",
   "metadata": {},
   "source": [
    "## Load data and design"
   ]
  },
  {
   "cell_type": "code",
   "execution_count": 431,
   "metadata": {
    "ExecuteTime": {
     "end_time": "2020-03-20T05:38:40.598089Z",
     "start_time": "2020-03-20T05:38:39.292Z"
    }
   },
   "outputs": [],
   "source": [
    "##load RNA-seq TPM\n",
    "data=read.table('/mnt/lab_data2/annashch/nobel_lab_projects/age_V2/RNA_seq/merged_rsem/age.rna.counts.txt.tpm',header=TRUE,sep='\\t')\n",
    "rownames(data)=paste(data$GeneID,data$GeneName,sep=\"_\")\n",
    "data$GeneID=NULL\n",
    "data$GeneName=NULL"
   ]
  },
  {
   "cell_type": "code",
   "execution_count": 432,
   "metadata": {
    "ExecuteTime": {
     "end_time": "2020-03-20T05:38:40.639200Z",
     "start_time": "2020-03-20T05:38:39.294Z"
    }
   },
   "outputs": [
    {
     "data": {
      "text/html": [
       "<table>\n",
       "<caption>A data.frame: 6 × 46</caption>\n",
       "<thead>\n",
       "\t<tr><th></th><th scope=col>d21_A_Rep1</th><th scope=col>d21_A_Rep2</th><th scope=col>d21_Y_Rep1</th><th scope=col>d21_Y_Rep2</th><th scope=col>d21_Y_Rep3</th><th scope=col>d0_A_Rep1</th><th scope=col>d0_A_Rep2</th><th scope=col>d0_A_Rep3</th><th scope=col>d0_A_Rep4</th><th scope=col>d0_Y_Pax7_Rep1</th><th scope=col>⋯</th><th scope=col>d5_Y_Rep2</th><th scope=col>d5_Y_Rep3</th><th scope=col>d7_A_Rep1</th><th scope=col>d7_A_Rep2</th><th scope=col>d7_A_Rep3</th><th scope=col>d7_A_Rep4</th><th scope=col>d7_Y_Rep1</th><th scope=col>d7_Y_Rep2</th><th scope=col>d7_Y_Rep3</th><th scope=col>d7_Y_Rep4</th></tr>\n",
       "\t<tr><th></th><th scope=col>&lt;dbl&gt;</th><th scope=col>&lt;dbl&gt;</th><th scope=col>&lt;dbl&gt;</th><th scope=col>&lt;dbl&gt;</th><th scope=col>&lt;dbl&gt;</th><th scope=col>&lt;dbl&gt;</th><th scope=col>&lt;dbl&gt;</th><th scope=col>&lt;dbl&gt;</th><th scope=col>&lt;dbl&gt;</th><th scope=col>&lt;dbl&gt;</th><th scope=col>⋯</th><th scope=col>&lt;dbl&gt;</th><th scope=col>&lt;dbl&gt;</th><th scope=col>&lt;dbl&gt;</th><th scope=col>&lt;dbl&gt;</th><th scope=col>&lt;dbl&gt;</th><th scope=col>&lt;dbl&gt;</th><th scope=col>&lt;dbl&gt;</th><th scope=col>&lt;dbl&gt;</th><th scope=col>&lt;dbl&gt;</th><th scope=col>&lt;dbl&gt;</th></tr>\n",
       "</thead>\n",
       "<tbody>\n",
       "\t<tr><th scope=row>ENSID_gene_GeneName</th><td>  0.00</td><td>  0.00</td><td>  0.00</td><td> 0.00</td><td>  0.00</td><td> 0.00</td><td> 0.00</td><td>  0.00</td><td>  0.00</td><td>  0.00</td><td>⋯</td><td>  0.00</td><td>  0.00</td><td>  0.00</td><td>  0.00</td><td>  0.00</td><td>  0.00</td><td>  0.00</td><td>  0.00</td><td>  0.00</td><td>  0.00</td></tr>\n",
       "\t<tr><th scope=row>ENSMUSG00000000001_Gnai3</th><td>153.01</td><td>153.94</td><td>175.62</td><td>68.62</td><td>141.32</td><td>33.66</td><td>32.74</td><td>138.68</td><td>103.55</td><td>162.42</td><td>⋯</td><td>159.77</td><td>121.53</td><td>183.29</td><td>175.34</td><td>156.22</td><td>164.38</td><td>120.19</td><td>132.60</td><td>175.81</td><td>191.01</td></tr>\n",
       "\t<tr><th scope=row>ENSMUSG00000000003_Pbsn</th><td>  0.00</td><td>  0.00</td><td>  0.00</td><td> 0.00</td><td>  0.00</td><td> 0.00</td><td> 0.00</td><td>  0.00</td><td>  0.00</td><td>  0.00</td><td>⋯</td><td>  0.00</td><td>  0.00</td><td>  0.00</td><td>  0.00</td><td>  0.00</td><td>  0.00</td><td>  0.00</td><td>  0.00</td><td>  0.00</td><td>  0.00</td></tr>\n",
       "\t<tr><th scope=row>ENSMUSG00000000028_Cdc45</th><td>  5.29</td><td>  4.60</td><td>  5.39</td><td> 1.43</td><td>  3.90</td><td> 1.90</td><td> 2.33</td><td>  3.65</td><td>  8.25</td><td>  5.82</td><td>⋯</td><td> 26.31</td><td> 28.41</td><td> 22.41</td><td> 23.37</td><td> 21.64</td><td> 14.82</td><td> 31.30</td><td> 12.53</td><td> 36.95</td><td> 31.72</td></tr>\n",
       "\t<tr><th scope=row>ENSMUSG00000000031_H19</th><td>  9.75</td><td> 12.62</td><td>  5.68</td><td> 2.02</td><td>  1.38</td><td> 1.72</td><td> 2.05</td><td>  5.48</td><td>  5.61</td><td> 35.36</td><td>⋯</td><td> 75.14</td><td>161.20</td><td> 58.76</td><td> 66.95</td><td> 42.86</td><td> 35.30</td><td> 71.70</td><td> 34.19</td><td> 25.50</td><td> 45.81</td></tr>\n",
       "\t<tr><th scope=row>ENSMUSG00000000037_Scml2</th><td>  1.46</td><td>  2.56</td><td>  1.23</td><td> 0.01</td><td>  0.63</td><td> 0.39</td><td> 0.20</td><td>  0.82</td><td>  1.77</td><td>  1.54</td><td>⋯</td><td>  2.56</td><td>  2.72</td><td>  2.86</td><td>  2.26</td><td>  4.80</td><td>  4.08</td><td>  1.39</td><td>  1.37</td><td>  3.17</td><td>  0.53</td></tr>\n",
       "</tbody>\n",
       "</table>\n"
      ],
      "text/latex": [
       "A data.frame: 6 × 46\n",
       "\\begin{tabular}{r|llllllllllllllllllllllllllllllllllllllllllllll}\n",
       "  & d21\\_A\\_Rep1 & d21\\_A\\_Rep2 & d21\\_Y\\_Rep1 & d21\\_Y\\_Rep2 & d21\\_Y\\_Rep3 & d0\\_A\\_Rep1 & d0\\_A\\_Rep2 & d0\\_A\\_Rep3 & d0\\_A\\_Rep4 & d0\\_Y\\_Pax7\\_Rep1 & d0\\_Y\\_Pax7\\_Rep2 & d0\\_Y\\_Pax7\\_Rep3 & d0\\_Y\\_Rep1 & d0\\_Y\\_Rep2 & d0\\_Y\\_Rep3 & d0\\_Y\\_Rep4 & d0\\_Y\\_Rep5 & d0\\_Y\\_Rep6 & d1\\_A\\_Rep1 & d1\\_A\\_Rep2 & d1\\_Y\\_Rep1 & d1\\_Y\\_Rep2 & d1\\_Y\\_Rep3 & d1\\_Y\\_Rep4 & d3\\_A\\_Rep1 & d3\\_A\\_Rep2 & d3\\_A\\_Rep3 & d3\\_A\\_Rep4 & d3\\_Y\\_Rep1 & d3\\_Y\\_Rep2 & d3\\_Y\\_Rep3 & d3\\_Y\\_Rep4 & d3\\_Y\\_Rep5 & d5\\_A\\_Rep1 & d5\\_A\\_Rep2 & d5\\_Y\\_Rep1 & d5\\_Y\\_Rep2 & d5\\_Y\\_Rep3 & d7\\_A\\_Rep1 & d7\\_A\\_Rep2 & d7\\_A\\_Rep3 & d7\\_A\\_Rep4 & d7\\_Y\\_Rep1 & d7\\_Y\\_Rep2 & d7\\_Y\\_Rep3 & d7\\_Y\\_Rep4\\\\\n",
       "  & <dbl> & <dbl> & <dbl> & <dbl> & <dbl> & <dbl> & <dbl> & <dbl> & <dbl> & <dbl> & <dbl> & <dbl> & <dbl> & <dbl> & <dbl> & <dbl> & <dbl> & <dbl> & <dbl> & <dbl> & <dbl> & <dbl> & <dbl> & <dbl> & <dbl> & <dbl> & <dbl> & <dbl> & <dbl> & <dbl> & <dbl> & <dbl> & <dbl> & <dbl> & <dbl> & <dbl> & <dbl> & <dbl> & <dbl> & <dbl> & <dbl> & <dbl> & <dbl> & <dbl> & <dbl> & <dbl>\\\\\n",
       "\\hline\n",
       "\tENSID\\_gene\\_GeneName &   0.00 &   0.00 &   0.00 &  0.00 &   0.00 &  0.00 &  0.00 &   0.00 &   0.00 &   0.00 &   0.00 &   0.00 &   0.00 &   0.00 &  0.00 &   0.00 &   0.00 &   0.00 &   0.00 &   0.00 &   0.00 &   0.00 &   0.00 &   0.00 &   0.00 &  0.00 &   0.00 &   0.00 &   0.00 &   0.00 &   0.00 &   0.00 &   0.00 &   0.00 &   0.00 &   0.00 &   0.00 &   0.00 &   0.00 &   0.00 &   0.00 &   0.00 &   0.00 &   0.00 &   0.00 &   0.00\\\\\n",
       "\tENSMUSG00000000001\\_Gnai3 & 153.01 & 153.94 & 175.62 & 68.62 & 141.32 & 33.66 & 32.74 & 138.68 & 103.55 & 162.42 & 146.37 & 119.82 & 109.23 & 157.71 & 63.06 & 102.83 & 231.55 & 174.64 & 149.95 & 155.51 & 137.48 & 138.49 &  95.81 & 130.68 & 115.90 & 77.59 & 149.65 & 159.69 & 133.72 & 134.37 &  80.00 & 145.58 & 151.59 & 153.75 & 150.23 & 160.62 & 159.77 & 121.53 & 183.29 & 175.34 & 156.22 & 164.38 & 120.19 & 132.60 & 175.81 & 191.01\\\\\n",
       "\tENSMUSG00000000003\\_Pbsn &   0.00 &   0.00 &   0.00 &  0.00 &   0.00 &  0.00 &  0.00 &   0.00 &   0.00 &   0.00 &   0.00 &   0.00 &   0.00 &   0.00 &  0.00 &   0.00 &   0.00 &   0.00 &   0.00 &   0.00 &   0.00 &   0.00 &   0.00 &   0.00 &   0.00 &  0.00 &   0.00 &   0.00 &   0.00 &   0.00 &   0.00 &   0.00 &   0.00 &   0.00 &   0.00 &   0.00 &   0.00 &   0.00 &   0.00 &   0.00 &   0.00 &   0.00 &   0.00 &   0.00 &   0.00 &   0.00\\\\\n",
       "\tENSMUSG00000000028\\_Cdc45 &   5.29 &   4.60 &   5.39 &  1.43 &   3.90 &  1.90 &  2.33 &   3.65 &   8.25 &   5.82 &   2.95 &   2.78 &   4.28 &   7.65 &  6.26 &   5.88 &  32.78 &   3.08 &  47.59 &  42.55 &   5.26 &   4.41 &  20.30 &   4.03 &  73.64 & 84.86 &  66.73 &  70.92 &  55.69 &  56.60 &  73.04 &  77.33 &  88.38 &   7.72 &   6.15 &  27.66 &  26.31 &  28.41 &  22.41 &  23.37 &  21.64 &  14.82 &  31.30 &  12.53 &  36.95 &  31.72\\\\\n",
       "\tENSMUSG00000000031\\_H19 &   9.75 &  12.62 &   5.68 &  2.02 &   1.38 &  1.72 &  2.05 &   5.48 &   5.61 &  35.36 &   5.57 &   2.34 &   1.06 &   0.66 &  4.91 &   2.56 &   1.71 &   0.00 &   4.21 &   5.91 &   3.82 &   3.00 & 120.00 &   3.46 &  29.96 & 45.11 &  30.64 &  35.37 &  52.46 &  51.60 & 119.24 &  51.94 &  57.44 &   3.59 &   3.41 &  87.43 &  75.14 & 161.20 &  58.76 &  66.95 &  42.86 &  35.30 &  71.70 &  34.19 &  25.50 &  45.81\\\\\n",
       "\tENSMUSG00000000037\\_Scml2 &   1.46 &   2.56 &   1.23 &  0.01 &   0.63 &  0.39 &  0.20 &   0.82 &   1.77 &   1.54 &   0.77 &   0.40 &   0.25 &   1.02 &  0.50 &   0.53 &   2.38 &   2.13 &   1.99 &   1.49 &   1.29 &   1.35 &   1.39 &   1.40 &   1.49 &  1.59 &   2.84 &   4.20 &   1.93 &   1.53 &   1.25 &   4.89 &   2.47 &   0.08 &   0.21 &   2.63 &   2.56 &   2.72 &   2.86 &   2.26 &   4.80 &   4.08 &   1.39 &   1.37 &   3.17 &   0.53\\\\\n",
       "\\end{tabular}\n"
      ],
      "text/markdown": [
       "\n",
       "A data.frame: 6 × 46\n",
       "\n",
       "| <!--/--> | d21_A_Rep1 &lt;dbl&gt; | d21_A_Rep2 &lt;dbl&gt; | d21_Y_Rep1 &lt;dbl&gt; | d21_Y_Rep2 &lt;dbl&gt; | d21_Y_Rep3 &lt;dbl&gt; | d0_A_Rep1 &lt;dbl&gt; | d0_A_Rep2 &lt;dbl&gt; | d0_A_Rep3 &lt;dbl&gt; | d0_A_Rep4 &lt;dbl&gt; | d0_Y_Pax7_Rep1 &lt;dbl&gt; | ⋯ ⋯ | d5_Y_Rep2 &lt;dbl&gt; | d5_Y_Rep3 &lt;dbl&gt; | d7_A_Rep1 &lt;dbl&gt; | d7_A_Rep2 &lt;dbl&gt; | d7_A_Rep3 &lt;dbl&gt; | d7_A_Rep4 &lt;dbl&gt; | d7_Y_Rep1 &lt;dbl&gt; | d7_Y_Rep2 &lt;dbl&gt; | d7_Y_Rep3 &lt;dbl&gt; | d7_Y_Rep4 &lt;dbl&gt; |\n",
       "|---|---|---|---|---|---|---|---|---|---|---|---|---|---|---|---|---|---|---|---|---|---|\n",
       "| ENSID_gene_GeneName |   0.00 |   0.00 |   0.00 |  0.00 |   0.00 |  0.00 |  0.00 |   0.00 |   0.00 |   0.00 | ⋯ |   0.00 |   0.00 |   0.00 |   0.00 |   0.00 |   0.00 |   0.00 |   0.00 |   0.00 |   0.00 |\n",
       "| ENSMUSG00000000001_Gnai3 | 153.01 | 153.94 | 175.62 | 68.62 | 141.32 | 33.66 | 32.74 | 138.68 | 103.55 | 162.42 | ⋯ | 159.77 | 121.53 | 183.29 | 175.34 | 156.22 | 164.38 | 120.19 | 132.60 | 175.81 | 191.01 |\n",
       "| ENSMUSG00000000003_Pbsn |   0.00 |   0.00 |   0.00 |  0.00 |   0.00 |  0.00 |  0.00 |   0.00 |   0.00 |   0.00 | ⋯ |   0.00 |   0.00 |   0.00 |   0.00 |   0.00 |   0.00 |   0.00 |   0.00 |   0.00 |   0.00 |\n",
       "| ENSMUSG00000000028_Cdc45 |   5.29 |   4.60 |   5.39 |  1.43 |   3.90 |  1.90 |  2.33 |   3.65 |   8.25 |   5.82 | ⋯ |  26.31 |  28.41 |  22.41 |  23.37 |  21.64 |  14.82 |  31.30 |  12.53 |  36.95 |  31.72 |\n",
       "| ENSMUSG00000000031_H19 |   9.75 |  12.62 |   5.68 |  2.02 |   1.38 |  1.72 |  2.05 |   5.48 |   5.61 |  35.36 | ⋯ |  75.14 | 161.20 |  58.76 |  66.95 |  42.86 |  35.30 |  71.70 |  34.19 |  25.50 |  45.81 |\n",
       "| ENSMUSG00000000037_Scml2 |   1.46 |   2.56 |   1.23 |  0.01 |   0.63 |  0.39 |  0.20 |   0.82 |   1.77 |   1.54 | ⋯ |   2.56 |   2.72 |   2.86 |   2.26 |   4.80 |   4.08 |   1.39 |   1.37 |   3.17 |   0.53 |\n",
       "\n"
      ],
      "text/plain": [
       "                         d21_A_Rep1 d21_A_Rep2 d21_Y_Rep1 d21_Y_Rep2 d21_Y_Rep3\n",
       "ENSID_gene_GeneName        0.00       0.00       0.00      0.00        0.00    \n",
       "ENSMUSG00000000001_Gnai3 153.01     153.94     175.62     68.62      141.32    \n",
       "ENSMUSG00000000003_Pbsn    0.00       0.00       0.00      0.00        0.00    \n",
       "ENSMUSG00000000028_Cdc45   5.29       4.60       5.39      1.43        3.90    \n",
       "ENSMUSG00000000031_H19     9.75      12.62       5.68      2.02        1.38    \n",
       "ENSMUSG00000000037_Scml2   1.46       2.56       1.23      0.01        0.63    \n",
       "                         d0_A_Rep1 d0_A_Rep2 d0_A_Rep3 d0_A_Rep4 d0_Y_Pax7_Rep1\n",
       "ENSID_gene_GeneName       0.00      0.00       0.00      0.00      0.00        \n",
       "ENSMUSG00000000001_Gnai3 33.66     32.74     138.68    103.55    162.42        \n",
       "ENSMUSG00000000003_Pbsn   0.00      0.00       0.00      0.00      0.00        \n",
       "ENSMUSG00000000028_Cdc45  1.90      2.33       3.65      8.25      5.82        \n",
       "ENSMUSG00000000031_H19    1.72      2.05       5.48      5.61     35.36        \n",
       "ENSMUSG00000000037_Scml2  0.39      0.20       0.82      1.77      1.54        \n",
       "                         ⋯ d5_Y_Rep2 d5_Y_Rep3 d7_A_Rep1 d7_A_Rep2 d7_A_Rep3\n",
       "ENSID_gene_GeneName      ⋯   0.00      0.00      0.00      0.00      0.00   \n",
       "ENSMUSG00000000001_Gnai3 ⋯ 159.77    121.53    183.29    175.34    156.22   \n",
       "ENSMUSG00000000003_Pbsn  ⋯   0.00      0.00      0.00      0.00      0.00   \n",
       "ENSMUSG00000000028_Cdc45 ⋯  26.31     28.41     22.41     23.37     21.64   \n",
       "ENSMUSG00000000031_H19   ⋯  75.14    161.20     58.76     66.95     42.86   \n",
       "ENSMUSG00000000037_Scml2 ⋯   2.56      2.72      2.86      2.26      4.80   \n",
       "                         d7_A_Rep4 d7_Y_Rep1 d7_Y_Rep2 d7_Y_Rep3 d7_Y_Rep4\n",
       "ENSID_gene_GeneName        0.00      0.00      0.00      0.00      0.00   \n",
       "ENSMUSG00000000001_Gnai3 164.38    120.19    132.60    175.81    191.01   \n",
       "ENSMUSG00000000003_Pbsn    0.00      0.00      0.00      0.00      0.00   \n",
       "ENSMUSG00000000028_Cdc45  14.82     31.30     12.53     36.95     31.72   \n",
       "ENSMUSG00000000031_H19    35.30     71.70     34.19     25.50     45.81   \n",
       "ENSMUSG00000000037_Scml2   4.08      1.39      1.37      3.17      0.53   "
      ]
     },
     "metadata": {},
     "output_type": "display_data"
    }
   ],
   "source": [
    "head(data)"
   ]
  },
  {
   "cell_type": "code",
   "execution_count": 433,
   "metadata": {
    "ExecuteTime": {
     "end_time": "2020-03-20T05:38:40.659939Z",
     "start_time": "2020-03-20T05:38:39.296Z"
    }
   },
   "outputs": [],
   "source": [
    "## subset to good reps\n",
    "good_reps=read.table('/mnt/lab_data2/annashch/nobel_lab_projects/age_V2/RNA_seq/good_reps_counts_batches/good_reps.txt',header=FALSE,stringsAsFactors=FALSE)"
   ]
  },
  {
   "cell_type": "code",
   "execution_count": 434,
   "metadata": {
    "ExecuteTime": {
     "end_time": "2020-03-20T05:38:40.696368Z",
     "start_time": "2020-03-20T05:38:39.298Z"
    }
   },
   "outputs": [
    {
     "data": {
      "text/html": [
       "<ol class=list-inline>\n",
       "\t<li>'d0_A_Rep1'</li>\n",
       "\t<li>'d0_A_Rep2'</li>\n",
       "\t<li>'d0_A_Rep4'</li>\n",
       "\t<li>'d0_Y_Rep2'</li>\n",
       "\t<li>'d0_Y_Rep3'</li>\n",
       "\t<li>'d0_Y_Rep4'</li>\n",
       "\t<li>'d0_Y_Rep5'</li>\n",
       "\t<li>'d0_Y_Rep6'</li>\n",
       "\t<li>'d0_Y_Pax7_Rep1'</li>\n",
       "\t<li>'d1_A_Rep1'</li>\n",
       "\t<li>'d1_A_Rep2'</li>\n",
       "\t<li>'d1_Y_Rep1'</li>\n",
       "\t<li>'d1_Y_Rep2'</li>\n",
       "\t<li>'d1_Y_Rep4'</li>\n",
       "\t<li>'d3_A_Rep1'</li>\n",
       "\t<li>'d3_A_Rep2'</li>\n",
       "\t<li>'d3_A_Rep3'</li>\n",
       "\t<li>'d3_A_Rep4'</li>\n",
       "\t<li>'d3_Y_Rep1'</li>\n",
       "\t<li>'d3_Y_Rep2'</li>\n",
       "\t<li>'d3_Y_Rep3'</li>\n",
       "\t<li>'d5_A_Rep1'</li>\n",
       "\t<li>'d5_A_Rep2'</li>\n",
       "\t<li>'d5_Y_Rep1'</li>\n",
       "\t<li>'d5_Y_Rep2'</li>\n",
       "\t<li>'d5_Y_Rep3'</li>\n",
       "\t<li>'d7_A_Rep1'</li>\n",
       "\t<li>'d7_A_Rep2'</li>\n",
       "\t<li>'d7_A_Rep4'</li>\n",
       "\t<li>'d7_Y_Rep1'</li>\n",
       "\t<li>'d7_Y_Rep2'</li>\n",
       "\t<li>'d7_Y_Rep3'</li>\n",
       "\t<li>'d21_A_Rep1'</li>\n",
       "\t<li>'d21_A_Rep2'</li>\n",
       "\t<li>'d21_Y_Rep2'</li>\n",
       "\t<li>'d21_Y_Rep3'</li>\n",
       "</ol>\n"
      ],
      "text/latex": [
       "\\begin{enumerate*}\n",
       "\\item 'd0\\_A\\_Rep1'\n",
       "\\item 'd0\\_A\\_Rep2'\n",
       "\\item 'd0\\_A\\_Rep4'\n",
       "\\item 'd0\\_Y\\_Rep2'\n",
       "\\item 'd0\\_Y\\_Rep3'\n",
       "\\item 'd0\\_Y\\_Rep4'\n",
       "\\item 'd0\\_Y\\_Rep5'\n",
       "\\item 'd0\\_Y\\_Rep6'\n",
       "\\item 'd0\\_Y\\_Pax7\\_Rep1'\n",
       "\\item 'd1\\_A\\_Rep1'\n",
       "\\item 'd1\\_A\\_Rep2'\n",
       "\\item 'd1\\_Y\\_Rep1'\n",
       "\\item 'd1\\_Y\\_Rep2'\n",
       "\\item 'd1\\_Y\\_Rep4'\n",
       "\\item 'd3\\_A\\_Rep1'\n",
       "\\item 'd3\\_A\\_Rep2'\n",
       "\\item 'd3\\_A\\_Rep3'\n",
       "\\item 'd3\\_A\\_Rep4'\n",
       "\\item 'd3\\_Y\\_Rep1'\n",
       "\\item 'd3\\_Y\\_Rep2'\n",
       "\\item 'd3\\_Y\\_Rep3'\n",
       "\\item 'd5\\_A\\_Rep1'\n",
       "\\item 'd5\\_A\\_Rep2'\n",
       "\\item 'd5\\_Y\\_Rep1'\n",
       "\\item 'd5\\_Y\\_Rep2'\n",
       "\\item 'd5\\_Y\\_Rep3'\n",
       "\\item 'd7\\_A\\_Rep1'\n",
       "\\item 'd7\\_A\\_Rep2'\n",
       "\\item 'd7\\_A\\_Rep4'\n",
       "\\item 'd7\\_Y\\_Rep1'\n",
       "\\item 'd7\\_Y\\_Rep2'\n",
       "\\item 'd7\\_Y\\_Rep3'\n",
       "\\item 'd21\\_A\\_Rep1'\n",
       "\\item 'd21\\_A\\_Rep2'\n",
       "\\item 'd21\\_Y\\_Rep2'\n",
       "\\item 'd21\\_Y\\_Rep3'\n",
       "\\end{enumerate*}\n"
      ],
      "text/markdown": [
       "1. 'd0_A_Rep1'\n",
       "2. 'd0_A_Rep2'\n",
       "3. 'd0_A_Rep4'\n",
       "4. 'd0_Y_Rep2'\n",
       "5. 'd0_Y_Rep3'\n",
       "6. 'd0_Y_Rep4'\n",
       "7. 'd0_Y_Rep5'\n",
       "8. 'd0_Y_Rep6'\n",
       "9. 'd0_Y_Pax7_Rep1'\n",
       "10. 'd1_A_Rep1'\n",
       "11. 'd1_A_Rep2'\n",
       "12. 'd1_Y_Rep1'\n",
       "13. 'd1_Y_Rep2'\n",
       "14. 'd1_Y_Rep4'\n",
       "15. 'd3_A_Rep1'\n",
       "16. 'd3_A_Rep2'\n",
       "17. 'd3_A_Rep3'\n",
       "18. 'd3_A_Rep4'\n",
       "19. 'd3_Y_Rep1'\n",
       "20. 'd3_Y_Rep2'\n",
       "21. 'd3_Y_Rep3'\n",
       "22. 'd5_A_Rep1'\n",
       "23. 'd5_A_Rep2'\n",
       "24. 'd5_Y_Rep1'\n",
       "25. 'd5_Y_Rep2'\n",
       "26. 'd5_Y_Rep3'\n",
       "27. 'd7_A_Rep1'\n",
       "28. 'd7_A_Rep2'\n",
       "29. 'd7_A_Rep4'\n",
       "30. 'd7_Y_Rep1'\n",
       "31. 'd7_Y_Rep2'\n",
       "32. 'd7_Y_Rep3'\n",
       "33. 'd21_A_Rep1'\n",
       "34. 'd21_A_Rep2'\n",
       "35. 'd21_Y_Rep2'\n",
       "36. 'd21_Y_Rep3'\n",
       "\n",
       "\n"
      ],
      "text/plain": [
       " [1] \"d0_A_Rep1\"      \"d0_A_Rep2\"      \"d0_A_Rep4\"      \"d0_Y_Rep2\"     \n",
       " [5] \"d0_Y_Rep3\"      \"d0_Y_Rep4\"      \"d0_Y_Rep5\"      \"d0_Y_Rep6\"     \n",
       " [9] \"d0_Y_Pax7_Rep1\" \"d1_A_Rep1\"      \"d1_A_Rep2\"      \"d1_Y_Rep1\"     \n",
       "[13] \"d1_Y_Rep2\"      \"d1_Y_Rep4\"      \"d3_A_Rep1\"      \"d3_A_Rep2\"     \n",
       "[17] \"d3_A_Rep3\"      \"d3_A_Rep4\"      \"d3_Y_Rep1\"      \"d3_Y_Rep2\"     \n",
       "[21] \"d3_Y_Rep3\"      \"d5_A_Rep1\"      \"d5_A_Rep2\"      \"d5_Y_Rep1\"     \n",
       "[25] \"d5_Y_Rep2\"      \"d5_Y_Rep3\"      \"d7_A_Rep1\"      \"d7_A_Rep2\"     \n",
       "[29] \"d7_A_Rep4\"      \"d7_Y_Rep1\"      \"d7_Y_Rep2\"      \"d7_Y_Rep3\"     \n",
       "[33] \"d21_A_Rep1\"     \"d21_A_Rep2\"     \"d21_Y_Rep2\"     \"d21_Y_Rep3\"    "
      ]
     },
     "metadata": {},
     "output_type": "display_data"
    }
   ],
   "source": [
    "good_reps$V1"
   ]
  },
  {
   "cell_type": "code",
   "execution_count": 435,
   "metadata": {
    "ExecuteTime": {
     "end_time": "2020-03-20T05:38:40.701959Z",
     "start_time": "2020-03-20T05:38:39.299Z"
    }
   },
   "outputs": [],
   "source": [
    "#let's exclude pax7 sample from analysis \n",
    "good_reps=good_reps[!good_reps$V1==\"d0_Y_Pax7_Rep1\",]\n"
   ]
  },
  {
   "cell_type": "code",
   "execution_count": 436,
   "metadata": {
    "ExecuteTime": {
     "end_time": "2020-03-20T05:38:40.718559Z",
     "start_time": "2020-03-20T05:38:39.301Z"
    }
   },
   "outputs": [
    {
     "data": {
      "text/html": [
       "<ol class=list-inline>\n",
       "\t<li>'d0_A_Rep1'</li>\n",
       "\t<li>'d0_A_Rep2'</li>\n",
       "\t<li>'d0_A_Rep4'</li>\n",
       "\t<li>'d0_Y_Rep2'</li>\n",
       "\t<li>'d0_Y_Rep3'</li>\n",
       "\t<li>'d0_Y_Rep4'</li>\n",
       "\t<li>'d0_Y_Rep5'</li>\n",
       "\t<li>'d0_Y_Rep6'</li>\n",
       "\t<li>'d1_A_Rep1'</li>\n",
       "\t<li>'d1_A_Rep2'</li>\n",
       "\t<li>'d1_Y_Rep1'</li>\n",
       "\t<li>'d1_Y_Rep2'</li>\n",
       "\t<li>'d1_Y_Rep4'</li>\n",
       "\t<li>'d3_A_Rep1'</li>\n",
       "\t<li>'d3_A_Rep2'</li>\n",
       "\t<li>'d3_A_Rep3'</li>\n",
       "\t<li>'d3_A_Rep4'</li>\n",
       "\t<li>'d3_Y_Rep1'</li>\n",
       "\t<li>'d3_Y_Rep2'</li>\n",
       "\t<li>'d3_Y_Rep3'</li>\n",
       "\t<li>'d5_A_Rep1'</li>\n",
       "\t<li>'d5_A_Rep2'</li>\n",
       "\t<li>'d5_Y_Rep1'</li>\n",
       "\t<li>'d5_Y_Rep2'</li>\n",
       "\t<li>'d5_Y_Rep3'</li>\n",
       "\t<li>'d7_A_Rep1'</li>\n",
       "\t<li>'d7_A_Rep2'</li>\n",
       "\t<li>'d7_A_Rep4'</li>\n",
       "\t<li>'d7_Y_Rep1'</li>\n",
       "\t<li>'d7_Y_Rep2'</li>\n",
       "\t<li>'d7_Y_Rep3'</li>\n",
       "\t<li>'d21_A_Rep1'</li>\n",
       "\t<li>'d21_A_Rep2'</li>\n",
       "\t<li>'d21_Y_Rep2'</li>\n",
       "\t<li>'d21_Y_Rep3'</li>\n",
       "</ol>\n"
      ],
      "text/latex": [
       "\\begin{enumerate*}\n",
       "\\item 'd0\\_A\\_Rep1'\n",
       "\\item 'd0\\_A\\_Rep2'\n",
       "\\item 'd0\\_A\\_Rep4'\n",
       "\\item 'd0\\_Y\\_Rep2'\n",
       "\\item 'd0\\_Y\\_Rep3'\n",
       "\\item 'd0\\_Y\\_Rep4'\n",
       "\\item 'd0\\_Y\\_Rep5'\n",
       "\\item 'd0\\_Y\\_Rep6'\n",
       "\\item 'd1\\_A\\_Rep1'\n",
       "\\item 'd1\\_A\\_Rep2'\n",
       "\\item 'd1\\_Y\\_Rep1'\n",
       "\\item 'd1\\_Y\\_Rep2'\n",
       "\\item 'd1\\_Y\\_Rep4'\n",
       "\\item 'd3\\_A\\_Rep1'\n",
       "\\item 'd3\\_A\\_Rep2'\n",
       "\\item 'd3\\_A\\_Rep3'\n",
       "\\item 'd3\\_A\\_Rep4'\n",
       "\\item 'd3\\_Y\\_Rep1'\n",
       "\\item 'd3\\_Y\\_Rep2'\n",
       "\\item 'd3\\_Y\\_Rep3'\n",
       "\\item 'd5\\_A\\_Rep1'\n",
       "\\item 'd5\\_A\\_Rep2'\n",
       "\\item 'd5\\_Y\\_Rep1'\n",
       "\\item 'd5\\_Y\\_Rep2'\n",
       "\\item 'd5\\_Y\\_Rep3'\n",
       "\\item 'd7\\_A\\_Rep1'\n",
       "\\item 'd7\\_A\\_Rep2'\n",
       "\\item 'd7\\_A\\_Rep4'\n",
       "\\item 'd7\\_Y\\_Rep1'\n",
       "\\item 'd7\\_Y\\_Rep2'\n",
       "\\item 'd7\\_Y\\_Rep3'\n",
       "\\item 'd21\\_A\\_Rep1'\n",
       "\\item 'd21\\_A\\_Rep2'\n",
       "\\item 'd21\\_Y\\_Rep2'\n",
       "\\item 'd21\\_Y\\_Rep3'\n",
       "\\end{enumerate*}\n"
      ],
      "text/markdown": [
       "1. 'd0_A_Rep1'\n",
       "2. 'd0_A_Rep2'\n",
       "3. 'd0_A_Rep4'\n",
       "4. 'd0_Y_Rep2'\n",
       "5. 'd0_Y_Rep3'\n",
       "6. 'd0_Y_Rep4'\n",
       "7. 'd0_Y_Rep5'\n",
       "8. 'd0_Y_Rep6'\n",
       "9. 'd1_A_Rep1'\n",
       "10. 'd1_A_Rep2'\n",
       "11. 'd1_Y_Rep1'\n",
       "12. 'd1_Y_Rep2'\n",
       "13. 'd1_Y_Rep4'\n",
       "14. 'd3_A_Rep1'\n",
       "15. 'd3_A_Rep2'\n",
       "16. 'd3_A_Rep3'\n",
       "17. 'd3_A_Rep4'\n",
       "18. 'd3_Y_Rep1'\n",
       "19. 'd3_Y_Rep2'\n",
       "20. 'd3_Y_Rep3'\n",
       "21. 'd5_A_Rep1'\n",
       "22. 'd5_A_Rep2'\n",
       "23. 'd5_Y_Rep1'\n",
       "24. 'd5_Y_Rep2'\n",
       "25. 'd5_Y_Rep3'\n",
       "26. 'd7_A_Rep1'\n",
       "27. 'd7_A_Rep2'\n",
       "28. 'd7_A_Rep4'\n",
       "29. 'd7_Y_Rep1'\n",
       "30. 'd7_Y_Rep2'\n",
       "31. 'd7_Y_Rep3'\n",
       "32. 'd21_A_Rep1'\n",
       "33. 'd21_A_Rep2'\n",
       "34. 'd21_Y_Rep2'\n",
       "35. 'd21_Y_Rep3'\n",
       "\n",
       "\n"
      ],
      "text/plain": [
       " [1] \"d0_A_Rep1\"  \"d0_A_Rep2\"  \"d0_A_Rep4\"  \"d0_Y_Rep2\"  \"d0_Y_Rep3\" \n",
       " [6] \"d0_Y_Rep4\"  \"d0_Y_Rep5\"  \"d0_Y_Rep6\"  \"d1_A_Rep1\"  \"d1_A_Rep2\" \n",
       "[11] \"d1_Y_Rep1\"  \"d1_Y_Rep2\"  \"d1_Y_Rep4\"  \"d3_A_Rep1\"  \"d3_A_Rep2\" \n",
       "[16] \"d3_A_Rep3\"  \"d3_A_Rep4\"  \"d3_Y_Rep1\"  \"d3_Y_Rep2\"  \"d3_Y_Rep3\" \n",
       "[21] \"d5_A_Rep1\"  \"d5_A_Rep2\"  \"d5_Y_Rep1\"  \"d5_Y_Rep2\"  \"d5_Y_Rep3\" \n",
       "[26] \"d7_A_Rep1\"  \"d7_A_Rep2\"  \"d7_A_Rep4\"  \"d7_Y_Rep1\"  \"d7_Y_Rep2\" \n",
       "[31] \"d7_Y_Rep3\"  \"d21_A_Rep1\" \"d21_A_Rep2\" \"d21_Y_Rep2\" \"d21_Y_Rep3\""
      ]
     },
     "metadata": {},
     "output_type": "display_data"
    }
   ],
   "source": [
    "good_reps"
   ]
  },
  {
   "cell_type": "code",
   "execution_count": 437,
   "metadata": {
    "ExecuteTime": {
     "end_time": "2020-03-20T05:38:40.781124Z",
     "start_time": "2020-03-20T05:38:39.303Z"
    }
   },
   "outputs": [],
   "source": [
    "data_good_reps=subset(data,select=good_reps)"
   ]
  },
  {
   "cell_type": "code",
   "execution_count": 438,
   "metadata": {
    "ExecuteTime": {
     "end_time": "2020-03-20T05:38:42.487150Z",
     "start_time": "2020-03-20T05:38:39.306Z"
    }
   },
   "outputs": [],
   "source": [
    "write.table(data_good_reps,file=\"age.rna.counts.goodreps.tpm\",sep='\\t')"
   ]
  },
  {
   "cell_type": "code",
   "execution_count": 439,
   "metadata": {
    "ExecuteTime": {
     "end_time": "2020-03-20T05:38:42.515348Z",
     "start_time": "2020-03-20T05:38:39.308Z"
    }
   },
   "outputs": [
    {
     "data": {
      "text/html": [
       "<ol class=list-inline>\n",
       "\t<li>'d21_A_Rep1'</li>\n",
       "\t<li>'d21_A_Rep2'</li>\n",
       "\t<li>'d21_Y_Rep1'</li>\n",
       "\t<li>'d21_Y_Rep2'</li>\n",
       "\t<li>'d21_Y_Rep3'</li>\n",
       "\t<li>'d0_A_Rep1'</li>\n",
       "\t<li>'d0_A_Rep2'</li>\n",
       "\t<li>'d0_A_Rep3'</li>\n",
       "\t<li>'d0_A_Rep4'</li>\n",
       "\t<li>'d0_Y_Pax7_Rep1'</li>\n",
       "\t<li>'d0_Y_Pax7_Rep2'</li>\n",
       "\t<li>'d0_Y_Pax7_Rep3'</li>\n",
       "\t<li>'d0_Y_Rep1'</li>\n",
       "\t<li>'d0_Y_Rep2'</li>\n",
       "\t<li>'d0_Y_Rep3'</li>\n",
       "\t<li>'d0_Y_Rep4'</li>\n",
       "\t<li>'d0_Y_Rep5'</li>\n",
       "\t<li>'d0_Y_Rep6'</li>\n",
       "\t<li>'d1_A_Rep1'</li>\n",
       "\t<li>'d1_A_Rep2'</li>\n",
       "\t<li>'d1_Y_Rep1'</li>\n",
       "\t<li>'d1_Y_Rep2'</li>\n",
       "\t<li>'d1_Y_Rep3'</li>\n",
       "\t<li>'d1_Y_Rep4'</li>\n",
       "\t<li>'d3_A_Rep1'</li>\n",
       "\t<li>'d3_A_Rep2'</li>\n",
       "\t<li>'d3_A_Rep3'</li>\n",
       "\t<li>'d3_A_Rep4'</li>\n",
       "\t<li>'d3_Y_Rep1'</li>\n",
       "\t<li>'d3_Y_Rep2'</li>\n",
       "\t<li>'d3_Y_Rep3'</li>\n",
       "\t<li>'d3_Y_Rep4'</li>\n",
       "\t<li>'d3_Y_Rep5'</li>\n",
       "\t<li>'d5_A_Rep1'</li>\n",
       "\t<li>'d5_A_Rep2'</li>\n",
       "\t<li>'d5_Y_Rep1'</li>\n",
       "\t<li>'d5_Y_Rep2'</li>\n",
       "\t<li>'d5_Y_Rep3'</li>\n",
       "\t<li>'d7_A_Rep1'</li>\n",
       "\t<li>'d7_A_Rep2'</li>\n",
       "\t<li>'d7_A_Rep3'</li>\n",
       "\t<li>'d7_A_Rep4'</li>\n",
       "\t<li>'d7_Y_Rep1'</li>\n",
       "\t<li>'d7_Y_Rep2'</li>\n",
       "\t<li>'d7_Y_Rep3'</li>\n",
       "\t<li>'d7_Y_Rep4'</li>\n",
       "</ol>\n"
      ],
      "text/latex": [
       "\\begin{enumerate*}\n",
       "\\item 'd21\\_A\\_Rep1'\n",
       "\\item 'd21\\_A\\_Rep2'\n",
       "\\item 'd21\\_Y\\_Rep1'\n",
       "\\item 'd21\\_Y\\_Rep2'\n",
       "\\item 'd21\\_Y\\_Rep3'\n",
       "\\item 'd0\\_A\\_Rep1'\n",
       "\\item 'd0\\_A\\_Rep2'\n",
       "\\item 'd0\\_A\\_Rep3'\n",
       "\\item 'd0\\_A\\_Rep4'\n",
       "\\item 'd0\\_Y\\_Pax7\\_Rep1'\n",
       "\\item 'd0\\_Y\\_Pax7\\_Rep2'\n",
       "\\item 'd0\\_Y\\_Pax7\\_Rep3'\n",
       "\\item 'd0\\_Y\\_Rep1'\n",
       "\\item 'd0\\_Y\\_Rep2'\n",
       "\\item 'd0\\_Y\\_Rep3'\n",
       "\\item 'd0\\_Y\\_Rep4'\n",
       "\\item 'd0\\_Y\\_Rep5'\n",
       "\\item 'd0\\_Y\\_Rep6'\n",
       "\\item 'd1\\_A\\_Rep1'\n",
       "\\item 'd1\\_A\\_Rep2'\n",
       "\\item 'd1\\_Y\\_Rep1'\n",
       "\\item 'd1\\_Y\\_Rep2'\n",
       "\\item 'd1\\_Y\\_Rep3'\n",
       "\\item 'd1\\_Y\\_Rep4'\n",
       "\\item 'd3\\_A\\_Rep1'\n",
       "\\item 'd3\\_A\\_Rep2'\n",
       "\\item 'd3\\_A\\_Rep3'\n",
       "\\item 'd3\\_A\\_Rep4'\n",
       "\\item 'd3\\_Y\\_Rep1'\n",
       "\\item 'd3\\_Y\\_Rep2'\n",
       "\\item 'd3\\_Y\\_Rep3'\n",
       "\\item 'd3\\_Y\\_Rep4'\n",
       "\\item 'd3\\_Y\\_Rep5'\n",
       "\\item 'd5\\_A\\_Rep1'\n",
       "\\item 'd5\\_A\\_Rep2'\n",
       "\\item 'd5\\_Y\\_Rep1'\n",
       "\\item 'd5\\_Y\\_Rep2'\n",
       "\\item 'd5\\_Y\\_Rep3'\n",
       "\\item 'd7\\_A\\_Rep1'\n",
       "\\item 'd7\\_A\\_Rep2'\n",
       "\\item 'd7\\_A\\_Rep3'\n",
       "\\item 'd7\\_A\\_Rep4'\n",
       "\\item 'd7\\_Y\\_Rep1'\n",
       "\\item 'd7\\_Y\\_Rep2'\n",
       "\\item 'd7\\_Y\\_Rep3'\n",
       "\\item 'd7\\_Y\\_Rep4'\n",
       "\\end{enumerate*}\n"
      ],
      "text/markdown": [
       "1. 'd21_A_Rep1'\n",
       "2. 'd21_A_Rep2'\n",
       "3. 'd21_Y_Rep1'\n",
       "4. 'd21_Y_Rep2'\n",
       "5. 'd21_Y_Rep3'\n",
       "6. 'd0_A_Rep1'\n",
       "7. 'd0_A_Rep2'\n",
       "8. 'd0_A_Rep3'\n",
       "9. 'd0_A_Rep4'\n",
       "10. 'd0_Y_Pax7_Rep1'\n",
       "11. 'd0_Y_Pax7_Rep2'\n",
       "12. 'd0_Y_Pax7_Rep3'\n",
       "13. 'd0_Y_Rep1'\n",
       "14. 'd0_Y_Rep2'\n",
       "15. 'd0_Y_Rep3'\n",
       "16. 'd0_Y_Rep4'\n",
       "17. 'd0_Y_Rep5'\n",
       "18. 'd0_Y_Rep6'\n",
       "19. 'd1_A_Rep1'\n",
       "20. 'd1_A_Rep2'\n",
       "21. 'd1_Y_Rep1'\n",
       "22. 'd1_Y_Rep2'\n",
       "23. 'd1_Y_Rep3'\n",
       "24. 'd1_Y_Rep4'\n",
       "25. 'd3_A_Rep1'\n",
       "26. 'd3_A_Rep2'\n",
       "27. 'd3_A_Rep3'\n",
       "28. 'd3_A_Rep4'\n",
       "29. 'd3_Y_Rep1'\n",
       "30. 'd3_Y_Rep2'\n",
       "31. 'd3_Y_Rep3'\n",
       "32. 'd3_Y_Rep4'\n",
       "33. 'd3_Y_Rep5'\n",
       "34. 'd5_A_Rep1'\n",
       "35. 'd5_A_Rep2'\n",
       "36. 'd5_Y_Rep1'\n",
       "37. 'd5_Y_Rep2'\n",
       "38. 'd5_Y_Rep3'\n",
       "39. 'd7_A_Rep1'\n",
       "40. 'd7_A_Rep2'\n",
       "41. 'd7_A_Rep3'\n",
       "42. 'd7_A_Rep4'\n",
       "43. 'd7_Y_Rep1'\n",
       "44. 'd7_Y_Rep2'\n",
       "45. 'd7_Y_Rep3'\n",
       "46. 'd7_Y_Rep4'\n",
       "\n",
       "\n"
      ],
      "text/plain": [
       " [1] \"d21_A_Rep1\"     \"d21_A_Rep2\"     \"d21_Y_Rep1\"     \"d21_Y_Rep2\"    \n",
       " [5] \"d21_Y_Rep3\"     \"d0_A_Rep1\"      \"d0_A_Rep2\"      \"d0_A_Rep3\"     \n",
       " [9] \"d0_A_Rep4\"      \"d0_Y_Pax7_Rep1\" \"d0_Y_Pax7_Rep2\" \"d0_Y_Pax7_Rep3\"\n",
       "[13] \"d0_Y_Rep1\"      \"d0_Y_Rep2\"      \"d0_Y_Rep3\"      \"d0_Y_Rep4\"     \n",
       "[17] \"d0_Y_Rep5\"      \"d0_Y_Rep6\"      \"d1_A_Rep1\"      \"d1_A_Rep2\"     \n",
       "[21] \"d1_Y_Rep1\"      \"d1_Y_Rep2\"      \"d1_Y_Rep3\"      \"d1_Y_Rep4\"     \n",
       "[25] \"d3_A_Rep1\"      \"d3_A_Rep2\"      \"d3_A_Rep3\"      \"d3_A_Rep4\"     \n",
       "[29] \"d3_Y_Rep1\"      \"d3_Y_Rep2\"      \"d3_Y_Rep3\"      \"d3_Y_Rep4\"     \n",
       "[33] \"d3_Y_Rep5\"      \"d5_A_Rep1\"      \"d5_A_Rep2\"      \"d5_Y_Rep1\"     \n",
       "[37] \"d5_Y_Rep2\"      \"d5_Y_Rep3\"      \"d7_A_Rep1\"      \"d7_A_Rep2\"     \n",
       "[41] \"d7_A_Rep3\"      \"d7_A_Rep4\"      \"d7_Y_Rep1\"      \"d7_Y_Rep2\"     \n",
       "[45] \"d7_Y_Rep3\"      \"d7_Y_Rep4\"     "
      ]
     },
     "metadata": {},
     "output_type": "display_data"
    }
   ],
   "source": [
    "colnames(data)"
   ]
  },
  {
   "cell_type": "code",
   "execution_count": 440,
   "metadata": {
    "ExecuteTime": {
     "end_time": "2020-03-20T05:38:42.533914Z",
     "start_time": "2020-03-20T05:38:39.311Z"
    }
   },
   "outputs": [
    {
     "data": {
      "text/html": [
       "<ol class=list-inline>\n",
       "\t<li>'d0_A_Rep1'</li>\n",
       "\t<li>'d0_A_Rep2'</li>\n",
       "\t<li>'d0_A_Rep4'</li>\n",
       "\t<li>'d0_Y_Rep2'</li>\n",
       "\t<li>'d0_Y_Rep3'</li>\n",
       "\t<li>'d0_Y_Rep4'</li>\n",
       "\t<li>'d0_Y_Rep5'</li>\n",
       "\t<li>'d0_Y_Rep6'</li>\n",
       "\t<li>'d1_A_Rep1'</li>\n",
       "\t<li>'d1_A_Rep2'</li>\n",
       "\t<li>'d1_Y_Rep1'</li>\n",
       "\t<li>'d1_Y_Rep2'</li>\n",
       "\t<li>'d1_Y_Rep4'</li>\n",
       "\t<li>'d3_A_Rep1'</li>\n",
       "\t<li>'d3_A_Rep2'</li>\n",
       "\t<li>'d3_A_Rep3'</li>\n",
       "\t<li>'d3_A_Rep4'</li>\n",
       "\t<li>'d3_Y_Rep1'</li>\n",
       "\t<li>'d3_Y_Rep2'</li>\n",
       "\t<li>'d3_Y_Rep3'</li>\n",
       "\t<li>'d5_A_Rep1'</li>\n",
       "\t<li>'d5_A_Rep2'</li>\n",
       "\t<li>'d5_Y_Rep1'</li>\n",
       "\t<li>'d5_Y_Rep2'</li>\n",
       "\t<li>'d5_Y_Rep3'</li>\n",
       "\t<li>'d7_A_Rep1'</li>\n",
       "\t<li>'d7_A_Rep2'</li>\n",
       "\t<li>'d7_A_Rep4'</li>\n",
       "\t<li>'d7_Y_Rep1'</li>\n",
       "\t<li>'d7_Y_Rep2'</li>\n",
       "\t<li>'d7_Y_Rep3'</li>\n",
       "\t<li>'d21_A_Rep1'</li>\n",
       "\t<li>'d21_A_Rep2'</li>\n",
       "\t<li>'d21_Y_Rep2'</li>\n",
       "\t<li>'d21_Y_Rep3'</li>\n",
       "</ol>\n"
      ],
      "text/latex": [
       "\\begin{enumerate*}\n",
       "\\item 'd0\\_A\\_Rep1'\n",
       "\\item 'd0\\_A\\_Rep2'\n",
       "\\item 'd0\\_A\\_Rep4'\n",
       "\\item 'd0\\_Y\\_Rep2'\n",
       "\\item 'd0\\_Y\\_Rep3'\n",
       "\\item 'd0\\_Y\\_Rep4'\n",
       "\\item 'd0\\_Y\\_Rep5'\n",
       "\\item 'd0\\_Y\\_Rep6'\n",
       "\\item 'd1\\_A\\_Rep1'\n",
       "\\item 'd1\\_A\\_Rep2'\n",
       "\\item 'd1\\_Y\\_Rep1'\n",
       "\\item 'd1\\_Y\\_Rep2'\n",
       "\\item 'd1\\_Y\\_Rep4'\n",
       "\\item 'd3\\_A\\_Rep1'\n",
       "\\item 'd3\\_A\\_Rep2'\n",
       "\\item 'd3\\_A\\_Rep3'\n",
       "\\item 'd3\\_A\\_Rep4'\n",
       "\\item 'd3\\_Y\\_Rep1'\n",
       "\\item 'd3\\_Y\\_Rep2'\n",
       "\\item 'd3\\_Y\\_Rep3'\n",
       "\\item 'd5\\_A\\_Rep1'\n",
       "\\item 'd5\\_A\\_Rep2'\n",
       "\\item 'd5\\_Y\\_Rep1'\n",
       "\\item 'd5\\_Y\\_Rep2'\n",
       "\\item 'd5\\_Y\\_Rep3'\n",
       "\\item 'd7\\_A\\_Rep1'\n",
       "\\item 'd7\\_A\\_Rep2'\n",
       "\\item 'd7\\_A\\_Rep4'\n",
       "\\item 'd7\\_Y\\_Rep1'\n",
       "\\item 'd7\\_Y\\_Rep2'\n",
       "\\item 'd7\\_Y\\_Rep3'\n",
       "\\item 'd21\\_A\\_Rep1'\n",
       "\\item 'd21\\_A\\_Rep2'\n",
       "\\item 'd21\\_Y\\_Rep2'\n",
       "\\item 'd21\\_Y\\_Rep3'\n",
       "\\end{enumerate*}\n"
      ],
      "text/markdown": [
       "1. 'd0_A_Rep1'\n",
       "2. 'd0_A_Rep2'\n",
       "3. 'd0_A_Rep4'\n",
       "4. 'd0_Y_Rep2'\n",
       "5. 'd0_Y_Rep3'\n",
       "6. 'd0_Y_Rep4'\n",
       "7. 'd0_Y_Rep5'\n",
       "8. 'd0_Y_Rep6'\n",
       "9. 'd1_A_Rep1'\n",
       "10. 'd1_A_Rep2'\n",
       "11. 'd1_Y_Rep1'\n",
       "12. 'd1_Y_Rep2'\n",
       "13. 'd1_Y_Rep4'\n",
       "14. 'd3_A_Rep1'\n",
       "15. 'd3_A_Rep2'\n",
       "16. 'd3_A_Rep3'\n",
       "17. 'd3_A_Rep4'\n",
       "18. 'd3_Y_Rep1'\n",
       "19. 'd3_Y_Rep2'\n",
       "20. 'd3_Y_Rep3'\n",
       "21. 'd5_A_Rep1'\n",
       "22. 'd5_A_Rep2'\n",
       "23. 'd5_Y_Rep1'\n",
       "24. 'd5_Y_Rep2'\n",
       "25. 'd5_Y_Rep3'\n",
       "26. 'd7_A_Rep1'\n",
       "27. 'd7_A_Rep2'\n",
       "28. 'd7_A_Rep4'\n",
       "29. 'd7_Y_Rep1'\n",
       "30. 'd7_Y_Rep2'\n",
       "31. 'd7_Y_Rep3'\n",
       "32. 'd21_A_Rep1'\n",
       "33. 'd21_A_Rep2'\n",
       "34. 'd21_Y_Rep2'\n",
       "35. 'd21_Y_Rep3'\n",
       "\n",
       "\n"
      ],
      "text/plain": [
       " [1] \"d0_A_Rep1\"  \"d0_A_Rep2\"  \"d0_A_Rep4\"  \"d0_Y_Rep2\"  \"d0_Y_Rep3\" \n",
       " [6] \"d0_Y_Rep4\"  \"d0_Y_Rep5\"  \"d0_Y_Rep6\"  \"d1_A_Rep1\"  \"d1_A_Rep2\" \n",
       "[11] \"d1_Y_Rep1\"  \"d1_Y_Rep2\"  \"d1_Y_Rep4\"  \"d3_A_Rep1\"  \"d3_A_Rep2\" \n",
       "[16] \"d3_A_Rep3\"  \"d3_A_Rep4\"  \"d3_Y_Rep1\"  \"d3_Y_Rep2\"  \"d3_Y_Rep3\" \n",
       "[21] \"d5_A_Rep1\"  \"d5_A_Rep2\"  \"d5_Y_Rep1\"  \"d5_Y_Rep2\"  \"d5_Y_Rep3\" \n",
       "[26] \"d7_A_Rep1\"  \"d7_A_Rep2\"  \"d7_A_Rep4\"  \"d7_Y_Rep1\"  \"d7_Y_Rep2\" \n",
       "[31] \"d7_Y_Rep3\"  \"d21_A_Rep1\" \"d21_A_Rep2\" \"d21_Y_Rep2\" \"d21_Y_Rep3\""
      ]
     },
     "metadata": {},
     "output_type": "display_data"
    }
   ],
   "source": [
    "colnames(data_good_reps)"
   ]
  },
  {
   "cell_type": "code",
   "execution_count": 441,
   "metadata": {
    "ExecuteTime": {
     "end_time": "2020-03-20T05:38:42.577427Z",
     "start_time": "2020-03-20T05:38:39.314Z"
    }
   },
   "outputs": [
    {
     "data": {
      "text/html": [
       "<table>\n",
       "<caption>A data.frame: 6 × 35</caption>\n",
       "<thead>\n",
       "\t<tr><th></th><th scope=col>d0_A_Rep1</th><th scope=col>d0_A_Rep2</th><th scope=col>d0_A_Rep4</th><th scope=col>d0_Y_Rep2</th><th scope=col>d0_Y_Rep3</th><th scope=col>d0_Y_Rep4</th><th scope=col>d0_Y_Rep5</th><th scope=col>d0_Y_Rep6</th><th scope=col>d1_A_Rep1</th><th scope=col>d1_A_Rep2</th><th scope=col>⋯</th><th scope=col>d7_A_Rep1</th><th scope=col>d7_A_Rep2</th><th scope=col>d7_A_Rep4</th><th scope=col>d7_Y_Rep1</th><th scope=col>d7_Y_Rep2</th><th scope=col>d7_Y_Rep3</th><th scope=col>d21_A_Rep1</th><th scope=col>d21_A_Rep2</th><th scope=col>d21_Y_Rep2</th><th scope=col>d21_Y_Rep3</th></tr>\n",
       "\t<tr><th></th><th scope=col>&lt;dbl&gt;</th><th scope=col>&lt;dbl&gt;</th><th scope=col>&lt;dbl&gt;</th><th scope=col>&lt;dbl&gt;</th><th scope=col>&lt;dbl&gt;</th><th scope=col>&lt;dbl&gt;</th><th scope=col>&lt;dbl&gt;</th><th scope=col>&lt;dbl&gt;</th><th scope=col>&lt;dbl&gt;</th><th scope=col>&lt;dbl&gt;</th><th scope=col>⋯</th><th scope=col>&lt;dbl&gt;</th><th scope=col>&lt;dbl&gt;</th><th scope=col>&lt;dbl&gt;</th><th scope=col>&lt;dbl&gt;</th><th scope=col>&lt;dbl&gt;</th><th scope=col>&lt;dbl&gt;</th><th scope=col>&lt;dbl&gt;</th><th scope=col>&lt;dbl&gt;</th><th scope=col>&lt;dbl&gt;</th><th scope=col>&lt;dbl&gt;</th></tr>\n",
       "</thead>\n",
       "<tbody>\n",
       "\t<tr><th scope=row>ENSID_gene_GeneName</th><td> 0.00</td><td> 0.00</td><td>  0.00</td><td>  0.00</td><td> 0.00</td><td>  0.00</td><td>  0.00</td><td>  0.00</td><td>  0.00</td><td>  0.00</td><td>⋯</td><td>  0.00</td><td>  0.00</td><td>  0.00</td><td>  0.00</td><td>  0.00</td><td>  0.00</td><td>  0.00</td><td>  0.00</td><td> 0.00</td><td>  0.00</td></tr>\n",
       "\t<tr><th scope=row>ENSMUSG00000000001_Gnai3</th><td>33.66</td><td>32.74</td><td>103.55</td><td>157.71</td><td>63.06</td><td>102.83</td><td>231.55</td><td>174.64</td><td>149.95</td><td>155.51</td><td>⋯</td><td>183.29</td><td>175.34</td><td>164.38</td><td>120.19</td><td>132.60</td><td>175.81</td><td>153.01</td><td>153.94</td><td>68.62</td><td>141.32</td></tr>\n",
       "\t<tr><th scope=row>ENSMUSG00000000003_Pbsn</th><td> 0.00</td><td> 0.00</td><td>  0.00</td><td>  0.00</td><td> 0.00</td><td>  0.00</td><td>  0.00</td><td>  0.00</td><td>  0.00</td><td>  0.00</td><td>⋯</td><td>  0.00</td><td>  0.00</td><td>  0.00</td><td>  0.00</td><td>  0.00</td><td>  0.00</td><td>  0.00</td><td>  0.00</td><td> 0.00</td><td>  0.00</td></tr>\n",
       "\t<tr><th scope=row>ENSMUSG00000000028_Cdc45</th><td> 1.90</td><td> 2.33</td><td>  8.25</td><td>  7.65</td><td> 6.26</td><td>  5.88</td><td> 32.78</td><td>  3.08</td><td> 47.59</td><td> 42.55</td><td>⋯</td><td> 22.41</td><td> 23.37</td><td> 14.82</td><td> 31.30</td><td> 12.53</td><td> 36.95</td><td>  5.29</td><td>  4.60</td><td> 1.43</td><td>  3.90</td></tr>\n",
       "\t<tr><th scope=row>ENSMUSG00000000031_H19</th><td> 1.72</td><td> 2.05</td><td>  5.61</td><td>  0.66</td><td> 4.91</td><td>  2.56</td><td>  1.71</td><td>  0.00</td><td>  4.21</td><td>  5.91</td><td>⋯</td><td> 58.76</td><td> 66.95</td><td> 35.30</td><td> 71.70</td><td> 34.19</td><td> 25.50</td><td>  9.75</td><td> 12.62</td><td> 2.02</td><td>  1.38</td></tr>\n",
       "\t<tr><th scope=row>ENSMUSG00000000037_Scml2</th><td> 0.39</td><td> 0.20</td><td>  1.77</td><td>  1.02</td><td> 0.50</td><td>  0.53</td><td>  2.38</td><td>  2.13</td><td>  1.99</td><td>  1.49</td><td>⋯</td><td>  2.86</td><td>  2.26</td><td>  4.08</td><td>  1.39</td><td>  1.37</td><td>  3.17</td><td>  1.46</td><td>  2.56</td><td> 0.01</td><td>  0.63</td></tr>\n",
       "</tbody>\n",
       "</table>\n"
      ],
      "text/latex": [
       "A data.frame: 6 × 35\n",
       "\\begin{tabular}{r|lllllllllllllllllllllllllllllllllll}\n",
       "  & d0\\_A\\_Rep1 & d0\\_A\\_Rep2 & d0\\_A\\_Rep4 & d0\\_Y\\_Rep2 & d0\\_Y\\_Rep3 & d0\\_Y\\_Rep4 & d0\\_Y\\_Rep5 & d0\\_Y\\_Rep6 & d1\\_A\\_Rep1 & d1\\_A\\_Rep2 & d1\\_Y\\_Rep1 & d1\\_Y\\_Rep2 & d1\\_Y\\_Rep4 & d3\\_A\\_Rep1 & d3\\_A\\_Rep2 & d3\\_A\\_Rep3 & d3\\_A\\_Rep4 & d3\\_Y\\_Rep1 & d3\\_Y\\_Rep2 & d3\\_Y\\_Rep3 & d5\\_A\\_Rep1 & d5\\_A\\_Rep2 & d5\\_Y\\_Rep1 & d5\\_Y\\_Rep2 & d5\\_Y\\_Rep3 & d7\\_A\\_Rep1 & d7\\_A\\_Rep2 & d7\\_A\\_Rep4 & d7\\_Y\\_Rep1 & d7\\_Y\\_Rep2 & d7\\_Y\\_Rep3 & d21\\_A\\_Rep1 & d21\\_A\\_Rep2 & d21\\_Y\\_Rep2 & d21\\_Y\\_Rep3\\\\\n",
       "  & <dbl> & <dbl> & <dbl> & <dbl> & <dbl> & <dbl> & <dbl> & <dbl> & <dbl> & <dbl> & <dbl> & <dbl> & <dbl> & <dbl> & <dbl> & <dbl> & <dbl> & <dbl> & <dbl> & <dbl> & <dbl> & <dbl> & <dbl> & <dbl> & <dbl> & <dbl> & <dbl> & <dbl> & <dbl> & <dbl> & <dbl> & <dbl> & <dbl> & <dbl> & <dbl>\\\\\n",
       "\\hline\n",
       "\tENSID\\_gene\\_GeneName &  0.00 &  0.00 &   0.00 &   0.00 &  0.00 &   0.00 &   0.00 &   0.00 &   0.00 &   0.00 &   0.00 &   0.00 &   0.00 &   0.00 &  0.00 &   0.00 &   0.00 &   0.00 &   0.00 &   0.00 &   0.00 &   0.00 &   0.00 &   0.00 &   0.00 &   0.00 &   0.00 &   0.00 &   0.00 &   0.00 &   0.00 &   0.00 &   0.00 &  0.00 &   0.00\\\\\n",
       "\tENSMUSG00000000001\\_Gnai3 & 33.66 & 32.74 & 103.55 & 157.71 & 63.06 & 102.83 & 231.55 & 174.64 & 149.95 & 155.51 & 137.48 & 138.49 & 130.68 & 115.90 & 77.59 & 149.65 & 159.69 & 133.72 & 134.37 &  80.00 & 153.75 & 150.23 & 160.62 & 159.77 & 121.53 & 183.29 & 175.34 & 164.38 & 120.19 & 132.60 & 175.81 & 153.01 & 153.94 & 68.62 & 141.32\\\\\n",
       "\tENSMUSG00000000003\\_Pbsn &  0.00 &  0.00 &   0.00 &   0.00 &  0.00 &   0.00 &   0.00 &   0.00 &   0.00 &   0.00 &   0.00 &   0.00 &   0.00 &   0.00 &  0.00 &   0.00 &   0.00 &   0.00 &   0.00 &   0.00 &   0.00 &   0.00 &   0.00 &   0.00 &   0.00 &   0.00 &   0.00 &   0.00 &   0.00 &   0.00 &   0.00 &   0.00 &   0.00 &  0.00 &   0.00\\\\\n",
       "\tENSMUSG00000000028\\_Cdc45 &  1.90 &  2.33 &   8.25 &   7.65 &  6.26 &   5.88 &  32.78 &   3.08 &  47.59 &  42.55 &   5.26 &   4.41 &   4.03 &  73.64 & 84.86 &  66.73 &  70.92 &  55.69 &  56.60 &  73.04 &   7.72 &   6.15 &  27.66 &  26.31 &  28.41 &  22.41 &  23.37 &  14.82 &  31.30 &  12.53 &  36.95 &   5.29 &   4.60 &  1.43 &   3.90\\\\\n",
       "\tENSMUSG00000000031\\_H19 &  1.72 &  2.05 &   5.61 &   0.66 &  4.91 &   2.56 &   1.71 &   0.00 &   4.21 &   5.91 &   3.82 &   3.00 &   3.46 &  29.96 & 45.11 &  30.64 &  35.37 &  52.46 &  51.60 & 119.24 &   3.59 &   3.41 &  87.43 &  75.14 & 161.20 &  58.76 &  66.95 &  35.30 &  71.70 &  34.19 &  25.50 &   9.75 &  12.62 &  2.02 &   1.38\\\\\n",
       "\tENSMUSG00000000037\\_Scml2 &  0.39 &  0.20 &   1.77 &   1.02 &  0.50 &   0.53 &   2.38 &   2.13 &   1.99 &   1.49 &   1.29 &   1.35 &   1.40 &   1.49 &  1.59 &   2.84 &   4.20 &   1.93 &   1.53 &   1.25 &   0.08 &   0.21 &   2.63 &   2.56 &   2.72 &   2.86 &   2.26 &   4.08 &   1.39 &   1.37 &   3.17 &   1.46 &   2.56 &  0.01 &   0.63\\\\\n",
       "\\end{tabular}\n"
      ],
      "text/markdown": [
       "\n",
       "A data.frame: 6 × 35\n",
       "\n",
       "| <!--/--> | d0_A_Rep1 &lt;dbl&gt; | d0_A_Rep2 &lt;dbl&gt; | d0_A_Rep4 &lt;dbl&gt; | d0_Y_Rep2 &lt;dbl&gt; | d0_Y_Rep3 &lt;dbl&gt; | d0_Y_Rep4 &lt;dbl&gt; | d0_Y_Rep5 &lt;dbl&gt; | d0_Y_Rep6 &lt;dbl&gt; | d1_A_Rep1 &lt;dbl&gt; | d1_A_Rep2 &lt;dbl&gt; | ⋯ ⋯ | d7_A_Rep1 &lt;dbl&gt; | d7_A_Rep2 &lt;dbl&gt; | d7_A_Rep4 &lt;dbl&gt; | d7_Y_Rep1 &lt;dbl&gt; | d7_Y_Rep2 &lt;dbl&gt; | d7_Y_Rep3 &lt;dbl&gt; | d21_A_Rep1 &lt;dbl&gt; | d21_A_Rep2 &lt;dbl&gt; | d21_Y_Rep2 &lt;dbl&gt; | d21_Y_Rep3 &lt;dbl&gt; |\n",
       "|---|---|---|---|---|---|---|---|---|---|---|---|---|---|---|---|---|---|---|---|---|---|\n",
       "| ENSID_gene_GeneName |  0.00 |  0.00 |   0.00 |   0.00 |  0.00 |   0.00 |   0.00 |   0.00 |   0.00 |   0.00 | ⋯ |   0.00 |   0.00 |   0.00 |   0.00 |   0.00 |   0.00 |   0.00 |   0.00 |  0.00 |   0.00 |\n",
       "| ENSMUSG00000000001_Gnai3 | 33.66 | 32.74 | 103.55 | 157.71 | 63.06 | 102.83 | 231.55 | 174.64 | 149.95 | 155.51 | ⋯ | 183.29 | 175.34 | 164.38 | 120.19 | 132.60 | 175.81 | 153.01 | 153.94 | 68.62 | 141.32 |\n",
       "| ENSMUSG00000000003_Pbsn |  0.00 |  0.00 |   0.00 |   0.00 |  0.00 |   0.00 |   0.00 |   0.00 |   0.00 |   0.00 | ⋯ |   0.00 |   0.00 |   0.00 |   0.00 |   0.00 |   0.00 |   0.00 |   0.00 |  0.00 |   0.00 |\n",
       "| ENSMUSG00000000028_Cdc45 |  1.90 |  2.33 |   8.25 |   7.65 |  6.26 |   5.88 |  32.78 |   3.08 |  47.59 |  42.55 | ⋯ |  22.41 |  23.37 |  14.82 |  31.30 |  12.53 |  36.95 |   5.29 |   4.60 |  1.43 |   3.90 |\n",
       "| ENSMUSG00000000031_H19 |  1.72 |  2.05 |   5.61 |   0.66 |  4.91 |   2.56 |   1.71 |   0.00 |   4.21 |   5.91 | ⋯ |  58.76 |  66.95 |  35.30 |  71.70 |  34.19 |  25.50 |   9.75 |  12.62 |  2.02 |   1.38 |\n",
       "| ENSMUSG00000000037_Scml2 |  0.39 |  0.20 |   1.77 |   1.02 |  0.50 |   0.53 |   2.38 |   2.13 |   1.99 |   1.49 | ⋯ |   2.86 |   2.26 |   4.08 |   1.39 |   1.37 |   3.17 |   1.46 |   2.56 |  0.01 |   0.63 |\n",
       "\n"
      ],
      "text/plain": [
       "                         d0_A_Rep1 d0_A_Rep2 d0_A_Rep4 d0_Y_Rep2 d0_Y_Rep3\n",
       "ENSID_gene_GeneName       0.00      0.00       0.00      0.00     0.00    \n",
       "ENSMUSG00000000001_Gnai3 33.66     32.74     103.55    157.71    63.06    \n",
       "ENSMUSG00000000003_Pbsn   0.00      0.00       0.00      0.00     0.00    \n",
       "ENSMUSG00000000028_Cdc45  1.90      2.33       8.25      7.65     6.26    \n",
       "ENSMUSG00000000031_H19    1.72      2.05       5.61      0.66     4.91    \n",
       "ENSMUSG00000000037_Scml2  0.39      0.20       1.77      1.02     0.50    \n",
       "                         d0_Y_Rep4 d0_Y_Rep5 d0_Y_Rep6 d1_A_Rep1 d1_A_Rep2 ⋯\n",
       "ENSID_gene_GeneName        0.00      0.00      0.00      0.00      0.00    ⋯\n",
       "ENSMUSG00000000001_Gnai3 102.83    231.55    174.64    149.95    155.51    ⋯\n",
       "ENSMUSG00000000003_Pbsn    0.00      0.00      0.00      0.00      0.00    ⋯\n",
       "ENSMUSG00000000028_Cdc45   5.88     32.78      3.08     47.59     42.55    ⋯\n",
       "ENSMUSG00000000031_H19     2.56      1.71      0.00      4.21      5.91    ⋯\n",
       "ENSMUSG00000000037_Scml2   0.53      2.38      2.13      1.99      1.49    ⋯\n",
       "                         d7_A_Rep1 d7_A_Rep2 d7_A_Rep4 d7_Y_Rep1 d7_Y_Rep2\n",
       "ENSID_gene_GeneName        0.00      0.00      0.00      0.00      0.00   \n",
       "ENSMUSG00000000001_Gnai3 183.29    175.34    164.38    120.19    132.60   \n",
       "ENSMUSG00000000003_Pbsn    0.00      0.00      0.00      0.00      0.00   \n",
       "ENSMUSG00000000028_Cdc45  22.41     23.37     14.82     31.30     12.53   \n",
       "ENSMUSG00000000031_H19    58.76     66.95     35.30     71.70     34.19   \n",
       "ENSMUSG00000000037_Scml2   2.86      2.26      4.08      1.39      1.37   \n",
       "                         d7_Y_Rep3 d21_A_Rep1 d21_A_Rep2 d21_Y_Rep2 d21_Y_Rep3\n",
       "ENSID_gene_GeneName        0.00      0.00       0.00      0.00        0.00    \n",
       "ENSMUSG00000000001_Gnai3 175.81    153.01     153.94     68.62      141.32    \n",
       "ENSMUSG00000000003_Pbsn    0.00      0.00       0.00      0.00        0.00    \n",
       "ENSMUSG00000000028_Cdc45  36.95      5.29       4.60      1.43        3.90    \n",
       "ENSMUSG00000000031_H19    25.50      9.75      12.62      2.02        1.38    \n",
       "ENSMUSG00000000037_Scml2   3.17      1.46       2.56      0.01        0.63    "
      ]
     },
     "metadata": {},
     "output_type": "display_data"
    },
    {
     "name": "stdout",
     "output_type": "stream",
     "text": [
      "[1] 46\n",
      "[1] 35\n"
     ]
    }
   ],
   "source": [
    "head(data_good_reps)\n",
    "print(ncol(data))\n",
    "print(ncol(data_good_reps))\n"
   ]
  },
  {
   "cell_type": "code",
   "execution_count": 442,
   "metadata": {
    "ExecuteTime": {
     "end_time": "2020-03-20T05:38:42.661622Z",
     "start_time": "2020-03-20T05:38:39.317Z"
    }
   },
   "outputs": [
    {
     "name": "stdout",
     "output_type": "stream",
     "text": [
      "[1] 35\n"
     ]
    },
    {
     "data": {
      "text/html": [
       "<table>\n",
       "<caption>A data.frame: 35 × 4</caption>\n",
       "<thead>\n",
       "\t<tr><th></th><th scope=col>Day</th><th scope=col>Age</th><th scope=col>Batch</th><th scope=col>Rep</th></tr>\n",
       "\t<tr><th></th><th scope=col>&lt;fct&gt;</th><th scope=col>&lt;fct&gt;</th><th scope=col>&lt;fct&gt;</th><th scope=col>&lt;fct&gt;</th></tr>\n",
       "</thead>\n",
       "<tbody>\n",
       "\t<tr><th scope=row>d0_A_Rep1</th><td>0 </td><td>A</td><td>R2200</td><td>d0_A_Rep1 </td></tr>\n",
       "\t<tr><th scope=row>d0_A_Rep2</th><td>0 </td><td>A</td><td>R2081</td><td>d0_A_Rep2 </td></tr>\n",
       "\t<tr><th scope=row>d0_A_Rep4</th><td>0 </td><td>A</td><td>R2830</td><td>d0_A_Rep4 </td></tr>\n",
       "\t<tr><th scope=row>d0_Y_Rep2</th><td>0 </td><td>Y</td><td>R2081</td><td>d0_Y_Rep2 </td></tr>\n",
       "\t<tr><th scope=row>d0_Y_Rep3</th><td>0 </td><td>Y</td><td>R2081</td><td>d0_Y_Rep3 </td></tr>\n",
       "\t<tr><th scope=row>d0_Y_Rep4</th><td>0 </td><td>Y</td><td>R2081</td><td>d0_Y_Rep4 </td></tr>\n",
       "\t<tr><th scope=row>d0_Y_Rep5</th><td>0 </td><td>Y</td><td>R2879</td><td>d0_Y_Rep5 </td></tr>\n",
       "\t<tr><th scope=row>d0_Y_Rep6</th><td>0 </td><td>Y</td><td>R2879</td><td>d0_Y_Rep6 </td></tr>\n",
       "\t<tr><th scope=row>d1_A_Rep1</th><td>1 </td><td>A</td><td>R2278</td><td>d1_A_Rep1 </td></tr>\n",
       "\t<tr><th scope=row>d1_A_Rep2</th><td>1 </td><td>A</td><td>R2278</td><td>d1_A_Rep2 </td></tr>\n",
       "\t<tr><th scope=row>d1_Y_Rep1</th><td>1 </td><td>Y</td><td>R2249</td><td>d1_Y_Rep1 </td></tr>\n",
       "\t<tr><th scope=row>d1_Y_Rep2</th><td>1 </td><td>Y</td><td>R2249</td><td>d1_Y_Rep2 </td></tr>\n",
       "\t<tr><th scope=row>d1_Y_Rep4</th><td>1 </td><td>Y</td><td>R2278</td><td>d1_Y_Rep4 </td></tr>\n",
       "\t<tr><th scope=row>d3_A_Rep1</th><td>3 </td><td>A</td><td>R2249</td><td>d3_A_Rep1 </td></tr>\n",
       "\t<tr><th scope=row>d3_A_Rep2</th><td>3 </td><td>A</td><td>R2081</td><td>d3_A_Rep2 </td></tr>\n",
       "\t<tr><th scope=row>d3_A_Rep3</th><td>3 </td><td>A</td><td>R2830</td><td>d3_A_Rep3 </td></tr>\n",
       "\t<tr><th scope=row>d3_A_Rep4</th><td>3 </td><td>A</td><td>R2830</td><td>d3_A_Rep4 </td></tr>\n",
       "\t<tr><th scope=row>d3_Y_Rep1</th><td>3 </td><td>Y</td><td>R2200</td><td>d3_Y_Rep1 </td></tr>\n",
       "\t<tr><th scope=row>d3_Y_Rep2</th><td>3 </td><td>Y</td><td>R2249</td><td>d3_Y_Rep2 </td></tr>\n",
       "\t<tr><th scope=row>d3_Y_Rep3</th><td>3 </td><td>Y</td><td>R2081</td><td>d3_Y_Rep3 </td></tr>\n",
       "\t<tr><th scope=row>d5_A_Rep1</th><td>5 </td><td>A</td><td>R2200</td><td>d5_A_Rep1 </td></tr>\n",
       "\t<tr><th scope=row>d5_A_Rep2</th><td>5 </td><td>A</td><td>R2249</td><td>d5_A_Rep2 </td></tr>\n",
       "\t<tr><th scope=row>d5_Y_Rep1</th><td>5 </td><td>Y</td><td>R2200</td><td>d5_Y_Rep1 </td></tr>\n",
       "\t<tr><th scope=row>d5_Y_Rep2</th><td>5 </td><td>Y</td><td>R2249</td><td>d5_Y_Rep2 </td></tr>\n",
       "\t<tr><th scope=row>d5_Y_Rep3</th><td>5 </td><td>Y</td><td>R2081</td><td>d5_Y_Rep3 </td></tr>\n",
       "\t<tr><th scope=row>d7_A_Rep1</th><td>7 </td><td>A</td><td>R2249</td><td>d7_A_Rep1 </td></tr>\n",
       "\t<tr><th scope=row>d7_A_Rep2</th><td>7 </td><td>A</td><td>R2278</td><td>d7_A_Rep2 </td></tr>\n",
       "\t<tr><th scope=row>d7_A_Rep4</th><td>7 </td><td>A</td><td>R2830</td><td>d7_A_Rep4 </td></tr>\n",
       "\t<tr><th scope=row>d7_Y_Rep1</th><td>7 </td><td>Y</td><td>R2249</td><td>d7_Y_Rep1 </td></tr>\n",
       "\t<tr><th scope=row>d7_Y_Rep2</th><td>7 </td><td>Y</td><td>R2249</td><td>d7_Y_Rep2 </td></tr>\n",
       "\t<tr><th scope=row>d7_Y_Rep3</th><td>7 </td><td>Y</td><td>R2879</td><td>d7_Y_Rep3 </td></tr>\n",
       "\t<tr><th scope=row>d21_A_Rep1</th><td>21</td><td>A</td><td>902JL</td><td>d21_A_Rep1</td></tr>\n",
       "\t<tr><th scope=row>d21_A_Rep2</th><td>21</td><td>A</td><td>902JL</td><td>d21_A_Rep2</td></tr>\n",
       "\t<tr><th scope=row>d21_Y_Rep2</th><td>21</td><td>Y</td><td>902JL</td><td>d21_Y_Rep2</td></tr>\n",
       "\t<tr><th scope=row>d21_Y_Rep3</th><td>21</td><td>Y</td><td>902JL</td><td>d21_Y_Rep3</td></tr>\n",
       "</tbody>\n",
       "</table>\n"
      ],
      "text/latex": [
       "A data.frame: 35 × 4\n",
       "\\begin{tabular}{r|llll}\n",
       "  & Day & Age & Batch & Rep\\\\\n",
       "  & <fct> & <fct> & <fct> & <fct>\\\\\n",
       "\\hline\n",
       "\td0\\_A\\_Rep1 & 0  & A & R2200 & d0\\_A\\_Rep1 \\\\\n",
       "\td0\\_A\\_Rep2 & 0  & A & R2081 & d0\\_A\\_Rep2 \\\\\n",
       "\td0\\_A\\_Rep4 & 0  & A & R2830 & d0\\_A\\_Rep4 \\\\\n",
       "\td0\\_Y\\_Rep2 & 0  & Y & R2081 & d0\\_Y\\_Rep2 \\\\\n",
       "\td0\\_Y\\_Rep3 & 0  & Y & R2081 & d0\\_Y\\_Rep3 \\\\\n",
       "\td0\\_Y\\_Rep4 & 0  & Y & R2081 & d0\\_Y\\_Rep4 \\\\\n",
       "\td0\\_Y\\_Rep5 & 0  & Y & R2879 & d0\\_Y\\_Rep5 \\\\\n",
       "\td0\\_Y\\_Rep6 & 0  & Y & R2879 & d0\\_Y\\_Rep6 \\\\\n",
       "\td1\\_A\\_Rep1 & 1  & A & R2278 & d1\\_A\\_Rep1 \\\\\n",
       "\td1\\_A\\_Rep2 & 1  & A & R2278 & d1\\_A\\_Rep2 \\\\\n",
       "\td1\\_Y\\_Rep1 & 1  & Y & R2249 & d1\\_Y\\_Rep1 \\\\\n",
       "\td1\\_Y\\_Rep2 & 1  & Y & R2249 & d1\\_Y\\_Rep2 \\\\\n",
       "\td1\\_Y\\_Rep4 & 1  & Y & R2278 & d1\\_Y\\_Rep4 \\\\\n",
       "\td3\\_A\\_Rep1 & 3  & A & R2249 & d3\\_A\\_Rep1 \\\\\n",
       "\td3\\_A\\_Rep2 & 3  & A & R2081 & d3\\_A\\_Rep2 \\\\\n",
       "\td3\\_A\\_Rep3 & 3  & A & R2830 & d3\\_A\\_Rep3 \\\\\n",
       "\td3\\_A\\_Rep4 & 3  & A & R2830 & d3\\_A\\_Rep4 \\\\\n",
       "\td3\\_Y\\_Rep1 & 3  & Y & R2200 & d3\\_Y\\_Rep1 \\\\\n",
       "\td3\\_Y\\_Rep2 & 3  & Y & R2249 & d3\\_Y\\_Rep2 \\\\\n",
       "\td3\\_Y\\_Rep3 & 3  & Y & R2081 & d3\\_Y\\_Rep3 \\\\\n",
       "\td5\\_A\\_Rep1 & 5  & A & R2200 & d5\\_A\\_Rep1 \\\\\n",
       "\td5\\_A\\_Rep2 & 5  & A & R2249 & d5\\_A\\_Rep2 \\\\\n",
       "\td5\\_Y\\_Rep1 & 5  & Y & R2200 & d5\\_Y\\_Rep1 \\\\\n",
       "\td5\\_Y\\_Rep2 & 5  & Y & R2249 & d5\\_Y\\_Rep2 \\\\\n",
       "\td5\\_Y\\_Rep3 & 5  & Y & R2081 & d5\\_Y\\_Rep3 \\\\\n",
       "\td7\\_A\\_Rep1 & 7  & A & R2249 & d7\\_A\\_Rep1 \\\\\n",
       "\td7\\_A\\_Rep2 & 7  & A & R2278 & d7\\_A\\_Rep2 \\\\\n",
       "\td7\\_A\\_Rep4 & 7  & A & R2830 & d7\\_A\\_Rep4 \\\\\n",
       "\td7\\_Y\\_Rep1 & 7  & Y & R2249 & d7\\_Y\\_Rep1 \\\\\n",
       "\td7\\_Y\\_Rep2 & 7  & Y & R2249 & d7\\_Y\\_Rep2 \\\\\n",
       "\td7\\_Y\\_Rep3 & 7  & Y & R2879 & d7\\_Y\\_Rep3 \\\\\n",
       "\td21\\_A\\_Rep1 & 21 & A & 902JL & d21\\_A\\_Rep1\\\\\n",
       "\td21\\_A\\_Rep2 & 21 & A & 902JL & d21\\_A\\_Rep2\\\\\n",
       "\td21\\_Y\\_Rep2 & 21 & Y & 902JL & d21\\_Y\\_Rep2\\\\\n",
       "\td21\\_Y\\_Rep3 & 21 & Y & 902JL & d21\\_Y\\_Rep3\\\\\n",
       "\\end{tabular}\n"
      ],
      "text/markdown": [
       "\n",
       "A data.frame: 35 × 4\n",
       "\n",
       "| <!--/--> | Day &lt;fct&gt; | Age &lt;fct&gt; | Batch &lt;fct&gt; | Rep &lt;fct&gt; |\n",
       "|---|---|---|---|---|\n",
       "| d0_A_Rep1 | 0  | A | R2200 | d0_A_Rep1  |\n",
       "| d0_A_Rep2 | 0  | A | R2081 | d0_A_Rep2  |\n",
       "| d0_A_Rep4 | 0  | A | R2830 | d0_A_Rep4  |\n",
       "| d0_Y_Rep2 | 0  | Y | R2081 | d0_Y_Rep2  |\n",
       "| d0_Y_Rep3 | 0  | Y | R2081 | d0_Y_Rep3  |\n",
       "| d0_Y_Rep4 | 0  | Y | R2081 | d0_Y_Rep4  |\n",
       "| d0_Y_Rep5 | 0  | Y | R2879 | d0_Y_Rep5  |\n",
       "| d0_Y_Rep6 | 0  | Y | R2879 | d0_Y_Rep6  |\n",
       "| d1_A_Rep1 | 1  | A | R2278 | d1_A_Rep1  |\n",
       "| d1_A_Rep2 | 1  | A | R2278 | d1_A_Rep2  |\n",
       "| d1_Y_Rep1 | 1  | Y | R2249 | d1_Y_Rep1  |\n",
       "| d1_Y_Rep2 | 1  | Y | R2249 | d1_Y_Rep2  |\n",
       "| d1_Y_Rep4 | 1  | Y | R2278 | d1_Y_Rep4  |\n",
       "| d3_A_Rep1 | 3  | A | R2249 | d3_A_Rep1  |\n",
       "| d3_A_Rep2 | 3  | A | R2081 | d3_A_Rep2  |\n",
       "| d3_A_Rep3 | 3  | A | R2830 | d3_A_Rep3  |\n",
       "| d3_A_Rep4 | 3  | A | R2830 | d3_A_Rep4  |\n",
       "| d3_Y_Rep1 | 3  | Y | R2200 | d3_Y_Rep1  |\n",
       "| d3_Y_Rep2 | 3  | Y | R2249 | d3_Y_Rep2  |\n",
       "| d3_Y_Rep3 | 3  | Y | R2081 | d3_Y_Rep3  |\n",
       "| d5_A_Rep1 | 5  | A | R2200 | d5_A_Rep1  |\n",
       "| d5_A_Rep2 | 5  | A | R2249 | d5_A_Rep2  |\n",
       "| d5_Y_Rep1 | 5  | Y | R2200 | d5_Y_Rep1  |\n",
       "| d5_Y_Rep2 | 5  | Y | R2249 | d5_Y_Rep2  |\n",
       "| d5_Y_Rep3 | 5  | Y | R2081 | d5_Y_Rep3  |\n",
       "| d7_A_Rep1 | 7  | A | R2249 | d7_A_Rep1  |\n",
       "| d7_A_Rep2 | 7  | A | R2278 | d7_A_Rep2  |\n",
       "| d7_A_Rep4 | 7  | A | R2830 | d7_A_Rep4  |\n",
       "| d7_Y_Rep1 | 7  | Y | R2249 | d7_Y_Rep1  |\n",
       "| d7_Y_Rep2 | 7  | Y | R2249 | d7_Y_Rep2  |\n",
       "| d7_Y_Rep3 | 7  | Y | R2879 | d7_Y_Rep3  |\n",
       "| d21_A_Rep1 | 21 | A | 902JL | d21_A_Rep1 |\n",
       "| d21_A_Rep2 | 21 | A | 902JL | d21_A_Rep2 |\n",
       "| d21_Y_Rep2 | 21 | Y | 902JL | d21_Y_Rep2 |\n",
       "| d21_Y_Rep3 | 21 | Y | 902JL | d21_Y_Rep3 |\n",
       "\n"
      ],
      "text/plain": [
       "           Day Age Batch Rep       \n",
       "d0_A_Rep1  0   A   R2200 d0_A_Rep1 \n",
       "d0_A_Rep2  0   A   R2081 d0_A_Rep2 \n",
       "d0_A_Rep4  0   A   R2830 d0_A_Rep4 \n",
       "d0_Y_Rep2  0   Y   R2081 d0_Y_Rep2 \n",
       "d0_Y_Rep3  0   Y   R2081 d0_Y_Rep3 \n",
       "d0_Y_Rep4  0   Y   R2081 d0_Y_Rep4 \n",
       "d0_Y_Rep5  0   Y   R2879 d0_Y_Rep5 \n",
       "d0_Y_Rep6  0   Y   R2879 d0_Y_Rep6 \n",
       "d1_A_Rep1  1   A   R2278 d1_A_Rep1 \n",
       "d1_A_Rep2  1   A   R2278 d1_A_Rep2 \n",
       "d1_Y_Rep1  1   Y   R2249 d1_Y_Rep1 \n",
       "d1_Y_Rep2  1   Y   R2249 d1_Y_Rep2 \n",
       "d1_Y_Rep4  1   Y   R2278 d1_Y_Rep4 \n",
       "d3_A_Rep1  3   A   R2249 d3_A_Rep1 \n",
       "d3_A_Rep2  3   A   R2081 d3_A_Rep2 \n",
       "d3_A_Rep3  3   A   R2830 d3_A_Rep3 \n",
       "d3_A_Rep4  3   A   R2830 d3_A_Rep4 \n",
       "d3_Y_Rep1  3   Y   R2200 d3_Y_Rep1 \n",
       "d3_Y_Rep2  3   Y   R2249 d3_Y_Rep2 \n",
       "d3_Y_Rep3  3   Y   R2081 d3_Y_Rep3 \n",
       "d5_A_Rep1  5   A   R2200 d5_A_Rep1 \n",
       "d5_A_Rep2  5   A   R2249 d5_A_Rep2 \n",
       "d5_Y_Rep1  5   Y   R2200 d5_Y_Rep1 \n",
       "d5_Y_Rep2  5   Y   R2249 d5_Y_Rep2 \n",
       "d5_Y_Rep3  5   Y   R2081 d5_Y_Rep3 \n",
       "d7_A_Rep1  7   A   R2249 d7_A_Rep1 \n",
       "d7_A_Rep2  7   A   R2278 d7_A_Rep2 \n",
       "d7_A_Rep4  7   A   R2830 d7_A_Rep4 \n",
       "d7_Y_Rep1  7   Y   R2249 d7_Y_Rep1 \n",
       "d7_Y_Rep2  7   Y   R2249 d7_Y_Rep2 \n",
       "d7_Y_Rep3  7   Y   R2879 d7_Y_Rep3 \n",
       "d21_A_Rep1 21  A   902JL d21_A_Rep1\n",
       "d21_A_Rep2 21  A   902JL d21_A_Rep2\n",
       "d21_Y_Rep2 21  Y   902JL d21_Y_Rep2\n",
       "d21_Y_Rep3 21  Y   902JL d21_Y_Rep3"
      ]
     },
     "metadata": {},
     "output_type": "display_data"
    }
   ],
   "source": [
    "## batches \n",
    "batches=read.table(\"/mnt/lab_data2/annashch/nobel_lab_projects/age_V2/RNA_seq/merged_rsem/batches.tsv\",header=TRUE,sep='\\t')\n",
    "##subset to good reps \n",
    "batches=batches[batches$Rep %in% good_reps,]\n",
    "batches$Batch=factor(batches$Batch)\n",
    "batches$Pax7=NULL\n",
    "batches$Age=factor(batches$Age)\n",
    "batches$Day=factor(batches$Day)\n",
    "batches$File=NULL\n",
    "print(nrow(batches))\n",
    "row.names(batches)=batches$Rep\n",
    "batches\n"
   ]
  },
  {
   "cell_type": "code",
   "execution_count": 443,
   "metadata": {
    "ExecuteTime": {
     "end_time": "2020-03-20T05:38:42.889871Z",
     "start_time": "2020-03-20T05:38:39.319Z"
    }
   },
   "outputs": [],
   "source": [
    "write.table(batches,file=\"batches.goodreps.txt\",sep='\\t')"
   ]
  },
  {
   "cell_type": "code",
   "execution_count": 444,
   "metadata": {
    "ExecuteTime": {
     "end_time": "2020-03-20T05:38:42.957284Z",
     "start_time": "2020-03-20T05:38:39.321Z"
    }
   },
   "outputs": [
    {
     "name": "stdout",
     "output_type": "stream",
     "text": [
      "[1] 49672\n",
      "[1] 36597\n"
     ]
    }
   ],
   "source": [
    "#remove genes that are not expressed in the good reps\n",
    "print(nrow(data_good_reps))\n",
    "data_good_reps=data_good_reps[rowSums(data_good_reps)>0,]\n",
    "print(nrow(data_good_reps))"
   ]
  },
  {
   "cell_type": "code",
   "execution_count": 445,
   "metadata": {
    "ExecuteTime": {
     "end_time": "2020-03-20T05:38:43.046783Z",
     "start_time": "2020-03-20T05:38:39.322Z"
    }
   },
   "outputs": [],
   "source": [
    "#use asinh(tpm)\n",
    "E=as.matrix(asinh(data_good_reps))"
   ]
  },
  {
   "cell_type": "markdown",
   "metadata": {},
   "source": [
    "## Correlation "
   ]
  },
  {
   "cell_type": "code",
   "execution_count": 446,
   "metadata": {
    "ExecuteTime": {
     "end_time": "2020-03-20T05:38:43.470358Z",
     "start_time": "2020-03-20T05:38:39.325Z"
    }
   },
   "outputs": [],
   "source": [
    "spearman_cor=cor(E, method = \"spearman\")"
   ]
  },
  {
   "cell_type": "code",
   "execution_count": 447,
   "metadata": {
    "ExecuteTime": {
     "end_time": "2020-03-20T05:38:43.522805Z",
     "start_time": "2020-03-20T05:38:39.326Z"
    }
   },
   "outputs": [],
   "source": [
    "pearson_cor=cor(E,method=\"pearson\")"
   ]
  },
  {
   "cell_type": "code",
   "execution_count": 448,
   "metadata": {
    "ExecuteTime": {
     "end_time": "2020-03-20T05:38:43.548682Z",
     "start_time": "2020-03-20T05:38:39.327Z"
    }
   },
   "outputs": [],
   "source": [
    "write.table(spearman_cor,file=\"rna.uncorrected.spearman_r.tsv\",quote=FALSE)\n",
    "write.table(pearson_cor,file=\"rna.uncorrected.pearson_r.tsv\",quote=FALSE)"
   ]
  },
  {
   "cell_type": "code",
   "execution_count": 449,
   "metadata": {
    "ExecuteTime": {
     "end_time": "2020-03-20T05:38:44.010477Z",
     "start_time": "2020-03-20T05:38:39.329Z"
    }
   },
   "outputs": [
    {
     "data": {
      "text/html": [
       "<strong>png:</strong> 2"
      ],
      "text/latex": [
       "\\textbf{png:} 2"
      ],
      "text/markdown": [
       "**png:** 2"
      ],
      "text/plain": [
       "png \n",
       "  2 "
      ]
     },
     "metadata": {},
     "output_type": "display_data"
    }
   ],
   "source": [
    "## plot correlation heatmaps \n",
    "library(gplots)\n",
    "require(gtools)\n",
    "require(RColorBrewer)\n",
    "cols <- colorRampPalette(brewer.pal(10, \"RdBu\"))(256)\n",
    "\n",
    "svg(filename=\"RNA_rep_spearman_cor_preSVA.svg\",\n",
    "   height=8,\n",
    "   width=8,\n",
    "   pointsize=12)\n",
    "cur_h=heatmap.2(as.matrix(spearman_cor), \n",
    "          trace=\"none\", \n",
    "          scale=\"none\", \n",
    "          Rowv=TRUE,\n",
    "          Colv=TRUE,\n",
    "          col=rev(cols), \n",
    "          dendrogram=\"none\",\n",
    "          margins=c(10,10),\n",
    "          main=\"RNA-seq replicates spearman correlation -- pre-SVA\")\n",
    "dev.off() \n"
   ]
  },
  {
   "cell_type": "code",
   "execution_count": 450,
   "metadata": {
    "ExecuteTime": {
     "end_time": "2020-03-20T05:38:44.465180Z",
     "start_time": "2020-03-20T05:38:39.331Z"
    }
   },
   "outputs": [
    {
     "data": {
      "text/html": [
       "<strong>png:</strong> 2"
      ],
      "text/latex": [
       "\\textbf{png:} 2"
      ],
      "text/markdown": [
       "**png:** 2"
      ],
      "text/plain": [
       "png \n",
       "  2 "
      ]
     },
     "metadata": {},
     "output_type": "display_data"
    }
   ],
   "source": [
    "svg(filename=\"RNA_rep_pearson_cor_preSVA.svg\",\n",
    "   height=8,\n",
    "   width=8,\n",
    "   pointsize=12)\n",
    "cur_h=heatmap.2(as.matrix(pearson_cor), \n",
    "          trace=\"none\", \n",
    "          scale=\"none\", \n",
    "          Rowv=TRUE,\n",
    "          Colv=TRUE,\n",
    "          col=rev(cols), \n",
    "          dendrogram=\"none\",\n",
    "          margins=c(10,10),          \n",
    "          main=\"RNA-seq replicates pearson correlation -- pre-SVA\")\n",
    "\n",
    "dev.off() "
   ]
  },
  {
   "cell_type": "markdown",
   "metadata": {},
   "source": [
    "## Run PCA "
   ]
  },
  {
   "cell_type": "code",
   "execution_count": 451,
   "metadata": {
    "ExecuteTime": {
     "end_time": "2020-03-20T05:38:44.714896Z",
     "start_time": "2020-03-20T05:38:39.333Z"
    }
   },
   "outputs": [],
   "source": [
    "data.pca=prcomp(t(E))"
   ]
  },
  {
   "cell_type": "code",
   "execution_count": 452,
   "metadata": {
    "ExecuteTime": {
     "end_time": "2020-03-20T05:38:44.729505Z",
     "start_time": "2020-03-20T05:38:39.334Z"
    }
   },
   "outputs": [],
   "source": [
    "var_explained=as.character(round(100*data.pca$sdev^2/sum(data.pca$sdev^2),2))"
   ]
  },
  {
   "cell_type": "code",
   "execution_count": 453,
   "metadata": {
    "ExecuteTime": {
     "end_time": "2020-03-20T05:38:44.743790Z",
     "start_time": "2020-03-20T05:38:39.336Z"
    }
   },
   "outputs": [
    {
     "data": {
      "text/html": [
       "<strong>null device:</strong> 1"
      ],
      "text/latex": [
       "\\textbf{null device:} 1"
      ],
      "text/markdown": [
       "**null device:** 1"
      ],
      "text/plain": [
       "null device \n",
       "          1 "
      ]
     },
     "metadata": {},
     "output_type": "display_data"
    }
   ],
   "source": [
    "dev.off()"
   ]
  },
  {
   "cell_type": "code",
   "execution_count": 454,
   "metadata": {
    "ExecuteTime": {
     "end_time": "2020-03-20T05:38:44.768730Z",
     "start_time": "2020-03-20T05:38:39.338Z"
    }
   },
   "outputs": [
    {
     "name": "stdout",
     "output_type": "stream",
     "text": [
      "      [,1]\n",
      " [1,]  0.7\n",
      " [2,]  1.9\n",
      " [3,]  3.1\n",
      " [4,]  4.3\n",
      " [5,]  5.5\n",
      " [6,]  6.7\n",
      " [7,]  7.9\n",
      " [8,]  9.1\n",
      " [9,] 10.3\n",
      "[10,] 11.5\n",
      "[11,] 12.7\n",
      "[12,] 13.9\n",
      "[13,] 15.1\n",
      "[14,] 16.3\n",
      "[15,] 17.5\n",
      "[16,] 18.7\n",
      "[17,] 19.9\n",
      "[18,] 21.1\n",
      "[19,] 22.3\n",
      "[20,] 23.5\n",
      "[21,] 24.7\n",
      "[22,] 25.9\n",
      "[23,] 27.1\n",
      "[24,] 28.3\n",
      "[25,] 29.5\n",
      "[26,] 30.7\n",
      "[27,] 31.9\n",
      "[28,] 33.1\n",
      "[29,] 34.3\n",
      "[30,] 35.5\n",
      "[31,] 36.7\n",
      "[32,] 37.9\n",
      "[33,] 39.1\n",
      "[34,] 40.3\n",
      "[35,] 41.5\n"
     ]
    },
    {
     "data": {
      "text/html": [
       "<strong>png:</strong> 2"
      ],
      "text/latex": [
       "\\textbf{png:} 2"
      ],
      "text/markdown": [
       "**png:** 2"
      ],
      "text/plain": [
       "png \n",
       "  2 "
      ]
     },
     "metadata": {},
     "output_type": "display_data"
    }
   ],
   "source": [
    "svg(filename=\"age_rna_uncorrected_scree.svg\",\n",
    "   height=3,\n",
    "   width=4,\n",
    "   pointsize=12)\n",
    "   print(barplot(100*data.pca$sdev^2/sum(data.pca$sdev^2),las=2,ylab=\"% Variance Explained\",xlab=\"Principal Component\",ylim=c(0,40), xlim=c(0,10)))\n",
    "dev.off() "
   ]
  },
  {
   "cell_type": "code",
   "execution_count": 455,
   "metadata": {
    "ExecuteTime": {
     "end_time": "2020-03-20T05:38:44.803472Z",
     "start_time": "2020-03-20T05:38:39.340Z"
    }
   },
   "outputs": [
    {
     "data": {
      "text/html": [
       "<table>\n",
       "<caption>A data.frame: 6 × 39</caption>\n",
       "<thead>\n",
       "\t<tr><th scope=col>Rep</th><th scope=col>PC1</th><th scope=col>PC2</th><th scope=col>PC3</th><th scope=col>PC4</th><th scope=col>PC5</th><th scope=col>PC6</th><th scope=col>PC7</th><th scope=col>PC8</th><th scope=col>PC9</th><th scope=col>⋯</th><th scope=col>PC29</th><th scope=col>PC30</th><th scope=col>PC31</th><th scope=col>PC32</th><th scope=col>PC33</th><th scope=col>PC34</th><th scope=col>PC35</th><th scope=col>Day</th><th scope=col>Age</th><th scope=col>Batch</th></tr>\n",
       "\t<tr><th scope=col>&lt;chr&gt;</th><th scope=col>&lt;dbl&gt;</th><th scope=col>&lt;dbl&gt;</th><th scope=col>&lt;dbl&gt;</th><th scope=col>&lt;dbl&gt;</th><th scope=col>&lt;dbl&gt;</th><th scope=col>&lt;dbl&gt;</th><th scope=col>&lt;dbl&gt;</th><th scope=col>&lt;dbl&gt;</th><th scope=col>&lt;dbl&gt;</th><th scope=col>⋯</th><th scope=col>&lt;dbl&gt;</th><th scope=col>&lt;dbl&gt;</th><th scope=col>&lt;dbl&gt;</th><th scope=col>&lt;dbl&gt;</th><th scope=col>&lt;dbl&gt;</th><th scope=col>&lt;dbl&gt;</th><th scope=col>&lt;dbl&gt;</th><th scope=col>&lt;fct&gt;</th><th scope=col>&lt;fct&gt;</th><th scope=col>&lt;fct&gt;</th></tr>\n",
       "</thead>\n",
       "<tbody>\n",
       "\t<tr><td>d0_A_Rep1</td><td>-107.57587</td><td> -8.442197</td><td> 43.306329</td><td>-4.198188</td><td> 21.7547174</td><td>-9.271020</td><td>  1.016094</td><td>-11.309333</td><td> 27.191797</td><td>⋯</td><td> 2.4432776</td><td> 4.3046636</td><td> 0.4504537</td><td> 0.5663467</td><td>-0.5383441</td><td>-0.6447318489</td><td> 1.289698e-13</td><td>0</td><td>A</td><td>R2200</td></tr>\n",
       "\t<tr><td>d0_A_Rep2</td><td>-112.46382</td><td>-12.360600</td><td> 49.431367</td><td> 8.688269</td><td> -0.7322842</td><td>-7.615856</td><td> -2.226438</td><td> -2.273251</td><td> 27.284278</td><td>⋯</td><td>-2.1544832</td><td>-4.6472175</td><td>-0.2846177</td><td>-0.7607864</td><td> 0.9323633</td><td> 0.5603740634</td><td> 1.569052e-12</td><td>0</td><td>A</td><td>R2081</td></tr>\n",
       "\t<tr><td>d0_A_Rep4</td><td>  36.46299</td><td> 71.931319</td><td> -8.921969</td><td> 9.442522</td><td> -8.9199091</td><td>-5.734627</td><td> 30.941896</td><td> -1.986982</td><td> 25.457701</td><td>⋯</td><td> 0.8953097</td><td>-0.5392288</td><td>-0.1745708</td><td> 0.2006001</td><td>-0.2013357</td><td> 0.0007423778</td><td>-2.410179e-13</td><td>0</td><td>A</td><td>R2830</td></tr>\n",
       "\t<tr><td>d0_Y_Rep2</td><td> -50.00529</td><td> 21.281126</td><td> 16.025064</td><td>31.400858</td><td>-36.6845670</td><td>23.150849</td><td>-25.282812</td><td>  6.947738</td><td>-43.187285</td><td>⋯</td><td>-1.5163690</td><td>-5.2724750</td><td>-1.0983706</td><td>-0.2215520</td><td>-1.2265246</td><td>-0.1017336283</td><td> 7.834447e-13</td><td>0</td><td>Y</td><td>R2081</td></tr>\n",
       "\t<tr><td>d0_Y_Rep3</td><td> -40.19371</td><td>  8.529906</td><td>  9.593668</td><td>28.004610</td><td>-35.1224441</td><td>-6.134494</td><td>  4.860718</td><td>  7.011797</td><td> 10.153483</td><td>⋯</td><td> 0.3927164</td><td>-9.0064118</td><td>-1.3648438</td><td> 1.0384484</td><td>-1.9043885</td><td>-0.2067361234</td><td>-1.363657e-13</td><td>0</td><td>Y</td><td>R2081</td></tr>\n",
       "\t<tr><td>d0_Y_Rep4</td><td> -54.84588</td><td>  8.120985</td><td>-18.388118</td><td>16.989568</td><td>-45.3585576</td><td> 9.811569</td><td> -3.462773</td><td>  9.828005</td><td> -9.591366</td><td>⋯</td><td> 3.1268924</td><td>18.1772421</td><td> 3.6293175</td><td>-0.2917695</td><td> 3.8249791</td><td> 0.1862922388</td><td>-1.376165e-13</td><td>0</td><td>Y</td><td>R2081</td></tr>\n",
       "</tbody>\n",
       "</table>\n"
      ],
      "text/latex": [
       "A data.frame: 6 × 39\n",
       "\\begin{tabular}{r|lllllllllllllllllllllllllllllllllllllll}\n",
       " Rep & PC1 & PC2 & PC3 & PC4 & PC5 & PC6 & PC7 & PC8 & PC9 & PC10 & PC11 & PC12 & PC13 & PC14 & PC15 & PC16 & PC17 & PC18 & PC19 & PC20 & PC21 & PC22 & PC23 & PC24 & PC25 & PC26 & PC27 & PC28 & PC29 & PC30 & PC31 & PC32 & PC33 & PC34 & PC35 & Day & Age & Batch\\\\\n",
       " <chr> & <dbl> & <dbl> & <dbl> & <dbl> & <dbl> & <dbl> & <dbl> & <dbl> & <dbl> & <dbl> & <dbl> & <dbl> & <dbl> & <dbl> & <dbl> & <dbl> & <dbl> & <dbl> & <dbl> & <dbl> & <dbl> & <dbl> & <dbl> & <dbl> & <dbl> & <dbl> & <dbl> & <dbl> & <dbl> & <dbl> & <dbl> & <dbl> & <dbl> & <dbl> & <dbl> & <fct> & <fct> & <fct>\\\\\n",
       "\\hline\n",
       "\t d0\\_A\\_Rep1 & -107.57587 &  -8.442197 &  43.306329 & -4.198188 &  21.7547174 & -9.271020 &   1.016094 & -11.309333 &  27.191797 & -4.433662 &  27.131080 & -8.172122 &   6.6986516 &  1.6967043 &  1.528397 &  0.8058257 &  -1.294244 & -0.841739 &  -1.838991 &  0.2950125 &  1.904242 &  1.807985454 &  1.8275589 &  0.4550305 & -7.9302749 & -18.888001 &  0.6359820 &  6.5819452 &  2.4432776 &  4.3046636 &  0.4504537 &  0.5663467 & -0.5383441 & -0.6447318489 &  1.289698e-13 & 0 & A & R2200\\\\\n",
       "\t d0\\_A\\_Rep2 & -112.46382 & -12.360600 &  49.431367 &  8.688269 &  -0.7322842 & -7.615856 &  -2.226438 &  -2.273251 &  27.284278 & -5.546747 &  23.832022 & -7.750627 &   4.2733352 & -0.8105702 & -5.115556 &  3.4332490 &  -2.635627 &  0.814711 &  -5.254100 & -0.9261039 &  1.209059 & -1.414507860 & -0.5617239 &  0.1373992 &  7.1413417 &  19.778660 &  1.9036698 & -5.9982637 & -2.1544832 & -4.6472175 & -0.2846177 & -0.7607864 &  0.9323633 &  0.5603740634 &  1.569052e-12 & 0 & A & R2081\\\\\n",
       "\t d0\\_A\\_Rep4 &   36.46299 &  71.931319 &  -8.921969 &  9.442522 &  -8.9199091 & -5.734627 &  30.941896 &  -1.986982 &  25.457701 &  8.999331 &   1.880313 & 19.113753 &  -6.1195480 & 21.5745183 & -6.689003 & -2.3591811 & -24.171882 &  6.181152 &  20.130534 & -8.1506617 &  7.445356 & -2.358529482 &  0.2834048 & -1.9944127 & -0.1662481 &   0.134972 &  2.5936822 &  0.0462492 &  0.8953097 & -0.5392288 & -0.1745708 &  0.2006001 & -0.2013357 &  0.0007423778 & -2.410179e-13 & 0 & A & R2830\\\\\n",
       "\t d0\\_Y\\_Rep2 &  -50.00529 &  21.281126 &  16.025064 & 31.400858 & -36.6845670 & 23.150849 & -25.282812 &   6.947738 & -43.187285 & 37.029911 &  24.635102 &  6.853938 &  14.6138764 &  1.5748928 & -3.740592 & -3.7318156 &  -3.248210 & -1.669446 &   5.056559 & -4.2403480 & -3.772784 &  1.808190771 &  2.7396876 & -2.9183566 & -0.1459077 &  -3.729030 & -3.3820822 & -1.2044427 & -1.5163690 & -5.2724750 & -1.0983706 & -0.2215520 & -1.2265246 & -0.1017336283 &  7.834447e-13 & 0 & Y & R2081\\\\\n",
       "\t d0\\_Y\\_Rep3 &  -40.19371 &   8.529906 &   9.593668 & 28.004610 & -35.1224441 & -6.134494 &   4.860718 &   7.011797 &  10.153483 & -2.172623 & -23.573034 & 19.249416 & -10.5897165 & 10.6447018 & -9.439721 & 13.6735690 &   8.826934 & -3.078623 & -12.274683 & 18.7926073 &  8.481491 &  3.564788560 & -7.2498365 &  0.2243408 & -0.2441886 &  -6.372049 & -0.5407447 & -1.6241003 &  0.3927164 & -9.0064118 & -1.3648438 &  1.0384484 & -1.9043885 & -0.2067361234 & -1.363657e-13 & 0 & Y & R2081\\\\\n",
       "\t d0\\_Y\\_Rep4 &  -54.84588 &   8.120985 & -18.388118 & 16.989568 & -45.3585576 &  9.811569 &  -3.462773 &   9.828005 &  -9.591366 & -1.895438 &  -5.152933 & -1.087463 &  -0.6354548 &  1.6054674 & -6.677761 & -1.7583761 &   4.684784 &  1.699696 &   3.117318 &  6.7810452 &  2.987884 &  0.008413934 & -3.6128714 &  4.3067717 & -1.5945433 &   6.423445 &  9.2600171 &  7.1329710 &  3.1268924 & 18.1772421 &  3.6293175 & -0.2917695 &  3.8249791 &  0.1862922388 & -1.376165e-13 & 0 & Y & R2081\\\\\n",
       "\\end{tabular}\n"
      ],
      "text/markdown": [
       "\n",
       "A data.frame: 6 × 39\n",
       "\n",
       "| Rep &lt;chr&gt; | PC1 &lt;dbl&gt; | PC2 &lt;dbl&gt; | PC3 &lt;dbl&gt; | PC4 &lt;dbl&gt; | PC5 &lt;dbl&gt; | PC6 &lt;dbl&gt; | PC7 &lt;dbl&gt; | PC8 &lt;dbl&gt; | PC9 &lt;dbl&gt; | ⋯ ⋯ | PC29 &lt;dbl&gt; | PC30 &lt;dbl&gt; | PC31 &lt;dbl&gt; | PC32 &lt;dbl&gt; | PC33 &lt;dbl&gt; | PC34 &lt;dbl&gt; | PC35 &lt;dbl&gt; | Day &lt;fct&gt; | Age &lt;fct&gt; | Batch &lt;fct&gt; |\n",
       "|---|---|---|---|---|---|---|---|---|---|---|---|---|---|---|---|---|---|---|---|---|\n",
       "| d0_A_Rep1 | -107.57587 |  -8.442197 |  43.306329 | -4.198188 |  21.7547174 | -9.271020 |   1.016094 | -11.309333 |  27.191797 | ⋯ |  2.4432776 |  4.3046636 |  0.4504537 |  0.5663467 | -0.5383441 | -0.6447318489 |  1.289698e-13 | 0 | A | R2200 |\n",
       "| d0_A_Rep2 | -112.46382 | -12.360600 |  49.431367 |  8.688269 |  -0.7322842 | -7.615856 |  -2.226438 |  -2.273251 |  27.284278 | ⋯ | -2.1544832 | -4.6472175 | -0.2846177 | -0.7607864 |  0.9323633 |  0.5603740634 |  1.569052e-12 | 0 | A | R2081 |\n",
       "| d0_A_Rep4 |   36.46299 |  71.931319 |  -8.921969 |  9.442522 |  -8.9199091 | -5.734627 |  30.941896 |  -1.986982 |  25.457701 | ⋯ |  0.8953097 | -0.5392288 | -0.1745708 |  0.2006001 | -0.2013357 |  0.0007423778 | -2.410179e-13 | 0 | A | R2830 |\n",
       "| d0_Y_Rep2 |  -50.00529 |  21.281126 |  16.025064 | 31.400858 | -36.6845670 | 23.150849 | -25.282812 |   6.947738 | -43.187285 | ⋯ | -1.5163690 | -5.2724750 | -1.0983706 | -0.2215520 | -1.2265246 | -0.1017336283 |  7.834447e-13 | 0 | Y | R2081 |\n",
       "| d0_Y_Rep3 |  -40.19371 |   8.529906 |   9.593668 | 28.004610 | -35.1224441 | -6.134494 |   4.860718 |   7.011797 |  10.153483 | ⋯ |  0.3927164 | -9.0064118 | -1.3648438 |  1.0384484 | -1.9043885 | -0.2067361234 | -1.363657e-13 | 0 | Y | R2081 |\n",
       "| d0_Y_Rep4 |  -54.84588 |   8.120985 | -18.388118 | 16.989568 | -45.3585576 |  9.811569 |  -3.462773 |   9.828005 |  -9.591366 | ⋯ |  3.1268924 | 18.1772421 |  3.6293175 | -0.2917695 |  3.8249791 |  0.1862922388 | -1.376165e-13 | 0 | Y | R2081 |\n",
       "\n"
      ],
      "text/plain": [
       "  Rep       PC1        PC2        PC3        PC4       PC5         PC6      \n",
       "1 d0_A_Rep1 -107.57587  -8.442197  43.306329 -4.198188  21.7547174 -9.271020\n",
       "2 d0_A_Rep2 -112.46382 -12.360600  49.431367  8.688269  -0.7322842 -7.615856\n",
       "3 d0_A_Rep4   36.46299  71.931319  -8.921969  9.442522  -8.9199091 -5.734627\n",
       "4 d0_Y_Rep2  -50.00529  21.281126  16.025064 31.400858 -36.6845670 23.150849\n",
       "5 d0_Y_Rep3  -40.19371   8.529906   9.593668 28.004610 -35.1224441 -6.134494\n",
       "6 d0_Y_Rep4  -54.84588   8.120985 -18.388118 16.989568 -45.3585576  9.811569\n",
       "  PC7        PC8        PC9        ⋯ PC29       PC30       PC31      \n",
       "1   1.016094 -11.309333  27.191797 ⋯  2.4432776  4.3046636  0.4504537\n",
       "2  -2.226438  -2.273251  27.284278 ⋯ -2.1544832 -4.6472175 -0.2846177\n",
       "3  30.941896  -1.986982  25.457701 ⋯  0.8953097 -0.5392288 -0.1745708\n",
       "4 -25.282812   6.947738 -43.187285 ⋯ -1.5163690 -5.2724750 -1.0983706\n",
       "5   4.860718   7.011797  10.153483 ⋯  0.3927164 -9.0064118 -1.3648438\n",
       "6  -3.462773   9.828005  -9.591366 ⋯  3.1268924 18.1772421  3.6293175\n",
       "  PC32       PC33       PC34          PC35          Day Age Batch\n",
       "1  0.5663467 -0.5383441 -0.6447318489  1.289698e-13 0   A   R2200\n",
       "2 -0.7607864  0.9323633  0.5603740634  1.569052e-12 0   A   R2081\n",
       "3  0.2006001 -0.2013357  0.0007423778 -2.410179e-13 0   A   R2830\n",
       "4 -0.2215520 -1.2265246 -0.1017336283  7.834447e-13 0   Y   R2081\n",
       "5  1.0384484 -1.9043885 -0.2067361234 -1.363657e-13 0   Y   R2081\n",
       "6 -0.2917695  3.8249791  0.1862922388 -1.376165e-13 0   Y   R2081"
      ]
     },
     "metadata": {},
     "output_type": "display_data"
    },
    {
     "name": "stdout",
     "output_type": "stream",
     "text": [
      "[1] 35\n"
     ]
    }
   ],
   "source": [
    "pca_df=data.frame(data.pca$x)\n",
    "pca_df$Rep=row.names(pca_df)\n",
    "pca_df=merge(pca_df,batches,by=\"Rep\")\n",
    "head(pca_df)\n",
    "print(nrow(pca_df))"
   ]
  },
  {
   "cell_type": "code",
   "execution_count": 456,
   "metadata": {
    "ExecuteTime": {
     "end_time": "2020-03-20T05:38:45.114398Z",
     "start_time": "2020-03-20T05:38:39.342Z"
    }
   },
   "outputs": [
    {
     "data": {
      "text/html": [
       "<strong>png:</strong> 2"
      ],
      "text/latex": [
       "\\textbf{png:} 2"
      ],
      "text/markdown": [
       "**png:** 2"
      ],
      "text/plain": [
       "png \n",
       "  2 "
      ]
     },
     "metadata": {},
     "output_type": "display_data"
    }
   ],
   "source": [
    "svg(filename=\"age_rna_uncorrected_PC1_vs_PC2_batch.svg\",\n",
    "   height=8,\n",
    "   width=8,\n",
    "   pointsize=12)\n",
    "print(ggplot(data=pca_df,aes(x=pca_df$PC1,y=pca_df$PC2,color=pca_df$Day,shape=pca_df$Age,label=pca_df$Rep))+\n",
    "geom_point(size=5)+\n",
    "geom_text(nudge_x=2,nudge_y = 12,size=2)+\n",
    "scale_color_manual(values=c('#e41a1c','#377eb8','#4daf4a','#984ea3','#ff7f00','#e6ab02'))+\n",
    "theme_bw() )\n",
    "dev.off() "
   ]
  },
  {
   "cell_type": "code",
   "execution_count": 457,
   "metadata": {
    "ExecuteTime": {
     "end_time": "2020-03-20T05:38:45.789702Z",
     "start_time": "2020-03-20T05:38:39.343Z"
    }
   },
   "outputs": [
    {
     "data": {
      "text/html": [
       "<strong>png:</strong> 2"
      ],
      "text/latex": [
       "\\textbf{png:} 2"
      ],
      "text/markdown": [
       "**png:** 2"
      ],
      "text/plain": [
       "png \n",
       "  2 "
      ]
     },
     "metadata": {},
     "output_type": "display_data"
    }
   ],
   "source": [
    "svg(filename=\"age_rna_uncorrected_PC2_vs_PC3_batch.svg\",\n",
    "   height=8,\n",
    "   width=8,\n",
    "   pointsize=12)\n",
    "print(ggplot(data=pca_df,aes(x=pca_df$PC2,y=pca_df$PC3,color=pca_df$Day,shape=pca_df$Age,label=pca_df$Rep))+\n",
    "geom_point(size=5)+\n",
    "geom_text(nudge_x=2,nudge_y = 12,size=2)+\n",
    "scale_color_manual(values=c('#e41a1c','#377eb8','#4daf4a','#984ea3','#ff7f00','#e6ab02'))+\n",
    "theme_bw())\n",
    "dev.off() "
   ]
  },
  {
   "cell_type": "code",
   "execution_count": 458,
   "metadata": {
    "ExecuteTime": {
     "end_time": "2020-03-20T05:38:46.088772Z",
     "start_time": "2020-03-20T05:38:39.345Z"
    }
   },
   "outputs": [
    {
     "data": {
      "text/html": [
       "<strong>png:</strong> 2"
      ],
      "text/latex": [
       "\\textbf{png:} 2"
      ],
      "text/markdown": [
       "**png:** 2"
      ],
      "text/plain": [
       "png \n",
       "  2 "
      ]
     },
     "metadata": {},
     "output_type": "display_data"
    }
   ],
   "source": [
    "svg(filename=\"age_rna_uncorrected_PC1_vs_PC3_batch.svg\",\n",
    "   height=8,\n",
    "   width=8,\n",
    "   pointsize=12)\n",
    "print(ggplot(data=pca_df,aes(x=pca_df$PC1,y=pca_df$PC3,color=pca_df$Day,shape=pca_df$Age,label=pca_df$Rep))+\n",
    "geom_point(size=5)+\n",
    "geom_text(nudge_x=2,nudge_y = 12,size=2)+\n",
    "scale_color_manual(values=c('#e41a1c','#377eb8','#4daf4a','#984ea3','#ff7f00','#e6ab02'))+\n",
    "theme_bw())\n",
    "dev.off() "
   ]
  },
  {
   "cell_type": "markdown",
   "metadata": {},
   "source": [
    "## Running SVA correction "
   ]
  },
  {
   "cell_type": "code",
   "execution_count": 459,
   "metadata": {
    "ExecuteTime": {
     "end_time": "2020-03-20T05:38:46.117692Z",
     "start_time": "2020-03-20T05:38:39.347Z"
    }
   },
   "outputs": [
    {
     "data": {
      "text/html": [
       "<table>\n",
       "<caption>A data.frame: 6 × 4</caption>\n",
       "<thead>\n",
       "\t<tr><th></th><th scope=col>Day</th><th scope=col>Age</th><th scope=col>Batch</th><th scope=col>Rep</th></tr>\n",
       "\t<tr><th></th><th scope=col>&lt;fct&gt;</th><th scope=col>&lt;fct&gt;</th><th scope=col>&lt;fct&gt;</th><th scope=col>&lt;fct&gt;</th></tr>\n",
       "</thead>\n",
       "<tbody>\n",
       "\t<tr><th scope=row>d0_A_Rep1</th><td>0</td><td>A</td><td>R2200</td><td>d0_A_Rep1</td></tr>\n",
       "\t<tr><th scope=row>d0_A_Rep2</th><td>0</td><td>A</td><td>R2081</td><td>d0_A_Rep2</td></tr>\n",
       "\t<tr><th scope=row>d0_A_Rep4</th><td>0</td><td>A</td><td>R2830</td><td>d0_A_Rep4</td></tr>\n",
       "\t<tr><th scope=row>d0_Y_Rep2</th><td>0</td><td>Y</td><td>R2081</td><td>d0_Y_Rep2</td></tr>\n",
       "\t<tr><th scope=row>d0_Y_Rep3</th><td>0</td><td>Y</td><td>R2081</td><td>d0_Y_Rep3</td></tr>\n",
       "\t<tr><th scope=row>d0_Y_Rep4</th><td>0</td><td>Y</td><td>R2081</td><td>d0_Y_Rep4</td></tr>\n",
       "</tbody>\n",
       "</table>\n"
      ],
      "text/latex": [
       "A data.frame: 6 × 4\n",
       "\\begin{tabular}{r|llll}\n",
       "  & Day & Age & Batch & Rep\\\\\n",
       "  & <fct> & <fct> & <fct> & <fct>\\\\\n",
       "\\hline\n",
       "\td0\\_A\\_Rep1 & 0 & A & R2200 & d0\\_A\\_Rep1\\\\\n",
       "\td0\\_A\\_Rep2 & 0 & A & R2081 & d0\\_A\\_Rep2\\\\\n",
       "\td0\\_A\\_Rep4 & 0 & A & R2830 & d0\\_A\\_Rep4\\\\\n",
       "\td0\\_Y\\_Rep2 & 0 & Y & R2081 & d0\\_Y\\_Rep2\\\\\n",
       "\td0\\_Y\\_Rep3 & 0 & Y & R2081 & d0\\_Y\\_Rep3\\\\\n",
       "\td0\\_Y\\_Rep4 & 0 & Y & R2081 & d0\\_Y\\_Rep4\\\\\n",
       "\\end{tabular}\n"
      ],
      "text/markdown": [
       "\n",
       "A data.frame: 6 × 4\n",
       "\n",
       "| <!--/--> | Day &lt;fct&gt; | Age &lt;fct&gt; | Batch &lt;fct&gt; | Rep &lt;fct&gt; |\n",
       "|---|---|---|---|---|\n",
       "| d0_A_Rep1 | 0 | A | R2200 | d0_A_Rep1 |\n",
       "| d0_A_Rep2 | 0 | A | R2081 | d0_A_Rep2 |\n",
       "| d0_A_Rep4 | 0 | A | R2830 | d0_A_Rep4 |\n",
       "| d0_Y_Rep2 | 0 | Y | R2081 | d0_Y_Rep2 |\n",
       "| d0_Y_Rep3 | 0 | Y | R2081 | d0_Y_Rep3 |\n",
       "| d0_Y_Rep4 | 0 | Y | R2081 | d0_Y_Rep4 |\n",
       "\n"
      ],
      "text/plain": [
       "          Day Age Batch Rep      \n",
       "d0_A_Rep1 0   A   R2200 d0_A_Rep1\n",
       "d0_A_Rep2 0   A   R2081 d0_A_Rep2\n",
       "d0_A_Rep4 0   A   R2830 d0_A_Rep4\n",
       "d0_Y_Rep2 0   Y   R2081 d0_Y_Rep2\n",
       "d0_Y_Rep3 0   Y   R2081 d0_Y_Rep3\n",
       "d0_Y_Rep4 0   Y   R2081 d0_Y_Rep4"
      ]
     },
     "metadata": {},
     "output_type": "display_data"
    }
   ],
   "source": [
    "head(batches)"
   ]
  },
  {
   "cell_type": "code",
   "execution_count": 460,
   "metadata": {
    "ExecuteTime": {
     "end_time": "2020-03-20T05:38:46.127133Z",
     "start_time": "2020-03-20T05:38:39.348Z"
    }
   },
   "outputs": [],
   "source": [
    "Grouping <- factor(paste0(batches$Day,\".\",batches$Age))\n",
    "batches$Grouping=Grouping"
   ]
  },
  {
   "cell_type": "code",
   "execution_count": 461,
   "metadata": {
    "ExecuteTime": {
     "end_time": "2020-03-20T05:38:46.140617Z",
     "start_time": "2020-03-20T05:38:39.350Z"
    }
   },
   "outputs": [],
   "source": [
    "mod0=model.matrix(~1,data=batches)\n",
    "#mod1=model.matrix(~0+Day+Age,data=batches)\n",
    "mod1=model.matrix(~0+Grouping,data=batches)\n",
    "#mod1=model.matrix(~0+Age+Day,data=batches)"
   ]
  },
  {
   "cell_type": "code",
   "execution_count": 462,
   "metadata": {
    "ExecuteTime": {
     "end_time": "2020-03-20T05:38:46.177795Z",
     "start_time": "2020-03-20T05:38:39.354Z"
    }
   },
   "outputs": [
    {
     "data": {
      "text/html": [
       "<table>\n",
       "<caption>A data.frame: 35 × 5</caption>\n",
       "<thead>\n",
       "\t<tr><th></th><th scope=col>Day</th><th scope=col>Age</th><th scope=col>Batch</th><th scope=col>Rep</th><th scope=col>Grouping</th></tr>\n",
       "\t<tr><th></th><th scope=col>&lt;fct&gt;</th><th scope=col>&lt;fct&gt;</th><th scope=col>&lt;fct&gt;</th><th scope=col>&lt;fct&gt;</th><th scope=col>&lt;fct&gt;</th></tr>\n",
       "</thead>\n",
       "<tbody>\n",
       "\t<tr><th scope=row>d0_A_Rep1</th><td>0 </td><td>A</td><td>R2200</td><td>d0_A_Rep1 </td><td>0.A </td></tr>\n",
       "\t<tr><th scope=row>d0_A_Rep2</th><td>0 </td><td>A</td><td>R2081</td><td>d0_A_Rep2 </td><td>0.A </td></tr>\n",
       "\t<tr><th scope=row>d0_A_Rep4</th><td>0 </td><td>A</td><td>R2830</td><td>d0_A_Rep4 </td><td>0.A </td></tr>\n",
       "\t<tr><th scope=row>d0_Y_Rep2</th><td>0 </td><td>Y</td><td>R2081</td><td>d0_Y_Rep2 </td><td>0.Y </td></tr>\n",
       "\t<tr><th scope=row>d0_Y_Rep3</th><td>0 </td><td>Y</td><td>R2081</td><td>d0_Y_Rep3 </td><td>0.Y </td></tr>\n",
       "\t<tr><th scope=row>d0_Y_Rep4</th><td>0 </td><td>Y</td><td>R2081</td><td>d0_Y_Rep4 </td><td>0.Y </td></tr>\n",
       "\t<tr><th scope=row>d0_Y_Rep5</th><td>0 </td><td>Y</td><td>R2879</td><td>d0_Y_Rep5 </td><td>0.Y </td></tr>\n",
       "\t<tr><th scope=row>d0_Y_Rep6</th><td>0 </td><td>Y</td><td>R2879</td><td>d0_Y_Rep6 </td><td>0.Y </td></tr>\n",
       "\t<tr><th scope=row>d1_A_Rep1</th><td>1 </td><td>A</td><td>R2278</td><td>d1_A_Rep1 </td><td>1.A </td></tr>\n",
       "\t<tr><th scope=row>d1_A_Rep2</th><td>1 </td><td>A</td><td>R2278</td><td>d1_A_Rep2 </td><td>1.A </td></tr>\n",
       "\t<tr><th scope=row>d1_Y_Rep1</th><td>1 </td><td>Y</td><td>R2249</td><td>d1_Y_Rep1 </td><td>1.Y </td></tr>\n",
       "\t<tr><th scope=row>d1_Y_Rep2</th><td>1 </td><td>Y</td><td>R2249</td><td>d1_Y_Rep2 </td><td>1.Y </td></tr>\n",
       "\t<tr><th scope=row>d1_Y_Rep4</th><td>1 </td><td>Y</td><td>R2278</td><td>d1_Y_Rep4 </td><td>1.Y </td></tr>\n",
       "\t<tr><th scope=row>d3_A_Rep1</th><td>3 </td><td>A</td><td>R2249</td><td>d3_A_Rep1 </td><td>3.A </td></tr>\n",
       "\t<tr><th scope=row>d3_A_Rep2</th><td>3 </td><td>A</td><td>R2081</td><td>d3_A_Rep2 </td><td>3.A </td></tr>\n",
       "\t<tr><th scope=row>d3_A_Rep3</th><td>3 </td><td>A</td><td>R2830</td><td>d3_A_Rep3 </td><td>3.A </td></tr>\n",
       "\t<tr><th scope=row>d3_A_Rep4</th><td>3 </td><td>A</td><td>R2830</td><td>d3_A_Rep4 </td><td>3.A </td></tr>\n",
       "\t<tr><th scope=row>d3_Y_Rep1</th><td>3 </td><td>Y</td><td>R2200</td><td>d3_Y_Rep1 </td><td>3.Y </td></tr>\n",
       "\t<tr><th scope=row>d3_Y_Rep2</th><td>3 </td><td>Y</td><td>R2249</td><td>d3_Y_Rep2 </td><td>3.Y </td></tr>\n",
       "\t<tr><th scope=row>d3_Y_Rep3</th><td>3 </td><td>Y</td><td>R2081</td><td>d3_Y_Rep3 </td><td>3.Y </td></tr>\n",
       "\t<tr><th scope=row>d5_A_Rep1</th><td>5 </td><td>A</td><td>R2200</td><td>d5_A_Rep1 </td><td>5.A </td></tr>\n",
       "\t<tr><th scope=row>d5_A_Rep2</th><td>5 </td><td>A</td><td>R2249</td><td>d5_A_Rep2 </td><td>5.A </td></tr>\n",
       "\t<tr><th scope=row>d5_Y_Rep1</th><td>5 </td><td>Y</td><td>R2200</td><td>d5_Y_Rep1 </td><td>5.Y </td></tr>\n",
       "\t<tr><th scope=row>d5_Y_Rep2</th><td>5 </td><td>Y</td><td>R2249</td><td>d5_Y_Rep2 </td><td>5.Y </td></tr>\n",
       "\t<tr><th scope=row>d5_Y_Rep3</th><td>5 </td><td>Y</td><td>R2081</td><td>d5_Y_Rep3 </td><td>5.Y </td></tr>\n",
       "\t<tr><th scope=row>d7_A_Rep1</th><td>7 </td><td>A</td><td>R2249</td><td>d7_A_Rep1 </td><td>7.A </td></tr>\n",
       "\t<tr><th scope=row>d7_A_Rep2</th><td>7 </td><td>A</td><td>R2278</td><td>d7_A_Rep2 </td><td>7.A </td></tr>\n",
       "\t<tr><th scope=row>d7_A_Rep4</th><td>7 </td><td>A</td><td>R2830</td><td>d7_A_Rep4 </td><td>7.A </td></tr>\n",
       "\t<tr><th scope=row>d7_Y_Rep1</th><td>7 </td><td>Y</td><td>R2249</td><td>d7_Y_Rep1 </td><td>7.Y </td></tr>\n",
       "\t<tr><th scope=row>d7_Y_Rep2</th><td>7 </td><td>Y</td><td>R2249</td><td>d7_Y_Rep2 </td><td>7.Y </td></tr>\n",
       "\t<tr><th scope=row>d7_Y_Rep3</th><td>7 </td><td>Y</td><td>R2879</td><td>d7_Y_Rep3 </td><td>7.Y </td></tr>\n",
       "\t<tr><th scope=row>d21_A_Rep1</th><td>21</td><td>A</td><td>902JL</td><td>d21_A_Rep1</td><td>21.A</td></tr>\n",
       "\t<tr><th scope=row>d21_A_Rep2</th><td>21</td><td>A</td><td>902JL</td><td>d21_A_Rep2</td><td>21.A</td></tr>\n",
       "\t<tr><th scope=row>d21_Y_Rep2</th><td>21</td><td>Y</td><td>902JL</td><td>d21_Y_Rep2</td><td>21.Y</td></tr>\n",
       "\t<tr><th scope=row>d21_Y_Rep3</th><td>21</td><td>Y</td><td>902JL</td><td>d21_Y_Rep3</td><td>21.Y</td></tr>\n",
       "</tbody>\n",
       "</table>\n"
      ],
      "text/latex": [
       "A data.frame: 35 × 5\n",
       "\\begin{tabular}{r|lllll}\n",
       "  & Day & Age & Batch & Rep & Grouping\\\\\n",
       "  & <fct> & <fct> & <fct> & <fct> & <fct>\\\\\n",
       "\\hline\n",
       "\td0\\_A\\_Rep1 & 0  & A & R2200 & d0\\_A\\_Rep1  & 0.A \\\\\n",
       "\td0\\_A\\_Rep2 & 0  & A & R2081 & d0\\_A\\_Rep2  & 0.A \\\\\n",
       "\td0\\_A\\_Rep4 & 0  & A & R2830 & d0\\_A\\_Rep4  & 0.A \\\\\n",
       "\td0\\_Y\\_Rep2 & 0  & Y & R2081 & d0\\_Y\\_Rep2  & 0.Y \\\\\n",
       "\td0\\_Y\\_Rep3 & 0  & Y & R2081 & d0\\_Y\\_Rep3  & 0.Y \\\\\n",
       "\td0\\_Y\\_Rep4 & 0  & Y & R2081 & d0\\_Y\\_Rep4  & 0.Y \\\\\n",
       "\td0\\_Y\\_Rep5 & 0  & Y & R2879 & d0\\_Y\\_Rep5  & 0.Y \\\\\n",
       "\td0\\_Y\\_Rep6 & 0  & Y & R2879 & d0\\_Y\\_Rep6  & 0.Y \\\\\n",
       "\td1\\_A\\_Rep1 & 1  & A & R2278 & d1\\_A\\_Rep1  & 1.A \\\\\n",
       "\td1\\_A\\_Rep2 & 1  & A & R2278 & d1\\_A\\_Rep2  & 1.A \\\\\n",
       "\td1\\_Y\\_Rep1 & 1  & Y & R2249 & d1\\_Y\\_Rep1  & 1.Y \\\\\n",
       "\td1\\_Y\\_Rep2 & 1  & Y & R2249 & d1\\_Y\\_Rep2  & 1.Y \\\\\n",
       "\td1\\_Y\\_Rep4 & 1  & Y & R2278 & d1\\_Y\\_Rep4  & 1.Y \\\\\n",
       "\td3\\_A\\_Rep1 & 3  & A & R2249 & d3\\_A\\_Rep1  & 3.A \\\\\n",
       "\td3\\_A\\_Rep2 & 3  & A & R2081 & d3\\_A\\_Rep2  & 3.A \\\\\n",
       "\td3\\_A\\_Rep3 & 3  & A & R2830 & d3\\_A\\_Rep3  & 3.A \\\\\n",
       "\td3\\_A\\_Rep4 & 3  & A & R2830 & d3\\_A\\_Rep4  & 3.A \\\\\n",
       "\td3\\_Y\\_Rep1 & 3  & Y & R2200 & d3\\_Y\\_Rep1  & 3.Y \\\\\n",
       "\td3\\_Y\\_Rep2 & 3  & Y & R2249 & d3\\_Y\\_Rep2  & 3.Y \\\\\n",
       "\td3\\_Y\\_Rep3 & 3  & Y & R2081 & d3\\_Y\\_Rep3  & 3.Y \\\\\n",
       "\td5\\_A\\_Rep1 & 5  & A & R2200 & d5\\_A\\_Rep1  & 5.A \\\\\n",
       "\td5\\_A\\_Rep2 & 5  & A & R2249 & d5\\_A\\_Rep2  & 5.A \\\\\n",
       "\td5\\_Y\\_Rep1 & 5  & Y & R2200 & d5\\_Y\\_Rep1  & 5.Y \\\\\n",
       "\td5\\_Y\\_Rep2 & 5  & Y & R2249 & d5\\_Y\\_Rep2  & 5.Y \\\\\n",
       "\td5\\_Y\\_Rep3 & 5  & Y & R2081 & d5\\_Y\\_Rep3  & 5.Y \\\\\n",
       "\td7\\_A\\_Rep1 & 7  & A & R2249 & d7\\_A\\_Rep1  & 7.A \\\\\n",
       "\td7\\_A\\_Rep2 & 7  & A & R2278 & d7\\_A\\_Rep2  & 7.A \\\\\n",
       "\td7\\_A\\_Rep4 & 7  & A & R2830 & d7\\_A\\_Rep4  & 7.A \\\\\n",
       "\td7\\_Y\\_Rep1 & 7  & Y & R2249 & d7\\_Y\\_Rep1  & 7.Y \\\\\n",
       "\td7\\_Y\\_Rep2 & 7  & Y & R2249 & d7\\_Y\\_Rep2  & 7.Y \\\\\n",
       "\td7\\_Y\\_Rep3 & 7  & Y & R2879 & d7\\_Y\\_Rep3  & 7.Y \\\\\n",
       "\td21\\_A\\_Rep1 & 21 & A & 902JL & d21\\_A\\_Rep1 & 21.A\\\\\n",
       "\td21\\_A\\_Rep2 & 21 & A & 902JL & d21\\_A\\_Rep2 & 21.A\\\\\n",
       "\td21\\_Y\\_Rep2 & 21 & Y & 902JL & d21\\_Y\\_Rep2 & 21.Y\\\\\n",
       "\td21\\_Y\\_Rep3 & 21 & Y & 902JL & d21\\_Y\\_Rep3 & 21.Y\\\\\n",
       "\\end{tabular}\n"
      ],
      "text/markdown": [
       "\n",
       "A data.frame: 35 × 5\n",
       "\n",
       "| <!--/--> | Day &lt;fct&gt; | Age &lt;fct&gt; | Batch &lt;fct&gt; | Rep &lt;fct&gt; | Grouping &lt;fct&gt; |\n",
       "|---|---|---|---|---|---|\n",
       "| d0_A_Rep1 | 0  | A | R2200 | d0_A_Rep1  | 0.A  |\n",
       "| d0_A_Rep2 | 0  | A | R2081 | d0_A_Rep2  | 0.A  |\n",
       "| d0_A_Rep4 | 0  | A | R2830 | d0_A_Rep4  | 0.A  |\n",
       "| d0_Y_Rep2 | 0  | Y | R2081 | d0_Y_Rep2  | 0.Y  |\n",
       "| d0_Y_Rep3 | 0  | Y | R2081 | d0_Y_Rep3  | 0.Y  |\n",
       "| d0_Y_Rep4 | 0  | Y | R2081 | d0_Y_Rep4  | 0.Y  |\n",
       "| d0_Y_Rep5 | 0  | Y | R2879 | d0_Y_Rep5  | 0.Y  |\n",
       "| d0_Y_Rep6 | 0  | Y | R2879 | d0_Y_Rep6  | 0.Y  |\n",
       "| d1_A_Rep1 | 1  | A | R2278 | d1_A_Rep1  | 1.A  |\n",
       "| d1_A_Rep2 | 1  | A | R2278 | d1_A_Rep2  | 1.A  |\n",
       "| d1_Y_Rep1 | 1  | Y | R2249 | d1_Y_Rep1  | 1.Y  |\n",
       "| d1_Y_Rep2 | 1  | Y | R2249 | d1_Y_Rep2  | 1.Y  |\n",
       "| d1_Y_Rep4 | 1  | Y | R2278 | d1_Y_Rep4  | 1.Y  |\n",
       "| d3_A_Rep1 | 3  | A | R2249 | d3_A_Rep1  | 3.A  |\n",
       "| d3_A_Rep2 | 3  | A | R2081 | d3_A_Rep2  | 3.A  |\n",
       "| d3_A_Rep3 | 3  | A | R2830 | d3_A_Rep3  | 3.A  |\n",
       "| d3_A_Rep4 | 3  | A | R2830 | d3_A_Rep4  | 3.A  |\n",
       "| d3_Y_Rep1 | 3  | Y | R2200 | d3_Y_Rep1  | 3.Y  |\n",
       "| d3_Y_Rep2 | 3  | Y | R2249 | d3_Y_Rep2  | 3.Y  |\n",
       "| d3_Y_Rep3 | 3  | Y | R2081 | d3_Y_Rep3  | 3.Y  |\n",
       "| d5_A_Rep1 | 5  | A | R2200 | d5_A_Rep1  | 5.A  |\n",
       "| d5_A_Rep2 | 5  | A | R2249 | d5_A_Rep2  | 5.A  |\n",
       "| d5_Y_Rep1 | 5  | Y | R2200 | d5_Y_Rep1  | 5.Y  |\n",
       "| d5_Y_Rep2 | 5  | Y | R2249 | d5_Y_Rep2  | 5.Y  |\n",
       "| d5_Y_Rep3 | 5  | Y | R2081 | d5_Y_Rep3  | 5.Y  |\n",
       "| d7_A_Rep1 | 7  | A | R2249 | d7_A_Rep1  | 7.A  |\n",
       "| d7_A_Rep2 | 7  | A | R2278 | d7_A_Rep2  | 7.A  |\n",
       "| d7_A_Rep4 | 7  | A | R2830 | d7_A_Rep4  | 7.A  |\n",
       "| d7_Y_Rep1 | 7  | Y | R2249 | d7_Y_Rep1  | 7.Y  |\n",
       "| d7_Y_Rep2 | 7  | Y | R2249 | d7_Y_Rep2  | 7.Y  |\n",
       "| d7_Y_Rep3 | 7  | Y | R2879 | d7_Y_Rep3  | 7.Y  |\n",
       "| d21_A_Rep1 | 21 | A | 902JL | d21_A_Rep1 | 21.A |\n",
       "| d21_A_Rep2 | 21 | A | 902JL | d21_A_Rep2 | 21.A |\n",
       "| d21_Y_Rep2 | 21 | Y | 902JL | d21_Y_Rep2 | 21.Y |\n",
       "| d21_Y_Rep3 | 21 | Y | 902JL | d21_Y_Rep3 | 21.Y |\n",
       "\n"
      ],
      "text/plain": [
       "           Day Age Batch Rep        Grouping\n",
       "d0_A_Rep1  0   A   R2200 d0_A_Rep1  0.A     \n",
       "d0_A_Rep2  0   A   R2081 d0_A_Rep2  0.A     \n",
       "d0_A_Rep4  0   A   R2830 d0_A_Rep4  0.A     \n",
       "d0_Y_Rep2  0   Y   R2081 d0_Y_Rep2  0.Y     \n",
       "d0_Y_Rep3  0   Y   R2081 d0_Y_Rep3  0.Y     \n",
       "d0_Y_Rep4  0   Y   R2081 d0_Y_Rep4  0.Y     \n",
       "d0_Y_Rep5  0   Y   R2879 d0_Y_Rep5  0.Y     \n",
       "d0_Y_Rep6  0   Y   R2879 d0_Y_Rep6  0.Y     \n",
       "d1_A_Rep1  1   A   R2278 d1_A_Rep1  1.A     \n",
       "d1_A_Rep2  1   A   R2278 d1_A_Rep2  1.A     \n",
       "d1_Y_Rep1  1   Y   R2249 d1_Y_Rep1  1.Y     \n",
       "d1_Y_Rep2  1   Y   R2249 d1_Y_Rep2  1.Y     \n",
       "d1_Y_Rep4  1   Y   R2278 d1_Y_Rep4  1.Y     \n",
       "d3_A_Rep1  3   A   R2249 d3_A_Rep1  3.A     \n",
       "d3_A_Rep2  3   A   R2081 d3_A_Rep2  3.A     \n",
       "d3_A_Rep3  3   A   R2830 d3_A_Rep3  3.A     \n",
       "d3_A_Rep4  3   A   R2830 d3_A_Rep4  3.A     \n",
       "d3_Y_Rep1  3   Y   R2200 d3_Y_Rep1  3.Y     \n",
       "d3_Y_Rep2  3   Y   R2249 d3_Y_Rep2  3.Y     \n",
       "d3_Y_Rep3  3   Y   R2081 d3_Y_Rep3  3.Y     \n",
       "d5_A_Rep1  5   A   R2200 d5_A_Rep1  5.A     \n",
       "d5_A_Rep2  5   A   R2249 d5_A_Rep2  5.A     \n",
       "d5_Y_Rep1  5   Y   R2200 d5_Y_Rep1  5.Y     \n",
       "d5_Y_Rep2  5   Y   R2249 d5_Y_Rep2  5.Y     \n",
       "d5_Y_Rep3  5   Y   R2081 d5_Y_Rep3  5.Y     \n",
       "d7_A_Rep1  7   A   R2249 d7_A_Rep1  7.A     \n",
       "d7_A_Rep2  7   A   R2278 d7_A_Rep2  7.A     \n",
       "d7_A_Rep4  7   A   R2830 d7_A_Rep4  7.A     \n",
       "d7_Y_Rep1  7   Y   R2249 d7_Y_Rep1  7.Y     \n",
       "d7_Y_Rep2  7   Y   R2249 d7_Y_Rep2  7.Y     \n",
       "d7_Y_Rep3  7   Y   R2879 d7_Y_Rep3  7.Y     \n",
       "d21_A_Rep1 21  A   902JL d21_A_Rep1 21.A    \n",
       "d21_A_Rep2 21  A   902JL d21_A_Rep2 21.A    \n",
       "d21_Y_Rep2 21  Y   902JL d21_Y_Rep2 21.Y    \n",
       "d21_Y_Rep3 21  Y   902JL d21_Y_Rep3 21.Y    "
      ]
     },
     "metadata": {},
     "output_type": "display_data"
    }
   ],
   "source": [
    "batches"
   ]
  },
  {
   "cell_type": "code",
   "execution_count": 463,
   "metadata": {
    "ExecuteTime": {
     "end_time": "2020-03-20T05:39:04.151663Z",
     "start_time": "2020-03-20T05:38:39.355Z"
    }
   },
   "outputs": [
    {
     "name": "stdout",
     "output_type": "stream",
     "text": [
      "Number of significant surrogate variables is:  5 \n",
      "Iteration (out of 5 ):1  2  3  4  5  "
     ]
    }
   ],
   "source": [
    "sva.obj=sva(E,mod1,mod0)"
   ]
  },
  {
   "cell_type": "code",
   "execution_count": 464,
   "metadata": {
    "ExecuteTime": {
     "end_time": "2020-03-20T05:39:04.181100Z",
     "start_time": "2020-03-20T05:38:39.357Z"
    }
   },
   "outputs": [
    {
     "data": {
      "text/plain": [
       "Response Y1 :\n",
       "\n",
       "Call:\n",
       "lm(formula = Y1 ~ batches$Grouping)\n",
       "\n",
       "Residuals:\n",
       "     Min       1Q   Median       3Q      Max \n",
       "-0.38828 -0.04963  0.00153  0.06276  0.24209 \n",
       "\n",
       "Coefficients:\n",
       "                     Estimate Std. Error t value Pr(>|t|)  \n",
       "(Intercept)           0.11606    0.09982   1.163   0.2569  \n",
       "batches$Grouping0.Y  -0.07606    0.12626  -0.602   0.5528  \n",
       "batches$Grouping1.A  -0.12412    0.15783  -0.786   0.4396  \n",
       "batches$Grouping1.Y  -0.18117    0.14117  -1.283   0.2121  \n",
       "batches$Grouping21.A -0.31808    0.15783  -2.015   0.0557 .\n",
       "batches$Grouping21.Y -0.03215    0.15783  -0.204   0.8404  \n",
       "batches$Grouping3.A  -0.13745    0.13205  -1.041   0.3087  \n",
       "batches$Grouping3.Y  -0.01837    0.14117  -0.130   0.8976  \n",
       "batches$Grouping5.A  -0.01957    0.15783  -0.124   0.9024  \n",
       "batches$Grouping5.Y  -0.04824    0.14117  -0.342   0.7357  \n",
       "batches$Grouping7.A  -0.27412    0.14117  -1.942   0.0645 .\n",
       "batches$Grouping7.Y  -0.19286    0.14117  -1.366   0.1851  \n",
       "---\n",
       "Signif. codes:  0 ‘***’ 0.001 ‘**’ 0.01 ‘*’ 0.05 ‘.’ 0.1 ‘ ’ 1\n",
       "\n",
       "Residual standard error: 0.1729 on 23 degrees of freedom\n",
       "Multiple R-squared:  0.3125,\tAdjusted R-squared:  -0.01633 \n",
       "F-statistic: 0.9503 on 11 and 23 DF,  p-value: 0.5139\n",
       "\n",
       "\n",
       "Response Y2 :\n",
       "\n",
       "Call:\n",
       "lm(formula = Y2 ~ batches$Grouping)\n",
       "\n",
       "Residuals:\n",
       "     Min       1Q   Median       3Q      Max \n",
       "-0.43126 -0.06512  0.00366  0.05917  0.20541 \n",
       "\n",
       "Coefficients:\n",
       "                      Estimate Std. Error t value Pr(>|t|)  \n",
       "(Intercept)           0.078503   0.082467   0.952   0.3510  \n",
       "batches$Grouping0.Y   0.075182   0.104314   0.721   0.4783  \n",
       "batches$Grouping1.A  -0.174432   0.130393  -1.338   0.1941  \n",
       "batches$Grouping1.Y  -0.006783   0.116627  -0.058   0.9541  \n",
       "batches$Grouping21.A  0.143991   0.130393   1.104   0.2809  \n",
       "batches$Grouping21.Y -0.068938   0.130393  -0.529   0.6021  \n",
       "batches$Grouping3.A  -0.204209   0.109094  -1.872   0.0740 .\n",
       "batches$Grouping3.Y  -0.300767   0.116627  -2.579   0.0168 *\n",
       "batches$Grouping5.A  -0.192074   0.130393  -1.473   0.1543  \n",
       "batches$Grouping5.Y  -0.149153   0.116627  -1.279   0.2137  \n",
       "batches$Grouping7.A  -0.025648   0.116627  -0.220   0.8279  \n",
       "batches$Grouping7.Y  -0.092235   0.116627  -0.791   0.4371  \n",
       "---\n",
       "Signif. codes:  0 ‘***’ 0.001 ‘**’ 0.01 ‘*’ 0.05 ‘.’ 0.1 ‘ ’ 1\n",
       "\n",
       "Residual standard error: 0.1428 on 23 degrees of freedom\n",
       "Multiple R-squared:  0.5307,\tAdjusted R-squared:  0.3063 \n",
       "F-statistic: 2.365 on 11 and 23 DF,  p-value: 0.03944\n",
       "\n",
       "\n",
       "Response Y3 :\n",
       "\n",
       "Call:\n",
       "lm(formula = Y3 ~ batches$Grouping)\n",
       "\n",
       "Residuals:\n",
       "     Min       1Q   Median       3Q      Max \n",
       "-0.44334 -0.01382  0.00403  0.05267  0.28994 \n",
       "\n",
       "Coefficients:\n",
       "                      Estimate Std. Error t value Pr(>|t|)  \n",
       "(Intercept)           0.042340   0.085391   0.496   0.6247  \n",
       "batches$Grouping0.Y  -0.252585   0.108012  -2.338   0.0284 *\n",
       "batches$Grouping1.A   0.043170   0.135014   0.320   0.7520  \n",
       "batches$Grouping1.Y   0.076225   0.120761   0.631   0.5341  \n",
       "batches$Grouping21.A -0.017239   0.135014  -0.128   0.8995  \n",
       "batches$Grouping21.Y  0.137004   0.135014   1.015   0.3208  \n",
       "batches$Grouping3.A  -0.139610   0.112961  -1.236   0.2290  \n",
       "batches$Grouping3.Y  -0.111241   0.120761  -0.921   0.3665  \n",
       "batches$Grouping5.A   0.162968   0.135014   1.207   0.2397  \n",
       "batches$Grouping5.Y  -0.063961   0.120761  -0.530   0.6014  \n",
       "batches$Grouping7.A  -0.014267   0.120761  -0.118   0.9070  \n",
       "batches$Grouping7.Y   0.009128   0.120761   0.076   0.9404  \n",
       "---\n",
       "Signif. codes:  0 ‘***’ 0.001 ‘**’ 0.01 ‘*’ 0.05 ‘.’ 0.1 ‘ ’ 1\n",
       "\n",
       "Residual standard error: 0.1479 on 23 degrees of freedom\n",
       "Multiple R-squared:  0.4969,\tAdjusted R-squared:  0.2563 \n",
       "F-statistic: 2.065 on 11 and 23 DF,  p-value: 0.06882\n",
       "\n",
       "\n",
       "Response Y4 :\n",
       "\n",
       "Call:\n",
       "lm(formula = Y4 ~ batches$Grouping)\n",
       "\n",
       "Residuals:\n",
       "     Min       1Q   Median       3Q      Max \n",
       "-0.40772 -0.04608 -0.01201  0.06471  0.26707 \n",
       "\n",
       "Coefficients:\n",
       "                     Estimate Std. Error t value Pr(>|t|)  \n",
       "(Intercept)          -0.12081    0.08089  -1.493   0.1489  \n",
       "batches$Grouping0.Y  -0.00510    0.10232  -0.050   0.9607  \n",
       "batches$Grouping1.A   0.19318    0.12790   1.510   0.1446  \n",
       "batches$Grouping1.Y   0.05661    0.11440   0.495   0.6254  \n",
       "batches$Grouping21.A  0.05205    0.12790   0.407   0.6878  \n",
       "batches$Grouping21.Y -0.14849    0.12790  -1.161   0.2576  \n",
       "batches$Grouping3.A   0.29340    0.10701   2.742   0.0116 *\n",
       "batches$Grouping3.Y   0.23098    0.11440   2.019   0.0553 .\n",
       "batches$Grouping5.A   0.05067    0.12790   0.396   0.6956  \n",
       "batches$Grouping5.Y   0.20011    0.11440   1.749   0.0936 .\n",
       "batches$Grouping7.A   0.24741    0.11440   2.163   0.0412 *\n",
       "batches$Grouping7.Y   0.19332    0.11440   1.690   0.1046  \n",
       "---\n",
       "Signif. codes:  0 ‘***’ 0.001 ‘**’ 0.01 ‘*’ 0.05 ‘.’ 0.1 ‘ ’ 1\n",
       "\n",
       "Residual standard error: 0.1401 on 23 degrees of freedom\n",
       "Multiple R-squared:  0.5485,\tAdjusted R-squared:  0.3326 \n",
       "F-statistic:  2.54 on 11 and 23 DF,  p-value: 0.02863\n",
       "\n",
       "\n",
       "Response Y5 :\n",
       "\n",
       "Call:\n",
       "lm(formula = Y5 ~ batches$Grouping)\n",
       "\n",
       "Residuals:\n",
       "     Min       1Q   Median       3Q      Max \n",
       "-0.41027 -0.03359  0.00704  0.02554  0.44339 \n",
       "\n",
       "Coefficients:\n",
       "                      Estimate Std. Error t value Pr(>|t|)\n",
       "(Intercept)           0.034672   0.100550   0.345    0.733\n",
       "batches$Grouping0.Y  -0.058793   0.127187  -0.462    0.648\n",
       "batches$Grouping1.A  -0.126249   0.158983  -0.794    0.435\n",
       "batches$Grouping1.Y  -0.039878   0.142199  -0.280    0.782\n",
       "batches$Grouping21.A -0.166299   0.158983  -1.046    0.306\n",
       "batches$Grouping21.Y  0.062926   0.158983   0.396    0.696\n",
       "batches$Grouping3.A   0.067975   0.133015   0.511    0.614\n",
       "batches$Grouping3.Y   0.111690   0.142199   0.785    0.440\n",
       "batches$Grouping5.A  -0.267619   0.158983  -1.683    0.106\n",
       "batches$Grouping5.Y  -0.009266   0.142199  -0.065    0.949\n",
       "batches$Grouping7.A  -0.087365   0.142199  -0.614    0.545\n",
       "batches$Grouping7.Y  -0.040839   0.142199  -0.287    0.777\n",
       "\n",
       "Residual standard error: 0.1742 on 23 degrees of freedom\n",
       "Multiple R-squared:  0.3024,\tAdjusted R-squared:  -0.03125 \n",
       "F-statistic: 0.9063 on 11 and 23 DF,  p-value: 0.5494\n",
       "\n"
      ]
     },
     "metadata": {},
     "output_type": "display_data"
    }
   ],
   "source": [
    "summary(lm(sva.obj$sv ~ batches$Grouping))\n"
   ]
  },
  {
   "cell_type": "code",
   "execution_count": 465,
   "metadata": {
    "ExecuteTime": {
     "end_time": "2020-03-20T05:39:04.190028Z",
     "start_time": "2020-03-20T05:38:39.358Z"
    }
   },
   "outputs": [],
   "source": [
    "sur_var=data.frame(sva.obj$sv)\n",
    "sur_var=subset(sur_var,select=c(\"X1\",\"X4\",\"X5\"))"
   ]
  },
  {
   "cell_type": "code",
   "execution_count": 466,
   "metadata": {
    "ExecuteTime": {
     "end_time": "2020-03-20T05:39:04.209536Z",
     "start_time": "2020-03-20T05:38:39.360Z"
    }
   },
   "outputs": [
    {
     "data": {
      "text/html": [
       "<table>\n",
       "<caption>A data.frame: 6 × 3</caption>\n",
       "<thead>\n",
       "\t<tr><th scope=col>X1</th><th scope=col>X4</th><th scope=col>X5</th></tr>\n",
       "\t<tr><th scope=col>&lt;dbl&gt;</th><th scope=col>&lt;dbl&gt;</th><th scope=col>&lt;dbl&gt;</th></tr>\n",
       "</thead>\n",
       "<tbody>\n",
       "\t<tr><td> 0.1716799</td><td>-0.32124644</td><td> 0.1655480</td></tr>\n",
       "\t<tr><td> 0.3581569</td><td>-0.18743028</td><td> 0.1693453</td></tr>\n",
       "\t<tr><td>-0.1816449</td><td> 0.14625943</td><td>-0.2308775</td></tr>\n",
       "\t<tr><td> 0.2356109</td><td> 0.00117383</td><td>-0.1461029</td></tr>\n",
       "\t<tr><td> 0.2740739</td><td> 0.05809736</td><td>-0.1108559</td></tr>\n",
       "\t<tr><td> 0.2752381</td><td> 0.03393413</td><td>-0.1307943</td></tr>\n",
       "</tbody>\n",
       "</table>\n"
      ],
      "text/latex": [
       "A data.frame: 6 × 3\n",
       "\\begin{tabular}{r|lll}\n",
       " X1 & X4 & X5\\\\\n",
       " <dbl> & <dbl> & <dbl>\\\\\n",
       "\\hline\n",
       "\t  0.1716799 & -0.32124644 &  0.1655480\\\\\n",
       "\t  0.3581569 & -0.18743028 &  0.1693453\\\\\n",
       "\t -0.1816449 &  0.14625943 & -0.2308775\\\\\n",
       "\t  0.2356109 &  0.00117383 & -0.1461029\\\\\n",
       "\t  0.2740739 &  0.05809736 & -0.1108559\\\\\n",
       "\t  0.2752381 &  0.03393413 & -0.1307943\\\\\n",
       "\\end{tabular}\n"
      ],
      "text/markdown": [
       "\n",
       "A data.frame: 6 × 3\n",
       "\n",
       "| X1 &lt;dbl&gt; | X4 &lt;dbl&gt; | X5 &lt;dbl&gt; |\n",
       "|---|---|---|\n",
       "|  0.1716799 | -0.32124644 |  0.1655480 |\n",
       "|  0.3581569 | -0.18743028 |  0.1693453 |\n",
       "| -0.1816449 |  0.14625943 | -0.2308775 |\n",
       "|  0.2356109 |  0.00117383 | -0.1461029 |\n",
       "|  0.2740739 |  0.05809736 | -0.1108559 |\n",
       "|  0.2752381 |  0.03393413 | -0.1307943 |\n",
       "\n"
      ],
      "text/plain": [
       "  X1         X4          X5        \n",
       "1  0.1716799 -0.32124644  0.1655480\n",
       "2  0.3581569 -0.18743028  0.1693453\n",
       "3 -0.1816449  0.14625943 -0.2308775\n",
       "4  0.2356109  0.00117383 -0.1461029\n",
       "5  0.2740739  0.05809736 -0.1108559\n",
       "6  0.2752381  0.03393413 -0.1307943"
      ]
     },
     "metadata": {},
     "output_type": "display_data"
    }
   ],
   "source": [
    "head(sur_var)"
   ]
  },
  {
   "cell_type": "code",
   "execution_count": 467,
   "metadata": {
    "ExecuteTime": {
     "end_time": "2020-03-20T05:39:04.217507Z",
     "start_time": "2020-03-20T05:38:39.361Z"
    }
   },
   "outputs": [],
   "source": [
    "full.design.sv=cbind(mod1,sur_var)\n"
   ]
  },
  {
   "cell_type": "code",
   "execution_count": 468,
   "metadata": {
    "ExecuteTime": {
     "end_time": "2020-03-20T05:39:04.231678Z",
     "start_time": "2020-03-20T05:38:39.363Z"
    }
   },
   "outputs": [],
   "source": [
    "#save the full design so we don't have to run SVA next time \n",
    "write.table(full.design.sv,file=\"full.design.sv.txt\",quote=FALSE,sep='\\t')\n"
   ]
  },
  {
   "cell_type": "code",
   "execution_count": 469,
   "metadata": {
    "ExecuteTime": {
     "end_time": "2020-03-20T05:39:04.241023Z",
     "start_time": "2020-03-20T05:38:39.367Z"
    }
   },
   "outputs": [],
   "source": [
    "#full.design.sv=read.table(\"full.design.sv.txt\",header=TRUE,sep='\\t')\n"
   ]
  },
  {
   "cell_type": "markdown",
   "metadata": {},
   "source": [
    "### Perform pca on the \"cleaned\" matrix with surrogate variable contributions removed\n"
   ]
  },
  {
   "cell_type": "code",
   "execution_count": 470,
   "metadata": {
    "ExecuteTime": {
     "end_time": "2020-03-20T05:39:04.253257Z",
     "start_time": "2020-03-20T05:38:39.370Z"
    }
   },
   "outputs": [
    {
     "data": {
      "text/html": [
       "35"
      ],
      "text/latex": [
       "35"
      ],
      "text/markdown": [
       "35"
      ],
      "text/plain": [
       "[1] 35"
      ]
     },
     "metadata": {},
     "output_type": "display_data"
    }
   ],
   "source": [
    "nrow(batches)"
   ]
  },
  {
   "cell_type": "code",
   "execution_count": 471,
   "metadata": {
    "ExecuteTime": {
     "end_time": "2020-03-20T05:39:04.456431Z",
     "start_time": "2020-03-20T05:38:39.371Z"
    }
   },
   "outputs": [],
   "source": [
    "\n",
    "#cleaned_E=removeBatchEffect(E,covariates=sur_var,design=model.matrix(~0+Day+Age,data=batches))\n",
    "cleaned_E=removeBatchEffect(E,covariates=sur_var,design=model.matrix(~0+Grouping,data=batches))\n",
    "#cleaned_E=removeBatchEffect(E,covariates=sur_var,design=model.matrix(~0+Age+Day,data=batches))"
   ]
  },
  {
   "cell_type": "code",
   "execution_count": 472,
   "metadata": {
    "ExecuteTime": {
     "end_time": "2020-03-20T05:39:06.195642Z",
     "start_time": "2020-03-20T05:38:39.373Z"
    }
   },
   "outputs": [],
   "source": [
    "write.table(cleaned_E,file=\"RNA_asinh_tpm_minus_sva_contribs.txt\",sep='\\t')"
   ]
  },
  {
   "cell_type": "code",
   "execution_count": 475,
   "metadata": {
    "ExecuteTime": {
     "end_time": "2020-03-20T05:39:19.562574Z",
     "start_time": "2020-03-20T05:39:17.539Z"
    }
   },
   "outputs": [],
   "source": [
    "write.table(sinh(cleaned_E),file=\"RNA_transformed_tpm_minus_sva_contribs.txt\",sep='\\t')"
   ]
  },
  {
   "cell_type": "code",
   "execution_count": 362,
   "metadata": {
    "ExecuteTime": {
     "end_time": "2020-03-19T23:04:08.213069Z",
     "start_time": "2020-03-19T23:04:07.731Z"
    }
   },
   "outputs": [],
   "source": [
    "## Run replicate correlation on SVA corrected dataset \n",
    "spearman_cor=cor(cleaned_E, method = \"spearman\")\n",
    "pearson_cor=cor(cleaned_E,method=\"pearson\")"
   ]
  },
  {
   "cell_type": "code",
   "execution_count": 363,
   "metadata": {
    "ExecuteTime": {
     "end_time": "2020-03-19T23:04:08.962107Z",
     "start_time": "2020-03-19T23:04:08.914Z"
    }
   },
   "outputs": [],
   "source": [
    "write.table(spearman_cor,file=\"rna.corrected.spearman_r.tsv\",quote=FALSE)\n",
    "write.table(pearson_cor,file=\"rna.corrected.pearson_r.tsv\",quote=FALSE)"
   ]
  },
  {
   "cell_type": "code",
   "execution_count": 364,
   "metadata": {
    "ExecuteTime": {
     "end_time": "2020-03-19T23:04:09.946470Z",
     "start_time": "2020-03-19T23:04:09.455Z"
    }
   },
   "outputs": [
    {
     "data": {
      "text/html": [
       "<strong>png:</strong> 2"
      ],
      "text/latex": [
       "\\textbf{png:} 2"
      ],
      "text/markdown": [
       "**png:** 2"
      ],
      "text/plain": [
       "png \n",
       "  2 "
      ]
     },
     "metadata": {},
     "output_type": "display_data"
    }
   ],
   "source": [
    "\n",
    "svg(filename=\"RNA_rep_spearman_cor_postSVA.svg\",\n",
    "   height=8,\n",
    "   width=8,\n",
    "   pointsize=12)\n",
    "cur_h=heatmap.2(as.matrix(spearman_cor), \n",
    "          trace=\"none\", \n",
    "          scale=\"none\", \n",
    "          Rowv=TRUE,\n",
    "          Colv=TRUE,\n",
    "          col=rev(cols), \n",
    "          dendrogram=\"none\",\n",
    "          margins=c(12,12),          \n",
    "          main=\"RNA-seq replicates spearman correlation -- post-SVA \")\n",
    "dev.off() \n",
    "\n"
   ]
  },
  {
   "cell_type": "code",
   "execution_count": 365,
   "metadata": {
    "ExecuteTime": {
     "end_time": "2020-03-19T23:04:10.408785Z",
     "start_time": "2020-03-19T23:04:09.930Z"
    }
   },
   "outputs": [
    {
     "data": {
      "text/html": [
       "<strong>png:</strong> 2"
      ],
      "text/latex": [
       "\\textbf{png:} 2"
      ],
      "text/markdown": [
       "**png:** 2"
      ],
      "text/plain": [
       "png \n",
       "  2 "
      ]
     },
     "metadata": {},
     "output_type": "display_data"
    }
   ],
   "source": [
    "svg(filename=\"RNA_rep_pearson_cor_postSVA.svg\",\n",
    "   height=8,\n",
    "   width=8,\n",
    "   pointsize=12)\n",
    "\n",
    "cur_h=heatmap.2(as.matrix(pearson_cor), \n",
    "          trace=\"none\", \n",
    "          scale=\"none\", \n",
    "          Rowv=TRUE,\n",
    "          Colv=TRUE,\n",
    "          col=rev(cols), \n",
    "          dendrogram=\"none\",\n",
    "          margins=c(12,12),          \n",
    "          main=\"RNA-seq replicates pearson correlation -- post SVA\")\n",
    "dev.off() \n"
   ]
  },
  {
   "cell_type": "code",
   "execution_count": 366,
   "metadata": {
    "ExecuteTime": {
     "end_time": "2020-03-19T23:04:10.659425Z",
     "start_time": "2020-03-19T23:04:10.327Z"
    }
   },
   "outputs": [],
   "source": [
    "data.pca=prcomp(t(cleaned_E))"
   ]
  },
  {
   "cell_type": "code",
   "execution_count": 367,
   "metadata": {
    "ExecuteTime": {
     "end_time": "2020-03-19T23:04:11.156389Z",
     "start_time": "2020-03-19T23:04:11.126Z"
    }
   },
   "outputs": [],
   "source": [
    "var_explained=as.character(round(100*data.pca$sdev^2/sum(data.pca$sdev^2),2))\n"
   ]
  },
  {
   "cell_type": "code",
   "execution_count": 368,
   "metadata": {
    "ExecuteTime": {
     "end_time": "2020-03-19T23:04:11.787170Z",
     "start_time": "2020-03-19T23:04:11.739Z"
    }
   },
   "outputs": [
    {
     "name": "stdout",
     "output_type": "stream",
     "text": [
      "      [,1]\n",
      " [1,]  0.7\n",
      " [2,]  1.9\n",
      " [3,]  3.1\n",
      " [4,]  4.3\n",
      " [5,]  5.5\n",
      " [6,]  6.7\n",
      " [7,]  7.9\n",
      " [8,]  9.1\n",
      " [9,] 10.3\n",
      "[10,] 11.5\n",
      "[11,] 12.7\n",
      "[12,] 13.9\n",
      "[13,] 15.1\n",
      "[14,] 16.3\n",
      "[15,] 17.5\n",
      "[16,] 18.7\n",
      "[17,] 19.9\n",
      "[18,] 21.1\n",
      "[19,] 22.3\n",
      "[20,] 23.5\n",
      "[21,] 24.7\n",
      "[22,] 25.9\n",
      "[23,] 27.1\n",
      "[24,] 28.3\n",
      "[25,] 29.5\n",
      "[26,] 30.7\n",
      "[27,] 31.9\n",
      "[28,] 33.1\n",
      "[29,] 34.3\n",
      "[30,] 35.5\n",
      "[31,] 36.7\n",
      "[32,] 37.9\n",
      "[33,] 39.1\n",
      "[34,] 40.3\n",
      "[35,] 41.5\n"
     ]
    },
    {
     "data": {
      "text/html": [
       "<strong>png:</strong> 2"
      ],
      "text/latex": [
       "\\textbf{png:} 2"
      ],
      "text/markdown": [
       "**png:** 2"
      ],
      "text/plain": [
       "png \n",
       "  2 "
      ]
     },
     "metadata": {},
     "output_type": "display_data"
    }
   ],
   "source": [
    "svg(filename=\"age_rna_corrected_scree.svg\",\n",
    "   height=3,\n",
    "   width=4,\n",
    "   pointsize=12)\n",
    "print(barplot(100*data.pca$sdev^2/sum(data.pca$sdev^2),las=2,ylab=\"% Variance Explained\",xlab=\"Principal Component\",ylim=c(0,100), xlim=c(0,10)))\n",
    "dev.off()"
   ]
  },
  {
   "cell_type": "code",
   "execution_count": 369,
   "metadata": {
    "ExecuteTime": {
     "end_time": "2020-03-19T23:04:12.185138Z",
     "start_time": "2020-03-19T23:04:12.149Z"
    }
   },
   "outputs": [
    {
     "data": {
      "text/html": [
       "<ol class=list-inline>\n",
       "\t<li>'39.2'</li>\n",
       "\t<li>'10.84'</li>\n",
       "\t<li>'7.8'</li>\n",
       "\t<li>'6.45'</li>\n",
       "\t<li>'5.68'</li>\n",
       "\t<li>'3.88'</li>\n",
       "\t<li>'3.3'</li>\n",
       "\t<li>'2.9'</li>\n",
       "\t<li>'2.77'</li>\n",
       "\t<li>'2'</li>\n",
       "</ol>\n"
      ],
      "text/latex": [
       "\\begin{enumerate*}\n",
       "\\item '39.2'\n",
       "\\item '10.84'\n",
       "\\item '7.8'\n",
       "\\item '6.45'\n",
       "\\item '5.68'\n",
       "\\item '3.88'\n",
       "\\item '3.3'\n",
       "\\item '2.9'\n",
       "\\item '2.77'\n",
       "\\item '2'\n",
       "\\end{enumerate*}\n"
      ],
      "text/markdown": [
       "1. '39.2'\n",
       "2. '10.84'\n",
       "3. '7.8'\n",
       "4. '6.45'\n",
       "5. '5.68'\n",
       "6. '3.88'\n",
       "7. '3.3'\n",
       "8. '2.9'\n",
       "9. '2.77'\n",
       "10. '2'\n",
       "\n",
       "\n"
      ],
      "text/plain": [
       " [1] \"39.2\"  \"10.84\" \"7.8\"   \"6.45\"  \"5.68\"  \"3.88\"  \"3.3\"   \"2.9\"   \"2.77\" \n",
       "[10] \"2\"    "
      ]
     },
     "metadata": {},
     "output_type": "display_data"
    }
   ],
   "source": [
    "var_explained[0:10]\n"
   ]
  },
  {
   "cell_type": "code",
   "execution_count": 370,
   "metadata": {
    "ExecuteTime": {
     "end_time": "2020-03-19T23:04:13.312111Z",
     "start_time": "2020-03-19T23:04:13.277Z"
    }
   },
   "outputs": [],
   "source": [
    "pca_df=data.frame(data.pca$x)\n",
    "pca_df=cbind(pca_df,batches)\n",
    "pca_df$Day=factor(pca_df$Day)"
   ]
  },
  {
   "cell_type": "code",
   "execution_count": 371,
   "metadata": {
    "ExecuteTime": {
     "end_time": "2020-03-19T23:04:15.529402Z",
     "start_time": "2020-03-19T23:04:15.498Z"
    }
   },
   "outputs": [
    {
     "data": {
      "text/html": [
       "<strong>null device:</strong> 1"
      ],
      "text/latex": [
       "\\textbf{null device:} 1"
      ],
      "text/markdown": [
       "**null device:** 1"
      ],
      "text/plain": [
       "null device \n",
       "          1 "
      ]
     },
     "metadata": {},
     "output_type": "display_data"
    }
   ],
   "source": [
    "dev.off()"
   ]
  },
  {
   "cell_type": "code",
   "execution_count": 385,
   "metadata": {
    "ExecuteTime": {
     "end_time": "2020-03-19T23:08:01.337881Z",
     "start_time": "2020-03-19T23:08:00.978Z"
    }
   },
   "outputs": [
    {
     "data": {
      "text/html": [
       "<strong>png:</strong> 2"
      ],
      "text/latex": [
       "\\textbf{png:} 2"
      ],
      "text/markdown": [
       "**png:** 2"
      ],
      "text/plain": [
       "png \n",
       "  2 "
      ]
     },
     "metadata": {},
     "output_type": "display_data"
    }
   ],
   "source": [
    "svg(filename=\"age_rna_corrected_PC1_vs_PC2.svg\",\n",
    "   height=5,\n",
    "   width=6,\n",
    "   pointsize=12)\n",
    "print(ggplot(data=pca_df,aes(x=pca_df$PC1,y=pca_df$PC2,color=pca_df$Day,shape=pca_df$Age,label=pca_df$Rep))+\n",
    "geom_point(size=5)+\n",
    "geom_text(size=3,color='black',alpha=0.5)+\n",
    "scale_shape(name=\"Age\")+\n",
    "scale_color_manual(name=\"Day After Injury\", values=c('#1b9e77','#d95f02','#7570b3','#e7298a','#66a61e','#e6ab02'))+\n",
    "xlab(\"PC1: 39.2%\")+\n",
    "ylab(\"PC2: 10.8%\")+\n",
    "theme_bw())\n",
    "dev.off()"
   ]
  },
  {
   "cell_type": "code",
   "execution_count": 386,
   "metadata": {
    "ExecuteTime": {
     "end_time": "2020-03-19T23:08:01.689139Z",
     "start_time": "2020-03-19T23:08:01.094Z"
    }
   },
   "outputs": [
    {
     "data": {
      "text/html": [
       "<strong>png:</strong> 2"
      ],
      "text/latex": [
       "\\textbf{png:} 2"
      ],
      "text/markdown": [
       "**png:** 2"
      ],
      "text/plain": [
       "png \n",
       "  2 "
      ]
     },
     "metadata": {},
     "output_type": "display_data"
    }
   ],
   "source": [
    "svg(filename=\"age_rna_corrected_PC2_vs_PC3.svg\",\n",
    "   height=5,\n",
    "   width=6,\n",
    "   pointsize=12)\n",
    "print(ggplot(data=pca_df,aes(x=pca_df$PC2,y=pca_df$PC3,color=pca_df$Day,shape=pca_df$Age,label=pca_df$Rep))+\n",
    "geom_point(size=5)+\n",
    "geom_text(size=3,color='black',alpha=0.5)+\n",
    "scale_shape(name=\"Age\")+\n",
    "scale_color_manual(name=\"Day After Injury\", values=c('#1b9e77','#d95f02','#7570b3','#e7298a','#66a61e','#e6ab02'))+\n",
    "xlab(\"PC2: 10.8%\")+\n",
    "ylab(\"PC3: 7.8%\")+\n",
    "theme_bw())\n",
    "dev.off()"
   ]
  },
  {
   "cell_type": "code",
   "execution_count": 387,
   "metadata": {
    "ExecuteTime": {
     "end_time": "2020-03-19T23:08:02.023476Z",
     "start_time": "2020-03-19T23:08:01.217Z"
    },
    "scrolled": true
   },
   "outputs": [
    {
     "data": {
      "text/html": [
       "<strong>png:</strong> 2"
      ],
      "text/latex": [
       "\\textbf{png:} 2"
      ],
      "text/markdown": [
       "**png:** 2"
      ],
      "text/plain": [
       "png \n",
       "  2 "
      ]
     },
     "metadata": {},
     "output_type": "display_data"
    }
   ],
   "source": [
    "svg(filename=\"age_rna_corrected_PC1_vs_PC3.svg\",\n",
    "   height=5,\n",
    "   width=6,\n",
    "   pointsize=12)\n",
    "print(ggplot(data=pca_df,aes(x=pca_df$PC1,y=pca_df$PC3,color=pca_df$Day,shape=pca_df$Age,label=pca_df$Rep))+\n",
    "geom_point(size=5)+\n",
    "geom_text(size=3,color='black',alpha=0.5)+\n",
    "scale_shape(name=\"Age\")+\n",
    "scale_color_manual(name=\"Day After Injury\", values=c('#1b9e77','#d95f02','#7570b3','#e7298a','#66a61e','#e6ab02'))+\n",
    "xlab(\"PC1: 39.2%\")+\n",
    "ylab(\"PC3: 7.8%\")+\n",
    "theme_bw())\n",
    "dev.off()"
   ]
  },
  {
   "cell_type": "code",
   "execution_count": 388,
   "metadata": {
    "ExecuteTime": {
     "end_time": "2020-03-19T23:08:02.036962Z",
     "start_time": "2020-03-19T23:08:01.946Z"
    }
   },
   "outputs": [
    {
     "data": {
      "text/html": [
       "<strong>null device:</strong> 1"
      ],
      "text/latex": [
       "\\textbf{null device:} 1"
      ],
      "text/markdown": [
       "**null device:** 1"
      ],
      "text/plain": [
       "null device \n",
       "          1 "
      ]
     },
     "metadata": {},
     "output_type": "display_data"
    }
   ],
   "source": [
    "dev.off() \n"
   ]
  },
  {
   "cell_type": "markdown",
   "metadata": {},
   "source": [
    "### fit model with limma "
   ]
  },
  {
   "cell_type": "code",
   "execution_count": 389,
   "metadata": {
    "ExecuteTime": {
     "end_time": "2020-03-19T23:08:03.175227Z",
     "start_time": "2020-03-19T23:08:02.963Z"
    }
   },
   "outputs": [],
   "source": [
    "#fit <- lmFit(E,full.design.sv)\n",
    "fit = lmFit(cleaned_E,model.matrix(~0+Grouping,data=batches))"
   ]
  },
  {
   "cell_type": "code",
   "execution_count": 390,
   "metadata": {
    "ExecuteTime": {
     "end_time": "2020-03-19T23:08:03.256978Z",
     "start_time": "2020-03-19T23:08:03.207Z"
    }
   },
   "outputs": [
    {
     "data": {
      "text/html": [
       "<table>\n",
       "<caption>A matrix: 6 × 35 of type dbl</caption>\n",
       "<thead>\n",
       "\t<tr><th></th><th scope=col>d0_A_Rep1</th><th scope=col>d0_A_Rep2</th><th scope=col>d0_A_Rep4</th><th scope=col>d0_Y_Rep2</th><th scope=col>d0_Y_Rep3</th><th scope=col>d0_Y_Rep4</th><th scope=col>d0_Y_Rep5</th><th scope=col>d0_Y_Rep6</th><th scope=col>d1_A_Rep1</th><th scope=col>d1_A_Rep2</th><th scope=col>⋯</th><th scope=col>d7_A_Rep1</th><th scope=col>d7_A_Rep2</th><th scope=col>d7_A_Rep4</th><th scope=col>d7_Y_Rep1</th><th scope=col>d7_Y_Rep2</th><th scope=col>d7_Y_Rep3</th><th scope=col>d21_A_Rep1</th><th scope=col>d21_A_Rep2</th><th scope=col>d21_Y_Rep2</th><th scope=col>d21_Y_Rep3</th></tr>\n",
       "</thead>\n",
       "<tbody>\n",
       "\t<tr><th scope=row>ENSMUSG00000000001_Gnai3</th><td>4.6226989</td><td>4.8904272</td><td>4.9128842</td><td>6.10524960</td><td>5.2562732</td><td>5.7446914</td><td>5.58810647</td><td>5.6349763</td><td>5.64159999</td><td>5.681974</td><td>⋯</td><td>5.64285633</td><td>5.61001265</td><td>5.3673478</td><td>5.44731841</td><td>5.410556</td><td> 5.6255309</td><td>5.38675977</td><td>5.3074516</td><td> 5.1390564</td><td> 5.8847222</td></tr>\n",
       "\t<tr><th scope=row>ENSMUSG00000000028_Cdc45</th><td>1.5874087</td><td>2.0558406</td><td>2.4606588</td><td>2.87174703</td><td>2.7776097</td><td>2.6871836</td><td>3.38103177</td><td>1.8574525</td><td>4.50816979</td><td>4.378520</td><td>⋯</td><td>3.63541320</td><td>3.68763072</td><td>3.2131716</td><td>4.11214858</td><td>2.865086</td><td> 4.5105968</td><td>2.01317494</td><td>1.8136211</td><td> 1.2431797</td><td> 2.0869658</td></tr>\n",
       "\t<tr><th scope=row>ENSMUSG00000000031_H19</th><td>1.6986316</td><td>1.6636379</td><td>2.0946980</td><td>0.31397291</td><td>1.9719771</td><td>1.3389436</td><td>1.69360610</td><td>0.8123971</td><td>2.00201252</td><td>2.272811</td><td>⋯</td><td>4.65807531</td><td>4.77649015</td><td>4.2075902</td><td>5.00874749</td><td>3.638468</td><td> 4.3909659</td><td>3.03748962</td><td>3.1223516</td><td> 1.7417228</td><td> 1.4367049</td></tr>\n",
       "\t<tr><th scope=row>ENSMUSG00000000037_Scml2</th><td>0.9053910</td><td>1.0152058</td><td>0.9135097</td><td>1.39671241</td><td>1.0181678</td><td>1.0659666</td><td>1.26195193</td><td>1.0706260</td><td>1.38028081</td><td>1.154077</td><td>⋯</td><td>1.46888214</td><td>1.26208437</td><td>1.5343184</td><td>1.08983067</td><td>1.141233</td><td> 1.2900676</td><td>0.87173691</td><td>1.2834680</td><td> 0.2896408</td><td> 0.9651325</td></tr>\n",
       "\t<tr><th scope=row>ENSMUSG00000000049_Apoh</th><td>0.8556486</td><td>0.7585839</td><td>0.5228021</td><td>0.01492557</td><td>0.1172259</td><td>0.2602884</td><td>0.07322952</td><td>0.2581641</td><td>0.08951951</td><td>0.976122</td><td>⋯</td><td>0.08126926</td><td>0.08154572</td><td>0.5608123</td><td>0.09655915</td><td>0.213835</td><td>-0.1116508</td><td>0.07097623</td><td>0.1327868</td><td>-0.1109352</td><td>-0.1101817</td></tr>\n",
       "\t<tr><th scope=row>ENSMUSG00000000056_Narf</th><td>2.5369584</td><td>2.3142511</td><td>2.6969144</td><td>3.13168890</td><td>3.1391551</td><td>2.9636860</td><td>2.89611748</td><td>3.3920972</td><td>1.96421992</td><td>2.433974</td><td>⋯</td><td>3.07044183</td><td>2.91165499</td><td>2.3348080</td><td>2.38754103</td><td>3.039408</td><td> 2.8229758</td><td>3.14819519</td><td>3.2342959</td><td> 2.7298025</td><td> 3.0796836</td></tr>\n",
       "</tbody>\n",
       "</table>\n"
      ],
      "text/latex": [
       "A matrix: 6 × 35 of type dbl\n",
       "\\begin{tabular}{r|lllllllllllllllllllllllllllllllllll}\n",
       "  & d0\\_A\\_Rep1 & d0\\_A\\_Rep2 & d0\\_A\\_Rep4 & d0\\_Y\\_Rep2 & d0\\_Y\\_Rep3 & d0\\_Y\\_Rep4 & d0\\_Y\\_Rep5 & d0\\_Y\\_Rep6 & d1\\_A\\_Rep1 & d1\\_A\\_Rep2 & d1\\_Y\\_Rep1 & d1\\_Y\\_Rep2 & d1\\_Y\\_Rep4 & d3\\_A\\_Rep1 & d3\\_A\\_Rep2 & d3\\_A\\_Rep3 & d3\\_A\\_Rep4 & d3\\_Y\\_Rep1 & d3\\_Y\\_Rep2 & d3\\_Y\\_Rep3 & d5\\_A\\_Rep1 & d5\\_A\\_Rep2 & d5\\_Y\\_Rep1 & d5\\_Y\\_Rep2 & d5\\_Y\\_Rep3 & d7\\_A\\_Rep1 & d7\\_A\\_Rep2 & d7\\_A\\_Rep4 & d7\\_Y\\_Rep1 & d7\\_Y\\_Rep2 & d7\\_Y\\_Rep3 & d21\\_A\\_Rep1 & d21\\_A\\_Rep2 & d21\\_Y\\_Rep2 & d21\\_Y\\_Rep3\\\\\n",
       "\\hline\n",
       "\tENSMUSG00000000001\\_Gnai3 & 4.6226989 & 4.8904272 & 4.9128842 & 6.10524960 & 5.2562732 & 5.7446914 & 5.58810647 & 5.6349763 & 5.64159999 & 5.681974 & 5.4967126 & 5.5464891 & 5.4596038 &  5.5770001 &  5.41149385 & 5.36896218 & 5.4702275 &  5.71809956 &  5.70381403 &  5.43127060 & 5.82076471 & 5.8046105 &  5.84340190 & 5.79930884 &  5.72032515 & 5.64285633 & 5.61001265 & 5.3673478 & 5.44731841 & 5.410556 &  5.6255309 & 5.38675977 & 5.3074516 &  5.1390564 &  5.8847222\\\\\n",
       "\tENSMUSG00000000028\\_Cdc45 & 1.5874087 & 2.0558406 & 2.4606588 & 2.87174703 & 2.7776097 & 2.6871836 & 3.38103177 & 1.8574525 & 4.50816979 & 4.378520 & 2.2483219 & 2.0668729 & 2.0044773 &  5.1846167 &  5.55028505 & 4.83940755 & 5.0146879 &  4.93630722 &  4.96254153 &  5.42606566 & 2.59260531 & 2.3957250 &  4.08400356 & 4.05163705 &  4.30224352 & 3.63541320 & 3.68763072 & 3.2131716 & 4.11214858 & 2.865086 &  4.5105968 & 2.01317494 & 1.8136211 &  1.2431797 &  2.0869658\\\\\n",
       "\tENSMUSG00000000031\\_H19 & 1.6986316 & 1.6636379 & 2.0946980 & 0.31397291 & 1.9719771 & 1.3389436 & 1.69360610 & 0.8123971 & 2.00201252 & 2.272811 & 2.1892567 & 1.7653682 & 2.0934552 &  4.1950075 &  4.44775786 & 4.04947470 & 4.3144023 &  4.78751508 &  4.75946418 &  5.39247887 & 1.69192270 & 1.6456566 &  5.16113273 & 5.01414895 &  5.59211441 & 4.65807531 & 4.77649015 & 4.2075902 & 5.00874749 & 3.638468 &  4.3909659 & 3.03748962 & 3.1223516 &  1.7417228 &  1.4367049\\\\\n",
       "\tENSMUSG00000000037\\_Scml2 & 0.9053910 & 1.0152058 & 0.9135097 & 1.39671241 & 1.0181678 & 1.0659666 & 1.26195193 & 1.0706260 & 1.38028081 & 1.154077 & 0.9489269 & 1.0746117 & 1.0250382 &  1.2576341 &  1.54754993 & 1.25544203 & 1.5982302 &  1.45176323 &  1.21231819 &  1.31566473 & 0.36425986 & 0.4832048 &  1.76065461 & 1.65705519 &  1.91970894 & 1.46888214 & 1.26208437 & 1.5343184 & 1.08983067 & 1.141233 &  1.2900676 & 0.87173691 & 1.2834680 &  0.2896408 &  0.9651325\\\\\n",
       "\tENSMUSG00000000049\\_Apoh & 0.8556486 & 0.7585839 & 0.5228021 & 0.01492557 & 0.1172259 & 0.2602884 & 0.07322952 & 0.2581641 & 0.08951951 & 0.976122 & 0.6635197 & 0.7555484 & 0.3246242 & -0.0662995 & -0.05499177 & 0.06522622 & 0.3209606 & -0.07814413 & -0.03413199 & -0.06006701 & 0.08204653 & 0.0768094 & -0.01713731 & 0.02435934 & -0.01555821 & 0.08126926 & 0.08154572 & 0.5608123 & 0.09655915 & 0.213835 & -0.1116508 & 0.07097623 & 0.1327868 & -0.1109352 & -0.1101817\\\\\n",
       "\tENSMUSG00000000056\\_Narf & 2.5369584 & 2.3142511 & 2.6969144 & 3.13168890 & 3.1391551 & 2.9636860 & 2.89611748 & 3.3920972 & 1.96421992 & 2.433974 & 2.8083779 & 2.7944261 & 2.9020435 &  3.0557286 &  2.77637501 & 2.19065480 & 2.8618093 &  3.94036507 &  3.65948216 &  3.56749156 & 3.27900657 & 3.1439542 &  3.06884613 & 2.92011809 &  3.04306058 & 3.07044183 & 2.91165499 & 2.3348080 & 2.38754103 & 3.039408 &  2.8229758 & 3.14819519 & 3.2342959 &  2.7298025 &  3.0796836\\\\\n",
       "\\end{tabular}\n"
      ],
      "text/markdown": [
       "\n",
       "A matrix: 6 × 35 of type dbl\n",
       "\n",
       "| <!--/--> | d0_A_Rep1 | d0_A_Rep2 | d0_A_Rep4 | d0_Y_Rep2 | d0_Y_Rep3 | d0_Y_Rep4 | d0_Y_Rep5 | d0_Y_Rep6 | d1_A_Rep1 | d1_A_Rep2 | ⋯ | d7_A_Rep1 | d7_A_Rep2 | d7_A_Rep4 | d7_Y_Rep1 | d7_Y_Rep2 | d7_Y_Rep3 | d21_A_Rep1 | d21_A_Rep2 | d21_Y_Rep2 | d21_Y_Rep3 |\n",
       "|---|---|---|---|---|---|---|---|---|---|---|---|---|---|---|---|---|---|---|---|---|---|\n",
       "| ENSMUSG00000000001_Gnai3 | 4.6226989 | 4.8904272 | 4.9128842 | 6.10524960 | 5.2562732 | 5.7446914 | 5.58810647 | 5.6349763 | 5.64159999 | 5.681974 | ⋯ | 5.64285633 | 5.61001265 | 5.3673478 | 5.44731841 | 5.410556 |  5.6255309 | 5.38675977 | 5.3074516 |  5.1390564 |  5.8847222 |\n",
       "| ENSMUSG00000000028_Cdc45 | 1.5874087 | 2.0558406 | 2.4606588 | 2.87174703 | 2.7776097 | 2.6871836 | 3.38103177 | 1.8574525 | 4.50816979 | 4.378520 | ⋯ | 3.63541320 | 3.68763072 | 3.2131716 | 4.11214858 | 2.865086 |  4.5105968 | 2.01317494 | 1.8136211 |  1.2431797 |  2.0869658 |\n",
       "| ENSMUSG00000000031_H19 | 1.6986316 | 1.6636379 | 2.0946980 | 0.31397291 | 1.9719771 | 1.3389436 | 1.69360610 | 0.8123971 | 2.00201252 | 2.272811 | ⋯ | 4.65807531 | 4.77649015 | 4.2075902 | 5.00874749 | 3.638468 |  4.3909659 | 3.03748962 | 3.1223516 |  1.7417228 |  1.4367049 |\n",
       "| ENSMUSG00000000037_Scml2 | 0.9053910 | 1.0152058 | 0.9135097 | 1.39671241 | 1.0181678 | 1.0659666 | 1.26195193 | 1.0706260 | 1.38028081 | 1.154077 | ⋯ | 1.46888214 | 1.26208437 | 1.5343184 | 1.08983067 | 1.141233 |  1.2900676 | 0.87173691 | 1.2834680 |  0.2896408 |  0.9651325 |\n",
       "| ENSMUSG00000000049_Apoh | 0.8556486 | 0.7585839 | 0.5228021 | 0.01492557 | 0.1172259 | 0.2602884 | 0.07322952 | 0.2581641 | 0.08951951 | 0.976122 | ⋯ | 0.08126926 | 0.08154572 | 0.5608123 | 0.09655915 | 0.213835 | -0.1116508 | 0.07097623 | 0.1327868 | -0.1109352 | -0.1101817 |\n",
       "| ENSMUSG00000000056_Narf | 2.5369584 | 2.3142511 | 2.6969144 | 3.13168890 | 3.1391551 | 2.9636860 | 2.89611748 | 3.3920972 | 1.96421992 | 2.433974 | ⋯ | 3.07044183 | 2.91165499 | 2.3348080 | 2.38754103 | 3.039408 |  2.8229758 | 3.14819519 | 3.2342959 |  2.7298025 |  3.0796836 |\n",
       "\n"
      ],
      "text/plain": [
       "                         d0_A_Rep1 d0_A_Rep2 d0_A_Rep4 d0_Y_Rep2  d0_Y_Rep3\n",
       "ENSMUSG00000000001_Gnai3 4.6226989 4.8904272 4.9128842 6.10524960 5.2562732\n",
       "ENSMUSG00000000028_Cdc45 1.5874087 2.0558406 2.4606588 2.87174703 2.7776097\n",
       "ENSMUSG00000000031_H19   1.6986316 1.6636379 2.0946980 0.31397291 1.9719771\n",
       "ENSMUSG00000000037_Scml2 0.9053910 1.0152058 0.9135097 1.39671241 1.0181678\n",
       "ENSMUSG00000000049_Apoh  0.8556486 0.7585839 0.5228021 0.01492557 0.1172259\n",
       "ENSMUSG00000000056_Narf  2.5369584 2.3142511 2.6969144 3.13168890 3.1391551\n",
       "                         d0_Y_Rep4 d0_Y_Rep5  d0_Y_Rep6 d1_A_Rep1  d1_A_Rep2 ⋯\n",
       "ENSMUSG00000000001_Gnai3 5.7446914 5.58810647 5.6349763 5.64159999 5.681974  ⋯\n",
       "ENSMUSG00000000028_Cdc45 2.6871836 3.38103177 1.8574525 4.50816979 4.378520  ⋯\n",
       "ENSMUSG00000000031_H19   1.3389436 1.69360610 0.8123971 2.00201252 2.272811  ⋯\n",
       "ENSMUSG00000000037_Scml2 1.0659666 1.26195193 1.0706260 1.38028081 1.154077  ⋯\n",
       "ENSMUSG00000000049_Apoh  0.2602884 0.07322952 0.2581641 0.08951951 0.976122  ⋯\n",
       "ENSMUSG00000000056_Narf  2.9636860 2.89611748 3.3920972 1.96421992 2.433974  ⋯\n",
       "                         d7_A_Rep1  d7_A_Rep2  d7_A_Rep4 d7_Y_Rep1  d7_Y_Rep2\n",
       "ENSMUSG00000000001_Gnai3 5.64285633 5.61001265 5.3673478 5.44731841 5.410556 \n",
       "ENSMUSG00000000028_Cdc45 3.63541320 3.68763072 3.2131716 4.11214858 2.865086 \n",
       "ENSMUSG00000000031_H19   4.65807531 4.77649015 4.2075902 5.00874749 3.638468 \n",
       "ENSMUSG00000000037_Scml2 1.46888214 1.26208437 1.5343184 1.08983067 1.141233 \n",
       "ENSMUSG00000000049_Apoh  0.08126926 0.08154572 0.5608123 0.09655915 0.213835 \n",
       "ENSMUSG00000000056_Narf  3.07044183 2.91165499 2.3348080 2.38754103 3.039408 \n",
       "                         d7_Y_Rep3  d21_A_Rep1 d21_A_Rep2 d21_Y_Rep2 d21_Y_Rep3\n",
       "ENSMUSG00000000001_Gnai3  5.6255309 5.38675977 5.3074516   5.1390564  5.8847222\n",
       "ENSMUSG00000000028_Cdc45  4.5105968 2.01317494 1.8136211   1.2431797  2.0869658\n",
       "ENSMUSG00000000031_H19    4.3909659 3.03748962 3.1223516   1.7417228  1.4367049\n",
       "ENSMUSG00000000037_Scml2  1.2900676 0.87173691 1.2834680   0.2896408  0.9651325\n",
       "ENSMUSG00000000049_Apoh  -0.1116508 0.07097623 0.1327868  -0.1109352 -0.1101817\n",
       "ENSMUSG00000000056_Narf   2.8229758 3.14819519 3.2342959   2.7298025  3.0796836"
      ]
     },
     "metadata": {},
     "output_type": "display_data"
    }
   ],
   "source": [
    "head(cleaned_E)"
   ]
  },
  {
   "cell_type": "code",
   "execution_count": 391,
   "metadata": {
    "ExecuteTime": {
     "end_time": "2020-03-19T23:08:04.870969Z",
     "start_time": "2020-03-19T23:08:04.835Z"
    }
   },
   "outputs": [
    {
     "data": {
      "text/html": [
       "<ol class=list-inline>\n",
       "\t<li>'Grouping0.A'</li>\n",
       "\t<li>'Grouping0.Y'</li>\n",
       "\t<li>'Grouping1.A'</li>\n",
       "\t<li>'Grouping1.Y'</li>\n",
       "\t<li>'Grouping21.A'</li>\n",
       "\t<li>'Grouping21.Y'</li>\n",
       "\t<li>'Grouping3.A'</li>\n",
       "\t<li>'Grouping3.Y'</li>\n",
       "\t<li>'Grouping5.A'</li>\n",
       "\t<li>'Grouping5.Y'</li>\n",
       "\t<li>'Grouping7.A'</li>\n",
       "\t<li>'Grouping7.Y'</li>\n",
       "</ol>\n"
      ],
      "text/latex": [
       "\\begin{enumerate*}\n",
       "\\item 'Grouping0.A'\n",
       "\\item 'Grouping0.Y'\n",
       "\\item 'Grouping1.A'\n",
       "\\item 'Grouping1.Y'\n",
       "\\item 'Grouping21.A'\n",
       "\\item 'Grouping21.Y'\n",
       "\\item 'Grouping3.A'\n",
       "\\item 'Grouping3.Y'\n",
       "\\item 'Grouping5.A'\n",
       "\\item 'Grouping5.Y'\n",
       "\\item 'Grouping7.A'\n",
       "\\item 'Grouping7.Y'\n",
       "\\end{enumerate*}\n"
      ],
      "text/markdown": [
       "1. 'Grouping0.A'\n",
       "2. 'Grouping0.Y'\n",
       "3. 'Grouping1.A'\n",
       "4. 'Grouping1.Y'\n",
       "5. 'Grouping21.A'\n",
       "6. 'Grouping21.Y'\n",
       "7. 'Grouping3.A'\n",
       "8. 'Grouping3.Y'\n",
       "9. 'Grouping5.A'\n",
       "10. 'Grouping5.Y'\n",
       "11. 'Grouping7.A'\n",
       "12. 'Grouping7.Y'\n",
       "\n",
       "\n"
      ],
      "text/plain": [
       " [1] \"Grouping0.A\"  \"Grouping0.Y\"  \"Grouping1.A\"  \"Grouping1.Y\"  \"Grouping21.A\"\n",
       " [6] \"Grouping21.Y\" \"Grouping3.A\"  \"Grouping3.Y\"  \"Grouping5.A\"  \"Grouping5.Y\" \n",
       "[11] \"Grouping7.A\"  \"Grouping7.Y\" "
      ]
     },
     "metadata": {},
     "output_type": "display_data"
    }
   ],
   "source": [
    "colnames(fit)\n"
   ]
  },
  {
   "cell_type": "code",
   "execution_count": 392,
   "metadata": {
    "ExecuteTime": {
     "end_time": "2020-03-19T23:08:05.115924Z",
     "start_time": "2020-03-19T23:08:05.084Z"
    }
   },
   "outputs": [
    {
     "data": {
      "text/html": [
       "<ol class=list-inline>\n",
       "\t<li>'Grouping0.A'</li>\n",
       "\t<li>'Grouping0.Y'</li>\n",
       "\t<li>'Grouping1.A'</li>\n",
       "\t<li>'Grouping1.Y'</li>\n",
       "\t<li>'Grouping21.A'</li>\n",
       "\t<li>'Grouping21.Y'</li>\n",
       "\t<li>'Grouping3.A'</li>\n",
       "\t<li>'Grouping3.Y'</li>\n",
       "\t<li>'Grouping5.A'</li>\n",
       "\t<li>'Grouping5.Y'</li>\n",
       "\t<li>'Grouping7.A'</li>\n",
       "\t<li>'Grouping7.Y'</li>\n",
       "</ol>\n"
      ],
      "text/latex": [
       "\\begin{enumerate*}\n",
       "\\item 'Grouping0.A'\n",
       "\\item 'Grouping0.Y'\n",
       "\\item 'Grouping1.A'\n",
       "\\item 'Grouping1.Y'\n",
       "\\item 'Grouping21.A'\n",
       "\\item 'Grouping21.Y'\n",
       "\\item 'Grouping3.A'\n",
       "\\item 'Grouping3.Y'\n",
       "\\item 'Grouping5.A'\n",
       "\\item 'Grouping5.Y'\n",
       "\\item 'Grouping7.A'\n",
       "\\item 'Grouping7.Y'\n",
       "\\end{enumerate*}\n"
      ],
      "text/markdown": [
       "1. 'Grouping0.A'\n",
       "2. 'Grouping0.Y'\n",
       "3. 'Grouping1.A'\n",
       "4. 'Grouping1.Y'\n",
       "5. 'Grouping21.A'\n",
       "6. 'Grouping21.Y'\n",
       "7. 'Grouping3.A'\n",
       "8. 'Grouping3.Y'\n",
       "9. 'Grouping5.A'\n",
       "10. 'Grouping5.Y'\n",
       "11. 'Grouping7.A'\n",
       "12. 'Grouping7.Y'\n",
       "\n",
       "\n"
      ],
      "text/plain": [
       " [1] \"Grouping0.A\"  \"Grouping0.Y\"  \"Grouping1.A\"  \"Grouping1.Y\"  \"Grouping21.A\"\n",
       " [6] \"Grouping21.Y\" \"Grouping3.A\"  \"Grouping3.Y\"  \"Grouping5.A\"  \"Grouping5.Y\" \n",
       "[11] \"Grouping7.A\"  \"Grouping7.Y\" "
      ]
     },
     "metadata": {},
     "output_type": "display_data"
    }
   ],
   "source": [
    "colnames(fit$coefficients)"
   ]
  },
  {
   "cell_type": "markdown",
   "metadata": {},
   "source": [
    "###  Contrasts "
   ]
  },
  {
   "cell_type": "code",
   "execution_count": 393,
   "metadata": {
    "ExecuteTime": {
     "end_time": "2020-03-20T00:13:28.968774Z",
     "start_time": "2020-03-20T00:13:28.932Z"
    }
   },
   "outputs": [],
   "source": [
    "#create contrasts of interest \n",
    "cont.matrix=makeContrasts(\n",
    "    d0_Y_vs_A=\"Grouping0.Y - Grouping0.A\",\n",
    "    d1_Y_vs_A=\"Grouping1.Y - Grouping1.A\",\n",
    "    d3_Y_vs_A=\"Grouping3.Y - Grouping3.A\",\n",
    "    d5_Y_vs_A=\"Grouping5.Y - Grouping5.A\",\n",
    "    d7_Y_vs_A=\"Grouping7.Y - Grouping7.A\",\n",
    "    d21_Y_vs_A=\"Grouping21.Y - Grouping21.A\",\n",
    "    d1_Y_vs_d0_Y=\"Grouping1.Y - Grouping0.Y\",\n",
    "    d1_A_vs_d0_A=\"Grouping1.A - Grouping0.A\",\n",
    "    d3_Y_vs_d0_Y=\"Grouping3.Y - Grouping0.Y\",\n",
    "    d3_A_vs_d0_A=\"Grouping3.A - Grouping0.A\",\n",
    "    d5_Y_vs_d0_Y=\"Grouping5.Y - Grouping0.Y\",\n",
    "    d5_A_vs_d0_A=\"Grouping5.A - Grouping0.A\",\n",
    "    d7_Y_vs_d0_Y=\"Grouping7.Y - Grouping0.Y\",\n",
    "    d7_A_vs_d0_A=\"Grouping7.A - Grouping0.A\",\n",
    "    d21_Y_vs_d0_Y=\"Grouping21.Y - Grouping0.Y\",\n",
    "    d21_A_vs_d0_A=\"Grouping21.A - Grouping0.A\",\n",
    "      \n",
    "    levels=model.matrix(~0+Grouping))\n"
   ]
  },
  {
   "cell_type": "code",
   "execution_count": 399,
   "metadata": {
    "ExecuteTime": {
     "end_time": "2020-03-20T00:21:15.676272Z",
     "start_time": "2020-03-20T00:21:15.637Z"
    }
   },
   "outputs": [],
   "source": [
    "pval_thresh=0.01\n",
    "lfc_thresh=1"
   ]
  },
  {
   "cell_type": "code",
   "execution_count": 400,
   "metadata": {
    "ExecuteTime": {
     "end_time": "2020-03-20T00:21:16.253614Z",
     "start_time": "2020-03-20T00:21:15.804Z"
    },
    "scrolled": true
   },
   "outputs": [],
   "source": [
    "fit2=contrasts.fit(fit,cont.matrix)\n",
    "e=eBayes(fit2)\n",
    "comparisons=colnames(cont.matrix)"
   ]
  },
  {
   "cell_type": "code",
   "execution_count": 401,
   "metadata": {
    "ExecuteTime": {
     "end_time": "2020-03-20T00:21:16.272223Z",
     "start_time": "2020-03-20T00:21:15.935Z"
    }
   },
   "outputs": [
    {
     "data": {
      "text/html": [
       "<ol class=list-inline>\n",
       "\t<li>'d0_Y_vs_A'</li>\n",
       "\t<li>'d1_Y_vs_A'</li>\n",
       "\t<li>'d3_Y_vs_A'</li>\n",
       "\t<li>'d5_Y_vs_A'</li>\n",
       "\t<li>'d7_Y_vs_A'</li>\n",
       "\t<li>'d21_Y_vs_A'</li>\n",
       "\t<li>'d1_Y_vs_d0_Y'</li>\n",
       "\t<li>'d1_A_vs_d0_A'</li>\n",
       "\t<li>'d3_Y_vs_d0_Y'</li>\n",
       "\t<li>'d3_A_vs_d0_A'</li>\n",
       "\t<li>'d5_Y_vs_d0_Y'</li>\n",
       "\t<li>'d5_A_vs_d0_A'</li>\n",
       "\t<li>'d7_Y_vs_d0_Y'</li>\n",
       "\t<li>'d7_A_vs_d0_A'</li>\n",
       "\t<li>'d21_Y_vs_d0_Y'</li>\n",
       "\t<li>'d21_A_vs_d0_A'</li>\n",
       "</ol>\n"
      ],
      "text/latex": [
       "\\begin{enumerate*}\n",
       "\\item 'd0\\_Y\\_vs\\_A'\n",
       "\\item 'd1\\_Y\\_vs\\_A'\n",
       "\\item 'd3\\_Y\\_vs\\_A'\n",
       "\\item 'd5\\_Y\\_vs\\_A'\n",
       "\\item 'd7\\_Y\\_vs\\_A'\n",
       "\\item 'd21\\_Y\\_vs\\_A'\n",
       "\\item 'd1\\_Y\\_vs\\_d0\\_Y'\n",
       "\\item 'd1\\_A\\_vs\\_d0\\_A'\n",
       "\\item 'd3\\_Y\\_vs\\_d0\\_Y'\n",
       "\\item 'd3\\_A\\_vs\\_d0\\_A'\n",
       "\\item 'd5\\_Y\\_vs\\_d0\\_Y'\n",
       "\\item 'd5\\_A\\_vs\\_d0\\_A'\n",
       "\\item 'd7\\_Y\\_vs\\_d0\\_Y'\n",
       "\\item 'd7\\_A\\_vs\\_d0\\_A'\n",
       "\\item 'd21\\_Y\\_vs\\_d0\\_Y'\n",
       "\\item 'd21\\_A\\_vs\\_d0\\_A'\n",
       "\\end{enumerate*}\n"
      ],
      "text/markdown": [
       "1. 'd0_Y_vs_A'\n",
       "2. 'd1_Y_vs_A'\n",
       "3. 'd3_Y_vs_A'\n",
       "4. 'd5_Y_vs_A'\n",
       "5. 'd7_Y_vs_A'\n",
       "6. 'd21_Y_vs_A'\n",
       "7. 'd1_Y_vs_d0_Y'\n",
       "8. 'd1_A_vs_d0_A'\n",
       "9. 'd3_Y_vs_d0_Y'\n",
       "10. 'd3_A_vs_d0_A'\n",
       "11. 'd5_Y_vs_d0_Y'\n",
       "12. 'd5_A_vs_d0_A'\n",
       "13. 'd7_Y_vs_d0_Y'\n",
       "14. 'd7_A_vs_d0_A'\n",
       "15. 'd21_Y_vs_d0_Y'\n",
       "16. 'd21_A_vs_d0_A'\n",
       "\n",
       "\n"
      ],
      "text/plain": [
       " [1] \"d0_Y_vs_A\"     \"d1_Y_vs_A\"     \"d3_Y_vs_A\"     \"d5_Y_vs_A\"    \n",
       " [5] \"d7_Y_vs_A\"     \"d21_Y_vs_A\"    \"d1_Y_vs_d0_Y\"  \"d1_A_vs_d0_A\" \n",
       " [9] \"d3_Y_vs_d0_Y\"  \"d3_A_vs_d0_A\"  \"d5_Y_vs_d0_Y\"  \"d5_A_vs_d0_A\" \n",
       "[13] \"d7_Y_vs_d0_Y\"  \"d7_A_vs_d0_A\"  \"d21_Y_vs_d0_Y\" \"d21_A_vs_d0_A\""
      ]
     },
     "metadata": {},
     "output_type": "display_data"
    }
   ],
   "source": [
    "comparisons"
   ]
  },
  {
   "cell_type": "code",
   "execution_count": 402,
   "metadata": {
    "ExecuteTime": {
     "end_time": "2020-03-20T00:21:34.933838Z",
     "start_time": "2020-03-20T00:21:16.075Z"
    }
   },
   "outputs": [
    {
     "name": "stdout",
     "output_type": "stream",
     "text": [
      "[1] \"d0_Y_vs_A \\n sig: 552 \\n up: 307 \\n down: 245 \\n\"\n",
      "[1] \"d1_Y_vs_A \\n sig: 1450 \\n up: 646 \\n down: 804 \\n\"\n",
      "[1] \"d3_Y_vs_A \\n sig: 63 \\n up: 53 \\n down: 10 \\n\"\n",
      "[1] \"d5_Y_vs_A \\n sig: 3038 \\n up: 1810 \\n down: 1228 \\n\"\n",
      "[1] \"d7_Y_vs_A \\n sig: 109 \\n up: 22 \\n down: 87 \\n\"\n",
      "[1] \"d21_Y_vs_A \\n sig: 968 \\n up: 204 \\n down: 764 \\n\"\n",
      "[1] \"d1_Y_vs_d0_Y \\n sig: 839 \\n up: 526 \\n down: 313 \\n\"\n",
      "[1] \"d1_A_vs_d0_A \\n sig: 1892 \\n up: 1235 \\n down: 657 \\n\"\n",
      "[1] \"d3_Y_vs_d0_Y \\n sig: 4782 \\n up: 2130 \\n down: 2652 \\n\"\n",
      "[1] \"d3_A_vs_d0_A \\n sig: 4011 \\n up: 2196 \\n down: 1815 \\n\"\n",
      "[1] \"d5_Y_vs_d0_Y \\n sig: 2331 \\n up: 1144 \\n down: 1187 \\n\"\n",
      "[1] \"d5_A_vs_d0_A \\n sig: 2282 \\n up: 1316 \\n down: 966 \\n\"\n",
      "[1] \"d7_Y_vs_d0_Y \\n sig: 1529 \\n up: 644 \\n down: 885 \\n\"\n",
      "[1] \"d7_A_vs_d0_A \\n sig: 1421 \\n up: 865 \\n down: 556 \\n\"\n",
      "[1] \"d21_Y_vs_d0_Y \\n sig: 1187 \\n up: 422 \\n down: 765 \\n\"\n",
      "[1] \"d21_A_vs_d0_A \\n sig: 475 \\n up: 314 \\n down: 161 \\n\"\n"
     ]
    }
   ],
   "source": [
    "for(i in seq(1,length(comparisons)))\n",
    "{\n",
    "  tab<-topTable(e, number=nrow(e),coef=i,lfc=lfc_thresh, p.value = pval_thresh)\n",
    "  up=sum(tab$logFC>0)\n",
    "  down=sum(tab$logFC<0)\n",
    "  sig=nrow(tab)\n",
    "  curtitle=paste(comparisons[i],'\\n','sig:',sig,'\\n','up:',up,'\\n','down:',down,'\\n')\n",
    "  print(curtitle)\n",
    "  vals=topTable(e,number=nrow(e),coef=i)\n",
    "  vals$pscaled=-1*log10(vals$adj.P.Val)\n",
    "  vals$sig=vals$adj.P.Val<pval_thresh & abs(vals$logFC)>lfc_thresh \n",
    "  png(paste(\"volcano_diff\",comparisons[i],\".png\",sep=\"\"))\n",
    "  print(ggplot(data=vals,\n",
    "               aes(y=vals$pscaled,x=vals$logFC,color=vals$sig))+\n",
    "               geom_point(alpha=0.1)+\n",
    "               xlab(\"log2(FC)\")+\n",
    "               ylab(\"-log10(pval)\")+\n",
    "               ggtitle(curtitle)+\n",
    "               theme_bw()+\n",
    "               scale_color_manual(values=c(\"#000000\",\"#FF0000\")))\n",
    "  dev.off() \n",
    "  write.table(tab,file=paste(\"diff_\",comparisons[i],\".tsv\",sep=\"\"),quote=FALSE,sep='\\t',row.names = TRUE,col.names = TRUE)\n",
    "}\n",
    "    "
   ]
  },
  {
   "cell_type": "code",
   "execution_count": 404,
   "metadata": {
    "ExecuteTime": {
     "end_time": "2020-03-20T00:23:44.239173Z",
     "start_time": "2020-03-20T00:23:44.116Z"
    }
   },
   "outputs": [
    {
     "data": {
      "text/html": [
       "<table>\n",
       "<caption>A data.frame: 6 × 35</caption>\n",
       "<thead>\n",
       "\t<tr><th></th><th scope=col>d0_A_Rep1</th><th scope=col>d0_A_Rep2</th><th scope=col>d0_A_Rep4</th><th scope=col>d0_Y_Rep2</th><th scope=col>d0_Y_Rep3</th><th scope=col>d0_Y_Rep4</th><th scope=col>d0_Y_Rep5</th><th scope=col>d0_Y_Rep6</th><th scope=col>d1_A_Rep1</th><th scope=col>d1_A_Rep2</th><th scope=col>⋯</th><th scope=col>d7_A_Rep1</th><th scope=col>d7_A_Rep2</th><th scope=col>d7_A_Rep4</th><th scope=col>d7_Y_Rep1</th><th scope=col>d7_Y_Rep2</th><th scope=col>d7_Y_Rep3</th><th scope=col>d21_A_Rep1</th><th scope=col>d21_A_Rep2</th><th scope=col>d21_Y_Rep2</th><th scope=col>d21_Y_Rep3</th></tr>\n",
       "\t<tr><th></th><th scope=col>&lt;dbl&gt;</th><th scope=col>&lt;dbl&gt;</th><th scope=col>&lt;dbl&gt;</th><th scope=col>&lt;dbl&gt;</th><th scope=col>&lt;dbl&gt;</th><th scope=col>&lt;dbl&gt;</th><th scope=col>&lt;dbl&gt;</th><th scope=col>&lt;dbl&gt;</th><th scope=col>&lt;dbl&gt;</th><th scope=col>&lt;dbl&gt;</th><th scope=col>⋯</th><th scope=col>&lt;dbl&gt;</th><th scope=col>&lt;dbl&gt;</th><th scope=col>&lt;dbl&gt;</th><th scope=col>&lt;dbl&gt;</th><th scope=col>&lt;dbl&gt;</th><th scope=col>&lt;dbl&gt;</th><th scope=col>&lt;dbl&gt;</th><th scope=col>&lt;dbl&gt;</th><th scope=col>&lt;dbl&gt;</th><th scope=col>&lt;dbl&gt;</th></tr>\n",
       "</thead>\n",
       "<tbody>\n",
       "\t<tr><th scope=row>ENSMUSG00000000001_Gnai3</th><td>4.6226989</td><td>4.8904272</td><td>4.9128842</td><td>6.10524960</td><td>5.2562732</td><td>5.7446914</td><td>5.58810647</td><td>5.6349763</td><td>5.64159999</td><td>5.681974</td><td>⋯</td><td>5.64285633</td><td>5.61001265</td><td>5.3673478</td><td>5.44731841</td><td>5.410556</td><td> 5.6255309</td><td>5.38675977</td><td>5.3074516</td><td> 5.1390564</td><td> 5.8847222</td></tr>\n",
       "\t<tr><th scope=row>ENSMUSG00000000028_Cdc45</th><td>1.5874087</td><td>2.0558406</td><td>2.4606588</td><td>2.87174703</td><td>2.7776097</td><td>2.6871836</td><td>3.38103177</td><td>1.8574525</td><td>4.50816979</td><td>4.378520</td><td>⋯</td><td>3.63541320</td><td>3.68763072</td><td>3.2131716</td><td>4.11214858</td><td>2.865086</td><td> 4.5105968</td><td>2.01317494</td><td>1.8136211</td><td> 1.2431797</td><td> 2.0869658</td></tr>\n",
       "\t<tr><th scope=row>ENSMUSG00000000031_H19</th><td>1.6986316</td><td>1.6636379</td><td>2.0946980</td><td>0.31397291</td><td>1.9719771</td><td>1.3389436</td><td>1.69360610</td><td>0.8123971</td><td>2.00201252</td><td>2.272811</td><td>⋯</td><td>4.65807531</td><td>4.77649015</td><td>4.2075902</td><td>5.00874749</td><td>3.638468</td><td> 4.3909659</td><td>3.03748962</td><td>3.1223516</td><td> 1.7417228</td><td> 1.4367049</td></tr>\n",
       "\t<tr><th scope=row>ENSMUSG00000000037_Scml2</th><td>0.9053910</td><td>1.0152058</td><td>0.9135097</td><td>1.39671241</td><td>1.0181678</td><td>1.0659666</td><td>1.26195193</td><td>1.0706260</td><td>1.38028081</td><td>1.154077</td><td>⋯</td><td>1.46888214</td><td>1.26208437</td><td>1.5343184</td><td>1.08983067</td><td>1.141233</td><td> 1.2900676</td><td>0.87173691</td><td>1.2834680</td><td> 0.2896408</td><td> 0.9651325</td></tr>\n",
       "\t<tr><th scope=row>ENSMUSG00000000049_Apoh</th><td>0.8556486</td><td>0.7585839</td><td>0.5228021</td><td>0.01492557</td><td>0.1172259</td><td>0.2602884</td><td>0.07322952</td><td>0.2581641</td><td>0.08951951</td><td>0.976122</td><td>⋯</td><td>0.08126926</td><td>0.08154572</td><td>0.5608123</td><td>0.09655915</td><td>0.213835</td><td>-0.1116508</td><td>0.07097623</td><td>0.1327868</td><td>-0.1109352</td><td>-0.1101817</td></tr>\n",
       "\t<tr><th scope=row>ENSMUSG00000000056_Narf</th><td>2.5369584</td><td>2.3142511</td><td>2.6969144</td><td>3.13168890</td><td>3.1391551</td><td>2.9636860</td><td>2.89611748</td><td>3.3920972</td><td>1.96421992</td><td>2.433974</td><td>⋯</td><td>3.07044183</td><td>2.91165499</td><td>2.3348080</td><td>2.38754103</td><td>3.039408</td><td> 2.8229758</td><td>3.14819519</td><td>3.2342959</td><td> 2.7298025</td><td> 3.0796836</td></tr>\n",
       "</tbody>\n",
       "</table>\n"
      ],
      "text/latex": [
       "A data.frame: 6 × 35\n",
       "\\begin{tabular}{r|lllllllllllllllllllllllllllllllllll}\n",
       "  & d0\\_A\\_Rep1 & d0\\_A\\_Rep2 & d0\\_A\\_Rep4 & d0\\_Y\\_Rep2 & d0\\_Y\\_Rep3 & d0\\_Y\\_Rep4 & d0\\_Y\\_Rep5 & d0\\_Y\\_Rep6 & d1\\_A\\_Rep1 & d1\\_A\\_Rep2 & d1\\_Y\\_Rep1 & d1\\_Y\\_Rep2 & d1\\_Y\\_Rep4 & d3\\_A\\_Rep1 & d3\\_A\\_Rep2 & d3\\_A\\_Rep3 & d3\\_A\\_Rep4 & d3\\_Y\\_Rep1 & d3\\_Y\\_Rep2 & d3\\_Y\\_Rep3 & d5\\_A\\_Rep1 & d5\\_A\\_Rep2 & d5\\_Y\\_Rep1 & d5\\_Y\\_Rep2 & d5\\_Y\\_Rep3 & d7\\_A\\_Rep1 & d7\\_A\\_Rep2 & d7\\_A\\_Rep4 & d7\\_Y\\_Rep1 & d7\\_Y\\_Rep2 & d7\\_Y\\_Rep3 & d21\\_A\\_Rep1 & d21\\_A\\_Rep2 & d21\\_Y\\_Rep2 & d21\\_Y\\_Rep3\\\\\n",
       "  & <dbl> & <dbl> & <dbl> & <dbl> & <dbl> & <dbl> & <dbl> & <dbl> & <dbl> & <dbl> & <dbl> & <dbl> & <dbl> & <dbl> & <dbl> & <dbl> & <dbl> & <dbl> & <dbl> & <dbl> & <dbl> & <dbl> & <dbl> & <dbl> & <dbl> & <dbl> & <dbl> & <dbl> & <dbl> & <dbl> & <dbl> & <dbl> & <dbl> & <dbl> & <dbl>\\\\\n",
       "\\hline\n",
       "\tENSMUSG00000000001\\_Gnai3 & 4.6226989 & 4.8904272 & 4.9128842 & 6.10524960 & 5.2562732 & 5.7446914 & 5.58810647 & 5.6349763 & 5.64159999 & 5.681974 & 5.4967126 & 5.5464891 & 5.4596038 &  5.5770001 &  5.41149385 & 5.36896218 & 5.4702275 &  5.71809956 &  5.70381403 &  5.43127060 & 5.82076471 & 5.8046105 &  5.84340190 & 5.79930884 &  5.72032515 & 5.64285633 & 5.61001265 & 5.3673478 & 5.44731841 & 5.410556 &  5.6255309 & 5.38675977 & 5.3074516 &  5.1390564 &  5.8847222\\\\\n",
       "\tENSMUSG00000000028\\_Cdc45 & 1.5874087 & 2.0558406 & 2.4606588 & 2.87174703 & 2.7776097 & 2.6871836 & 3.38103177 & 1.8574525 & 4.50816979 & 4.378520 & 2.2483219 & 2.0668729 & 2.0044773 &  5.1846167 &  5.55028505 & 4.83940755 & 5.0146879 &  4.93630722 &  4.96254153 &  5.42606566 & 2.59260531 & 2.3957250 &  4.08400356 & 4.05163705 &  4.30224352 & 3.63541320 & 3.68763072 & 3.2131716 & 4.11214858 & 2.865086 &  4.5105968 & 2.01317494 & 1.8136211 &  1.2431797 &  2.0869658\\\\\n",
       "\tENSMUSG00000000031\\_H19 & 1.6986316 & 1.6636379 & 2.0946980 & 0.31397291 & 1.9719771 & 1.3389436 & 1.69360610 & 0.8123971 & 2.00201252 & 2.272811 & 2.1892567 & 1.7653682 & 2.0934552 &  4.1950075 &  4.44775786 & 4.04947470 & 4.3144023 &  4.78751508 &  4.75946418 &  5.39247887 & 1.69192270 & 1.6456566 &  5.16113273 & 5.01414895 &  5.59211441 & 4.65807531 & 4.77649015 & 4.2075902 & 5.00874749 & 3.638468 &  4.3909659 & 3.03748962 & 3.1223516 &  1.7417228 &  1.4367049\\\\\n",
       "\tENSMUSG00000000037\\_Scml2 & 0.9053910 & 1.0152058 & 0.9135097 & 1.39671241 & 1.0181678 & 1.0659666 & 1.26195193 & 1.0706260 & 1.38028081 & 1.154077 & 0.9489269 & 1.0746117 & 1.0250382 &  1.2576341 &  1.54754993 & 1.25544203 & 1.5982302 &  1.45176323 &  1.21231819 &  1.31566473 & 0.36425986 & 0.4832048 &  1.76065461 & 1.65705519 &  1.91970894 & 1.46888214 & 1.26208437 & 1.5343184 & 1.08983067 & 1.141233 &  1.2900676 & 0.87173691 & 1.2834680 &  0.2896408 &  0.9651325\\\\\n",
       "\tENSMUSG00000000049\\_Apoh & 0.8556486 & 0.7585839 & 0.5228021 & 0.01492557 & 0.1172259 & 0.2602884 & 0.07322952 & 0.2581641 & 0.08951951 & 0.976122 & 0.6635197 & 0.7555484 & 0.3246242 & -0.0662995 & -0.05499177 & 0.06522622 & 0.3209606 & -0.07814413 & -0.03413199 & -0.06006701 & 0.08204653 & 0.0768094 & -0.01713731 & 0.02435934 & -0.01555821 & 0.08126926 & 0.08154572 & 0.5608123 & 0.09655915 & 0.213835 & -0.1116508 & 0.07097623 & 0.1327868 & -0.1109352 & -0.1101817\\\\\n",
       "\tENSMUSG00000000056\\_Narf & 2.5369584 & 2.3142511 & 2.6969144 & 3.13168890 & 3.1391551 & 2.9636860 & 2.89611748 & 3.3920972 & 1.96421992 & 2.433974 & 2.8083779 & 2.7944261 & 2.9020435 &  3.0557286 &  2.77637501 & 2.19065480 & 2.8618093 &  3.94036507 &  3.65948216 &  3.56749156 & 3.27900657 & 3.1439542 &  3.06884613 & 2.92011809 &  3.04306058 & 3.07044183 & 2.91165499 & 2.3348080 & 2.38754103 & 3.039408 &  2.8229758 & 3.14819519 & 3.2342959 &  2.7298025 &  3.0796836\\\\\n",
       "\\end{tabular}\n"
      ],
      "text/markdown": [
       "\n",
       "A data.frame: 6 × 35\n",
       "\n",
       "| <!--/--> | d0_A_Rep1 &lt;dbl&gt; | d0_A_Rep2 &lt;dbl&gt; | d0_A_Rep4 &lt;dbl&gt; | d0_Y_Rep2 &lt;dbl&gt; | d0_Y_Rep3 &lt;dbl&gt; | d0_Y_Rep4 &lt;dbl&gt; | d0_Y_Rep5 &lt;dbl&gt; | d0_Y_Rep6 &lt;dbl&gt; | d1_A_Rep1 &lt;dbl&gt; | d1_A_Rep2 &lt;dbl&gt; | ⋯ ⋯ | d7_A_Rep1 &lt;dbl&gt; | d7_A_Rep2 &lt;dbl&gt; | d7_A_Rep4 &lt;dbl&gt; | d7_Y_Rep1 &lt;dbl&gt; | d7_Y_Rep2 &lt;dbl&gt; | d7_Y_Rep3 &lt;dbl&gt; | d21_A_Rep1 &lt;dbl&gt; | d21_A_Rep2 &lt;dbl&gt; | d21_Y_Rep2 &lt;dbl&gt; | d21_Y_Rep3 &lt;dbl&gt; |\n",
       "|---|---|---|---|---|---|---|---|---|---|---|---|---|---|---|---|---|---|---|---|---|---|\n",
       "| ENSMUSG00000000001_Gnai3 | 4.6226989 | 4.8904272 | 4.9128842 | 6.10524960 | 5.2562732 | 5.7446914 | 5.58810647 | 5.6349763 | 5.64159999 | 5.681974 | ⋯ | 5.64285633 | 5.61001265 | 5.3673478 | 5.44731841 | 5.410556 |  5.6255309 | 5.38675977 | 5.3074516 |  5.1390564 |  5.8847222 |\n",
       "| ENSMUSG00000000028_Cdc45 | 1.5874087 | 2.0558406 | 2.4606588 | 2.87174703 | 2.7776097 | 2.6871836 | 3.38103177 | 1.8574525 | 4.50816979 | 4.378520 | ⋯ | 3.63541320 | 3.68763072 | 3.2131716 | 4.11214858 | 2.865086 |  4.5105968 | 2.01317494 | 1.8136211 |  1.2431797 |  2.0869658 |\n",
       "| ENSMUSG00000000031_H19 | 1.6986316 | 1.6636379 | 2.0946980 | 0.31397291 | 1.9719771 | 1.3389436 | 1.69360610 | 0.8123971 | 2.00201252 | 2.272811 | ⋯ | 4.65807531 | 4.77649015 | 4.2075902 | 5.00874749 | 3.638468 |  4.3909659 | 3.03748962 | 3.1223516 |  1.7417228 |  1.4367049 |\n",
       "| ENSMUSG00000000037_Scml2 | 0.9053910 | 1.0152058 | 0.9135097 | 1.39671241 | 1.0181678 | 1.0659666 | 1.26195193 | 1.0706260 | 1.38028081 | 1.154077 | ⋯ | 1.46888214 | 1.26208437 | 1.5343184 | 1.08983067 | 1.141233 |  1.2900676 | 0.87173691 | 1.2834680 |  0.2896408 |  0.9651325 |\n",
       "| ENSMUSG00000000049_Apoh | 0.8556486 | 0.7585839 | 0.5228021 | 0.01492557 | 0.1172259 | 0.2602884 | 0.07322952 | 0.2581641 | 0.08951951 | 0.976122 | ⋯ | 0.08126926 | 0.08154572 | 0.5608123 | 0.09655915 | 0.213835 | -0.1116508 | 0.07097623 | 0.1327868 | -0.1109352 | -0.1101817 |\n",
       "| ENSMUSG00000000056_Narf | 2.5369584 | 2.3142511 | 2.6969144 | 3.13168890 | 3.1391551 | 2.9636860 | 2.89611748 | 3.3920972 | 1.96421992 | 2.433974 | ⋯ | 3.07044183 | 2.91165499 | 2.3348080 | 2.38754103 | 3.039408 |  2.8229758 | 3.14819519 | 3.2342959 |  2.7298025 |  3.0796836 |\n",
       "\n"
      ],
      "text/plain": [
       "                         d0_A_Rep1 d0_A_Rep2 d0_A_Rep4 d0_Y_Rep2  d0_Y_Rep3\n",
       "ENSMUSG00000000001_Gnai3 4.6226989 4.8904272 4.9128842 6.10524960 5.2562732\n",
       "ENSMUSG00000000028_Cdc45 1.5874087 2.0558406 2.4606588 2.87174703 2.7776097\n",
       "ENSMUSG00000000031_H19   1.6986316 1.6636379 2.0946980 0.31397291 1.9719771\n",
       "ENSMUSG00000000037_Scml2 0.9053910 1.0152058 0.9135097 1.39671241 1.0181678\n",
       "ENSMUSG00000000049_Apoh  0.8556486 0.7585839 0.5228021 0.01492557 0.1172259\n",
       "ENSMUSG00000000056_Narf  2.5369584 2.3142511 2.6969144 3.13168890 3.1391551\n",
       "                         d0_Y_Rep4 d0_Y_Rep5  d0_Y_Rep6 d1_A_Rep1  d1_A_Rep2 ⋯\n",
       "ENSMUSG00000000001_Gnai3 5.7446914 5.58810647 5.6349763 5.64159999 5.681974  ⋯\n",
       "ENSMUSG00000000028_Cdc45 2.6871836 3.38103177 1.8574525 4.50816979 4.378520  ⋯\n",
       "ENSMUSG00000000031_H19   1.3389436 1.69360610 0.8123971 2.00201252 2.272811  ⋯\n",
       "ENSMUSG00000000037_Scml2 1.0659666 1.26195193 1.0706260 1.38028081 1.154077  ⋯\n",
       "ENSMUSG00000000049_Apoh  0.2602884 0.07322952 0.2581641 0.08951951 0.976122  ⋯\n",
       "ENSMUSG00000000056_Narf  2.9636860 2.89611748 3.3920972 1.96421992 2.433974  ⋯\n",
       "                         d7_A_Rep1  d7_A_Rep2  d7_A_Rep4 d7_Y_Rep1  d7_Y_Rep2\n",
       "ENSMUSG00000000001_Gnai3 5.64285633 5.61001265 5.3673478 5.44731841 5.410556 \n",
       "ENSMUSG00000000028_Cdc45 3.63541320 3.68763072 3.2131716 4.11214858 2.865086 \n",
       "ENSMUSG00000000031_H19   4.65807531 4.77649015 4.2075902 5.00874749 3.638468 \n",
       "ENSMUSG00000000037_Scml2 1.46888214 1.26208437 1.5343184 1.08983067 1.141233 \n",
       "ENSMUSG00000000049_Apoh  0.08126926 0.08154572 0.5608123 0.09655915 0.213835 \n",
       "ENSMUSG00000000056_Narf  3.07044183 2.91165499 2.3348080 2.38754103 3.039408 \n",
       "                         d7_Y_Rep3  d21_A_Rep1 d21_A_Rep2 d21_Y_Rep2 d21_Y_Rep3\n",
       "ENSMUSG00000000001_Gnai3  5.6255309 5.38675977 5.3074516   5.1390564  5.8847222\n",
       "ENSMUSG00000000028_Cdc45  4.5105968 2.01317494 1.8136211   1.2431797  2.0869658\n",
       "ENSMUSG00000000031_H19    4.3909659 3.03748962 3.1223516   1.7417228  1.4367049\n",
       "ENSMUSG00000000037_Scml2  1.2900676 0.87173691 1.2834680   0.2896408  0.9651325\n",
       "ENSMUSG00000000049_Apoh  -0.1116508 0.07097623 0.1327868  -0.1109352 -0.1101817\n",
       "ENSMUSG00000000056_Narf   2.8229758 3.14819519 3.2342959   2.7298025  3.0796836"
      ]
     },
     "metadata": {},
     "output_type": "display_data"
    }
   ],
   "source": [
    "cleaned_E_df=as.data.frame(cleaned_E)\n",
    "head(cleaned_E_df)"
   ]
  },
  {
   "cell_type": "markdown",
   "metadata": {},
   "source": [
    "## Ddit3"
   ]
  },
  {
   "cell_type": "code",
   "execution_count": 405,
   "metadata": {
    "ExecuteTime": {
     "end_time": "2020-03-20T00:23:45.872483Z",
     "start_time": "2020-03-20T00:23:45.837Z"
    }
   },
   "outputs": [],
   "source": [
    "ddit3_subset=sinh(cleaned_E_df[rownames(cleaned_E_df)==\"ENSMUSG00000025408_Ddit3\",])"
   ]
  },
  {
   "cell_type": "code",
   "execution_count": 406,
   "metadata": {
    "ExecuteTime": {
     "end_time": "2020-03-20T00:23:46.507597Z",
     "start_time": "2020-03-20T00:23:46.466Z"
    }
   },
   "outputs": [],
   "source": [
    "write.table(ddit3_subset,file=\"DDIT3_tpm_svacorrected.txt\")"
   ]
  },
  {
   "cell_type": "code",
   "execution_count": null,
   "metadata": {},
   "outputs": [],
   "source": []
  }
 ],
 "metadata": {
  "kernelspec": {
   "display_name": "R 3.5",
   "language": "R",
   "name": "ir35"
  },
  "language_info": {
   "codemirror_mode": "r",
   "file_extension": ".r",
   "mimetype": "text/x-r-source",
   "name": "R",
   "pygments_lexer": "r",
   "version": "3.5.1"
  }
 },
 "nbformat": 4,
 "nbformat_minor": 2
}
