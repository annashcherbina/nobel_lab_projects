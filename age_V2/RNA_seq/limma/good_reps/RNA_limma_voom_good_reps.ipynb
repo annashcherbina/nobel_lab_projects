{
 "cells": [
  {
   "cell_type": "markdown",
   "metadata": {},
   "source": [
    "### Limma voom analysis of Age Dataset: RNA-seq\n"
   ]
  },
  {
   "cell_type": "code",
   "execution_count": 1,
   "metadata": {},
   "outputs": [
    {
     "name": "stderr",
     "output_type": "stream",
     "text": [
      "Loading required package: mgcv\n",
      "Loading required package: nlme\n",
      "This is mgcv 1.8-28. For overview type 'help(\"mgcv-package\")'.\n",
      "Loading required package: genefilter\n"
     ]
    }
   ],
   "source": [
    "rm(list=ls())\n",
    "#load necessary libraries \n",
    "library(ggplot2)\n",
    "library(\"BiocParallel\")\n",
    "parallelFlag=TRUE\n",
    "register(MulticoreParam(50))\n",
    "library(sva)\n",
    "library(limma)\n",
    "library(statmod)"
   ]
  },
  {
   "cell_type": "markdown",
   "metadata": {},
   "source": [
    "## Load data and design"
   ]
  },
  {
   "cell_type": "code",
   "execution_count": 2,
   "metadata": {},
   "outputs": [],
   "source": [
    "##load RNA-seq TPM\n",
    "data=read.table('../good_reps_counts_batches//age.rna.counts.goodreps.txt.tpm',header=TRUE,sep='\\t')\n",
    "rownames(data)=paste(data$GeneID,data$GeneName,sep=\"_\")\n",
    "data$GeneID=NULL\n",
    "data$GeneName=NULL"
   ]
  },
  {
   "cell_type": "code",
   "execution_count": 3,
   "metadata": {},
   "outputs": [
    {
     "data": {
      "text/html": [
       "<table>\n",
       "<caption>A data.frame: 6 × 32</caption>\n",
       "<thead>\n",
       "\t<tr><th></th><th scope=col>d0_A_Rep1</th><th scope=col>d0_A_Rep2</th><th scope=col>d0_A_Rep4</th><th scope=col>d0_Y_Rep2</th><th scope=col>d0_Y_Rep3</th><th scope=col>d0_Y_Rep4</th><th scope=col>d0_Y_Rep5</th><th scope=col>d0_Y_Rep6</th><th scope=col>d0_Y_Pax7_Rep1</th><th scope=col>d1_A_Rep1</th><th scope=col>⋯</th><th scope=col>d5_A_Rep2</th><th scope=col>d5_Y_Rep1</th><th scope=col>d5_Y_Rep2</th><th scope=col>d5_Y_Rep3</th><th scope=col>d7_A_Rep1</th><th scope=col>d7_A_Rep2</th><th scope=col>d7_A_Rep4</th><th scope=col>d7_Y_Rep1</th><th scope=col>d7_Y_Rep2</th><th scope=col>d7_Y_Rep3</th></tr>\n",
       "\t<tr><th></th><th scope=col>&lt;dbl&gt;</th><th scope=col>&lt;dbl&gt;</th><th scope=col>&lt;dbl&gt;</th><th scope=col>&lt;dbl&gt;</th><th scope=col>&lt;dbl&gt;</th><th scope=col>&lt;dbl&gt;</th><th scope=col>&lt;dbl&gt;</th><th scope=col>&lt;dbl&gt;</th><th scope=col>&lt;dbl&gt;</th><th scope=col>&lt;dbl&gt;</th><th scope=col>⋯</th><th scope=col>&lt;dbl&gt;</th><th scope=col>&lt;dbl&gt;</th><th scope=col>&lt;dbl&gt;</th><th scope=col>&lt;dbl&gt;</th><th scope=col>&lt;dbl&gt;</th><th scope=col>&lt;dbl&gt;</th><th scope=col>&lt;dbl&gt;</th><th scope=col>&lt;dbl&gt;</th><th scope=col>&lt;dbl&gt;</th><th scope=col>&lt;dbl&gt;</th></tr>\n",
       "</thead>\n",
       "<tbody>\n",
       "\t<tr><th scope=row>ENSMUSG00000000001_Gnai3</th><td>33.66</td><td>32.74</td><td>103.55</td><td>157.71</td><td>63.06</td><td>102.83</td><td>231.55</td><td>174.64</td><td>162.42</td><td>149.95</td><td>⋯</td><td>150.23</td><td>160.62</td><td>159.77</td><td>121.53</td><td>183.29</td><td>175.34</td><td>164.38</td><td>120.19</td><td>132.60</td><td>175.81</td></tr>\n",
       "\t<tr><th scope=row>ENSMUSG00000000028_Cdc45</th><td> 1.90</td><td> 2.33</td><td>  8.25</td><td>  7.65</td><td> 6.26</td><td>  5.88</td><td> 32.78</td><td>  3.08</td><td>  5.82</td><td> 47.59</td><td>⋯</td><td>  6.15</td><td> 27.66</td><td> 26.31</td><td> 28.41</td><td> 22.41</td><td> 23.37</td><td> 14.82</td><td> 31.30</td><td> 12.53</td><td> 36.95</td></tr>\n",
       "\t<tr><th scope=row>ENSMUSG00000000031_H19</th><td> 1.72</td><td> 2.05</td><td>  5.61</td><td>  0.66</td><td> 4.91</td><td>  2.56</td><td>  1.71</td><td>  0.00</td><td> 35.36</td><td>  4.21</td><td>⋯</td><td>  3.41</td><td> 87.43</td><td> 75.14</td><td>161.20</td><td> 58.76</td><td> 66.95</td><td> 35.30</td><td> 71.70</td><td> 34.19</td><td> 25.50</td></tr>\n",
       "\t<tr><th scope=row>ENSMUSG00000000037_Scml2</th><td> 0.39</td><td> 0.20</td><td>  1.77</td><td>  1.02</td><td> 0.50</td><td>  0.53</td><td>  2.38</td><td>  2.13</td><td>  1.54</td><td>  1.99</td><td>⋯</td><td>  0.21</td><td>  2.63</td><td>  2.56</td><td>  2.72</td><td>  2.86</td><td>  2.26</td><td>  4.08</td><td>  1.39</td><td>  1.37</td><td>  3.17</td></tr>\n",
       "\t<tr><th scope=row>ENSMUSG00000000049_Apoh</th><td> 1.22</td><td> 1.11</td><td>  0.35</td><td>  0.00</td><td> 0.12</td><td>  0.26</td><td>  0.00</td><td>  0.45</td><td>  0.00</td><td>  0.04</td><td>⋯</td><td>  0.00</td><td>  0.00</td><td>  0.04</td><td>  0.00</td><td>  0.00</td><td>  0.00</td><td>  0.49</td><td>  0.10</td><td>  0.00</td><td>  0.00</td></tr>\n",
       "\t<tr><th scope=row>ENSMUSG00000000056_Narf</th><td> 3.18</td><td> 2.53</td><td> 11.92</td><td> 10.01</td><td>10.31</td><td>  8.45</td><td>  6.60</td><td> 11.47</td><td> 10.70</td><td>  4.04</td><td>⋯</td><td> 11.03</td><td> 10.45</td><td>  9.64</td><td> 11.29</td><td> 14.16</td><td> 12.11</td><td>  8.11</td><td>  5.36</td><td> 14.06</td><td> 10.36</td></tr>\n",
       "</tbody>\n",
       "</table>\n"
      ],
      "text/latex": [
       "A data.frame: 6 × 32\n",
       "\\begin{tabular}{r|llllllllllllllllllllllllllllllll}\n",
       "  & d0\\_A\\_Rep1 & d0\\_A\\_Rep2 & d0\\_A\\_Rep4 & d0\\_Y\\_Rep2 & d0\\_Y\\_Rep3 & d0\\_Y\\_Rep4 & d0\\_Y\\_Rep5 & d0\\_Y\\_Rep6 & d0\\_Y\\_Pax7\\_Rep1 & d1\\_A\\_Rep1 & d1\\_A\\_Rep2 & d1\\_Y\\_Rep1 & d1\\_Y\\_Rep2 & d1\\_Y\\_Rep4 & d3\\_A\\_Rep1 & d3\\_A\\_Rep2 & D3\\_A\\_Rep3 & D3\\_A\\_Rep4 & d3\\_Y\\_Rep1 & d3\\_Y\\_Rep2 & d3\\_Y\\_Rep3 & d5\\_A\\_Rep1 & d5\\_A\\_Rep2 & d5\\_Y\\_Rep1 & d5\\_Y\\_Rep2 & d5\\_Y\\_Rep3 & d7\\_A\\_Rep1 & d7\\_A\\_Rep2 & d7\\_A\\_Rep4 & d7\\_Y\\_Rep1 & d7\\_Y\\_Rep2 & d7\\_Y\\_Rep3\\\\\n",
       "  & <dbl> & <dbl> & <dbl> & <dbl> & <dbl> & <dbl> & <dbl> & <dbl> & <dbl> & <dbl> & <dbl> & <dbl> & <dbl> & <dbl> & <dbl> & <dbl> & <dbl> & <dbl> & <dbl> & <dbl> & <dbl> & <dbl> & <dbl> & <dbl> & <dbl> & <dbl> & <dbl> & <dbl> & <dbl> & <dbl> & <dbl> & <dbl>\\\\\n",
       "\\hline\n",
       "\tENSMUSG00000000001\\_Gnai3 & 33.66 & 32.74 & 103.55 & 157.71 & 63.06 & 102.83 & 231.55 & 174.64 & 162.42 & 149.95 & 155.51 & 137.48 & 138.49 & 130.68 & 115.90 & 77.59 & 149.65 & 159.69 & 133.72 & 134.37 &  80.00 & 153.75 & 150.23 & 160.62 & 159.77 & 121.53 & 183.29 & 175.34 & 164.38 & 120.19 & 132.60 & 175.81\\\\\n",
       "\tENSMUSG00000000028\\_Cdc45 &  1.90 &  2.33 &   8.25 &   7.65 &  6.26 &   5.88 &  32.78 &   3.08 &   5.82 &  47.59 &  42.55 &   5.26 &   4.41 &   4.03 &  73.64 & 84.86 &  66.73 &  70.92 &  55.69 &  56.60 &  73.04 &   7.72 &   6.15 &  27.66 &  26.31 &  28.41 &  22.41 &  23.37 &  14.82 &  31.30 &  12.53 &  36.95\\\\\n",
       "\tENSMUSG00000000031\\_H19 &  1.72 &  2.05 &   5.61 &   0.66 &  4.91 &   2.56 &   1.71 &   0.00 &  35.36 &   4.21 &   5.91 &   3.82 &   3.00 &   3.46 &  29.96 & 45.11 &  30.64 &  35.37 &  52.46 &  51.60 & 119.24 &   3.59 &   3.41 &  87.43 &  75.14 & 161.20 &  58.76 &  66.95 &  35.30 &  71.70 &  34.19 &  25.50\\\\\n",
       "\tENSMUSG00000000037\\_Scml2 &  0.39 &  0.20 &   1.77 &   1.02 &  0.50 &   0.53 &   2.38 &   2.13 &   1.54 &   1.99 &   1.49 &   1.29 &   1.35 &   1.40 &   1.49 &  1.59 &   2.84 &   4.20 &   1.93 &   1.53 &   1.25 &   0.08 &   0.21 &   2.63 &   2.56 &   2.72 &   2.86 &   2.26 &   4.08 &   1.39 &   1.37 &   3.17\\\\\n",
       "\tENSMUSG00000000049\\_Apoh &  1.22 &  1.11 &   0.35 &   0.00 &  0.12 &   0.26 &   0.00 &   0.45 &   0.00 &   0.04 &   1.04 &   0.72 &   0.78 &   0.34 &   0.00 &  0.03 &   0.00 &   0.31 &   0.00 &   0.04 &   0.02 &   0.00 &   0.00 &   0.00 &   0.04 &   0.00 &   0.00 &   0.00 &   0.49 &   0.10 &   0.00 &   0.00\\\\\n",
       "\tENSMUSG00000000056\\_Narf &  3.18 &  2.53 &  11.92 &  10.01 & 10.31 &   8.45 &   6.60 &  11.47 &  10.70 &   4.04 &   6.66 &   7.89 &   8.34 &   8.65 &   9.94 &  7.55 &   7.02 &  13.47 &  24.38 &  19.25 &  17.75 &  12.43 &  11.03 &  10.45 &   9.64 &  11.29 &  14.16 &  12.11 &   8.11 &   5.36 &  14.06 &  10.36\\\\\n",
       "\\end{tabular}\n"
      ],
      "text/markdown": [
       "\n",
       "A data.frame: 6 × 32\n",
       "\n",
       "| <!--/--> | d0_A_Rep1 &lt;dbl&gt; | d0_A_Rep2 &lt;dbl&gt; | d0_A_Rep4 &lt;dbl&gt; | d0_Y_Rep2 &lt;dbl&gt; | d0_Y_Rep3 &lt;dbl&gt; | d0_Y_Rep4 &lt;dbl&gt; | d0_Y_Rep5 &lt;dbl&gt; | d0_Y_Rep6 &lt;dbl&gt; | d0_Y_Pax7_Rep1 &lt;dbl&gt; | d1_A_Rep1 &lt;dbl&gt; | ⋯ ⋯ | d5_A_Rep2 &lt;dbl&gt; | d5_Y_Rep1 &lt;dbl&gt; | d5_Y_Rep2 &lt;dbl&gt; | d5_Y_Rep3 &lt;dbl&gt; | d7_A_Rep1 &lt;dbl&gt; | d7_A_Rep2 &lt;dbl&gt; | d7_A_Rep4 &lt;dbl&gt; | d7_Y_Rep1 &lt;dbl&gt; | d7_Y_Rep2 &lt;dbl&gt; | d7_Y_Rep3 &lt;dbl&gt; |\n",
       "|---|---|---|---|---|---|---|---|---|---|---|---|---|---|---|---|---|---|---|---|---|---|\n",
       "| ENSMUSG00000000001_Gnai3 | 33.66 | 32.74 | 103.55 | 157.71 | 63.06 | 102.83 | 231.55 | 174.64 | 162.42 | 149.95 | ⋯ | 150.23 | 160.62 | 159.77 | 121.53 | 183.29 | 175.34 | 164.38 | 120.19 | 132.60 | 175.81 |\n",
       "| ENSMUSG00000000028_Cdc45 |  1.90 |  2.33 |   8.25 |   7.65 |  6.26 |   5.88 |  32.78 |   3.08 |   5.82 |  47.59 | ⋯ |   6.15 |  27.66 |  26.31 |  28.41 |  22.41 |  23.37 |  14.82 |  31.30 |  12.53 |  36.95 |\n",
       "| ENSMUSG00000000031_H19 |  1.72 |  2.05 |   5.61 |   0.66 |  4.91 |   2.56 |   1.71 |   0.00 |  35.36 |   4.21 | ⋯ |   3.41 |  87.43 |  75.14 | 161.20 |  58.76 |  66.95 |  35.30 |  71.70 |  34.19 |  25.50 |\n",
       "| ENSMUSG00000000037_Scml2 |  0.39 |  0.20 |   1.77 |   1.02 |  0.50 |   0.53 |   2.38 |   2.13 |   1.54 |   1.99 | ⋯ |   0.21 |   2.63 |   2.56 |   2.72 |   2.86 |   2.26 |   4.08 |   1.39 |   1.37 |   3.17 |\n",
       "| ENSMUSG00000000049_Apoh |  1.22 |  1.11 |   0.35 |   0.00 |  0.12 |   0.26 |   0.00 |   0.45 |   0.00 |   0.04 | ⋯ |   0.00 |   0.00 |   0.04 |   0.00 |   0.00 |   0.00 |   0.49 |   0.10 |   0.00 |   0.00 |\n",
       "| ENSMUSG00000000056_Narf |  3.18 |  2.53 |  11.92 |  10.01 | 10.31 |   8.45 |   6.60 |  11.47 |  10.70 |   4.04 | ⋯ |  11.03 |  10.45 |   9.64 |  11.29 |  14.16 |  12.11 |   8.11 |   5.36 |  14.06 |  10.36 |\n",
       "\n"
      ],
      "text/plain": [
       "                         d0_A_Rep1 d0_A_Rep2 d0_A_Rep4 d0_Y_Rep2 d0_Y_Rep3\n",
       "ENSMUSG00000000001_Gnai3 33.66     32.74     103.55    157.71    63.06    \n",
       "ENSMUSG00000000028_Cdc45  1.90      2.33       8.25      7.65     6.26    \n",
       "ENSMUSG00000000031_H19    1.72      2.05       5.61      0.66     4.91    \n",
       "ENSMUSG00000000037_Scml2  0.39      0.20       1.77      1.02     0.50    \n",
       "ENSMUSG00000000049_Apoh   1.22      1.11       0.35      0.00     0.12    \n",
       "ENSMUSG00000000056_Narf   3.18      2.53      11.92     10.01    10.31    \n",
       "                         d0_Y_Rep4 d0_Y_Rep5 d0_Y_Rep6 d0_Y_Pax7_Rep1 d1_A_Rep1\n",
       "ENSMUSG00000000001_Gnai3 102.83    231.55    174.64    162.42         149.95   \n",
       "ENSMUSG00000000028_Cdc45   5.88     32.78      3.08      5.82          47.59   \n",
       "ENSMUSG00000000031_H19     2.56      1.71      0.00     35.36           4.21   \n",
       "ENSMUSG00000000037_Scml2   0.53      2.38      2.13      1.54           1.99   \n",
       "ENSMUSG00000000049_Apoh    0.26      0.00      0.45      0.00           0.04   \n",
       "ENSMUSG00000000056_Narf    8.45      6.60     11.47     10.70           4.04   \n",
       "                         ⋯ d5_A_Rep2 d5_Y_Rep1 d5_Y_Rep2 d5_Y_Rep3 d7_A_Rep1\n",
       "ENSMUSG00000000001_Gnai3 ⋯ 150.23    160.62    159.77    121.53    183.29   \n",
       "ENSMUSG00000000028_Cdc45 ⋯   6.15     27.66     26.31     28.41     22.41   \n",
       "ENSMUSG00000000031_H19   ⋯   3.41     87.43     75.14    161.20     58.76   \n",
       "ENSMUSG00000000037_Scml2 ⋯   0.21      2.63      2.56      2.72      2.86   \n",
       "ENSMUSG00000000049_Apoh  ⋯   0.00      0.00      0.04      0.00      0.00   \n",
       "ENSMUSG00000000056_Narf  ⋯  11.03     10.45      9.64     11.29     14.16   \n",
       "                         d7_A_Rep2 d7_A_Rep4 d7_Y_Rep1 d7_Y_Rep2 d7_Y_Rep3\n",
       "ENSMUSG00000000001_Gnai3 175.34    164.38    120.19    132.60    175.81   \n",
       "ENSMUSG00000000028_Cdc45  23.37     14.82     31.30     12.53     36.95   \n",
       "ENSMUSG00000000031_H19    66.95     35.30     71.70     34.19     25.50   \n",
       "ENSMUSG00000000037_Scml2   2.26      4.08      1.39      1.37      3.17   \n",
       "ENSMUSG00000000049_Apoh    0.00      0.49      0.10      0.00      0.00   \n",
       "ENSMUSG00000000056_Narf   12.11      8.11      5.36     14.06     10.36   "
      ]
     },
     "metadata": {},
     "output_type": "display_data"
    }
   ],
   "source": [
    "\n",
    "\n",
    "data=data[rowSums(data)>0,]\n",
    "\n",
    "head(data)"
   ]
  },
  {
   "cell_type": "code",
   "execution_count": 4,
   "metadata": {},
   "outputs": [
    {
     "data": {
      "text/html": [
       "36472"
      ],
      "text/latex": [
       "36472"
      ],
      "text/markdown": [
       "36472"
      ],
      "text/plain": [
       "[1] 36472"
      ]
     },
     "metadata": {},
     "output_type": "display_data"
    }
   ],
   "source": [
    "nrow(data)"
   ]
  },
  {
   "cell_type": "code",
   "execution_count": 5,
   "metadata": {},
   "outputs": [
    {
     "data": {
      "text/html": [
       "<table>\n",
       "<caption>A data.frame: 32 × 5</caption>\n",
       "<thead>\n",
       "\t<tr><th scope=col>Day</th><th scope=col>Age</th><th scope=col>Pax7</th><th scope=col>Batch</th><th scope=col>Rep</th></tr>\n",
       "\t<tr><th scope=col>&lt;int&gt;</th><th scope=col>&lt;fct&gt;</th><th scope=col>&lt;fct&gt;</th><th scope=col>&lt;fct&gt;</th><th scope=col>&lt;fct&gt;</th></tr>\n",
       "</thead>\n",
       "<tbody>\n",
       "\t<tr><td>0</td><td>A</td><td>0</td><td>R2200</td><td>d0_A_Rep1     </td></tr>\n",
       "\t<tr><td>0</td><td>A</td><td>0</td><td>R2081</td><td>d0_A_Rep2     </td></tr>\n",
       "\t<tr><td>0</td><td>A</td><td>0</td><td>R2830</td><td>d0_A_Rep4     </td></tr>\n",
       "\t<tr><td>0</td><td>Y</td><td>1</td><td>R2879</td><td>d0_Y_Pax7_Rep1</td></tr>\n",
       "\t<tr><td>0</td><td>Y</td><td>0</td><td>R2081</td><td>d0_Y_Rep2     </td></tr>\n",
       "\t<tr><td>0</td><td>Y</td><td>0</td><td>R2081</td><td>d0_Y_Rep3     </td></tr>\n",
       "\t<tr><td>0</td><td>Y</td><td>0</td><td>R2081</td><td>d0_Y_Rep4     </td></tr>\n",
       "\t<tr><td>0</td><td>Y</td><td>0</td><td>R2879</td><td>d0_Y_Rep5     </td></tr>\n",
       "\t<tr><td>0</td><td>Y</td><td>0</td><td>R2879</td><td>d0_Y_Rep6     </td></tr>\n",
       "\t<tr><td>1</td><td>A</td><td>0</td><td>R2278</td><td>d1_A_Rep1     </td></tr>\n",
       "\t<tr><td>1</td><td>A</td><td>0</td><td>R2278</td><td>d1_A_Rep2     </td></tr>\n",
       "\t<tr><td>1</td><td>Y</td><td>0</td><td>R2249</td><td>d1_Y_Rep1     </td></tr>\n",
       "\t<tr><td>1</td><td>Y</td><td>0</td><td>R2249</td><td>d1_Y_Rep2     </td></tr>\n",
       "\t<tr><td>1</td><td>Y</td><td>0</td><td>R2278</td><td>d1_Y_Rep4     </td></tr>\n",
       "\t<tr><td>3</td><td>A</td><td>0</td><td>R2249</td><td>d3_A_Rep1     </td></tr>\n",
       "\t<tr><td>3</td><td>A</td><td>0</td><td>R2081</td><td>d3_A_Rep2     </td></tr>\n",
       "\t<tr><td>3</td><td>A</td><td>0</td><td>R2830</td><td>D3_A_Rep3     </td></tr>\n",
       "\t<tr><td>3</td><td>A</td><td>0</td><td>R2830</td><td>D3_A_Rep4     </td></tr>\n",
       "\t<tr><td>3</td><td>Y</td><td>0</td><td>R2200</td><td>d3_Y_Rep1     </td></tr>\n",
       "\t<tr><td>3</td><td>Y</td><td>0</td><td>R2249</td><td>d3_Y_Rep2     </td></tr>\n",
       "\t<tr><td>3</td><td>Y</td><td>0</td><td>R2081</td><td>d3_Y_Rep3     </td></tr>\n",
       "\t<tr><td>5</td><td>A</td><td>0</td><td>R2200</td><td>d5_A_Rep1     </td></tr>\n",
       "\t<tr><td>5</td><td>A</td><td>0</td><td>R2249</td><td>d5_A_Rep2     </td></tr>\n",
       "\t<tr><td>5</td><td>Y</td><td>0</td><td>R2200</td><td>d5_Y_Rep1     </td></tr>\n",
       "\t<tr><td>5</td><td>Y</td><td>0</td><td>R2249</td><td>d5_Y_Rep2     </td></tr>\n",
       "\t<tr><td>5</td><td>Y</td><td>0</td><td>R2081</td><td>d5_Y_Rep3     </td></tr>\n",
       "\t<tr><td>7</td><td>A</td><td>0</td><td>R2249</td><td>d7_A_Rep1     </td></tr>\n",
       "\t<tr><td>7</td><td>A</td><td>0</td><td>R2278</td><td>d7_A_Rep2     </td></tr>\n",
       "\t<tr><td>7</td><td>A</td><td>0</td><td>R2830</td><td>d7_A_Rep4     </td></tr>\n",
       "\t<tr><td>7</td><td>Y</td><td>0</td><td>R2249</td><td>d7_Y_Rep1     </td></tr>\n",
       "\t<tr><td>7</td><td>Y</td><td>0</td><td>R2249</td><td>d7_Y_Rep2     </td></tr>\n",
       "\t<tr><td>7</td><td>Y</td><td>0</td><td>R2879</td><td>d7_Y_Rep3     </td></tr>\n",
       "</tbody>\n",
       "</table>\n"
      ],
      "text/latex": [
       "A data.frame: 32 × 5\n",
       "\\begin{tabular}{r|lllll}\n",
       " Day & Age & Pax7 & Batch & Rep\\\\\n",
       " <int> & <fct> & <fct> & <fct> & <fct>\\\\\n",
       "\\hline\n",
       "\t 0 & A & 0 & R2200 & d0\\_A\\_Rep1     \\\\\n",
       "\t 0 & A & 0 & R2081 & d0\\_A\\_Rep2     \\\\\n",
       "\t 0 & A & 0 & R2830 & d0\\_A\\_Rep4     \\\\\n",
       "\t 0 & Y & 1 & R2879 & d0\\_Y\\_Pax7\\_Rep1\\\\\n",
       "\t 0 & Y & 0 & R2081 & d0\\_Y\\_Rep2     \\\\\n",
       "\t 0 & Y & 0 & R2081 & d0\\_Y\\_Rep3     \\\\\n",
       "\t 0 & Y & 0 & R2081 & d0\\_Y\\_Rep4     \\\\\n",
       "\t 0 & Y & 0 & R2879 & d0\\_Y\\_Rep5     \\\\\n",
       "\t 0 & Y & 0 & R2879 & d0\\_Y\\_Rep6     \\\\\n",
       "\t 1 & A & 0 & R2278 & d1\\_A\\_Rep1     \\\\\n",
       "\t 1 & A & 0 & R2278 & d1\\_A\\_Rep2     \\\\\n",
       "\t 1 & Y & 0 & R2249 & d1\\_Y\\_Rep1     \\\\\n",
       "\t 1 & Y & 0 & R2249 & d1\\_Y\\_Rep2     \\\\\n",
       "\t 1 & Y & 0 & R2278 & d1\\_Y\\_Rep4     \\\\\n",
       "\t 3 & A & 0 & R2249 & d3\\_A\\_Rep1     \\\\\n",
       "\t 3 & A & 0 & R2081 & d3\\_A\\_Rep2     \\\\\n",
       "\t 3 & A & 0 & R2830 & D3\\_A\\_Rep3     \\\\\n",
       "\t 3 & A & 0 & R2830 & D3\\_A\\_Rep4     \\\\\n",
       "\t 3 & Y & 0 & R2200 & d3\\_Y\\_Rep1     \\\\\n",
       "\t 3 & Y & 0 & R2249 & d3\\_Y\\_Rep2     \\\\\n",
       "\t 3 & Y & 0 & R2081 & d3\\_Y\\_Rep3     \\\\\n",
       "\t 5 & A & 0 & R2200 & d5\\_A\\_Rep1     \\\\\n",
       "\t 5 & A & 0 & R2249 & d5\\_A\\_Rep2     \\\\\n",
       "\t 5 & Y & 0 & R2200 & d5\\_Y\\_Rep1     \\\\\n",
       "\t 5 & Y & 0 & R2249 & d5\\_Y\\_Rep2     \\\\\n",
       "\t 5 & Y & 0 & R2081 & d5\\_Y\\_Rep3     \\\\\n",
       "\t 7 & A & 0 & R2249 & d7\\_A\\_Rep1     \\\\\n",
       "\t 7 & A & 0 & R2278 & d7\\_A\\_Rep2     \\\\\n",
       "\t 7 & A & 0 & R2830 & d7\\_A\\_Rep4     \\\\\n",
       "\t 7 & Y & 0 & R2249 & d7\\_Y\\_Rep1     \\\\\n",
       "\t 7 & Y & 0 & R2249 & d7\\_Y\\_Rep2     \\\\\n",
       "\t 7 & Y & 0 & R2879 & d7\\_Y\\_Rep3     \\\\\n",
       "\\end{tabular}\n"
      ],
      "text/markdown": [
       "\n",
       "A data.frame: 32 × 5\n",
       "\n",
       "| Day &lt;int&gt; | Age &lt;fct&gt; | Pax7 &lt;fct&gt; | Batch &lt;fct&gt; | Rep &lt;fct&gt; |\n",
       "|---|---|---|---|---|\n",
       "| 0 | A | 0 | R2200 | d0_A_Rep1      |\n",
       "| 0 | A | 0 | R2081 | d0_A_Rep2      |\n",
       "| 0 | A | 0 | R2830 | d0_A_Rep4      |\n",
       "| 0 | Y | 1 | R2879 | d0_Y_Pax7_Rep1 |\n",
       "| 0 | Y | 0 | R2081 | d0_Y_Rep2      |\n",
       "| 0 | Y | 0 | R2081 | d0_Y_Rep3      |\n",
       "| 0 | Y | 0 | R2081 | d0_Y_Rep4      |\n",
       "| 0 | Y | 0 | R2879 | d0_Y_Rep5      |\n",
       "| 0 | Y | 0 | R2879 | d0_Y_Rep6      |\n",
       "| 1 | A | 0 | R2278 | d1_A_Rep1      |\n",
       "| 1 | A | 0 | R2278 | d1_A_Rep2      |\n",
       "| 1 | Y | 0 | R2249 | d1_Y_Rep1      |\n",
       "| 1 | Y | 0 | R2249 | d1_Y_Rep2      |\n",
       "| 1 | Y | 0 | R2278 | d1_Y_Rep4      |\n",
       "| 3 | A | 0 | R2249 | d3_A_Rep1      |\n",
       "| 3 | A | 0 | R2081 | d3_A_Rep2      |\n",
       "| 3 | A | 0 | R2830 | D3_A_Rep3      |\n",
       "| 3 | A | 0 | R2830 | D3_A_Rep4      |\n",
       "| 3 | Y | 0 | R2200 | d3_Y_Rep1      |\n",
       "| 3 | Y | 0 | R2249 | d3_Y_Rep2      |\n",
       "| 3 | Y | 0 | R2081 | d3_Y_Rep3      |\n",
       "| 5 | A | 0 | R2200 | d5_A_Rep1      |\n",
       "| 5 | A | 0 | R2249 | d5_A_Rep2      |\n",
       "| 5 | Y | 0 | R2200 | d5_Y_Rep1      |\n",
       "| 5 | Y | 0 | R2249 | d5_Y_Rep2      |\n",
       "| 5 | Y | 0 | R2081 | d5_Y_Rep3      |\n",
       "| 7 | A | 0 | R2249 | d7_A_Rep1      |\n",
       "| 7 | A | 0 | R2278 | d7_A_Rep2      |\n",
       "| 7 | A | 0 | R2830 | d7_A_Rep4      |\n",
       "| 7 | Y | 0 | R2249 | d7_Y_Rep1      |\n",
       "| 7 | Y | 0 | R2249 | d7_Y_Rep2      |\n",
       "| 7 | Y | 0 | R2879 | d7_Y_Rep3      |\n",
       "\n"
      ],
      "text/plain": [
       "   Day Age Pax7 Batch Rep           \n",
       "1  0   A   0    R2200 d0_A_Rep1     \n",
       "2  0   A   0    R2081 d0_A_Rep2     \n",
       "3  0   A   0    R2830 d0_A_Rep4     \n",
       "4  0   Y   1    R2879 d0_Y_Pax7_Rep1\n",
       "5  0   Y   0    R2081 d0_Y_Rep2     \n",
       "6  0   Y   0    R2081 d0_Y_Rep3     \n",
       "7  0   Y   0    R2081 d0_Y_Rep4     \n",
       "8  0   Y   0    R2879 d0_Y_Rep5     \n",
       "9  0   Y   0    R2879 d0_Y_Rep6     \n",
       "10 1   A   0    R2278 d1_A_Rep1     \n",
       "11 1   A   0    R2278 d1_A_Rep2     \n",
       "12 1   Y   0    R2249 d1_Y_Rep1     \n",
       "13 1   Y   0    R2249 d1_Y_Rep2     \n",
       "14 1   Y   0    R2278 d1_Y_Rep4     \n",
       "15 3   A   0    R2249 d3_A_Rep1     \n",
       "16 3   A   0    R2081 d3_A_Rep2     \n",
       "17 3   A   0    R2830 D3_A_Rep3     \n",
       "18 3   A   0    R2830 D3_A_Rep4     \n",
       "19 3   Y   0    R2200 d3_Y_Rep1     \n",
       "20 3   Y   0    R2249 d3_Y_Rep2     \n",
       "21 3   Y   0    R2081 d3_Y_Rep3     \n",
       "22 5   A   0    R2200 d5_A_Rep1     \n",
       "23 5   A   0    R2249 d5_A_Rep2     \n",
       "24 5   Y   0    R2200 d5_Y_Rep1     \n",
       "25 5   Y   0    R2249 d5_Y_Rep2     \n",
       "26 5   Y   0    R2081 d5_Y_Rep3     \n",
       "27 7   A   0    R2249 d7_A_Rep1     \n",
       "28 7   A   0    R2278 d7_A_Rep2     \n",
       "29 7   A   0    R2830 d7_A_Rep4     \n",
       "30 7   Y   0    R2249 d7_Y_Rep1     \n",
       "31 7   Y   0    R2249 d7_Y_Rep2     \n",
       "32 7   Y   0    R2879 d7_Y_Rep3     "
      ]
     },
     "metadata": {},
     "output_type": "display_data"
    }
   ],
   "source": [
    "#load the metadata\n",
    "batches=read.table(\"../good_reps_counts_batches/batches.goodreps.txt\",header=TRUE,sep='\\t')\n",
    "batches$Batch=factor(batches$Batch)\n",
    "batches$Pax7=factor(batches$Pax7)\n",
    "batches$Age=factor(batches$Age)\n",
    "batches$File=NULL\n",
    "batches"
   ]
  },
  {
   "cell_type": "code",
   "execution_count": 6,
   "metadata": {},
   "outputs": [],
   "source": [
    "#use asinh(tpm)\n",
    "E=as.matrix(asinh(data))"
   ]
  },
  {
   "cell_type": "markdown",
   "metadata": {},
   "source": [
    "## Correlation "
   ]
  },
  {
   "cell_type": "code",
   "execution_count": 7,
   "metadata": {},
   "outputs": [],
   "source": [
    "spearman_cor=cor(E, method = \"spearman\")"
   ]
  },
  {
   "cell_type": "code",
   "execution_count": 8,
   "metadata": {},
   "outputs": [],
   "source": [
    "pearson_cor=cor(E,method=\"pearson\")"
   ]
  },
  {
   "cell_type": "code",
   "execution_count": 9,
   "metadata": {},
   "outputs": [],
   "source": [
    "write.table(spearman_cor,file=\"rna.uncorrected.spearman_r.tsv\",quote=FALSE)\n",
    "write.table(pearson_cor,file=\"rna.uncorrected.pearson_r.tsv\",quote=FALSE)"
   ]
  },
  {
   "cell_type": "code",
   "execution_count": 10,
   "metadata": {},
   "outputs": [
    {
     "name": "stderr",
     "output_type": "stream",
     "text": [
      "\n",
      "Attaching package: ‘gplots’\n",
      "\n",
      "The following object is masked from ‘package:stats’:\n",
      "\n",
      "    lowess\n",
      "\n",
      "Loading required package: gtools\n",
      "\n",
      "Attaching package: ‘gtools’\n",
      "\n",
      "The following object is masked from ‘package:mgcv’:\n",
      "\n",
      "    scat\n",
      "\n",
      "Loading required package: RColorBrewer\n"
     ]
    },
    {
     "data": {
      "text/html": [
       "<strong>png:</strong> 2"
      ],
      "text/latex": [
       "\\textbf{png:} 2"
      ],
      "text/markdown": [
       "**png:** 2"
      ],
      "text/plain": [
       "png \n",
       "  2 "
      ]
     },
     "metadata": {},
     "output_type": "display_data"
    }
   ],
   "source": [
    "## plot correlation heatmaps \n",
    "library(gplots)\n",
    "require(gtools)\n",
    "require(RColorBrewer)\n",
    "cols <- colorRampPalette(brewer.pal(10, \"RdBu\"))(256)\n",
    "\n",
    "svg(filename=\"RNA_rep_spearman_cor_preSVA.svg\",\n",
    "   height=8,\n",
    "   width=8,\n",
    "   pointsize=12)\n",
    "cur_h=heatmap.2(as.matrix(spearman_cor), \n",
    "          trace=\"none\", \n",
    "          scale=\"none\", \n",
    "          Rowv=TRUE,\n",
    "          Colv=TRUE,\n",
    "          col=rev(cols), \n",
    "          dendrogram=\"none\",\n",
    "          margins=c(10,10),\n",
    "          main=\"RNA-seq replicates spearman correlation -- pre-SVA\")\n",
    "dev.off() \n"
   ]
  },
  {
   "cell_type": "code",
   "execution_count": 11,
   "metadata": {},
   "outputs": [
    {
     "data": {
      "text/html": [
       "<strong>null device:</strong> 1"
      ],
      "text/latex": [
       "\\textbf{null device:} 1"
      ],
      "text/markdown": [
       "**null device:** 1"
      ],
      "text/plain": [
       "null device \n",
       "          1 "
      ]
     },
     "metadata": {},
     "output_type": "display_data"
    }
   ],
   "source": [
    "dev.off() "
   ]
  },
  {
   "cell_type": "code",
   "execution_count": 12,
   "metadata": {},
   "outputs": [
    {
     "data": {
      "text/html": [
       "<strong>png:</strong> 2"
      ],
      "text/latex": [
       "\\textbf{png:} 2"
      ],
      "text/markdown": [
       "**png:** 2"
      ],
      "text/plain": [
       "png \n",
       "  2 "
      ]
     },
     "metadata": {},
     "output_type": "display_data"
    }
   ],
   "source": [
    "svg(filename=\"RNA_rep_pearson_cor_preSVA.svg\",\n",
    "   height=8,\n",
    "   width=8,\n",
    "   pointsize=12)\n",
    "cur_h=heatmap.2(as.matrix(pearson_cor), \n",
    "          trace=\"none\", \n",
    "          scale=\"none\", \n",
    "          Rowv=TRUE,\n",
    "          Colv=TRUE,\n",
    "          col=rev(cols), \n",
    "          dendrogram=\"none\",\n",
    "          margins=c(10,10),          \n",
    "          main=\"RNA-seq replicates pearson correlation -- pre-SVA\")\n",
    "\n",
    "dev.off() "
   ]
  },
  {
   "cell_type": "markdown",
   "metadata": {},
   "source": [
    "## Run PCA "
   ]
  },
  {
   "cell_type": "code",
   "execution_count": 13,
   "metadata": {},
   "outputs": [],
   "source": [
    "data.pca=prcomp(t(E))"
   ]
  },
  {
   "cell_type": "code",
   "execution_count": 14,
   "metadata": {},
   "outputs": [],
   "source": [
    "var_explained=as.character(round(100*data.pca$sdev^2/sum(data.pca$sdev^2),2))"
   ]
  },
  {
   "cell_type": "code",
   "execution_count": 15,
   "metadata": {},
   "outputs": [
    {
     "name": "stdout",
     "output_type": "stream",
     "text": [
      "      [,1]\n",
      " [1,]  0.7\n",
      " [2,]  1.9\n",
      " [3,]  3.1\n",
      " [4,]  4.3\n",
      " [5,]  5.5\n",
      " [6,]  6.7\n",
      " [7,]  7.9\n",
      " [8,]  9.1\n",
      " [9,] 10.3\n",
      "[10,] 11.5\n",
      "[11,] 12.7\n",
      "[12,] 13.9\n",
      "[13,] 15.1\n",
      "[14,] 16.3\n",
      "[15,] 17.5\n",
      "[16,] 18.7\n",
      "[17,] 19.9\n",
      "[18,] 21.1\n",
      "[19,] 22.3\n",
      "[20,] 23.5\n",
      "[21,] 24.7\n",
      "[22,] 25.9\n",
      "[23,] 27.1\n",
      "[24,] 28.3\n",
      "[25,] 29.5\n",
      "[26,] 30.7\n",
      "[27,] 31.9\n",
      "[28,] 33.1\n",
      "[29,] 34.3\n",
      "[30,] 35.5\n",
      "[31,] 36.7\n",
      "[32,] 37.9\n"
     ]
    },
    {
     "data": {
      "text/html": [
       "<strong>png:</strong> 2"
      ],
      "text/latex": [
       "\\textbf{png:} 2"
      ],
      "text/markdown": [
       "**png:** 2"
      ],
      "text/plain": [
       "png \n",
       "  2 "
      ]
     },
     "metadata": {},
     "output_type": "display_data"
    }
   ],
   "source": [
    "svg(filename=\"age_rna_uncorrected_scree.svg\",\n",
    "   height=3,\n",
    "   width=4,\n",
    "   pointsize=12)\n",
    "print(barplot(100*data.pca$sdev^2/sum(data.pca$sdev^2),las=2,ylab=\"% Variance Explained\",xlab=\"Principal Component\",ylim=c(0,40), xlim=c(0,10)))\n",
    "dev.off() "
   ]
  },
  {
   "cell_type": "code",
   "execution_count": 16,
   "metadata": {},
   "outputs": [],
   "source": [
    "pca_df=data.frame(data.pca$x)\n",
    "pca_df=cbind(pca_df,batches)\n",
    "pca_df$Day=factor(pca_df$Day)"
   ]
  },
  {
   "cell_type": "code",
   "execution_count": 17,
   "metadata": {},
   "outputs": [
    {
     "data": {
      "text/html": [
       "<strong>png:</strong> 2"
      ],
      "text/latex": [
       "\\textbf{png:} 2"
      ],
      "text/markdown": [
       "**png:** 2"
      ],
      "text/plain": [
       "png \n",
       "  2 "
      ]
     },
     "metadata": {},
     "output_type": "display_data"
    }
   ],
   "source": [
    "svg(filename=\"age_rna_uncorrected_PC1_vs_PC2_batch.svg\",\n",
    "   height=8,\n",
    "   width=8,\n",
    "   pointsize=12)\n",
    "print(ggplot(data=pca_df,aes(x=pca_df$PC1,y=pca_df$PC2,color=pca_df$Day,shape=pca_df$Age,label=pca_df$Rep))+\n",
    "geom_point(size=5)+\n",
    "geom_text(nudge_x=2,nudge_y = 12,size=2)+\n",
    "scale_color_manual(values=c('#e41a1c','#377eb8','#4daf4a','#984ea3','#ff7f00','#000000'))+\n",
    "theme_bw() )\n",
    "dev.off() "
   ]
  },
  {
   "cell_type": "code",
   "execution_count": 18,
   "metadata": {},
   "outputs": [
    {
     "data": {
      "text/html": [
       "<strong>png:</strong> 2"
      ],
      "text/latex": [
       "\\textbf{png:} 2"
      ],
      "text/markdown": [
       "**png:** 2"
      ],
      "text/plain": [
       "png \n",
       "  2 "
      ]
     },
     "metadata": {},
     "output_type": "display_data"
    }
   ],
   "source": [
    "svg(filename=\"age_rna_uncorrected_PC2_vs_PC3_batch.svg\",\n",
    "   height=8,\n",
    "   width=8,\n",
    "   pointsize=12)\n",
    "print(ggplot(data=pca_df,aes(x=pca_df$PC2,y=pca_df$PC3,color=pca_df$Day,shape=pca_df$Age,label=pca_df$Rep))+\n",
    "geom_point(size=5)+\n",
    "geom_text(nudge_x=2,nudge_y = 12,size=2)+\n",
    "scale_color_manual(values=c('#e41a1c','#377eb8','#4daf4a','#984ea3','#ff7f00','#000000'))+\n",
    "theme_bw())\n",
    "dev.off() "
   ]
  },
  {
   "cell_type": "code",
   "execution_count": 19,
   "metadata": {},
   "outputs": [
    {
     "data": {
      "text/html": [
       "<strong>png:</strong> 2"
      ],
      "text/latex": [
       "\\textbf{png:} 2"
      ],
      "text/markdown": [
       "**png:** 2"
      ],
      "text/plain": [
       "png \n",
       "  2 "
      ]
     },
     "metadata": {},
     "output_type": "display_data"
    }
   ],
   "source": [
    "svg(filename=\"age_rna_uncorrected_PC1_vs_PC3_batch.svg\",\n",
    "   height=8,\n",
    "   width=8,\n",
    "   pointsize=12)\n",
    "print(ggplot(data=pca_df,aes(x=pca_df$PC1,y=pca_df$PC3,color=pca_df$Day,shape=pca_df$Age,label=pca_df$Rep))+\n",
    "geom_point(size=5)+\n",
    "geom_text(nudge_x=2,nudge_y = 12,size=2)+\n",
    "scale_color_manual(values=c('#e41a1c','#377eb8','#4daf4a','#984ea3','#ff7f00','#000000'))+\n",
    "theme_bw())\n",
    "dev.off() "
   ]
  },
  {
   "cell_type": "markdown",
   "metadata": {},
   "source": [
    "## Running SVA correction "
   ]
  },
  {
   "cell_type": "code",
   "execution_count": 20,
   "metadata": {},
   "outputs": [
    {
     "data": {
      "text/html": [
       "<table>\n",
       "<caption>A data.frame: 6 × 5</caption>\n",
       "<thead>\n",
       "\t<tr><th scope=col>Day</th><th scope=col>Age</th><th scope=col>Pax7</th><th scope=col>Batch</th><th scope=col>Rep</th></tr>\n",
       "\t<tr><th scope=col>&lt;int&gt;</th><th scope=col>&lt;fct&gt;</th><th scope=col>&lt;fct&gt;</th><th scope=col>&lt;fct&gt;</th><th scope=col>&lt;fct&gt;</th></tr>\n",
       "</thead>\n",
       "<tbody>\n",
       "\t<tr><td>0</td><td>A</td><td>0</td><td>R2200</td><td>d0_A_Rep1     </td></tr>\n",
       "\t<tr><td>0</td><td>A</td><td>0</td><td>R2081</td><td>d0_A_Rep2     </td></tr>\n",
       "\t<tr><td>0</td><td>A</td><td>0</td><td>R2830</td><td>d0_A_Rep4     </td></tr>\n",
       "\t<tr><td>0</td><td>Y</td><td>1</td><td>R2879</td><td>d0_Y_Pax7_Rep1</td></tr>\n",
       "\t<tr><td>0</td><td>Y</td><td>0</td><td>R2081</td><td>d0_Y_Rep2     </td></tr>\n",
       "\t<tr><td>0</td><td>Y</td><td>0</td><td>R2081</td><td>d0_Y_Rep3     </td></tr>\n",
       "</tbody>\n",
       "</table>\n"
      ],
      "text/latex": [
       "A data.frame: 6 × 5\n",
       "\\begin{tabular}{r|lllll}\n",
       " Day & Age & Pax7 & Batch & Rep\\\\\n",
       " <int> & <fct> & <fct> & <fct> & <fct>\\\\\n",
       "\\hline\n",
       "\t 0 & A & 0 & R2200 & d0\\_A\\_Rep1     \\\\\n",
       "\t 0 & A & 0 & R2081 & d0\\_A\\_Rep2     \\\\\n",
       "\t 0 & A & 0 & R2830 & d0\\_A\\_Rep4     \\\\\n",
       "\t 0 & Y & 1 & R2879 & d0\\_Y\\_Pax7\\_Rep1\\\\\n",
       "\t 0 & Y & 0 & R2081 & d0\\_Y\\_Rep2     \\\\\n",
       "\t 0 & Y & 0 & R2081 & d0\\_Y\\_Rep3     \\\\\n",
       "\\end{tabular}\n"
      ],
      "text/markdown": [
       "\n",
       "A data.frame: 6 × 5\n",
       "\n",
       "| Day &lt;int&gt; | Age &lt;fct&gt; | Pax7 &lt;fct&gt; | Batch &lt;fct&gt; | Rep &lt;fct&gt; |\n",
       "|---|---|---|---|---|\n",
       "| 0 | A | 0 | R2200 | d0_A_Rep1      |\n",
       "| 0 | A | 0 | R2081 | d0_A_Rep2      |\n",
       "| 0 | A | 0 | R2830 | d0_A_Rep4      |\n",
       "| 0 | Y | 1 | R2879 | d0_Y_Pax7_Rep1 |\n",
       "| 0 | Y | 0 | R2081 | d0_Y_Rep2      |\n",
       "| 0 | Y | 0 | R2081 | d0_Y_Rep3      |\n",
       "\n"
      ],
      "text/plain": [
       "  Day Age Pax7 Batch Rep           \n",
       "1 0   A   0    R2200 d0_A_Rep1     \n",
       "2 0   A   0    R2081 d0_A_Rep2     \n",
       "3 0   A   0    R2830 d0_A_Rep4     \n",
       "4 0   Y   1    R2879 d0_Y_Pax7_Rep1\n",
       "5 0   Y   0    R2081 d0_Y_Rep2     \n",
       "6 0   Y   0    R2081 d0_Y_Rep3     "
      ]
     },
     "metadata": {},
     "output_type": "display_data"
    }
   ],
   "source": [
    "head(batches)"
   ]
  },
  {
   "cell_type": "code",
   "execution_count": 21,
   "metadata": {},
   "outputs": [],
   "source": [
    "Grouping <- factor(paste0(batches$Day,\".\",batches$Age, \".\", batches$Pax7))\n",
    "batches$Grouping=Grouping"
   ]
  },
  {
   "cell_type": "code",
   "execution_count": 22,
   "metadata": {},
   "outputs": [],
   "source": [
    "mod0=model.matrix(~1,data=batches)\n",
    "#mod1=model.matrix(~Day+Age+Pax7+Batch,data=batches)\n",
    "mod1=model.matrix(~0+Grouping+Batch,data=batches)"
   ]
  },
  {
   "cell_type": "code",
   "execution_count": 23,
   "metadata": {},
   "outputs": [
    {
     "name": "stdout",
     "output_type": "stream",
     "text": [
      "Number of significant surrogate variables is:  4 \n",
      "Iteration (out of 5 ):1  2  3  4  5  "
     ]
    }
   ],
   "source": [
    "sva.obj=sva(E,mod1,mod0)"
   ]
  },
  {
   "cell_type": "code",
   "execution_count": 24,
   "metadata": {},
   "outputs": [],
   "source": [
    "sur_var=data.frame(sva.obj$sv)"
   ]
  },
  {
   "cell_type": "code",
   "execution_count": 25,
   "metadata": {},
   "outputs": [],
   "source": [
    "full.design.sv=cbind(mod1,sur_var)\n"
   ]
  },
  {
   "cell_type": "code",
   "execution_count": 26,
   "metadata": {},
   "outputs": [],
   "source": [
    "#save the full design so we don't have to run SVA next time \n",
    "write.table(full.design.sv,file=\"full.design.sv.txt\",quote=FALSE,sep='\\t')\n"
   ]
  },
  {
   "cell_type": "code",
   "execution_count": 27,
   "metadata": {},
   "outputs": [],
   "source": [
    "#full.design.sv=read.table(\"full.design.sv.txt\",header=TRUE,sep='\\t')\n"
   ]
  },
  {
   "cell_type": "markdown",
   "metadata": {},
   "source": [
    "### Perform pca on the \"cleaned\" matrix with surrogate variable contributions removed\n"
   ]
  },
  {
   "cell_type": "code",
   "execution_count": 28,
   "metadata": {},
   "outputs": [
    {
     "data": {
      "text/html": [
       "32"
      ],
      "text/latex": [
       "32"
      ],
      "text/markdown": [
       "32"
      ],
      "text/plain": [
       "[1] 32"
      ]
     },
     "metadata": {},
     "output_type": "display_data"
    }
   ],
   "source": [
    "nrow(batches)"
   ]
  },
  {
   "cell_type": "code",
   "execution_count": 29,
   "metadata": {},
   "outputs": [],
   "source": [
    "cleaned_E=removeBatchEffect(E,batch=batches$Batch,covariates=sur_var,design=model.matrix(~0+Grouping,data=batches))\n"
   ]
  },
  {
   "cell_type": "code",
   "execution_count": 30,
   "metadata": {},
   "outputs": [],
   "source": [
    "write.table(cleaned_E,file=\"RNA_asinh_tpm_minus_sva_contribs.txt\",quote=FALSE,sep='\\t')"
   ]
  },
  {
   "cell_type": "code",
   "execution_count": 31,
   "metadata": {},
   "outputs": [],
   "source": [
    "write.table(sinh(cleaned_E),file=\"RNA_transformed_tpm_minus_sva_contribs.txt\",quote=FALSE,sep='\\t')"
   ]
  },
  {
   "cell_type": "code",
   "execution_count": 32,
   "metadata": {},
   "outputs": [],
   "source": [
    "## Run replicate correlation on SVA corrected dataset \n",
    "spearman_cor=cor(cleaned_E, method = \"spearman\")\n",
    "pearson_cor=cor(cleaned_E,method=\"pearson\")"
   ]
  },
  {
   "cell_type": "code",
   "execution_count": 33,
   "metadata": {},
   "outputs": [],
   "source": [
    "write.table(spearman_cor,file=\"rna.corrected.spearman_r.tsv\",quote=FALSE)\n",
    "write.table(pearson_cor,file=\"rna.corrected.pearson_r.tsv\",quote=FALSE)"
   ]
  },
  {
   "cell_type": "code",
   "execution_count": 34,
   "metadata": {},
   "outputs": [
    {
     "data": {
      "text/html": [
       "<strong>png:</strong> 2"
      ],
      "text/latex": [
       "\\textbf{png:} 2"
      ],
      "text/markdown": [
       "**png:** 2"
      ],
      "text/plain": [
       "png \n",
       "  2 "
      ]
     },
     "metadata": {},
     "output_type": "display_data"
    }
   ],
   "source": [
    "\n",
    "svg(filename=\"RNA_rep_spearman_cor_postSVA.svg\",\n",
    "   height=8,\n",
    "   width=8,\n",
    "   pointsize=12)\n",
    "cur_h=heatmap.2(as.matrix(spearman_cor), \n",
    "          trace=\"none\", \n",
    "          scale=\"none\", \n",
    "          Rowv=TRUE,\n",
    "          Colv=TRUE,\n",
    "          col=rev(cols), \n",
    "          dendrogram=\"none\",\n",
    "          margins=c(12,12),          \n",
    "          main=\"RNA-seq replicates spearman correlation -- post-SVA \")\n",
    "dev.off() \n",
    "\n"
   ]
  },
  {
   "cell_type": "code",
   "execution_count": 35,
   "metadata": {},
   "outputs": [
    {
     "data": {
      "text/html": [
       "<strong>png:</strong> 2"
      ],
      "text/latex": [
       "\\textbf{png:} 2"
      ],
      "text/markdown": [
       "**png:** 2"
      ],
      "text/plain": [
       "png \n",
       "  2 "
      ]
     },
     "metadata": {},
     "output_type": "display_data"
    }
   ],
   "source": [
    "svg(filename=\"RNA_rep_pearson_cor_postSVA.svg\",\n",
    "   height=8,\n",
    "   width=8,\n",
    "   pointsize=12)\n",
    "\n",
    "cur_h=heatmap.2(as.matrix(pearson_cor), \n",
    "          trace=\"none\", \n",
    "          scale=\"none\", \n",
    "          Rowv=TRUE,\n",
    "          Colv=TRUE,\n",
    "          col=rev(cols), \n",
    "          dendrogram=\"none\",\n",
    "          margins=c(12,12),          \n",
    "          main=\"RNA-seq replicates pearson correlation -- post SVA\")\n",
    "dev.off() \n"
   ]
  },
  {
   "cell_type": "code",
   "execution_count": 36,
   "metadata": {},
   "outputs": [],
   "source": [
    "data.pca=prcomp(t(cleaned_E))"
   ]
  },
  {
   "cell_type": "code",
   "execution_count": 37,
   "metadata": {},
   "outputs": [],
   "source": [
    "var_explained=as.character(round(100*data.pca$sdev^2/sum(data.pca$sdev^2),2))\n"
   ]
  },
  {
   "cell_type": "code",
   "execution_count": 38,
   "metadata": {},
   "outputs": [
    {
     "name": "stdout",
     "output_type": "stream",
     "text": [
      "      [,1]\n",
      " [1,]  0.7\n",
      " [2,]  1.9\n",
      " [3,]  3.1\n",
      " [4,]  4.3\n",
      " [5,]  5.5\n",
      " [6,]  6.7\n",
      " [7,]  7.9\n",
      " [8,]  9.1\n",
      " [9,] 10.3\n",
      "[10,] 11.5\n",
      "[11,] 12.7\n",
      "[12,] 13.9\n",
      "[13,] 15.1\n",
      "[14,] 16.3\n",
      "[15,] 17.5\n",
      "[16,] 18.7\n",
      "[17,] 19.9\n",
      "[18,] 21.1\n",
      "[19,] 22.3\n",
      "[20,] 23.5\n",
      "[21,] 24.7\n",
      "[22,] 25.9\n",
      "[23,] 27.1\n",
      "[24,] 28.3\n",
      "[25,] 29.5\n",
      "[26,] 30.7\n",
      "[27,] 31.9\n",
      "[28,] 33.1\n",
      "[29,] 34.3\n",
      "[30,] 35.5\n",
      "[31,] 36.7\n",
      "[32,] 37.9\n"
     ]
    },
    {
     "data": {
      "text/html": [
       "<strong>png:</strong> 2"
      ],
      "text/latex": [
       "\\textbf{png:} 2"
      ],
      "text/markdown": [
       "**png:** 2"
      ],
      "text/plain": [
       "png \n",
       "  2 "
      ]
     },
     "metadata": {},
     "output_type": "display_data"
    }
   ],
   "source": [
    "svg(filename=\"age_rna_corrected_scree.svg\",\n",
    "   height=3,\n",
    "   width=4,\n",
    "   pointsize=12)\n",
    "print(barplot(100*data.pca$sdev^2/sum(data.pca$sdev^2),las=2,ylab=\"% Variance Explained\",xlab=\"Principal Component\",ylim=c(0,40), xlim=c(0,10)))\n",
    "dev.off()"
   ]
  },
  {
   "cell_type": "code",
   "execution_count": 39,
   "metadata": {},
   "outputs": [
    {
     "data": {
      "text/html": [
       "<ol class=list-inline>\n",
       "\t<li>'35.87'</li>\n",
       "\t<li>'14.8'</li>\n",
       "\t<li>'9.71'</li>\n",
       "\t<li>'9.48'</li>\n",
       "\t<li>'7'</li>\n",
       "\t<li>'4.74'</li>\n",
       "\t<li>'3.3'</li>\n",
       "\t<li>'2.77'</li>\n",
       "\t<li>'2.46'</li>\n",
       "\t<li>'1.48'</li>\n",
       "</ol>\n"
      ],
      "text/latex": [
       "\\begin{enumerate*}\n",
       "\\item '35.87'\n",
       "\\item '14.8'\n",
       "\\item '9.71'\n",
       "\\item '9.48'\n",
       "\\item '7'\n",
       "\\item '4.74'\n",
       "\\item '3.3'\n",
       "\\item '2.77'\n",
       "\\item '2.46'\n",
       "\\item '1.48'\n",
       "\\end{enumerate*}\n"
      ],
      "text/markdown": [
       "1. '35.87'\n",
       "2. '14.8'\n",
       "3. '9.71'\n",
       "4. '9.48'\n",
       "5. '7'\n",
       "6. '4.74'\n",
       "7. '3.3'\n",
       "8. '2.77'\n",
       "9. '2.46'\n",
       "10. '1.48'\n",
       "\n",
       "\n"
      ],
      "text/plain": [
       " [1] \"35.87\" \"14.8\"  \"9.71\"  \"9.48\"  \"7\"     \"4.74\"  \"3.3\"   \"2.77\"  \"2.46\" \n",
       "[10] \"1.48\" "
      ]
     },
     "metadata": {},
     "output_type": "display_data"
    }
   ],
   "source": [
    "var_explained[0:10]\n"
   ]
  },
  {
   "cell_type": "code",
   "execution_count": 40,
   "metadata": {},
   "outputs": [],
   "source": [
    "pca_df=data.frame(data.pca$x)\n",
    "pca_df=cbind(pca_df,batches)\n",
    "pca_df$Day=factor(pca_df$Day)"
   ]
  },
  {
   "cell_type": "code",
   "execution_count": 41,
   "metadata": {},
   "outputs": [
    {
     "data": {
      "text/html": [
       "<strong>png:</strong> 2"
      ],
      "text/latex": [
       "\\textbf{png:} 2"
      ],
      "text/markdown": [
       "**png:** 2"
      ],
      "text/plain": [
       "png \n",
       "  2 "
      ]
     },
     "metadata": {},
     "output_type": "display_data"
    }
   ],
   "source": [
    "svg(filename=\"age_rna_corrected_PC1_vs_PC2.svg\",\n",
    "   height=8,\n",
    "   width=8,\n",
    "   pointsize=12)\n",
    "print(ggplot(data=pca_df,aes(x=pca_df$PC1,y=pca_df$PC2,color=pca_df$Day,shape=pca_df$Age,label=pca_df$Rep))+\n",
    "geom_point(size=5)+\n",
    "geom_text(nudge_x=2,nudge_y = 12,size=2)+\n",
    "scale_color_manual(values=c('#e41a1c','#377eb8','#4daf4a','#984ea3','#ff7f00'))+\n",
    "theme_bw())\n",
    "dev.off()"
   ]
  },
  {
   "cell_type": "code",
   "execution_count": 42,
   "metadata": {},
   "outputs": [
    {
     "data": {
      "text/html": [
       "<strong>png:</strong> 2"
      ],
      "text/latex": [
       "\\textbf{png:} 2"
      ],
      "text/markdown": [
       "**png:** 2"
      ],
      "text/plain": [
       "png \n",
       "  2 "
      ]
     },
     "metadata": {},
     "output_type": "display_data"
    }
   ],
   "source": [
    "svg(filename=\"age_rna_corrected_PC2_vs_PC3.svg\",\n",
    "   height=8,\n",
    "   width=8,\n",
    "   pointsize=12)\n",
    "print(ggplot(data=pca_df,aes(x=pca_df$PC2,y=pca_df$PC3,color=pca_df$Day,shape=pca_df$Age,label=pca_df$Rep))+\n",
    "geom_point(size=5)+\n",
    "geom_text(nudge_x=2,nudge_y = 12,size=2)+\n",
    "scale_color_manual(values=c('#e41a1c','#377eb8','#4daf4a','#984ea3','#ff7f00'))+\n",
    "theme_bw())\n",
    "dev.off()"
   ]
  },
  {
   "cell_type": "code",
   "execution_count": 43,
   "metadata": {
    "scrolled": true
   },
   "outputs": [
    {
     "data": {
      "text/html": [
       "<strong>png:</strong> 2"
      ],
      "text/latex": [
       "\\textbf{png:} 2"
      ],
      "text/markdown": [
       "**png:** 2"
      ],
      "text/plain": [
       "png \n",
       "  2 "
      ]
     },
     "metadata": {},
     "output_type": "display_data"
    }
   ],
   "source": [
    "svg(filename=\"age_rna_corrected_PC1_vs_PC3.svg\",\n",
    "   height=8,\n",
    "   width=8,\n",
    "   pointsize=12)\n",
    "print(ggplot(data=pca_df,aes(x=pca_df$PC1,y=pca_df$PC3,color=pca_df$Day,shape=pca_df$Age,label=pca_df$Rep))+\n",
    "geom_point(size=5)+\n",
    "geom_text(nudge_x=2,nudge_y = 12,size=2)+\n",
    "scale_color_manual(values=c('#e41a1c','#377eb8','#4daf4a','#984ea3','#ff7f00'))+\n",
    "theme_bw())\n",
    "dev.off()"
   ]
  },
  {
   "cell_type": "markdown",
   "metadata": {},
   "source": [
    "### fit model with limma "
   ]
  },
  {
   "cell_type": "code",
   "execution_count": 44,
   "metadata": {},
   "outputs": [],
   "source": [
    "#fit <- lmFit(E,full.design.sv)\n",
    "fit = lmFit(cleaned_E,model.matrix(~0+Grouping))"
   ]
  },
  {
   "cell_type": "code",
   "execution_count": 45,
   "metadata": {},
   "outputs": [
    {
     "data": {
      "text/html": [
       "<ol class=list-inline>\n",
       "\t<li>'Grouping0.A.0'</li>\n",
       "\t<li>'Grouping0.Y.0'</li>\n",
       "\t<li>'Grouping0.Y.1'</li>\n",
       "\t<li>'Grouping1.A.0'</li>\n",
       "\t<li>'Grouping1.Y.0'</li>\n",
       "\t<li>'Grouping3.A.0'</li>\n",
       "\t<li>'Grouping3.Y.0'</li>\n",
       "\t<li>'Grouping5.A.0'</li>\n",
       "\t<li>'Grouping5.Y.0'</li>\n",
       "\t<li>'Grouping7.A.0'</li>\n",
       "\t<li>'Grouping7.Y.0'</li>\n",
       "</ol>\n"
      ],
      "text/latex": [
       "\\begin{enumerate*}\n",
       "\\item 'Grouping0.A.0'\n",
       "\\item 'Grouping0.Y.0'\n",
       "\\item 'Grouping0.Y.1'\n",
       "\\item 'Grouping1.A.0'\n",
       "\\item 'Grouping1.Y.0'\n",
       "\\item 'Grouping3.A.0'\n",
       "\\item 'Grouping3.Y.0'\n",
       "\\item 'Grouping5.A.0'\n",
       "\\item 'Grouping5.Y.0'\n",
       "\\item 'Grouping7.A.0'\n",
       "\\item 'Grouping7.Y.0'\n",
       "\\end{enumerate*}\n"
      ],
      "text/markdown": [
       "1. 'Grouping0.A.0'\n",
       "2. 'Grouping0.Y.0'\n",
       "3. 'Grouping0.Y.1'\n",
       "4. 'Grouping1.A.0'\n",
       "5. 'Grouping1.Y.0'\n",
       "6. 'Grouping3.A.0'\n",
       "7. 'Grouping3.Y.0'\n",
       "8. 'Grouping5.A.0'\n",
       "9. 'Grouping5.Y.0'\n",
       "10. 'Grouping7.A.0'\n",
       "11. 'Grouping7.Y.0'\n",
       "\n",
       "\n"
      ],
      "text/plain": [
       " [1] \"Grouping0.A.0\" \"Grouping0.Y.0\" \"Grouping0.Y.1\" \"Grouping1.A.0\"\n",
       " [5] \"Grouping1.Y.0\" \"Grouping3.A.0\" \"Grouping3.Y.0\" \"Grouping5.A.0\"\n",
       " [9] \"Grouping5.Y.0\" \"Grouping7.A.0\" \"Grouping7.Y.0\""
      ]
     },
     "metadata": {},
     "output_type": "display_data"
    }
   ],
   "source": [
    "colnames(fit)\n"
   ]
  },
  {
   "cell_type": "code",
   "execution_count": 46,
   "metadata": {},
   "outputs": [
    {
     "data": {
      "text/html": [
       "<ol class=list-inline>\n",
       "\t<li>'Grouping0.A.0'</li>\n",
       "\t<li>'Grouping0.Y.0'</li>\n",
       "\t<li>'Grouping0.Y.1'</li>\n",
       "\t<li>'Grouping1.A.0'</li>\n",
       "\t<li>'Grouping1.Y.0'</li>\n",
       "\t<li>'Grouping3.A.0'</li>\n",
       "\t<li>'Grouping3.Y.0'</li>\n",
       "\t<li>'Grouping5.A.0'</li>\n",
       "\t<li>'Grouping5.Y.0'</li>\n",
       "\t<li>'Grouping7.A.0'</li>\n",
       "\t<li>'Grouping7.Y.0'</li>\n",
       "</ol>\n"
      ],
      "text/latex": [
       "\\begin{enumerate*}\n",
       "\\item 'Grouping0.A.0'\n",
       "\\item 'Grouping0.Y.0'\n",
       "\\item 'Grouping0.Y.1'\n",
       "\\item 'Grouping1.A.0'\n",
       "\\item 'Grouping1.Y.0'\n",
       "\\item 'Grouping3.A.0'\n",
       "\\item 'Grouping3.Y.0'\n",
       "\\item 'Grouping5.A.0'\n",
       "\\item 'Grouping5.Y.0'\n",
       "\\item 'Grouping7.A.0'\n",
       "\\item 'Grouping7.Y.0'\n",
       "\\end{enumerate*}\n"
      ],
      "text/markdown": [
       "1. 'Grouping0.A.0'\n",
       "2. 'Grouping0.Y.0'\n",
       "3. 'Grouping0.Y.1'\n",
       "4. 'Grouping1.A.0'\n",
       "5. 'Grouping1.Y.0'\n",
       "6. 'Grouping3.A.0'\n",
       "7. 'Grouping3.Y.0'\n",
       "8. 'Grouping5.A.0'\n",
       "9. 'Grouping5.Y.0'\n",
       "10. 'Grouping7.A.0'\n",
       "11. 'Grouping7.Y.0'\n",
       "\n",
       "\n"
      ],
      "text/plain": [
       " [1] \"Grouping0.A.0\" \"Grouping0.Y.0\" \"Grouping0.Y.1\" \"Grouping1.A.0\"\n",
       " [5] \"Grouping1.Y.0\" \"Grouping3.A.0\" \"Grouping3.Y.0\" \"Grouping5.A.0\"\n",
       " [9] \"Grouping5.Y.0\" \"Grouping7.A.0\" \"Grouping7.Y.0\""
      ]
     },
     "metadata": {},
     "output_type": "display_data"
    }
   ],
   "source": [
    "colnames(fit$coefficients)"
   ]
  },
  {
   "cell_type": "markdown",
   "metadata": {},
   "source": [
    "###  Contrasts "
   ]
  },
  {
   "cell_type": "code",
   "execution_count": 47,
   "metadata": {},
   "outputs": [],
   "source": [
    "#create contrasts of interest \n",
    "cont.matrix=makeContrasts(\n",
    "    d0_Y_vs_A=\"Grouping0.Y.0 - Grouping0.A.0\",  \n",
    "    d1_Y_vs_A=\"Grouping1.Y.0 - Grouping1.A.0\",\n",
    "    d3_Y_vs_A=\"Grouping3.Y.0 - Grouping3.A.0\",\n",
    "    d5_Y_vs_A=\"Grouping5.Y.0 - Grouping5.A.0\",\n",
    "    d7_Y_vs_A=\"Grouping7.Y.0 - Grouping7.A.0\",\n",
    "    d1_Y_vs_d0_Y=\"Grouping1.Y.0 - Grouping0.Y.0\",\n",
    "    d1_A_vs_d0_A=\"Grouping1.A.0 - Grouping0.A.0\",\n",
    "    d3_Y_vs_d1_Y=\"Grouping3.Y.0 - Grouping1.Y.0\",\n",
    "    d3_A_vs_d1_A=\"Grouping3.A.0 - Grouping1.A.0\",\n",
    "    d5_Y_vs_d3_Y=\"Grouping5.Y.0 - Grouping3.Y.0\",\n",
    "    d5_A_vs_d3_A=\"Grouping5.A.0 - Grouping3.A.0\",\n",
    "    d7_Y_vs_d5_Y=\"Grouping7.Y.0 - Grouping5.Y.0\",\n",
    "    d7_A_vs_d5_A=\"Grouping7.A.0 - Grouping5.A.0\",\n",
    "    d0_Y_Pax_7_vs_d0_Y_noPax7=\"Grouping0.Y.1 - Grouping0.Y.0\",\n",
    "    levels=model.matrix(~0+Grouping))\n"
   ]
  },
  {
   "cell_type": "code",
   "execution_count": 48,
   "metadata": {},
   "outputs": [],
   "source": [
    "pval_thresh=0.01\n",
    "lfc_thresh=1"
   ]
  },
  {
   "cell_type": "code",
   "execution_count": 49,
   "metadata": {
    "scrolled": true
   },
   "outputs": [
    {
     "name": "stderr",
     "output_type": "stream",
     "text": [
      "Warning message:\n",
      "“Zero sample variances detected, have been offset away from zero”"
     ]
    }
   ],
   "source": [
    "fit2=contrasts.fit(fit,cont.matrix)\n",
    "e=eBayes(fit2)\n",
    "comparisons=colnames(cont.matrix)"
   ]
  },
  {
   "cell_type": "code",
   "execution_count": 50,
   "metadata": {},
   "outputs": [
    {
     "name": "stdout",
     "output_type": "stream",
     "text": [
      "[1] \"d0_Y_vs_A \\n sig: 629 \\n up: 368 \\n down: 261 \\n\"\n",
      "[1] \"d1_Y_vs_A \\n sig: 1742 \\n up: 741 \\n down: 1001 \\n\"\n",
      "[1] \"d3_Y_vs_A \\n sig: 245 \\n up: 91 \\n down: 154 \\n\"\n",
      "[1] \"d5_Y_vs_A \\n sig: 4242 \\n up: 2181 \\n down: 2061 \\n\"\n",
      "[1] \"d7_Y_vs_A \\n sig: 1140 \\n up: 886 \\n down: 254 \\n\"\n",
      "[1] \"d1_Y_vs_d0_Y \\n sig: 1377 \\n up: 887 \\n down: 490 \\n\"\n",
      "[1] \"d1_A_vs_d0_A \\n sig: 2360 \\n up: 1791 \\n down: 569 \\n\"\n",
      "[1] \"d3_Y_vs_d1_Y \\n sig: 4192 \\n up: 1693 \\n down: 2499 \\n\"\n",
      "[1] \"d3_A_vs_d1_A \\n sig: 1909 \\n up: 600 \\n down: 1309 \\n\"\n",
      "[1] \"d5_Y_vs_d3_Y \\n sig: 1051 \\n up: 683 \\n down: 368 \\n\"\n",
      "[1] \"d5_A_vs_d3_A \\n sig: 4720 \\n up: 2185 \\n down: 2535 \\n\"\n",
      "[1] \"d7_Y_vs_d5_Y \\n sig: 1247 \\n up: 842 \\n down: 405 \\n\"\n",
      "[1] \"d7_A_vs_d5_A \\n sig: 4304 \\n up: 2038 \\n down: 2266 \\n\"\n",
      "[1] \"d0_Y_Pax_7_vs_d0_Y_noPax7 \\n sig: 4140 \\n up: 2127 \\n down: 2013 \\n\"\n"
     ]
    }
   ],
   "source": [
    "for(i in seq(1,length(comparisons)))\n",
    "{\n",
    "  tab<-topTable(e, number=nrow(e),coef=i,lfc=lfc_thresh, p.value = pval_thresh)\n",
    "  up=sum(tab$logFC>0)\n",
    "  down=sum(tab$logFC<0)\n",
    "  sig=nrow(tab)\n",
    "  curtitle=paste(comparisons[i],'\\n','sig:',sig,'\\n','up:',up,'\\n','down:',down,'\\n')\n",
    "  print(curtitle)\n",
    "  vals=topTable(e,number=nrow(e),coef=i)\n",
    "  vals$pscaled=-1*log10(vals$adj.P.Val)\n",
    "  vals$sig=vals$adj.P.Val<pval_thresh & abs(vals$logFC)>lfc_thresh \n",
    "  png(paste(\"volcano_diff\",comparisons[i],\".png\",sep=\"\"))\n",
    "  print(ggplot(data=vals,\n",
    "               aes(y=vals$pscaled,x=vals$logFC,color=vals$sig))+\n",
    "               geom_point(alpha=0.1)+\n",
    "               xlab(\"log2(FC)\")+\n",
    "               ylab(\"-log10(pval)\")+\n",
    "               ggtitle(curtitle)+\n",
    "               theme_bw()+\n",
    "               scale_color_manual(values=c(\"#000000\",\"#FF0000\")))\n",
    "  dev.off() \n",
    "  write.table(tab,file=paste(\"diff_\",comparisons[i],\".tsv\",sep=\"\"),quote=FALSE,sep='\\t',row.names = TRUE,col.names = TRUE)\n",
    "}\n",
    "    "
   ]
  },
  {
   "cell_type": "code",
   "execution_count": 51,
   "metadata": {},
   "outputs": [
    {
     "data": {
      "text/html": [
       "<table>\n",
       "<caption>A data.frame: 6 × 32</caption>\n",
       "<thead>\n",
       "\t<tr><th></th><th scope=col>d0_A_Rep1</th><th scope=col>d0_A_Rep2</th><th scope=col>d0_A_Rep4</th><th scope=col>d0_Y_Rep2</th><th scope=col>d0_Y_Rep3</th><th scope=col>d0_Y_Rep4</th><th scope=col>d0_Y_Rep5</th><th scope=col>d0_Y_Rep6</th><th scope=col>d0_Y_Pax7_Rep1</th><th scope=col>d1_A_Rep1</th><th scope=col>⋯</th><th scope=col>d5_A_Rep2</th><th scope=col>d5_Y_Rep1</th><th scope=col>d5_Y_Rep2</th><th scope=col>d5_Y_Rep3</th><th scope=col>d7_A_Rep1</th><th scope=col>d7_A_Rep2</th><th scope=col>d7_A_Rep4</th><th scope=col>d7_Y_Rep1</th><th scope=col>d7_Y_Rep2</th><th scope=col>d7_Y_Rep3</th></tr>\n",
       "\t<tr><th></th><th scope=col>&lt;dbl&gt;</th><th scope=col>&lt;dbl&gt;</th><th scope=col>&lt;dbl&gt;</th><th scope=col>&lt;dbl&gt;</th><th scope=col>&lt;dbl&gt;</th><th scope=col>&lt;dbl&gt;</th><th scope=col>&lt;dbl&gt;</th><th scope=col>&lt;dbl&gt;</th><th scope=col>&lt;dbl&gt;</th><th scope=col>&lt;dbl&gt;</th><th scope=col>⋯</th><th scope=col>&lt;dbl&gt;</th><th scope=col>&lt;dbl&gt;</th><th scope=col>&lt;dbl&gt;</th><th scope=col>&lt;dbl&gt;</th><th scope=col>&lt;dbl&gt;</th><th scope=col>&lt;dbl&gt;</th><th scope=col>&lt;dbl&gt;</th><th scope=col>&lt;dbl&gt;</th><th scope=col>&lt;dbl&gt;</th><th scope=col>&lt;dbl&gt;</th></tr>\n",
       "</thead>\n",
       "<tbody>\n",
       "\t<tr><th scope=row>ENSMUSG00000000001_Gnai3</th><td>4.7411940</td><td>5.0992198</td><td>4.9847304</td><td> 5.5846046</td><td>5.30712491</td><td>5.8207697</td><td>5.5692902</td><td>5.5915321</td><td>5.5449591</td><td>5.6601784</td><td>⋯</td><td>5.72863337</td><td>5.85222072</td><td>5.76040498</td><td>5.7769776</td><td>5.5631203</td><td>5.5455669</td><td>5.5051168</td><td>5.53144555</td><td>5.4168451</td><td>5.46961408</td></tr>\n",
       "\t<tr><th scope=row>ENSMUSG00000000028_Cdc45</th><td>2.2231559</td><td>2.2380906</td><td>2.6525521</td><td> 2.5963056</td><td>2.49625471</td><td>2.4910488</td><td>2.4074022</td><td>2.2981404</td><td>2.4045276</td><td>4.5344667</td><td>⋯</td><td>2.50047695</td><td>4.03151952</td><td>4.00420157</td><td>3.8356339</td><td>3.6024376</td><td>3.6628883</td><td>3.5331566</td><td>4.44384732</td><td>3.0943943</td><td>3.97354298</td></tr>\n",
       "\t<tr><th scope=row>ENSMUSG00000000031_H19</th><td>1.8809843</td><td>1.4433668</td><td>1.9983681</td><td> 1.7671132</td><td>1.95114753</td><td>1.2389882</td><td>1.5224430</td><td>1.4062306</td><td>1.5596154</td><td>2.0632514</td><td>⋯</td><td>2.07250410</td><td>5.15710132</td><td>5.03276900</td><td>5.0496869</td><td>3.9809039</td><td>3.9887460</td><td>4.0254166</td><td>4.91416153</td><td>3.8799127</td><td>4.55532295</td></tr>\n",
       "\t<tr><th scope=row>ENSMUSG00000000037_Scml2</th><td>0.8295725</td><td>0.8530665</td><td>0.8610695</td><td> 0.4548544</td><td>0.85642479</td><td>0.9029679</td><td>0.8673222</td><td>0.9061906</td><td>0.8703086</td><td>1.6525654</td><td>⋯</td><td>0.45414049</td><td>1.88606305</td><td>1.89204160</td><td>1.9749363</td><td>1.7800089</td><td>1.6186176</td><td>1.6567513</td><td>1.36634097</td><td>1.2490518</td><td>1.28487598</td></tr>\n",
       "\t<tr><th scope=row>ENSMUSG00000000049_Apoh</th><td>0.5403837</td><td>0.4525328</td><td>0.3877751</td><td>-0.1119516</td><td>0.07830937</td><td>0.1952664</td><td>0.1635276</td><td>0.1874306</td><td>0.1317140</td><td>0.3153574</td><td>⋯</td><td>0.03110389</td><td>0.02988406</td><td>0.08356946</td><td>0.1166229</td><td>0.3420104</td><td>0.5615951</td><td>0.4068583</td><td>0.02356256</td><td>0.2027261</td><td>0.08817612</td></tr>\n",
       "\t<tr><th scope=row>ENSMUSG00000000056_Narf</th><td>2.7750182</td><td>2.8872924</td><td>2.8125416</td><td> 2.9444830</td><td>3.18113730</td><td>3.0427042</td><td>3.1476161</td><td>3.2168433</td><td>3.1533610</td><td>1.9664420</td><td>⋯</td><td>2.97580758</td><td>2.79902629</td><td>2.80557594</td><td>2.9523649</td><td>2.5619505</td><td>2.4085832</td><td>2.5952235</td><td>2.51826968</td><td>2.8448192</td><td>2.57123516</td></tr>\n",
       "</tbody>\n",
       "</table>\n"
      ],
      "text/latex": [
       "A data.frame: 6 × 32\n",
       "\\begin{tabular}{r|llllllllllllllllllllllllllllllll}\n",
       "  & d0\\_A\\_Rep1 & d0\\_A\\_Rep2 & d0\\_A\\_Rep4 & d0\\_Y\\_Rep2 & d0\\_Y\\_Rep3 & d0\\_Y\\_Rep4 & d0\\_Y\\_Rep5 & d0\\_Y\\_Rep6 & d0\\_Y\\_Pax7\\_Rep1 & d1\\_A\\_Rep1 & d1\\_A\\_Rep2 & d1\\_Y\\_Rep1 & d1\\_Y\\_Rep2 & d1\\_Y\\_Rep4 & d3\\_A\\_Rep1 & d3\\_A\\_Rep2 & D3\\_A\\_Rep3 & D3\\_A\\_Rep4 & d3\\_Y\\_Rep1 & d3\\_Y\\_Rep2 & d3\\_Y\\_Rep3 & d5\\_A\\_Rep1 & d5\\_A\\_Rep2 & d5\\_Y\\_Rep1 & d5\\_Y\\_Rep2 & d5\\_Y\\_Rep3 & d7\\_A\\_Rep1 & d7\\_A\\_Rep2 & d7\\_A\\_Rep4 & d7\\_Y\\_Rep1 & d7\\_Y\\_Rep2 & d7\\_Y\\_Rep3\\\\\n",
       "  & <dbl> & <dbl> & <dbl> & <dbl> & <dbl> & <dbl> & <dbl> & <dbl> & <dbl> & <dbl> & <dbl> & <dbl> & <dbl> & <dbl> & <dbl> & <dbl> & <dbl> & <dbl> & <dbl> & <dbl> & <dbl> & <dbl> & <dbl> & <dbl> & <dbl> & <dbl> & <dbl> & <dbl> & <dbl> & <dbl> & <dbl> & <dbl>\\\\\n",
       "\\hline\n",
       "\tENSMUSG00000000001\\_Gnai3 & 4.7411940 & 5.0992198 & 4.9847304 &  5.5846046 & 5.30712491 & 5.8207697 & 5.5692902 & 5.5915321 & 5.5449591 & 5.6601784 & 5.733987 & 5.6307311 & 5.618373 & 5.6131038 &  5.54636442 &  5.51554217 &  5.4926585 & 5.5488524 &  5.72472690 & 5.65843751 & 5.50465943 & 5.82739773 & 5.72863337 & 5.85222072 & 5.76040498 & 5.7769776 & 5.5631203 & 5.5455669 & 5.5051168 & 5.53144555 & 5.4168451 & 5.46961408\\\\\n",
       "\tENSMUSG00000000028\\_Cdc45 & 2.2231559 & 2.2380906 & 2.6525521 &  2.5963056 & 2.49625471 & 2.4910488 & 2.4074022 & 2.2981404 & 2.4045276 & 4.5344667 & 4.516553 & 2.8261248 & 2.483845 & 2.5598938 &  5.02677851 &  4.97488665 &  4.8408556 & 4.7309130 &  4.70536952 & 4.72547968 & 4.77070022 & 2.70485566 & 2.50047695 & 4.03151952 & 4.00420157 & 3.8356339 & 3.6024376 & 3.6628883 & 3.5331566 & 4.44384732 & 3.0943943 & 3.97354298\\\\\n",
       "\tENSMUSG00000000031\\_H19 & 1.8809843 & 1.4433668 & 1.9983681 &  1.7671132 & 1.95114753 & 1.2389882 & 1.5224430 & 1.4062306 & 1.5596154 & 2.0632514 & 2.313005 & 2.0498795 & 1.725429 & 1.9020685 &  4.55752163 &  4.30057902 &  4.1452677 & 4.2104540 &  4.70785024 & 4.71511730 & 5.09907044 & 1.97017534 & 2.07250410 & 5.15710132 & 5.03276900 & 5.0496869 & 3.9809039 & 3.9887460 & 4.0254166 & 4.91416153 & 3.8799127 & 4.55532295\\\\\n",
       "\tENSMUSG00000000037\\_Scml2 & 0.8295725 & 0.8530665 & 0.8610695 &  0.4548544 & 0.85642479 & 0.9029679 & 0.8673222 & 0.9061906 & 0.8703086 & 1.6525654 & 1.441923 & 1.2724201 & 1.316843 & 1.3943942 &  1.46501392 &  1.61012135 &  1.3650487 & 1.7405025 &  1.64086269 & 1.48946230 & 1.39692871 & 0.29047956 & 0.45414049 & 1.88606305 & 1.89204160 & 1.9749363 & 1.7800089 & 1.6186176 & 1.6567513 & 1.36634097 & 1.2490518 & 1.28487598\\\\\n",
       "\tENSMUSG00000000049\\_Apoh & 0.5403837 & 0.4525328 & 0.3877751 & -0.1119516 & 0.07830937 & 0.1952664 & 0.1635276 & 0.1874306 & 0.1317140 & 0.3153574 & 1.172282 & 0.5904563 & 0.708094 & 0.4621144 & -0.07272274 & -0.01850075 & -0.1109017 & 0.2245149 & -0.01372539 & 0.04365049 & 0.02772847 & 0.03030023 & 0.03110389 & 0.02988406 & 0.08356946 & 0.1166229 & 0.3420104 & 0.5615951 & 0.4068583 & 0.02356256 & 0.2027261 & 0.08817612\\\\\n",
       "\tENSMUSG00000000056\\_Narf & 2.7750182 & 2.8872924 & 2.8125416 &  2.9444830 & 3.18113730 & 3.0427042 & 3.1476161 & 3.2168433 & 3.1533610 & 1.9664420 & 2.460686 & 2.8195911 & 2.744956 & 2.9522775 &  3.10813338 &  2.92571169 &  2.6279450 & 3.2841093 &  3.78274669 & 3.62608261 & 3.66229244 & 2.99751928 & 2.97580758 & 2.79902629 & 2.80557594 & 2.9523649 & 2.5619505 & 2.4085832 & 2.5952235 & 2.51826968 & 2.8448192 & 2.57123516\\\\\n",
       "\\end{tabular}\n"
      ],
      "text/markdown": [
       "\n",
       "A data.frame: 6 × 32\n",
       "\n",
       "| <!--/--> | d0_A_Rep1 &lt;dbl&gt; | d0_A_Rep2 &lt;dbl&gt; | d0_A_Rep4 &lt;dbl&gt; | d0_Y_Rep2 &lt;dbl&gt; | d0_Y_Rep3 &lt;dbl&gt; | d0_Y_Rep4 &lt;dbl&gt; | d0_Y_Rep5 &lt;dbl&gt; | d0_Y_Rep6 &lt;dbl&gt; | d0_Y_Pax7_Rep1 &lt;dbl&gt; | d1_A_Rep1 &lt;dbl&gt; | ⋯ ⋯ | d5_A_Rep2 &lt;dbl&gt; | d5_Y_Rep1 &lt;dbl&gt; | d5_Y_Rep2 &lt;dbl&gt; | d5_Y_Rep3 &lt;dbl&gt; | d7_A_Rep1 &lt;dbl&gt; | d7_A_Rep2 &lt;dbl&gt; | d7_A_Rep4 &lt;dbl&gt; | d7_Y_Rep1 &lt;dbl&gt; | d7_Y_Rep2 &lt;dbl&gt; | d7_Y_Rep3 &lt;dbl&gt; |\n",
       "|---|---|---|---|---|---|---|---|---|---|---|---|---|---|---|---|---|---|---|---|---|---|\n",
       "| ENSMUSG00000000001_Gnai3 | 4.7411940 | 5.0992198 | 4.9847304 |  5.5846046 | 5.30712491 | 5.8207697 | 5.5692902 | 5.5915321 | 5.5449591 | 5.6601784 | ⋯ | 5.72863337 | 5.85222072 | 5.76040498 | 5.7769776 | 5.5631203 | 5.5455669 | 5.5051168 | 5.53144555 | 5.4168451 | 5.46961408 |\n",
       "| ENSMUSG00000000028_Cdc45 | 2.2231559 | 2.2380906 | 2.6525521 |  2.5963056 | 2.49625471 | 2.4910488 | 2.4074022 | 2.2981404 | 2.4045276 | 4.5344667 | ⋯ | 2.50047695 | 4.03151952 | 4.00420157 | 3.8356339 | 3.6024376 | 3.6628883 | 3.5331566 | 4.44384732 | 3.0943943 | 3.97354298 |\n",
       "| ENSMUSG00000000031_H19 | 1.8809843 | 1.4433668 | 1.9983681 |  1.7671132 | 1.95114753 | 1.2389882 | 1.5224430 | 1.4062306 | 1.5596154 | 2.0632514 | ⋯ | 2.07250410 | 5.15710132 | 5.03276900 | 5.0496869 | 3.9809039 | 3.9887460 | 4.0254166 | 4.91416153 | 3.8799127 | 4.55532295 |\n",
       "| ENSMUSG00000000037_Scml2 | 0.8295725 | 0.8530665 | 0.8610695 |  0.4548544 | 0.85642479 | 0.9029679 | 0.8673222 | 0.9061906 | 0.8703086 | 1.6525654 | ⋯ | 0.45414049 | 1.88606305 | 1.89204160 | 1.9749363 | 1.7800089 | 1.6186176 | 1.6567513 | 1.36634097 | 1.2490518 | 1.28487598 |\n",
       "| ENSMUSG00000000049_Apoh | 0.5403837 | 0.4525328 | 0.3877751 | -0.1119516 | 0.07830937 | 0.1952664 | 0.1635276 | 0.1874306 | 0.1317140 | 0.3153574 | ⋯ | 0.03110389 | 0.02988406 | 0.08356946 | 0.1166229 | 0.3420104 | 0.5615951 | 0.4068583 | 0.02356256 | 0.2027261 | 0.08817612 |\n",
       "| ENSMUSG00000000056_Narf | 2.7750182 | 2.8872924 | 2.8125416 |  2.9444830 | 3.18113730 | 3.0427042 | 3.1476161 | 3.2168433 | 3.1533610 | 1.9664420 | ⋯ | 2.97580758 | 2.79902629 | 2.80557594 | 2.9523649 | 2.5619505 | 2.4085832 | 2.5952235 | 2.51826968 | 2.8448192 | 2.57123516 |\n",
       "\n"
      ],
      "text/plain": [
       "                         d0_A_Rep1 d0_A_Rep2 d0_A_Rep4 d0_Y_Rep2  d0_Y_Rep3 \n",
       "ENSMUSG00000000001_Gnai3 4.7411940 5.0992198 4.9847304  5.5846046 5.30712491\n",
       "ENSMUSG00000000028_Cdc45 2.2231559 2.2380906 2.6525521  2.5963056 2.49625471\n",
       "ENSMUSG00000000031_H19   1.8809843 1.4433668 1.9983681  1.7671132 1.95114753\n",
       "ENSMUSG00000000037_Scml2 0.8295725 0.8530665 0.8610695  0.4548544 0.85642479\n",
       "ENSMUSG00000000049_Apoh  0.5403837 0.4525328 0.3877751 -0.1119516 0.07830937\n",
       "ENSMUSG00000000056_Narf  2.7750182 2.8872924 2.8125416  2.9444830 3.18113730\n",
       "                         d0_Y_Rep4 d0_Y_Rep5 d0_Y_Rep6 d0_Y_Pax7_Rep1 d1_A_Rep1\n",
       "ENSMUSG00000000001_Gnai3 5.8207697 5.5692902 5.5915321 5.5449591      5.6601784\n",
       "ENSMUSG00000000028_Cdc45 2.4910488 2.4074022 2.2981404 2.4045276      4.5344667\n",
       "ENSMUSG00000000031_H19   1.2389882 1.5224430 1.4062306 1.5596154      2.0632514\n",
       "ENSMUSG00000000037_Scml2 0.9029679 0.8673222 0.9061906 0.8703086      1.6525654\n",
       "ENSMUSG00000000049_Apoh  0.1952664 0.1635276 0.1874306 0.1317140      0.3153574\n",
       "ENSMUSG00000000056_Narf  3.0427042 3.1476161 3.2168433 3.1533610      1.9664420\n",
       "                         ⋯ d5_A_Rep2  d5_Y_Rep1  d5_Y_Rep2  d5_Y_Rep3 d7_A_Rep1\n",
       "ENSMUSG00000000001_Gnai3 ⋯ 5.72863337 5.85222072 5.76040498 5.7769776 5.5631203\n",
       "ENSMUSG00000000028_Cdc45 ⋯ 2.50047695 4.03151952 4.00420157 3.8356339 3.6024376\n",
       "ENSMUSG00000000031_H19   ⋯ 2.07250410 5.15710132 5.03276900 5.0496869 3.9809039\n",
       "ENSMUSG00000000037_Scml2 ⋯ 0.45414049 1.88606305 1.89204160 1.9749363 1.7800089\n",
       "ENSMUSG00000000049_Apoh  ⋯ 0.03110389 0.02988406 0.08356946 0.1166229 0.3420104\n",
       "ENSMUSG00000000056_Narf  ⋯ 2.97580758 2.79902629 2.80557594 2.9523649 2.5619505\n",
       "                         d7_A_Rep2 d7_A_Rep4 d7_Y_Rep1  d7_Y_Rep2 d7_Y_Rep3 \n",
       "ENSMUSG00000000001_Gnai3 5.5455669 5.5051168 5.53144555 5.4168451 5.46961408\n",
       "ENSMUSG00000000028_Cdc45 3.6628883 3.5331566 4.44384732 3.0943943 3.97354298\n",
       "ENSMUSG00000000031_H19   3.9887460 4.0254166 4.91416153 3.8799127 4.55532295\n",
       "ENSMUSG00000000037_Scml2 1.6186176 1.6567513 1.36634097 1.2490518 1.28487598\n",
       "ENSMUSG00000000049_Apoh  0.5615951 0.4068583 0.02356256 0.2027261 0.08817612\n",
       "ENSMUSG00000000056_Narf  2.4085832 2.5952235 2.51826968 2.8448192 2.57123516"
      ]
     },
     "metadata": {},
     "output_type": "display_data"
    }
   ],
   "source": [
    "cleaned_E_df=as.data.frame(cleaned_E)\n",
    "head(cleaned_E_df)"
   ]
  },
  {
   "cell_type": "markdown",
   "metadata": {},
   "source": [
    "## Plot d0_Y vs d0_Y_Pax7"
   ]
  },
  {
   "cell_type": "code",
   "execution_count": 63,
   "metadata": {},
   "outputs": [],
   "source": [
    "d0_Y=sinh((cleaned_E_df$d0_Y_Rep2+\n",
    "    cleaned_E_df$d0_Y_Rep3+\n",
    "    cleaned_E_df$d0_Y_Rep4+\n",
    "    cleaned_E_df$d0_Y_Rep5+\n",
    "    cleaned_E_df$d0_Y_Rep6)/5)\n",
    "d0_Y_Pax7=sinh((cleaned_E_df$d0_Y_Pax7_Rep1))"
   ]
  },
  {
   "cell_type": "code",
   "execution_count": 64,
   "metadata": {},
   "outputs": [],
   "source": [
    "d0_Y_df=data.frame(rownames(cleaned_E_df),d0_Y,d0_Y_Pax7)"
   ]
  },
  {
   "cell_type": "code",
   "execution_count": 65,
   "metadata": {},
   "outputs": [
    {
     "data": {
      "text/html": [
       "<table>\n",
       "<caption>A data.frame: 6 × 3</caption>\n",
       "<thead>\n",
       "\t<tr><th scope=col>rownames.cleaned_E_df.</th><th scope=col>d0_Y</th><th scope=col>d0_Y_Pax7</th></tr>\n",
       "\t<tr><th scope=col>&lt;fct&gt;</th><th scope=col>&lt;dbl&gt;</th><th scope=col>&lt;dbl&gt;</th></tr>\n",
       "</thead>\n",
       "<tbody>\n",
       "\t<tr><td>ENSMUSG00000000001_Gnai3</td><td>131.8286182</td><td>127.9701062</td></tr>\n",
       "\t<tr><td>ENSMUSG00000000028_Cdc45</td><td>  5.7969115</td><td>  5.4914449</td></tr>\n",
       "\t<tr><td>ENSMUSG00000000031_H19  </td><td>  2.3173751</td><td>  2.2733872</td></tr>\n",
       "\t<tr><td>ENSMUSG00000000037_Scml2</td><td>  0.8848345</td><td>  0.9844127</td></tr>\n",
       "\t<tr><td>ENSMUSG00000000049_Apoh </td><td>  0.1026961</td><td>  0.1320952</td></tr>\n",
       "\t<tr><td>ENSMUSG00000000056_Narf </td><td> 11.1496107</td><td> 11.6859604</td></tr>\n",
       "</tbody>\n",
       "</table>\n"
      ],
      "text/latex": [
       "A data.frame: 6 × 3\n",
       "\\begin{tabular}{r|lll}\n",
       " rownames.cleaned\\_E\\_df. & d0\\_Y & d0\\_Y\\_Pax7\\\\\n",
       " <fct> & <dbl> & <dbl>\\\\\n",
       "\\hline\n",
       "\t ENSMUSG00000000001\\_Gnai3 & 131.8286182 & 127.9701062\\\\\n",
       "\t ENSMUSG00000000028\\_Cdc45 &   5.7969115 &   5.4914449\\\\\n",
       "\t ENSMUSG00000000031\\_H19   &   2.3173751 &   2.2733872\\\\\n",
       "\t ENSMUSG00000000037\\_Scml2 &   0.8848345 &   0.9844127\\\\\n",
       "\t ENSMUSG00000000049\\_Apoh  &   0.1026961 &   0.1320952\\\\\n",
       "\t ENSMUSG00000000056\\_Narf  &  11.1496107 &  11.6859604\\\\\n",
       "\\end{tabular}\n"
      ],
      "text/markdown": [
       "\n",
       "A data.frame: 6 × 3\n",
       "\n",
       "| rownames.cleaned_E_df. &lt;fct&gt; | d0_Y &lt;dbl&gt; | d0_Y_Pax7 &lt;dbl&gt; |\n",
       "|---|---|---|\n",
       "| ENSMUSG00000000001_Gnai3 | 131.8286182 | 127.9701062 |\n",
       "| ENSMUSG00000000028_Cdc45 |   5.7969115 |   5.4914449 |\n",
       "| ENSMUSG00000000031_H19   |   2.3173751 |   2.2733872 |\n",
       "| ENSMUSG00000000037_Scml2 |   0.8848345 |   0.9844127 |\n",
       "| ENSMUSG00000000049_Apoh  |   0.1026961 |   0.1320952 |\n",
       "| ENSMUSG00000000056_Narf  |  11.1496107 |  11.6859604 |\n",
       "\n"
      ],
      "text/plain": [
       "  rownames.cleaned_E_df.   d0_Y        d0_Y_Pax7  \n",
       "1 ENSMUSG00000000001_Gnai3 131.8286182 127.9701062\n",
       "2 ENSMUSG00000000028_Cdc45   5.7969115   5.4914449\n",
       "3 ENSMUSG00000000031_H19     2.3173751   2.2733872\n",
       "4 ENSMUSG00000000037_Scml2   0.8848345   0.9844127\n",
       "5 ENSMUSG00000000049_Apoh    0.1026961   0.1320952\n",
       "6 ENSMUSG00000000056_Narf   11.1496107  11.6859604"
      ]
     },
     "metadata": {},
     "output_type": "display_data"
    }
   ],
   "source": [
    "head(d0_Y_df)"
   ]
  },
  {
   "cell_type": "code",
   "execution_count": 68,
   "metadata": {},
   "outputs": [
    {
     "data": {
      "image/png": "[encoded data removed]",
      "text/plain": [
       "plot without title"
      ]
     },
     "metadata": {},
     "output_type": "display_data"
    }
   ],
   "source": [
    "#svg(filename=\"RNA_d0Y_vs_d0YPax7.svg\",\n",
    "#   height=8,\n",
    "#   width=8,\n",
    "#   pointsize=12)\n",
    "print(ggplot(data=d0_Y_df,\n",
    "      aes(x=d0_Y_df$d0_Y,\n",
    "         y=d0_Y_df$d0_Y_Pax7))+\n",
    "geom_point(alpha=0.3)+\n",
    "geom_abline(slope=1)+\n",
    "xlab(\"D0 Young\")+\n",
    "ylab(\"D0 Young PAX7\")+\n",
    "ggtitle(\"asinh(TPM) RNA expression\")+\n",
    "\n",
    "theme_bw(20))\n",
    "#dev.off()"
   ]
  },
  {
   "cell_type": "code",
   "execution_count": 69,
   "metadata": {},
   "outputs": [],
   "source": [
    "d0_Y_df$delta=d0_Y_df$d0_Y_Pax7/d0_Y_df$d0_Y"
   ]
  },
  {
   "cell_type": "code",
   "execution_count": 70,
   "metadata": {},
   "outputs": [],
   "source": [
    "d0_Y_df=d0_Y_df[order(d0_Y_df$delta),]"
   ]
  },
  {
   "cell_type": "code",
   "execution_count": 71,
   "metadata": {},
   "outputs": [
    {
     "data": {
      "text/html": [
       "<table>\n",
       "<caption>A data.frame: 6 × 4</caption>\n",
       "<thead>\n",
       "\t<tr><th></th><th scope=col>rownames.cleaned_E_df.</th><th scope=col>d0_Y</th><th scope=col>d0_Y_Pax7</th><th scope=col>delta</th></tr>\n",
       "\t<tr><th></th><th scope=col>&lt;fct&gt;</th><th scope=col>&lt;dbl&gt;</th><th scope=col>&lt;dbl&gt;</th><th scope=col>&lt;dbl&gt;</th></tr>\n",
       "</thead>\n",
       "<tbody>\n",
       "\t<tr><th scope=row>23678</th><td>ENSMUSG00000086273_Rbm46os      </td><td>-4.654638e-06</td><td> 0.006633936</td><td>-1425.2311</td></tr>\n",
       "\t<tr><th scope=row>28066</th><td>ENSMUSG00000097267_1700109K24Rik</td><td>-5.365455e-04</td><td> 0.232200371</td><td> -432.7692</td></tr>\n",
       "\t<tr><th scope=row>29483</th><td>ENSMUSG00000100037_Gm29103      </td><td>-6.409248e-05</td><td> 0.019604339</td><td> -305.8758</td></tr>\n",
       "\t<tr><th scope=row>33167</th><td>ENSMUSG00000106658_Gm42426      </td><td> 9.824527e-05</td><td>-0.028757466</td><td> -292.7109</td></tr>\n",
       "\t<tr><th scope=row>20715</th><td>ENSMUSG00000081159_Gm6023       </td><td>-4.051214e-05</td><td> 0.009669236</td><td> -238.6750</td></tr>\n",
       "\t<tr><th scope=row>35191</th><td>ENSMUSG00000109808_5430402P08Rik</td><td>-1.448591e-04</td><td> 0.031175436</td><td> -215.2122</td></tr>\n",
       "</tbody>\n",
       "</table>\n"
      ],
      "text/latex": [
       "A data.frame: 6 × 4\n",
       "\\begin{tabular}{r|llll}\n",
       "  & rownames.cleaned\\_E\\_df. & d0\\_Y & d0\\_Y\\_Pax7 & delta\\\\\n",
       "  & <fct> & <dbl> & <dbl> & <dbl>\\\\\n",
       "\\hline\n",
       "\t23678 & ENSMUSG00000086273\\_Rbm46os       & -4.654638e-06 &  0.006633936 & -1425.2311\\\\\n",
       "\t28066 & ENSMUSG00000097267\\_1700109K24Rik & -5.365455e-04 &  0.232200371 &  -432.7692\\\\\n",
       "\t29483 & ENSMUSG00000100037\\_Gm29103       & -6.409248e-05 &  0.019604339 &  -305.8758\\\\\n",
       "\t33167 & ENSMUSG00000106658\\_Gm42426       &  9.824527e-05 & -0.028757466 &  -292.7109\\\\\n",
       "\t20715 & ENSMUSG00000081159\\_Gm6023        & -4.051214e-05 &  0.009669236 &  -238.6750\\\\\n",
       "\t35191 & ENSMUSG00000109808\\_5430402P08Rik & -1.448591e-04 &  0.031175436 &  -215.2122\\\\\n",
       "\\end{tabular}\n"
      ],
      "text/markdown": [
       "\n",
       "A data.frame: 6 × 4\n",
       "\n",
       "| <!--/--> | rownames.cleaned_E_df. &lt;fct&gt; | d0_Y &lt;dbl&gt; | d0_Y_Pax7 &lt;dbl&gt; | delta &lt;dbl&gt; |\n",
       "|---|---|---|---|---|\n",
       "| 23678 | ENSMUSG00000086273_Rbm46os       | -4.654638e-06 |  0.006633936 | -1425.2311 |\n",
       "| 28066 | ENSMUSG00000097267_1700109K24Rik | -5.365455e-04 |  0.232200371 |  -432.7692 |\n",
       "| 29483 | ENSMUSG00000100037_Gm29103       | -6.409248e-05 |  0.019604339 |  -305.8758 |\n",
       "| 33167 | ENSMUSG00000106658_Gm42426       |  9.824527e-05 | -0.028757466 |  -292.7109 |\n",
       "| 20715 | ENSMUSG00000081159_Gm6023        | -4.051214e-05 |  0.009669236 |  -238.6750 |\n",
       "| 35191 | ENSMUSG00000109808_5430402P08Rik | -1.448591e-04 |  0.031175436 |  -215.2122 |\n",
       "\n"
      ],
      "text/plain": [
       "      rownames.cleaned_E_df.           d0_Y          d0_Y_Pax7    delta     \n",
       "23678 ENSMUSG00000086273_Rbm46os       -4.654638e-06  0.006633936 -1425.2311\n",
       "28066 ENSMUSG00000097267_1700109K24Rik -5.365455e-04  0.232200371  -432.7692\n",
       "29483 ENSMUSG00000100037_Gm29103       -6.409248e-05  0.019604339  -305.8758\n",
       "33167 ENSMUSG00000106658_Gm42426        9.824527e-05 -0.028757466  -292.7109\n",
       "20715 ENSMUSG00000081159_Gm6023        -4.051214e-05  0.009669236  -238.6750\n",
       "35191 ENSMUSG00000109808_5430402P08Rik -1.448591e-04  0.031175436  -215.2122"
      ]
     },
     "metadata": {},
     "output_type": "display_data"
    }
   ],
   "source": [
    "head(d0_Y_df)"
   ]
  },
  {
   "cell_type": "code",
   "execution_count": 72,
   "metadata": {},
   "outputs": [
    {
     "data": {
      "text/html": [
       "<table>\n",
       "<caption>A data.frame: 6 × 4</caption>\n",
       "<thead>\n",
       "\t<tr><th></th><th scope=col>rownames.cleaned_E_df.</th><th scope=col>d0_Y</th><th scope=col>d0_Y_Pax7</th><th scope=col>delta</th></tr>\n",
       "\t<tr><th></th><th scope=col>&lt;fct&gt;</th><th scope=col>&lt;dbl&gt;</th><th scope=col>&lt;dbl&gt;</th><th scope=col>&lt;dbl&gt;</th></tr>\n",
       "</thead>\n",
       "<tbody>\n",
       "\t<tr><th scope=row>16234</th><td>ENSMUSG00000059483_Gm5528  </td><td> 1.249351e-04</td><td> 0.03174183</td><td>254.0666</td></tr>\n",
       "\t<tr><th scope=row>17809</th><td>ENSMUSG00000067599_Klra7   </td><td>-8.663463e-05</td><td>-0.02504999</td><td>289.1453</td></tr>\n",
       "\t<tr><th scope=row>33125</th><td>ENSMUSG00000106588_Gm17590 </td><td> 5.431101e-04</td><td> 0.16313645</td><td>300.3746</td></tr>\n",
       "\t<tr><th scope=row>1061</th><td>ENSMUSG00000006948_Klk4    </td><td>-4.593306e-05</td><td>-0.01384189</td><td>301.3492</td></tr>\n",
       "\t<tr><th scope=row>13759</th><td>ENSMUSG00000047841_BC051628</td><td>-2.839563e-05</td><td>-0.01458421</td><td>513.6074</td></tr>\n",
       "\t<tr><th scope=row>17755</th><td>ENSMUSG00000067220_Cnga1   </td><td>-3.622241e-05</td><td>-0.02797951</td><td>772.4364</td></tr>\n",
       "</tbody>\n",
       "</table>\n"
      ],
      "text/latex": [
       "A data.frame: 6 × 4\n",
       "\\begin{tabular}{r|llll}\n",
       "  & rownames.cleaned\\_E\\_df. & d0\\_Y & d0\\_Y\\_Pax7 & delta\\\\\n",
       "  & <fct> & <dbl> & <dbl> & <dbl>\\\\\n",
       "\\hline\n",
       "\t16234 & ENSMUSG00000059483\\_Gm5528   &  1.249351e-04 &  0.03174183 & 254.0666\\\\\n",
       "\t17809 & ENSMUSG00000067599\\_Klra7    & -8.663463e-05 & -0.02504999 & 289.1453\\\\\n",
       "\t33125 & ENSMUSG00000106588\\_Gm17590  &  5.431101e-04 &  0.16313645 & 300.3746\\\\\n",
       "\t1061 & ENSMUSG00000006948\\_Klk4     & -4.593306e-05 & -0.01384189 & 301.3492\\\\\n",
       "\t13759 & ENSMUSG00000047841\\_BC051628 & -2.839563e-05 & -0.01458421 & 513.6074\\\\\n",
       "\t17755 & ENSMUSG00000067220\\_Cnga1    & -3.622241e-05 & -0.02797951 & 772.4364\\\\\n",
       "\\end{tabular}\n"
      ],
      "text/markdown": [
       "\n",
       "A data.frame: 6 × 4\n",
       "\n",
       "| <!--/--> | rownames.cleaned_E_df. &lt;fct&gt; | d0_Y &lt;dbl&gt; | d0_Y_Pax7 &lt;dbl&gt; | delta &lt;dbl&gt; |\n",
       "|---|---|---|---|---|\n",
       "| 16234 | ENSMUSG00000059483_Gm5528   |  1.249351e-04 |  0.03174183 | 254.0666 |\n",
       "| 17809 | ENSMUSG00000067599_Klra7    | -8.663463e-05 | -0.02504999 | 289.1453 |\n",
       "| 33125 | ENSMUSG00000106588_Gm17590  |  5.431101e-04 |  0.16313645 | 300.3746 |\n",
       "| 1061 | ENSMUSG00000006948_Klk4     | -4.593306e-05 | -0.01384189 | 301.3492 |\n",
       "| 13759 | ENSMUSG00000047841_BC051628 | -2.839563e-05 | -0.01458421 | 513.6074 |\n",
       "| 17755 | ENSMUSG00000067220_Cnga1    | -3.622241e-05 | -0.02797951 | 772.4364 |\n",
       "\n"
      ],
      "text/plain": [
       "      rownames.cleaned_E_df.      d0_Y          d0_Y_Pax7   delta   \n",
       "16234 ENSMUSG00000059483_Gm5528    1.249351e-04  0.03174183 254.0666\n",
       "17809 ENSMUSG00000067599_Klra7    -8.663463e-05 -0.02504999 289.1453\n",
       "33125 ENSMUSG00000106588_Gm17590   5.431101e-04  0.16313645 300.3746\n",
       "1061  ENSMUSG00000006948_Klk4     -4.593306e-05 -0.01384189 301.3492\n",
       "13759 ENSMUSG00000047841_BC051628 -2.839563e-05 -0.01458421 513.6074\n",
       "17755 ENSMUSG00000067220_Cnga1    -3.622241e-05 -0.02797951 772.4364"
      ]
     },
     "metadata": {},
     "output_type": "display_data"
    }
   ],
   "source": [
    "tail(d0_Y_df)"
   ]
  },
  {
   "cell_type": "markdown",
   "metadata": {},
   "source": [
    "## Ddit3"
   ]
  },
  {
   "cell_type": "code",
   "execution_count": 73,
   "metadata": {},
   "outputs": [],
   "source": [
    "ddit3_subset=sinh(cleaned_E_df[rownames(cleaned_E_df)==\"ENSMUSG00000025408_Ddit3\",])"
   ]
  },
  {
   "cell_type": "code",
   "execution_count": 74,
   "metadata": {},
   "outputs": [],
   "source": [
    "write.table(ddit3_subset,file=\"DDIT3_tpm_svacorrected.txt\")"
   ]
  },
  {
   "cell_type": "code",
   "execution_count": null,
   "metadata": {},
   "outputs": [],
   "source": []
  }
 ],
 "metadata": {
  "kernelspec": {
   "display_name": "R 3.5",
   "language": "R",
   "name": "ir35"
  },
  "language_info": {
   "codemirror_mode": "r",
   "file_extension": ".r",
   "mimetype": "text/x-r-source",
   "name": "R",
   "pygments_lexer": "r",
   "version": "3.5.1"
  }
 },
 "nbformat": 4,
 "nbformat_minor": 2
}
