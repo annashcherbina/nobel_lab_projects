{
 "cells": [
  {
   "cell_type": "markdown",
   "metadata": {},
   "source": [
    "### Limma voom analysis of Age Dataset"
   ]
  },
  {
   "cell_type": "code",
   "execution_count": 1,
   "metadata": {},
   "outputs": [
    {
     "name": "stderr",
     "output_type": "stream",
     "text": [
      "Loading required package: mgcv\n",
      "Loading required package: nlme\n",
      "This is mgcv 1.8-28. For overview type 'help(\"mgcv-package\")'.\n",
      "Loading required package: genefilter\n"
     ]
    }
   ],
   "source": [
    "rm(list=ls())\n",
    "#load necessary libraries \n",
    "library(ggplot2)\n",
    "library(\"BiocParallel\")\n",
    "parallelFlag=TRUE\n",
    "register(MulticoreParam(50))\n",
    "library(sva)\n",
    "library(limma)\n",
    "library(statmod)"
   ]
  },
  {
   "cell_type": "markdown",
   "metadata": {},
   "source": [
    "## Load data and design"
   ]
  },
  {
   "cell_type": "code",
   "execution_count": 2,
   "metadata": {},
   "outputs": [],
   "source": [
    "##load ATAC-seq raw read counts\n",
    "data=read.table('../form_deseq_matrix/age.atac.counts.txt',header=TRUE,sep='\\t')\n",
    "\n",
    "##concatenate chrom/start/end columns values to server as rownames for the dataframe of the form chrom_start_end \n",
    "rownames(data)=paste(data$chrom,data$start,data$end,sep=\"_\")\n",
    "data$chrom=NULL\n",
    "data$start=NULL\n",
    "data$end=NULL\n",
    "\n",
    "data=data[rowSums(data)>0,]\n"
   ]
  },
  {
   "cell_type": "code",
   "execution_count": 3,
   "metadata": {},
   "outputs": [
    {
     "data": {
      "text/html": [
       "<table>\n",
       "<caption>A data.frame: 6 × 40</caption>\n",
       "<thead>\n",
       "\t<tr><th></th><th scope=col>d0_Aged_Rep1</th><th scope=col>d0_Aged_Rep2</th><th scope=col>d0_Aged_Rep3</th><th scope=col>d0_Aged_Rep4</th><th scope=col>d0_Aged_Rep5</th><th scope=col>d0_Aged_Rep6</th><th scope=col>d0_Aged_Rep7</th><th scope=col>d0_Young_Pax7_Rep1</th><th scope=col>d0_Young_Pax7_Rep2</th><th scope=col>d0_Young_Pax7_Rep3</th><th scope=col>⋯</th><th scope=col>d5_Young_Rep2</th><th scope=col>d7_Aged_Rep1</th><th scope=col>d7_Aged_Rep2</th><th scope=col>d7_Aged_Rep3</th><th scope=col>d7_Aged_Rep4</th><th scope=col>d7_Young_Rep1</th><th scope=col>d7_Young_Rep2</th><th scope=col>d7_Young_Rep3</th><th scope=col>d7_Young_Rep4</th><th scope=col>d7_Young_Rep5</th></tr>\n",
       "\t<tr><th></th><th scope=col>&lt;int&gt;</th><th scope=col>&lt;int&gt;</th><th scope=col>&lt;int&gt;</th><th scope=col>&lt;int&gt;</th><th scope=col>&lt;int&gt;</th><th scope=col>&lt;int&gt;</th><th scope=col>&lt;int&gt;</th><th scope=col>&lt;int&gt;</th><th scope=col>&lt;int&gt;</th><th scope=col>&lt;int&gt;</th><th scope=col>⋯</th><th scope=col>&lt;int&gt;</th><th scope=col>&lt;int&gt;</th><th scope=col>&lt;int&gt;</th><th scope=col>&lt;int&gt;</th><th scope=col>&lt;int&gt;</th><th scope=col>&lt;int&gt;</th><th scope=col>&lt;int&gt;</th><th scope=col>&lt;int&gt;</th><th scope=col>&lt;int&gt;</th><th scope=col>&lt;int&gt;</th></tr>\n",
       "</thead>\n",
       "<tbody>\n",
       "\t<tr><th scope=row>chr1_3060420_3060620</th><td>6</td><td> 0</td><td> 5</td><td>2</td><td> 2</td><td> 2</td><td> 1</td><td> 0</td><td>0</td><td> 3</td><td>⋯</td><td> 9</td><td> 5</td><td>9</td><td> 1</td><td> 5</td><td> 5</td><td> 4</td><td>4</td><td>0</td><td>1</td></tr>\n",
       "\t<tr><th scope=row>chr1_3100938_3101138</th><td>4</td><td> 5</td><td> 9</td><td>6</td><td> 0</td><td> 3</td><td> 9</td><td> 6</td><td>0</td><td> 5</td><td>⋯</td><td> 9</td><td> 3</td><td>2</td><td> 0</td><td> 3</td><td> 5</td><td> 5</td><td>4</td><td>0</td><td>0</td></tr>\n",
       "\t<tr><th scope=row>chr1_3103699_3103899</th><td>4</td><td> 0</td><td> 6</td><td>2</td><td> 1</td><td> 1</td><td> 0</td><td> 5</td><td>1</td><td> 3</td><td>⋯</td><td> 3</td><td> 3</td><td>4</td><td> 4</td><td> 1</td><td> 7</td><td>10</td><td>4</td><td>0</td><td>0</td></tr>\n",
       "\t<tr><th scope=row>chr1_3119588_3119939</th><td>3</td><td> 0</td><td>14</td><td>8</td><td> 2</td><td> 8</td><td> 3</td><td>10</td><td>0</td><td>21</td><td>⋯</td><td>10</td><td> 2</td><td>2</td><td>12</td><td> 7</td><td>19</td><td>14</td><td>5</td><td>3</td><td>3</td></tr>\n",
       "\t<tr><th scope=row>chr1_3119941_3120162</th><td>3</td><td> 0</td><td> 1</td><td>9</td><td> 0</td><td> 2</td><td> 6</td><td> 4</td><td>0</td><td>32</td><td>⋯</td><td>10</td><td> 1</td><td>0</td><td>17</td><td> 5</td><td> 8</td><td> 8</td><td>6</td><td>2</td><td>3</td></tr>\n",
       "\t<tr><th scope=row>chr1_3212807_3213180</th><td>6</td><td>10</td><td> 8</td><td>8</td><td>22</td><td>30</td><td>23</td><td> 4</td><td>4</td><td>10</td><td>⋯</td><td>10</td><td>12</td><td>7</td><td> 8</td><td>14</td><td> 6</td><td> 6</td><td>4</td><td>5</td><td>9</td></tr>\n",
       "</tbody>\n",
       "</table>\n"
      ],
      "text/latex": [
       "A data.frame: 6 × 40\n",
       "\\begin{tabular}{r|llllllllllllllllllllllllllllllllllllllll}\n",
       "  & d0\\_Aged\\_Rep1 & d0\\_Aged\\_Rep2 & d0\\_Aged\\_Rep3 & d0\\_Aged\\_Rep4 & d0\\_Aged\\_Rep5 & d0\\_Aged\\_Rep6 & d0\\_Aged\\_Rep7 & d0\\_Young\\_Pax7\\_Rep1 & d0\\_Young\\_Pax7\\_Rep2 & d0\\_Young\\_Pax7\\_Rep3 & d0\\_Young\\_Rep1 & d0\\_Young\\_Rep2 & d0\\_Young\\_Rep3 & d0\\_Young\\_Rep4 & d1\\_Aged\\_Rep1 & d1\\_Aged\\_Rep2 & d1\\_Young\\_Rep1 & d1\\_Young\\_Rep2 & d1\\_Young\\_Rep3 & d3\\_Aged\\_Rep1 & d3\\_Aged\\_Rep2 & d3\\_Aged\\_Rep3 & d3\\_Aged\\_Rep4 & d3\\_Young\\_Rep1 & d3\\_Young\\_Rep2 & d3\\_Young\\_Rep3 & d3\\_Young\\_Rep4 & d5\\_Aged\\_Rep1 & d5\\_Aged\\_Rep2 & d5\\_Young\\_Rep1 & d5\\_Young\\_Rep2 & d7\\_Aged\\_Rep1 & d7\\_Aged\\_Rep2 & d7\\_Aged\\_Rep3 & d7\\_Aged\\_Rep4 & d7\\_Young\\_Rep1 & d7\\_Young\\_Rep2 & d7\\_Young\\_Rep3 & d7\\_Young\\_Rep4 & d7\\_Young\\_Rep5\\\\\n",
       "  & <int> & <int> & <int> & <int> & <int> & <int> & <int> & <int> & <int> & <int> & <int> & <int> & <int> & <int> & <int> & <int> & <int> & <int> & <int> & <int> & <int> & <int> & <int> & <int> & <int> & <int> & <int> & <int> & <int> & <int> & <int> & <int> & <int> & <int> & <int> & <int> & <int> & <int> & <int> & <int>\\\\\n",
       "\\hline\n",
       "\tchr1\\_3060420\\_3060620 & 6 &  0 &  5 & 2 &  2 &  2 &  1 &  0 & 0 &  3 & 11 & 18 &  5 & 0 &  6 &  6 &  3 &  3 &  1 &  7 &  0 &  0 & 0 &  6 &  4 & 0 & 1 & 12 &  4 &  8 &  9 &  5 & 9 &  1 &  5 &  5 &  4 & 4 & 0 & 1\\\\\n",
       "\tchr1\\_3100938\\_3101138 & 4 &  5 &  9 & 6 &  0 &  3 &  9 &  6 & 0 &  5 & 10 &  8 & 14 & 0 &  7 &  9 &  4 &  4 &  1 & 12 &  5 &  0 & 0 &  4 & 17 & 2 & 1 &  3 &  6 & 10 &  9 &  3 & 2 &  0 &  3 &  5 &  5 & 4 & 0 & 0\\\\\n",
       "\tchr1\\_3103699\\_3103899 & 4 &  0 &  6 & 2 &  1 &  1 &  0 &  5 & 1 &  3 &  2 &  0 &  5 & 0 &  1 &  4 &  2 &  7 &  7 & 10 & 44 &  0 & 0 &  4 &  7 & 0 & 0 & 11 &  1 &  8 &  3 &  3 & 4 &  4 &  1 &  7 & 10 & 4 & 0 & 0\\\\\n",
       "\tchr1\\_3119588\\_3119939 & 3 &  0 & 14 & 8 &  2 &  8 &  3 & 10 & 0 & 21 &  4 & 12 & 10 & 2 &  7 & 15 & 16 & 27 & 13 & 14 &  5 &  0 & 1 &  6 & 11 & 4 & 8 & 14 & 14 & 17 & 10 &  2 & 2 & 12 &  7 & 19 & 14 & 5 & 3 & 3\\\\\n",
       "\tchr1\\_3119941\\_3120162 & 3 &  0 &  1 & 9 &  0 &  2 &  6 &  4 & 0 & 32 &  7 &  5 &  1 & 0 &  4 & 15 & 16 & 18 & 13 &  8 &  2 &  0 & 4 &  5 & 12 & 7 & 0 &  6 & 17 & 12 & 10 &  1 & 0 & 17 &  5 &  8 &  8 & 6 & 2 & 3\\\\\n",
       "\tchr1\\_3212807\\_3213180 & 6 & 10 &  8 & 8 & 22 & 30 & 23 &  4 & 4 & 10 & 20 & 17 &  6 & 0 & 13 & 13 & 25 & 29 & 16 & 24 &  4 & 14 & 9 & 14 & 10 & 5 & 6 &  8 &  7 & 24 & 10 & 12 & 7 &  8 & 14 &  6 &  6 & 4 & 5 & 9\\\\\n",
       "\\end{tabular}\n"
      ],
      "text/markdown": [
       "\n",
       "A data.frame: 6 × 40\n",
       "\n",
       "| <!--/--> | d0_Aged_Rep1 &lt;int&gt; | d0_Aged_Rep2 &lt;int&gt; | d0_Aged_Rep3 &lt;int&gt; | d0_Aged_Rep4 &lt;int&gt; | d0_Aged_Rep5 &lt;int&gt; | d0_Aged_Rep6 &lt;int&gt; | d0_Aged_Rep7 &lt;int&gt; | d0_Young_Pax7_Rep1 &lt;int&gt; | d0_Young_Pax7_Rep2 &lt;int&gt; | d0_Young_Pax7_Rep3 &lt;int&gt; | ⋯ ⋯ | d5_Young_Rep2 &lt;int&gt; | d7_Aged_Rep1 &lt;int&gt; | d7_Aged_Rep2 &lt;int&gt; | d7_Aged_Rep3 &lt;int&gt; | d7_Aged_Rep4 &lt;int&gt; | d7_Young_Rep1 &lt;int&gt; | d7_Young_Rep2 &lt;int&gt; | d7_Young_Rep3 &lt;int&gt; | d7_Young_Rep4 &lt;int&gt; | d7_Young_Rep5 &lt;int&gt; |\n",
       "|---|---|---|---|---|---|---|---|---|---|---|---|---|---|---|---|---|---|---|---|---|---|\n",
       "| chr1_3060420_3060620 | 6 |  0 |  5 | 2 |  2 |  2 |  1 |  0 | 0 |  3 | ⋯ |  9 |  5 | 9 |  1 |  5 |  5 |  4 | 4 | 0 | 1 |\n",
       "| chr1_3100938_3101138 | 4 |  5 |  9 | 6 |  0 |  3 |  9 |  6 | 0 |  5 | ⋯ |  9 |  3 | 2 |  0 |  3 |  5 |  5 | 4 | 0 | 0 |\n",
       "| chr1_3103699_3103899 | 4 |  0 |  6 | 2 |  1 |  1 |  0 |  5 | 1 |  3 | ⋯ |  3 |  3 | 4 |  4 |  1 |  7 | 10 | 4 | 0 | 0 |\n",
       "| chr1_3119588_3119939 | 3 |  0 | 14 | 8 |  2 |  8 |  3 | 10 | 0 | 21 | ⋯ | 10 |  2 | 2 | 12 |  7 | 19 | 14 | 5 | 3 | 3 |\n",
       "| chr1_3119941_3120162 | 3 |  0 |  1 | 9 |  0 |  2 |  6 |  4 | 0 | 32 | ⋯ | 10 |  1 | 0 | 17 |  5 |  8 |  8 | 6 | 2 | 3 |\n",
       "| chr1_3212807_3213180 | 6 | 10 |  8 | 8 | 22 | 30 | 23 |  4 | 4 | 10 | ⋯ | 10 | 12 | 7 |  8 | 14 |  6 |  6 | 4 | 5 | 9 |\n",
       "\n"
      ],
      "text/plain": [
       "                     d0_Aged_Rep1 d0_Aged_Rep2 d0_Aged_Rep3 d0_Aged_Rep4\n",
       "chr1_3060420_3060620 6             0            5           2           \n",
       "chr1_3100938_3101138 4             5            9           6           \n",
       "chr1_3103699_3103899 4             0            6           2           \n",
       "chr1_3119588_3119939 3             0           14           8           \n",
       "chr1_3119941_3120162 3             0            1           9           \n",
       "chr1_3212807_3213180 6            10            8           8           \n",
       "                     d0_Aged_Rep5 d0_Aged_Rep6 d0_Aged_Rep7 d0_Young_Pax7_Rep1\n",
       "chr1_3060420_3060620  2            2            1            0                \n",
       "chr1_3100938_3101138  0            3            9            6                \n",
       "chr1_3103699_3103899  1            1            0            5                \n",
       "chr1_3119588_3119939  2            8            3           10                \n",
       "chr1_3119941_3120162  0            2            6            4                \n",
       "chr1_3212807_3213180 22           30           23            4                \n",
       "                     d0_Young_Pax7_Rep2 d0_Young_Pax7_Rep3 ⋯ d5_Young_Rep2\n",
       "chr1_3060420_3060620 0                   3                 ⋯  9           \n",
       "chr1_3100938_3101138 0                   5                 ⋯  9           \n",
       "chr1_3103699_3103899 1                   3                 ⋯  3           \n",
       "chr1_3119588_3119939 0                  21                 ⋯ 10           \n",
       "chr1_3119941_3120162 0                  32                 ⋯ 10           \n",
       "chr1_3212807_3213180 4                  10                 ⋯ 10           \n",
       "                     d7_Aged_Rep1 d7_Aged_Rep2 d7_Aged_Rep3 d7_Aged_Rep4\n",
       "chr1_3060420_3060620  5           9             1            5          \n",
       "chr1_3100938_3101138  3           2             0            3          \n",
       "chr1_3103699_3103899  3           4             4            1          \n",
       "chr1_3119588_3119939  2           2            12            7          \n",
       "chr1_3119941_3120162  1           0            17            5          \n",
       "chr1_3212807_3213180 12           7             8           14          \n",
       "                     d7_Young_Rep1 d7_Young_Rep2 d7_Young_Rep3 d7_Young_Rep4\n",
       "chr1_3060420_3060620  5             4            4             0            \n",
       "chr1_3100938_3101138  5             5            4             0            \n",
       "chr1_3103699_3103899  7            10            4             0            \n",
       "chr1_3119588_3119939 19            14            5             3            \n",
       "chr1_3119941_3120162  8             8            6             2            \n",
       "chr1_3212807_3213180  6             6            4             5            \n",
       "                     d7_Young_Rep5\n",
       "chr1_3060420_3060620 1            \n",
       "chr1_3100938_3101138 0            \n",
       "chr1_3103699_3103899 0            \n",
       "chr1_3119588_3119939 3            \n",
       "chr1_3119941_3120162 3            \n",
       "chr1_3212807_3213180 9            "
      ]
     },
     "metadata": {},
     "output_type": "display_data"
    }
   ],
   "source": [
    "head(data)"
   ]
  },
  {
   "cell_type": "code",
   "execution_count": 4,
   "metadata": {},
   "outputs": [],
   "source": [
    "#load the metadata\n",
    "batches=read.table(\"../batches.txt\",header=TRUE,sep='\\t')\n",
    "batches$Batch=factor(batches$Batch)\n",
    "batches$Pax7=factor(batches$Pax7)\n",
    "batches$Age=factor(batches$Age)\n"
   ]
  },
  {
   "cell_type": "code",
   "execution_count": 5,
   "metadata": {},
   "outputs": [],
   "source": [
    "cpm=voom(data,normalize.method = \"quantile\")\n",
    "E=cpm$E\n",
    "E=round(E,2)"
   ]
  },
  {
   "cell_type": "markdown",
   "metadata": {},
   "source": [
    "## Correlation "
   ]
  },
  {
   "cell_type": "code",
   "execution_count": 6,
   "metadata": {},
   "outputs": [],
   "source": [
    "spearman_cor=cor(E, method = \"spearman\")"
   ]
  },
  {
   "cell_type": "code",
   "execution_count": 7,
   "metadata": {},
   "outputs": [],
   "source": [
    "pearson_cor=cor(E,method=\"pearson\")"
   ]
  },
  {
   "cell_type": "code",
   "execution_count": 8,
   "metadata": {},
   "outputs": [],
   "source": [
    "write.table(spearman_cor,file=\"atac.uncorrected.spearman_r.tsv\",quote=FALSE)\n",
    "write.table(pearson_cor,file=\"atac.uncorrected.pearson_r.tsv\",quote=FALSE)"
   ]
  },
  {
   "cell_type": "code",
   "execution_count": 9,
   "metadata": {},
   "outputs": [
    {
     "name": "stderr",
     "output_type": "stream",
     "text": [
      "\n",
      "Attaching package: ‘gplots’\n",
      "\n",
      "The following object is masked from ‘package:stats’:\n",
      "\n",
      "    lowess\n",
      "\n",
      "Loading required package: gtools\n",
      "\n",
      "Attaching package: ‘gtools’\n",
      "\n",
      "The following object is masked from ‘package:mgcv’:\n",
      "\n",
      "    scat\n",
      "\n",
      "Loading required package: RColorBrewer\n"
     ]
    },
    {
     "data": {
      "text/html": [
       "<strong>png:</strong> 2"
      ],
      "text/latex": [
       "\\textbf{png:} 2"
      ],
      "text/markdown": [
       "**png:** 2"
      ],
      "text/plain": [
       "png \n",
       "  2 "
      ]
     },
     "metadata": {},
     "output_type": "display_data"
    }
   ],
   "source": [
    "## plot correlation heatmaps \n",
    "library(gplots)\n",
    "require(gtools)\n",
    "require(RColorBrewer)\n",
    "cols <- colorRampPalette(brewer.pal(10, \"RdBu\"))(256)\n",
    "\n",
    "svg(filename=\"ATAC_rep_spearman_cor_preSVA.svg\",\n",
    "   height=8,\n",
    "   width=8,\n",
    "   pointsize=12)\n",
    "cur_h=heatmap.2(as.matrix(spearman_cor), \n",
    "          trace=\"none\", \n",
    "          scale=\"none\", \n",
    "          Rowv=TRUE,\n",
    "          Colv=TRUE,\n",
    "          col=rev(cols), \n",
    "          dendrogram=\"none\",\n",
    "          margins=c(10,10),\n",
    "          main=\"ATAC-seq replicates spearman correlation -- pre-SVA\")\n",
    "dev.off() \n"
   ]
  },
  {
   "cell_type": "code",
   "execution_count": 10,
   "metadata": {},
   "outputs": [
    {
     "data": {
      "text/html": [
       "<strong>null device:</strong> 1"
      ],
      "text/latex": [
       "\\textbf{null device:} 1"
      ],
      "text/markdown": [
       "**null device:** 1"
      ],
      "text/plain": [
       "null device \n",
       "          1 "
      ]
     },
     "metadata": {},
     "output_type": "display_data"
    }
   ],
   "source": [
    "dev.off() "
   ]
  },
  {
   "cell_type": "code",
   "execution_count": 11,
   "metadata": {},
   "outputs": [
    {
     "data": {
      "text/html": [
       "<strong>png:</strong> 2"
      ],
      "text/latex": [
       "\\textbf{png:} 2"
      ],
      "text/markdown": [
       "**png:** 2"
      ],
      "text/plain": [
       "png \n",
       "  2 "
      ]
     },
     "metadata": {},
     "output_type": "display_data"
    }
   ],
   "source": [
    "\n",
    "svg(filename=\"ATAC_rep_pearson_cor_preSVA.svg\",\n",
    "   height=8,\n",
    "   width=8,\n",
    "   pointsize=12)\n",
    "cur_h=heatmap.2(as.matrix(pearson_cor), \n",
    "          trace=\"none\", \n",
    "          scale=\"none\", \n",
    "          Rowv=TRUE,\n",
    "          Colv=TRUE,\n",
    "          col=rev(cols), \n",
    "          dendrogram=\"none\",\n",
    "          margins=c(10,10),          \n",
    "          main=\"ATAC-seq replicates pearson correlation -- pre-SVA\")\n",
    "\n",
    "dev.off() "
   ]
  },
  {
   "cell_type": "markdown",
   "metadata": {},
   "source": [
    "## Run PCA "
   ]
  },
  {
   "cell_type": "code",
   "execution_count": 12,
   "metadata": {},
   "outputs": [],
   "source": [
    "data.pca=prcomp(t(E))"
   ]
  },
  {
   "cell_type": "code",
   "execution_count": 13,
   "metadata": {},
   "outputs": [],
   "source": [
    "var_explained=as.character(round(100*data.pca$sdev^2/sum(data.pca$sdev^2),2))"
   ]
  },
  {
   "cell_type": "code",
   "execution_count": 14,
   "metadata": {},
   "outputs": [
    {
     "name": "stdout",
     "output_type": "stream",
     "text": [
      "      [,1]\n",
      " [1,]  0.7\n",
      " [2,]  1.9\n",
      " [3,]  3.1\n",
      " [4,]  4.3\n",
      " [5,]  5.5\n",
      " [6,]  6.7\n",
      " [7,]  7.9\n",
      " [8,]  9.1\n",
      " [9,] 10.3\n",
      "[10,] 11.5\n",
      "[11,] 12.7\n",
      "[12,] 13.9\n",
      "[13,] 15.1\n",
      "[14,] 16.3\n",
      "[15,] 17.5\n",
      "[16,] 18.7\n",
      "[17,] 19.9\n",
      "[18,] 21.1\n",
      "[19,] 22.3\n",
      "[20,] 23.5\n",
      "[21,] 24.7\n",
      "[22,] 25.9\n",
      "[23,] 27.1\n",
      "[24,] 28.3\n",
      "[25,] 29.5\n",
      "[26,] 30.7\n",
      "[27,] 31.9\n",
      "[28,] 33.1\n",
      "[29,] 34.3\n",
      "[30,] 35.5\n",
      "[31,] 36.7\n",
      "[32,] 37.9\n",
      "[33,] 39.1\n",
      "[34,] 40.3\n",
      "[35,] 41.5\n",
      "[36,] 42.7\n",
      "[37,] 43.9\n",
      "[38,] 45.1\n",
      "[39,] 46.3\n",
      "[40,] 47.5\n"
     ]
    },
    {
     "data": {
      "text/html": [
       "<strong>png:</strong> 2"
      ],
      "text/latex": [
       "\\textbf{png:} 2"
      ],
      "text/markdown": [
       "**png:** 2"
      ],
      "text/plain": [
       "png \n",
       "  2 "
      ]
     },
     "metadata": {},
     "output_type": "display_data"
    }
   ],
   "source": [
    "svg(filename=\"age_atac_uncorrected_scree.svg\",\n",
    "   height=3,\n",
    "   width=4,\n",
    "   pointsize=12)\n",
    "print(barplot(100*data.pca$sdev^2/sum(data.pca$sdev^2),las=2,ylab=\"% Variance Explained\",xlab=\"Principal Component\",ylim=c(0,40), xlim=c(0,10)))\n",
    "dev.off() "
   ]
  },
  {
   "cell_type": "code",
   "execution_count": 15,
   "metadata": {},
   "outputs": [],
   "source": [
    "pca_df=data.frame(data.pca$x)\n",
    "pca_df=cbind(pca_df,batches)\n",
    "pca_df$Day=factor(pca_df$Day)"
   ]
  },
  {
   "cell_type": "code",
   "execution_count": 16,
   "metadata": {},
   "outputs": [
    {
     "data": {
      "text/html": [
       "<strong>png:</strong> 2"
      ],
      "text/latex": [
       "\\textbf{png:} 2"
      ],
      "text/markdown": [
       "**png:** 2"
      ],
      "text/plain": [
       "png \n",
       "  2 "
      ]
     },
     "metadata": {},
     "output_type": "display_data"
    }
   ],
   "source": [
    "svg(filename=\"age_atac_uncorrected_PC1_vs_PC2_batch.svg\",\n",
    "   height=8,\n",
    "   width=8,\n",
    "   pointsize=12)\n",
    "print(ggplot(data=pca_df,aes(x=pca_df$PC1,y=pca_df$PC2,color=pca_df$Batch,shape=pca_df$Age,label=pca_df$Rep))+\n",
    "geom_point(size=5)+\n",
    "geom_text(nudge_x=2,nudge_y = 12,size=2)+\n",
    "scale_color_manual(values=c('#e41a1c','#377eb8','#4daf4a','#984ea3','#ff7f00','#000000'))+\n",
    "theme_bw() )\n",
    "dev.off() "
   ]
  },
  {
   "cell_type": "code",
   "execution_count": 17,
   "metadata": {},
   "outputs": [
    {
     "data": {
      "text/html": [
       "<strong>png:</strong> 2"
      ],
      "text/latex": [
       "\\textbf{png:} 2"
      ],
      "text/markdown": [
       "**png:** 2"
      ],
      "text/plain": [
       "png \n",
       "  2 "
      ]
     },
     "metadata": {},
     "output_type": "display_data"
    }
   ],
   "source": [
    "svg(filename=\"age_atac_uncorrected_PC2_vs_PC3_batch.svg\",\n",
    "   height=8,\n",
    "   width=8,\n",
    "   pointsize=12)\n",
    "print(ggplot(data=pca_df,aes(x=pca_df$PC2,y=pca_df$PC3,color=pca_df$Batch,shape=pca_df$Age,label=pca_df$Rep))+\n",
    "geom_point(size=5)+\n",
    "geom_text(nudge_x=2,nudge_y = 12,size=2)+\n",
    "scale_color_manual(values=c('#e41a1c','#377eb8','#4daf4a','#984ea3','#ff7f00','#000000'))+\n",
    "theme_bw())\n",
    "dev.off() "
   ]
  },
  {
   "cell_type": "code",
   "execution_count": 18,
   "metadata": {},
   "outputs": [
    {
     "data": {
      "text/html": [
       "<strong>png:</strong> 2"
      ],
      "text/latex": [
       "\\textbf{png:} 2"
      ],
      "text/markdown": [
       "**png:** 2"
      ],
      "text/plain": [
       "png \n",
       "  2 "
      ]
     },
     "metadata": {},
     "output_type": "display_data"
    }
   ],
   "source": [
    "svg(filename=\"age_atac_uncorrected_PC1_vs_PC3_batch.svg\",\n",
    "   height=8,\n",
    "   width=8,\n",
    "   pointsize=12)\n",
    "print(ggplot(data=pca_df,aes(x=pca_df$PC1,y=pca_df$PC3,color=pca_df$Batch,shape=pca_df$Age,label=pca_df$Rep))+\n",
    "geom_point(size=5)+\n",
    "geom_text(nudge_x=2,nudge_y = 12,size=2)+\n",
    "scale_color_manual(values=c('#e41a1c','#377eb8','#4daf4a','#984ea3','#ff7f00','#000000'))+\n",
    "theme_bw())\n",
    "dev.off() "
   ]
  },
  {
   "cell_type": "markdown",
   "metadata": {},
   "source": [
    "## Running SVA correction "
   ]
  },
  {
   "cell_type": "code",
   "execution_count": 19,
   "metadata": {},
   "outputs": [
    {
     "data": {
      "text/html": [
       "<table>\n",
       "<caption>A data.frame: 6 × 5</caption>\n",
       "<thead>\n",
       "\t<tr><th scope=col>Rep</th><th scope=col>Day</th><th scope=col>Age</th><th scope=col>Pax7</th><th scope=col>Batch</th></tr>\n",
       "\t<tr><th scope=col>&lt;fct&gt;</th><th scope=col>&lt;int&gt;</th><th scope=col>&lt;fct&gt;</th><th scope=col>&lt;fct&gt;</th><th scope=col>&lt;fct&gt;</th></tr>\n",
       "</thead>\n",
       "<tbody>\n",
       "\t<tr><td>d0_Aged_Rep1</td><td>0</td><td>Aged</td><td>0</td><td>b2074</td></tr>\n",
       "\t<tr><td>d0_Aged_Rep2</td><td>0</td><td>Aged</td><td>0</td><td>b2074</td></tr>\n",
       "\t<tr><td>d0_Aged_Rep3</td><td>0</td><td>Aged</td><td>0</td><td>b2236</td></tr>\n",
       "\t<tr><td>d0_Aged_Rep4</td><td>0</td><td>Aged</td><td>0</td><td>b2322</td></tr>\n",
       "\t<tr><td>d0_Aged_Rep5</td><td>0</td><td>Aged</td><td>0</td><td>b2863</td></tr>\n",
       "\t<tr><td>d0_Aged_Rep6</td><td>0</td><td>Aged</td><td>0</td><td>b2863</td></tr>\n",
       "</tbody>\n",
       "</table>\n"
      ],
      "text/latex": [
       "A data.frame: 6 × 5\n",
       "\\begin{tabular}{r|lllll}\n",
       " Rep & Day & Age & Pax7 & Batch\\\\\n",
       " <fct> & <int> & <fct> & <fct> & <fct>\\\\\n",
       "\\hline\n",
       "\t d0\\_Aged\\_Rep1 & 0 & Aged & 0 & b2074\\\\\n",
       "\t d0\\_Aged\\_Rep2 & 0 & Aged & 0 & b2074\\\\\n",
       "\t d0\\_Aged\\_Rep3 & 0 & Aged & 0 & b2236\\\\\n",
       "\t d0\\_Aged\\_Rep4 & 0 & Aged & 0 & b2322\\\\\n",
       "\t d0\\_Aged\\_Rep5 & 0 & Aged & 0 & b2863\\\\\n",
       "\t d0\\_Aged\\_Rep6 & 0 & Aged & 0 & b2863\\\\\n",
       "\\end{tabular}\n"
      ],
      "text/markdown": [
       "\n",
       "A data.frame: 6 × 5\n",
       "\n",
       "| Rep &lt;fct&gt; | Day &lt;int&gt; | Age &lt;fct&gt; | Pax7 &lt;fct&gt; | Batch &lt;fct&gt; |\n",
       "|---|---|---|---|---|\n",
       "| d0_Aged_Rep1 | 0 | Aged | 0 | b2074 |\n",
       "| d0_Aged_Rep2 | 0 | Aged | 0 | b2074 |\n",
       "| d0_Aged_Rep3 | 0 | Aged | 0 | b2236 |\n",
       "| d0_Aged_Rep4 | 0 | Aged | 0 | b2322 |\n",
       "| d0_Aged_Rep5 | 0 | Aged | 0 | b2863 |\n",
       "| d0_Aged_Rep6 | 0 | Aged | 0 | b2863 |\n",
       "\n"
      ],
      "text/plain": [
       "  Rep          Day Age  Pax7 Batch\n",
       "1 d0_Aged_Rep1 0   Aged 0    b2074\n",
       "2 d0_Aged_Rep2 0   Aged 0    b2074\n",
       "3 d0_Aged_Rep3 0   Aged 0    b2236\n",
       "4 d0_Aged_Rep4 0   Aged 0    b2322\n",
       "5 d0_Aged_Rep5 0   Aged 0    b2863\n",
       "6 d0_Aged_Rep6 0   Aged 0    b2863"
      ]
     },
     "metadata": {},
     "output_type": "display_data"
    }
   ],
   "source": [
    "head(batches)"
   ]
  },
  {
   "cell_type": "code",
   "execution_count": 20,
   "metadata": {},
   "outputs": [],
   "source": [
    "Grouping <- factor(paste0(batches$Day,\".\",batches$Age, \".\", batches$Pax7))\n",
    "batches$Grouping=Grouping"
   ]
  },
  {
   "cell_type": "code",
   "execution_count": 21,
   "metadata": {},
   "outputs": [],
   "source": [
    "mod0=model.matrix(~1,data=batches)\n",
    "#mod1=model.matrix(~Day+Age+Pax7+Batch,data=batches)\n",
    "mod1=model.matrix(~0+Grouping+Batch,data=batches)"
   ]
  },
  {
   "cell_type": "code",
   "execution_count": 22,
   "metadata": {},
   "outputs": [
    {
     "name": "stdout",
     "output_type": "stream",
     "text": [
      "Number of significant surrogate variables is:  9 \n",
      "Iteration (out of 5 ):1  2  3  4  5  "
     ]
    }
   ],
   "source": [
    "sva.obj=sva(E,mod1,mod0)"
   ]
  },
  {
   "cell_type": "code",
   "execution_count": 23,
   "metadata": {},
   "outputs": [],
   "source": [
    "sur_var=data.frame(sva.obj$sv)"
   ]
  },
  {
   "cell_type": "code",
   "execution_count": 24,
   "metadata": {},
   "outputs": [],
   "source": [
    "full.design.sv=cbind(mod1,sur_var)\n"
   ]
  },
  {
   "cell_type": "code",
   "execution_count": 25,
   "metadata": {},
   "outputs": [],
   "source": [
    "#save the full design so we don't have to run SVA next time \n",
    "write.table(full.design.sv,file=\"full.design.sv.txt\",quote=FALSE,sep='\\t')\n"
   ]
  },
  {
   "cell_type": "code",
   "execution_count": 26,
   "metadata": {},
   "outputs": [],
   "source": [
    "#full.design.sv=read.table(\"full.design.sv.txt\",header=TRUE,sep='\\t')\n"
   ]
  },
  {
   "cell_type": "markdown",
   "metadata": {},
   "source": [
    "### Perform pca on the \"cleaned\" matrix with surrogate variable contributions removed\n"
   ]
  },
  {
   "cell_type": "code",
   "execution_count": 27,
   "metadata": {},
   "outputs": [
    {
     "data": {
      "text/html": [
       "40"
      ],
      "text/latex": [
       "40"
      ],
      "text/markdown": [
       "40"
      ],
      "text/plain": [
       "[1] 40"
      ]
     },
     "metadata": {},
     "output_type": "display_data"
    }
   ],
   "source": [
    "nrow(batches)"
   ]
  },
  {
   "cell_type": "code",
   "execution_count": 28,
   "metadata": {},
   "outputs": [],
   "source": [
    "cleaned_E=removeBatchEffect(E,batch=batches$Batch,covariates=sur_var,design=model.matrix(~0+Grouping,data=batches))\n"
   ]
  },
  {
   "cell_type": "code",
   "execution_count": 29,
   "metadata": {},
   "outputs": [],
   "source": [
    "## Run replicate correlation on SVA corrected dataset \n",
    "spearman_cor=cor(cleaned_E, method = \"spearman\")\n",
    "pearson_cor=cor(cleaned_E,method=\"pearson\")"
   ]
  },
  {
   "cell_type": "code",
   "execution_count": 30,
   "metadata": {},
   "outputs": [],
   "source": [
    "write.table(spearman_cor,file=\"atac.corrected.spearman_r.tsv\",quote=FALSE)\n",
    "write.table(pearson_cor,file=\"atac.corrected.pearson_r.tsv\",quote=FALSE)"
   ]
  },
  {
   "cell_type": "code",
   "execution_count": 31,
   "metadata": {},
   "outputs": [
    {
     "data": {
      "text/html": [
       "<strong>png:</strong> 2"
      ],
      "text/latex": [
       "\\textbf{png:} 2"
      ],
      "text/markdown": [
       "**png:** 2"
      ],
      "text/plain": [
       "png \n",
       "  2 "
      ]
     },
     "metadata": {},
     "output_type": "display_data"
    }
   ],
   "source": [
    "\n",
    "svg(filename=\"ATAC_rep_spearman_cor_postSVA.svg\",\n",
    "   height=8,\n",
    "   width=8,\n",
    "   pointsize=12)\n",
    "cur_h=heatmap.2(as.matrix(spearman_cor), \n",
    "          trace=\"none\", \n",
    "          scale=\"none\", \n",
    "          Rowv=TRUE,\n",
    "          Colv=TRUE,\n",
    "          col=rev(cols), \n",
    "          dendrogram=\"none\",\n",
    "          margins=c(12,12),          \n",
    "          main=\"ATAC-seq replicates spearman correlation -- post-SVA \")\n",
    "dev.off() \n",
    "\n"
   ]
  },
  {
   "cell_type": "code",
   "execution_count": 32,
   "metadata": {},
   "outputs": [
    {
     "data": {
      "text/html": [
       "<strong>png:</strong> 2"
      ],
      "text/latex": [
       "\\textbf{png:} 2"
      ],
      "text/markdown": [
       "**png:** 2"
      ],
      "text/plain": [
       "png \n",
       "  2 "
      ]
     },
     "metadata": {},
     "output_type": "display_data"
    }
   ],
   "source": [
    "svg(filename=\"ATAC_rep_pearson_cor_postSVA.svg\",\n",
    "   height=8,\n",
    "   width=8,\n",
    "   pointsize=12)\n",
    "\n",
    "cur_h=heatmap.2(as.matrix(pearson_cor), \n",
    "          trace=\"none\", \n",
    "          scale=\"none\", \n",
    "          Rowv=TRUE,\n",
    "          Colv=TRUE,\n",
    "          col=rev(cols), \n",
    "          dendrogram=\"none\",\n",
    "          margins=c(12,12),          \n",
    "          main=\"ATAC-seq replicates pearson correlation -- post SVA\")\n",
    "dev.off() \n"
   ]
  },
  {
   "cell_type": "code",
   "execution_count": 33,
   "metadata": {},
   "outputs": [],
   "source": [
    "data.pca=prcomp(t(cleaned_E))"
   ]
  },
  {
   "cell_type": "code",
   "execution_count": 34,
   "metadata": {},
   "outputs": [],
   "source": [
    "var_explained=as.character(round(100*data.pca$sdev^2/sum(data.pca$sdev^2),2))\n"
   ]
  },
  {
   "cell_type": "code",
   "execution_count": 35,
   "metadata": {},
   "outputs": [
    {
     "name": "stdout",
     "output_type": "stream",
     "text": [
      "      [,1]\n",
      " [1,]  0.7\n",
      " [2,]  1.9\n",
      " [3,]  3.1\n",
      " [4,]  4.3\n",
      " [5,]  5.5\n",
      " [6,]  6.7\n",
      " [7,]  7.9\n",
      " [8,]  9.1\n",
      " [9,] 10.3\n",
      "[10,] 11.5\n",
      "[11,] 12.7\n",
      "[12,] 13.9\n",
      "[13,] 15.1\n",
      "[14,] 16.3\n",
      "[15,] 17.5\n",
      "[16,] 18.7\n",
      "[17,] 19.9\n",
      "[18,] 21.1\n",
      "[19,] 22.3\n",
      "[20,] 23.5\n",
      "[21,] 24.7\n",
      "[22,] 25.9\n",
      "[23,] 27.1\n",
      "[24,] 28.3\n",
      "[25,] 29.5\n",
      "[26,] 30.7\n",
      "[27,] 31.9\n",
      "[28,] 33.1\n",
      "[29,] 34.3\n",
      "[30,] 35.5\n",
      "[31,] 36.7\n",
      "[32,] 37.9\n",
      "[33,] 39.1\n",
      "[34,] 40.3\n",
      "[35,] 41.5\n",
      "[36,] 42.7\n",
      "[37,] 43.9\n",
      "[38,] 45.1\n",
      "[39,] 46.3\n",
      "[40,] 47.5\n"
     ]
    },
    {
     "data": {
      "text/html": [
       "<strong>png:</strong> 2"
      ],
      "text/latex": [
       "\\textbf{png:} 2"
      ],
      "text/markdown": [
       "**png:** 2"
      ],
      "text/plain": [
       "png \n",
       "  2 "
      ]
     },
     "metadata": {},
     "output_type": "display_data"
    }
   ],
   "source": [
    "svg(filename=\"age_atac_corrected_scree.svg\",\n",
    "   height=3,\n",
    "   width=4,\n",
    "   pointsize=12)\n",
    "print(barplot(100*data.pca$sdev^2/sum(data.pca$sdev^2),las=2,ylab=\"% Variance Explained\",xlab=\"Principal Component\",ylim=c(0,40), xlim=c(0,10)))\n",
    "dev.off()"
   ]
  },
  {
   "cell_type": "code",
   "execution_count": 36,
   "metadata": {},
   "outputs": [
    {
     "data": {
      "text/html": [
       "<ol class=list-inline>\n",
       "\t<li>'20.04'</li>\n",
       "\t<li>'10.21'</li>\n",
       "\t<li>'9.56'</li>\n",
       "\t<li>'6.47'</li>\n",
       "\t<li>'5.75'</li>\n",
       "\t<li>'4.57'</li>\n",
       "\t<li>'4.49'</li>\n",
       "\t<li>'3.75'</li>\n",
       "\t<li>'3.65'</li>\n",
       "\t<li>'3.49'</li>\n",
       "</ol>\n"
      ],
      "text/latex": [
       "\\begin{enumerate*}\n",
       "\\item '20.04'\n",
       "\\item '10.21'\n",
       "\\item '9.56'\n",
       "\\item '6.47'\n",
       "\\item '5.75'\n",
       "\\item '4.57'\n",
       "\\item '4.49'\n",
       "\\item '3.75'\n",
       "\\item '3.65'\n",
       "\\item '3.49'\n",
       "\\end{enumerate*}\n"
      ],
      "text/markdown": [
       "1. '20.04'\n",
       "2. '10.21'\n",
       "3. '9.56'\n",
       "4. '6.47'\n",
       "5. '5.75'\n",
       "6. '4.57'\n",
       "7. '4.49'\n",
       "8. '3.75'\n",
       "9. '3.65'\n",
       "10. '3.49'\n",
       "\n",
       "\n"
      ],
      "text/plain": [
       " [1] \"20.04\" \"10.21\" \"9.56\"  \"6.47\"  \"5.75\"  \"4.57\"  \"4.49\"  \"3.75\"  \"3.65\" \n",
       "[10] \"3.49\" "
      ]
     },
     "metadata": {},
     "output_type": "display_data"
    }
   ],
   "source": [
    "var_explained[0:10]\n"
   ]
  },
  {
   "cell_type": "code",
   "execution_count": 37,
   "metadata": {},
   "outputs": [],
   "source": [
    "pca_df=data.frame(data.pca$x)\n",
    "pca_df=cbind(pca_df,batches)\n",
    "pca_df$Day=factor(pca_df$Day)"
   ]
  },
  {
   "cell_type": "code",
   "execution_count": 38,
   "metadata": {},
   "outputs": [
    {
     "data": {
      "text/html": [
       "<strong>png:</strong> 2"
      ],
      "text/latex": [
       "\\textbf{png:} 2"
      ],
      "text/markdown": [
       "**png:** 2"
      ],
      "text/plain": [
       "png \n",
       "  2 "
      ]
     },
     "metadata": {},
     "output_type": "display_data"
    }
   ],
   "source": [
    "svg(filename=\"age_atac_corrected_PC1_vs_PC2.svg\",\n",
    "   height=8,\n",
    "   width=8,\n",
    "   pointsize=12)\n",
    "print(ggplot(data=pca_df,aes(x=pca_df$PC1,y=pca_df$PC2,color=pca_df$Day,shape=pca_df$Age,label=pca_df$Rep))+\n",
    "geom_point(size=5)+\n",
    "geom_text(nudge_x=2,nudge_y = 12,size=2)+\n",
    "scale_color_manual(values=c('#e41a1c','#377eb8','#4daf4a','#984ea3','#ff7f00'))+\n",
    "theme_bw())\n",
    "dev.off()"
   ]
  },
  {
   "cell_type": "code",
   "execution_count": 39,
   "metadata": {},
   "outputs": [
    {
     "data": {
      "text/html": [
       "<strong>png:</strong> 2"
      ],
      "text/latex": [
       "\\textbf{png:} 2"
      ],
      "text/markdown": [
       "**png:** 2"
      ],
      "text/plain": [
       "png \n",
       "  2 "
      ]
     },
     "metadata": {},
     "output_type": "display_data"
    }
   ],
   "source": [
    "svg(filename=\"age_atac_corrected_PC2_vs_PC3.svg\",\n",
    "   height=8,\n",
    "   width=8,\n",
    "   pointsize=12)\n",
    "print(ggplot(data=pca_df,aes(x=pca_df$PC2,y=pca_df$PC3,color=pca_df$Day,shape=pca_df$Age,label=pca_df$Rep))+\n",
    "geom_point(size=5)+\n",
    "geom_text(nudge_x=2,nudge_y = 12,size=2)+\n",
    "scale_color_manual(values=c('#e41a1c','#377eb8','#4daf4a','#984ea3','#ff7f00'))+\n",
    "theme_bw())\n",
    "dev.off()"
   ]
  },
  {
   "cell_type": "code",
   "execution_count": 40,
   "metadata": {
    "scrolled": true
   },
   "outputs": [
    {
     "data": {
      "text/html": [
       "<strong>png:</strong> 2"
      ],
      "text/latex": [
       "\\textbf{png:} 2"
      ],
      "text/markdown": [
       "**png:** 2"
      ],
      "text/plain": [
       "png \n",
       "  2 "
      ]
     },
     "metadata": {},
     "output_type": "display_data"
    }
   ],
   "source": [
    "svg(filename=\"age_atac_corrected_PC1_vs_PC3.svg\",\n",
    "   height=8,\n",
    "   width=8,\n",
    "   pointsize=12)\n",
    "print(ggplot(data=pca_df,aes(x=pca_df$PC1,y=pca_df$PC3,color=pca_df$Day,shape=pca_df$Age,label=pca_df$Rep))+\n",
    "geom_point(size=5)+\n",
    "geom_text(nudge_x=2,nudge_y = 12,size=2)+\n",
    "scale_color_manual(values=c('#e41a1c','#377eb8','#4daf4a','#984ea3','#ff7f00'))+\n",
    "theme_bw())\n",
    "dev.off()"
   ]
  },
  {
   "cell_type": "markdown",
   "metadata": {},
   "source": [
    "### fit model with limma "
   ]
  },
  {
   "cell_type": "code",
   "execution_count": 41,
   "metadata": {},
   "outputs": [],
   "source": [
    "#fit <- lmFit(E,full.design.sv)\n",
    "fit = lmFit(cleaned_E,model.matrix(~0+Grouping))"
   ]
  },
  {
   "cell_type": "code",
   "execution_count": 42,
   "metadata": {},
   "outputs": [
    {
     "data": {
      "text/html": [
       "<ol class=list-inline>\n",
       "\t<li>'Grouping0.Aged.0'</li>\n",
       "\t<li>'Grouping0.Young.0'</li>\n",
       "\t<li>'Grouping0.Young.1'</li>\n",
       "\t<li>'Grouping1.Aged.0'</li>\n",
       "\t<li>'Grouping1.Young.0'</li>\n",
       "\t<li>'Grouping3.Aged.0'</li>\n",
       "\t<li>'Grouping3.Young.0'</li>\n",
       "\t<li>'Grouping5.Aged.0'</li>\n",
       "\t<li>'Grouping5.Young.0'</li>\n",
       "\t<li>'Grouping7.Aged.0'</li>\n",
       "\t<li>'Grouping7.Young.0'</li>\n",
       "</ol>\n"
      ],
      "text/latex": [
       "\\begin{enumerate*}\n",
       "\\item 'Grouping0.Aged.0'\n",
       "\\item 'Grouping0.Young.0'\n",
       "\\item 'Grouping0.Young.1'\n",
       "\\item 'Grouping1.Aged.0'\n",
       "\\item 'Grouping1.Young.0'\n",
       "\\item 'Grouping3.Aged.0'\n",
       "\\item 'Grouping3.Young.0'\n",
       "\\item 'Grouping5.Aged.0'\n",
       "\\item 'Grouping5.Young.0'\n",
       "\\item 'Grouping7.Aged.0'\n",
       "\\item 'Grouping7.Young.0'\n",
       "\\end{enumerate*}\n"
      ],
      "text/markdown": [
       "1. 'Grouping0.Aged.0'\n",
       "2. 'Grouping0.Young.0'\n",
       "3. 'Grouping0.Young.1'\n",
       "4. 'Grouping1.Aged.0'\n",
       "5. 'Grouping1.Young.0'\n",
       "6. 'Grouping3.Aged.0'\n",
       "7. 'Grouping3.Young.0'\n",
       "8. 'Grouping5.Aged.0'\n",
       "9. 'Grouping5.Young.0'\n",
       "10. 'Grouping7.Aged.0'\n",
       "11. 'Grouping7.Young.0'\n",
       "\n",
       "\n"
      ],
      "text/plain": [
       " [1] \"Grouping0.Aged.0\"  \"Grouping0.Young.0\" \"Grouping0.Young.1\"\n",
       " [4] \"Grouping1.Aged.0\"  \"Grouping1.Young.0\" \"Grouping3.Aged.0\" \n",
       " [7] \"Grouping3.Young.0\" \"Grouping5.Aged.0\"  \"Grouping5.Young.0\"\n",
       "[10] \"Grouping7.Aged.0\"  \"Grouping7.Young.0\""
      ]
     },
     "metadata": {},
     "output_type": "display_data"
    }
   ],
   "source": [
    "colnames(fit)\n"
   ]
  },
  {
   "cell_type": "code",
   "execution_count": 43,
   "metadata": {},
   "outputs": [
    {
     "data": {
      "text/html": [
       "<ol class=list-inline>\n",
       "\t<li>'Grouping0.Aged.0'</li>\n",
       "\t<li>'Grouping0.Young.0'</li>\n",
       "\t<li>'Grouping0.Young.1'</li>\n",
       "\t<li>'Grouping1.Aged.0'</li>\n",
       "\t<li>'Grouping1.Young.0'</li>\n",
       "\t<li>'Grouping3.Aged.0'</li>\n",
       "\t<li>'Grouping3.Young.0'</li>\n",
       "\t<li>'Grouping5.Aged.0'</li>\n",
       "\t<li>'Grouping5.Young.0'</li>\n",
       "\t<li>'Grouping7.Aged.0'</li>\n",
       "\t<li>'Grouping7.Young.0'</li>\n",
       "</ol>\n"
      ],
      "text/latex": [
       "\\begin{enumerate*}\n",
       "\\item 'Grouping0.Aged.0'\n",
       "\\item 'Grouping0.Young.0'\n",
       "\\item 'Grouping0.Young.1'\n",
       "\\item 'Grouping1.Aged.0'\n",
       "\\item 'Grouping1.Young.0'\n",
       "\\item 'Grouping3.Aged.0'\n",
       "\\item 'Grouping3.Young.0'\n",
       "\\item 'Grouping5.Aged.0'\n",
       "\\item 'Grouping5.Young.0'\n",
       "\\item 'Grouping7.Aged.0'\n",
       "\\item 'Grouping7.Young.0'\n",
       "\\end{enumerate*}\n"
      ],
      "text/markdown": [
       "1. 'Grouping0.Aged.0'\n",
       "2. 'Grouping0.Young.0'\n",
       "3. 'Grouping0.Young.1'\n",
       "4. 'Grouping1.Aged.0'\n",
       "5. 'Grouping1.Young.0'\n",
       "6. 'Grouping3.Aged.0'\n",
       "7. 'Grouping3.Young.0'\n",
       "8. 'Grouping5.Aged.0'\n",
       "9. 'Grouping5.Young.0'\n",
       "10. 'Grouping7.Aged.0'\n",
       "11. 'Grouping7.Young.0'\n",
       "\n",
       "\n"
      ],
      "text/plain": [
       " [1] \"Grouping0.Aged.0\"  \"Grouping0.Young.0\" \"Grouping0.Young.1\"\n",
       " [4] \"Grouping1.Aged.0\"  \"Grouping1.Young.0\" \"Grouping3.Aged.0\" \n",
       " [7] \"Grouping3.Young.0\" \"Grouping5.Aged.0\"  \"Grouping5.Young.0\"\n",
       "[10] \"Grouping7.Aged.0\"  \"Grouping7.Young.0\""
      ]
     },
     "metadata": {},
     "output_type": "display_data"
    }
   ],
   "source": [
    "colnames(fit$coefficients)"
   ]
  },
  {
   "cell_type": "markdown",
   "metadata": {},
   "source": [
    "###  Contrasts "
   ]
  },
  {
   "cell_type": "code",
   "execution_count": 44,
   "metadata": {},
   "outputs": [],
   "source": [
    "#create contrasts of interest \n",
    "cont.matrix=makeContrasts(\n",
    "    d0_Y_vs_A=\"Grouping0.Young.0 - Grouping0.Aged.0\",  \n",
    "    d1_Y_vs_A=\"Grouping1.Young.0 - Grouping1.Aged.0\",\n",
    "    d3_Y_vs_A=\"Grouping3.Young.0 - Grouping3.Aged.0\",\n",
    "    d5_Y_vs_A=\"Grouping5.Young.0 - Grouping5.Aged.0\",\n",
    "    d7_Y_vs_A=\"Grouping7.Young.0 - Grouping7.Aged.0\",\n",
    "    d1_Y_vs_d0_Y=\"Grouping1.Young.0 - Grouping0.Young.0\",\n",
    "    d1_A_vs_d0_A=\"Grouping1.Aged.0 - Grouping0.Aged.0\",\n",
    "    d3_Y_vs_d1_Y=\"Grouping3.Young.0 - Grouping1.Young.0\",\n",
    "    d3_A_vs_d1_A=\"Grouping3.Aged.0 - Grouping1.Aged.0\",\n",
    "    d5_Y_vs_d3_Y=\"Grouping5.Young.0 - Grouping3.Young.0\",\n",
    "    d5_A_vs_d3_A=\"Grouping5.Aged.0 - Grouping3.Aged.0\",\n",
    "    d7_Y_vs_d5_Y=\"Grouping7.Young.0 - Grouping5.Young.0\",\n",
    "    d7_A_vs_d5_A=\"Grouping7.Aged.0 - Grouping5.Aged.0\",\n",
    "    d0_Y_Pax_7_vs_d0_Y_noPax7=\"Grouping0.Young.1 - Grouping0.Young.0\",\n",
    "    levels=model.matrix(~0+Grouping))\n"
   ]
  },
  {
   "cell_type": "code",
   "execution_count": 45,
   "metadata": {},
   "outputs": [],
   "source": [
    "pval_thresh=0.01\n",
    "lfc_thresh=1"
   ]
  },
  {
   "cell_type": "code",
   "execution_count": 46,
   "metadata": {
    "scrolled": true
   },
   "outputs": [],
   "source": [
    "fit2=contrasts.fit(fit,cont.matrix)\n",
    "e=eBayes(fit2)\n",
    "comparisons=colnames(cont.matrix)"
   ]
  },
  {
   "cell_type": "code",
   "execution_count": 47,
   "metadata": {},
   "outputs": [
    {
     "name": "stdout",
     "output_type": "stream",
     "text": [
      "[1] \"d0_Y_vs_A \\n sig: 43046 \\n up: 21194 \\n down: 21852 \\n\"\n",
      "[1] \"d1_Y_vs_A \\n sig: 21764 \\n up: 11889 \\n down: 9875 \\n\"\n",
      "[1] \"d3_Y_vs_A \\n sig: 282 \\n up: 179 \\n down: 103 \\n\"\n",
      "[1] \"d5_Y_vs_A \\n sig: 11586 \\n up: 5739 \\n down: 5847 \\n\"\n",
      "[1] \"d7_Y_vs_A \\n sig: 24813 \\n up: 12855 \\n down: 11958 \\n\"\n",
      "[1] \"d1_Y_vs_d0_Y \\n sig: 39301 \\n up: 19395 \\n down: 19906 \\n\"\n",
      "[1] \"d1_A_vs_d0_A \\n sig: 58867 \\n up: 29334 \\n down: 29533 \\n\"\n",
      "[1] \"d3_Y_vs_d1_Y \\n sig: 69055 \\n up: 33591 \\n down: 35464 \\n\"\n",
      "[1] \"d3_A_vs_d1_A \\n sig: 62782 \\n up: 31468 \\n down: 31314 \\n\"\n",
      "[1] \"d5_Y_vs_d3_Y \\n sig: 20879 \\n up: 9642 \\n down: 11237 \\n\"\n",
      "[1] \"d5_A_vs_d3_A \\n sig: 20933 \\n up: 9817 \\n down: 11116 \\n\"\n",
      "[1] \"d7_Y_vs_d5_Y \\n sig: 32316 \\n up: 17601 \\n down: 14715 \\n\"\n",
      "[1] \"d7_A_vs_d5_A \\n sig: 22273 \\n up: 11915 \\n down: 10358 \\n\"\n",
      "[1] \"d0_Y_Pax_7_vs_d0_Y_noPax7 \\n sig: 34141 \\n up: 17617 \\n down: 16524 \\n\"\n"
     ]
    }
   ],
   "source": [
    "for(i in seq(1,length(comparisons)))\n",
    "{\n",
    "  tab<-topTable(e, number=nrow(e),coef=i,lfc=lfc_thresh, p.value = pval_thresh)\n",
    "  up=sum(tab$logFC>0)\n",
    "  down=sum(tab$logFC<0)\n",
    "  sig=nrow(tab)\n",
    "  curtitle=paste(comparisons[i],'\\n','sig:',sig,'\\n','up:',up,'\\n','down:',down,'\\n')\n",
    "  print(curtitle)\n",
    "  vals=topTable(e,number=nrow(e),coef=i)\n",
    "  vals$pscaled=-1*log10(vals$adj.P.Val)\n",
    "  vals$sig=vals$adj.P.Val<pval_thresh & abs(vals$logFC)>lfc_thresh \n",
    "  png(paste(\"volcano_diff\",comparisons[i],\".png\",sep=\"\"))\n",
    "  print(ggplot(data=vals,\n",
    "               aes(y=vals$pscaled,x=vals$logFC,color=vals$sig))+\n",
    "               geom_point(alpha=0.1)+\n",
    "               xlab(\"log2(FC)\")+\n",
    "               ylab(\"-log10(pval)\")+\n",
    "               ggtitle(curtitle)+\n",
    "               theme_bw()+\n",
    "               scale_color_manual(values=c(\"#000000\",\"#FF0000\")))\n",
    "  dev.off() \n",
    "  write.table(tab,file=paste(\"diff_\",comparisons[i],\".tsv\",sep=\"\"),quote=FALSE,sep='\\t',row.names = TRUE,col.names = TRUE)\n",
    "}\n",
    "    "
   ]
  },
  {
   "cell_type": "code",
   "execution_count": 49,
   "metadata": {},
   "outputs": [
    {
     "data": {
      "text/html": [
       "<table>\n",
       "<caption>A data.frame: 10 × 18</caption>\n",
       "<thead>\n",
       "\t<tr><th></th><th scope=col>d0_Y_vs_A</th><th scope=col>d1_Y_vs_A</th><th scope=col>d3_Y_vs_A</th><th scope=col>d5_Y_vs_A</th><th scope=col>d7_Y_vs_A</th><th scope=col>d1_Y_vs_d0_Y</th><th scope=col>d1_A_vs_d0_A</th><th scope=col>d3_Y_vs_d1_Y</th><th scope=col>d3_A_vs_d1_A</th><th scope=col>d5_Y_vs_d3_Y</th><th scope=col>d5_A_vs_d3_A</th><th scope=col>d7_Y_vs_d5_Y</th><th scope=col>d7_A_vs_d5_A</th><th scope=col>d0_Y_Pax_7_vs_d0_Y_noPax7</th><th scope=col>AveExpr</th><th scope=col>F</th><th scope=col>P.Value</th><th scope=col>adj.P.Val</th></tr>\n",
       "\t<tr><th></th><th scope=col>&lt;dbl&gt;</th><th scope=col>&lt;dbl&gt;</th><th scope=col>&lt;dbl&gt;</th><th scope=col>&lt;dbl&gt;</th><th scope=col>&lt;dbl&gt;</th><th scope=col>&lt;dbl&gt;</th><th scope=col>&lt;dbl&gt;</th><th scope=col>&lt;dbl&gt;</th><th scope=col>&lt;dbl&gt;</th><th scope=col>&lt;dbl&gt;</th><th scope=col>&lt;dbl&gt;</th><th scope=col>&lt;dbl&gt;</th><th scope=col>&lt;dbl&gt;</th><th scope=col>&lt;dbl&gt;</th><th scope=col>&lt;dbl&gt;</th><th scope=col>&lt;dbl&gt;</th><th scope=col>&lt;dbl&gt;</th><th scope=col>&lt;dbl&gt;</th></tr>\n",
       "</thead>\n",
       "<tbody>\n",
       "\t<tr><th scope=row>chr10_104244318_104244518</th><td>-2.966033</td><td>-1.08637623</td><td>-0.01448627</td><td>-0.59053222</td><td>-5.303721</td><td>-6.658213</td><td>-8.537870</td><td>8.965596</td><td>7.893706</td><td>-7.930016</td><td>-7.353970</td><td>2.2588058</td><td>6.971995</td><td>-2.489510</td><td>2.577579</td><td>528.4427</td><td>1.125475e-33</td><td>2.684967e-28</td></tr>\n",
       "\t<tr><th scope=row>chr8_4656715_4656923</th><td>-1.999319</td><td> 1.20950559</td><td> 0.61820592</td><td> 1.13895557</td><td>-4.032018</td><td>-3.260727</td><td>-6.469552</td><td>5.394890</td><td>5.986190</td><td>-5.394242</td><td>-5.914992</td><td>0.8969099</td><td>6.067883</td><td>-2.504218</td><td>1.402779</td><td>277.8377</td><td>4.467335e-29</td><td>3.809489e-24</td></tr>\n",
       "\t<tr><th scope=row>chr17_22876400_22876602</th><td>-1.794323</td><td> 2.07787138</td><td> 0.52712987</td><td>-0.43473278</td><td>-4.797786</td><td>-3.082190</td><td>-6.954385</td><td>5.284909</td><td>6.835651</td><td>-7.960901</td><td>-6.999038</td><td>2.8856956</td><td>7.248749</td><td>-3.046847</td><td>2.870165</td><td>276.6574</td><td>4.790545e-29</td><td>3.809489e-24</td></tr>\n",
       "\t<tr><th scope=row>chr1_142729889_142730090</th><td>-3.273219</td><td>-0.82055502</td><td> 0.36916070</td><td>-0.81077059</td><td>-6.079459</td><td>-5.325273</td><td>-7.777937</td><td>8.556542</td><td>7.366827</td><td>-9.426556</td><td>-8.246625</td><td>2.8316363</td><td>8.100325</td><td>-2.337698</td><td>2.523585</td><td>267.0445</td><td>8.556626e-29</td><td>5.103236e-24</td></tr>\n",
       "\t<tr><th scope=row>chr1_24613316_24613516</th><td>-1.632953</td><td> 0.61904722</td><td>-0.06819192</td><td> 0.29730265</td><td>-4.294446</td><td>-3.730984</td><td>-5.982984</td><td>4.343100</td><td>5.030339</td><td>-5.544739</td><td>-5.910234</td><td>1.6207364</td><td>6.212485</td><td>-1.633654</td><td>6.912836</td><td>256.0101</td><td>1.708930e-28</td><td>6.231091e-24</td></tr>\n",
       "\t<tr><th scope=row>chr11_3159822_3160045</th><td>-2.534243</td><td> 0.84872329</td><td>-0.08015588</td><td>-0.48217843</td><td>-5.061516</td><td>-2.487189</td><td>-5.870155</td><td>3.910627</td><td>4.839506</td><td>-6.878539</td><td>-6.476517</td><td>2.6496802</td><td>7.229018</td><td>-1.944942</td><td>1.806340</td><td>254.5949</td><td>1.871434e-28</td><td>6.231091e-24</td></tr>\n",
       "\t<tr><th scope=row>chr1_188978272_188978478</th><td>-2.639239</td><td> 0.26640569</td><td> 0.11884807</td><td>-0.07666495</td><td>-5.110811</td><td>-3.559781</td><td>-6.465426</td><td>6.300422</td><td>6.447980</td><td>-6.848585</td><td>-6.653072</td><td>1.1085877</td><td>6.142734</td><td>-1.180450</td><td>4.002649</td><td>254.5872</td><td>1.872366e-28</td><td>6.231091e-24</td></tr>\n",
       "\t<tr><th scope=row>chr1_24612248_24612448</th><td>-1.529424</td><td> 0.47409110</td><td>-0.07771836</td><td> 0.24413979</td><td>-4.636751</td><td>-3.863247</td><td>-5.866763</td><td>4.543033</td><td>5.094842</td><td>-5.938494</td><td>-6.260352</td><td>1.7996452</td><td>6.680536</td><td>-2.218153</td><td>6.531863</td><td>252.8877</td><td>2.089541e-28</td><td>6.231091e-24</td></tr>\n",
       "\t<tr><th scope=row>chr1_171070288_171070800</th><td>-1.068217</td><td> 0.05833574</td><td> 0.23468395</td><td> 0.62933918</td><td>-4.656344</td><td>-5.093353</td><td>-6.219905</td><td>5.482666</td><td>5.306318</td><td>-6.151279</td><td>-6.545934</td><td>1.7964078</td><td>7.082091</td><td>-3.363986</td><td>1.442507</td><td>249.9677</td><td>2.527450e-28</td><td>6.699513e-24</td></tr>\n",
       "\t<tr><th scope=row>chr1_24611737_24611948</th><td>-1.682568</td><td> 0.25899141</td><td>-0.09115058</td><td> 1.13668729</td><td>-4.378802</td><td>-4.315060</td><td>-6.256619</td><td>4.765605</td><td>5.115747</td><td>-6.223349</td><td>-7.451187</td><td>2.2910249</td><td>7.806514</td><td>-1.935207</td><td>6.396829</td><td>243.7294</td><td>3.823350e-28</td><td>9.121098e-24</td></tr>\n",
       "</tbody>\n",
       "</table>\n"
      ],
      "text/latex": [
       "A data.frame: 10 × 18\n",
       "\\begin{tabular}{r|llllllllllllllllll}\n",
       "  & d0\\_Y\\_vs\\_A & d1\\_Y\\_vs\\_A & d3\\_Y\\_vs\\_A & d5\\_Y\\_vs\\_A & d7\\_Y\\_vs\\_A & d1\\_Y\\_vs\\_d0\\_Y & d1\\_A\\_vs\\_d0\\_A & d3\\_Y\\_vs\\_d1\\_Y & d3\\_A\\_vs\\_d1\\_A & d5\\_Y\\_vs\\_d3\\_Y & d5\\_A\\_vs\\_d3\\_A & d7\\_Y\\_vs\\_d5\\_Y & d7\\_A\\_vs\\_d5\\_A & d0\\_Y\\_Pax\\_7\\_vs\\_d0\\_Y\\_noPax7 & AveExpr & F & P.Value & adj.P.Val\\\\\n",
       "  & <dbl> & <dbl> & <dbl> & <dbl> & <dbl> & <dbl> & <dbl> & <dbl> & <dbl> & <dbl> & <dbl> & <dbl> & <dbl> & <dbl> & <dbl> & <dbl> & <dbl> & <dbl>\\\\\n",
       "\\hline\n",
       "\tchr10\\_104244318\\_104244518 & -2.966033 & -1.08637623 & -0.01448627 & -0.59053222 & -5.303721 & -6.658213 & -8.537870 & 8.965596 & 7.893706 & -7.930016 & -7.353970 & 2.2588058 & 6.971995 & -2.489510 & 2.577579 & 528.4427 & 1.125475e-33 & 2.684967e-28\\\\\n",
       "\tchr8\\_4656715\\_4656923 & -1.999319 &  1.20950559 &  0.61820592 &  1.13895557 & -4.032018 & -3.260727 & -6.469552 & 5.394890 & 5.986190 & -5.394242 & -5.914992 & 0.8969099 & 6.067883 & -2.504218 & 1.402779 & 277.8377 & 4.467335e-29 & 3.809489e-24\\\\\n",
       "\tchr17\\_22876400\\_22876602 & -1.794323 &  2.07787138 &  0.52712987 & -0.43473278 & -4.797786 & -3.082190 & -6.954385 & 5.284909 & 6.835651 & -7.960901 & -6.999038 & 2.8856956 & 7.248749 & -3.046847 & 2.870165 & 276.6574 & 4.790545e-29 & 3.809489e-24\\\\\n",
       "\tchr1\\_142729889\\_142730090 & -3.273219 & -0.82055502 &  0.36916070 & -0.81077059 & -6.079459 & -5.325273 & -7.777937 & 8.556542 & 7.366827 & -9.426556 & -8.246625 & 2.8316363 & 8.100325 & -2.337698 & 2.523585 & 267.0445 & 8.556626e-29 & 5.103236e-24\\\\\n",
       "\tchr1\\_24613316\\_24613516 & -1.632953 &  0.61904722 & -0.06819192 &  0.29730265 & -4.294446 & -3.730984 & -5.982984 & 4.343100 & 5.030339 & -5.544739 & -5.910234 & 1.6207364 & 6.212485 & -1.633654 & 6.912836 & 256.0101 & 1.708930e-28 & 6.231091e-24\\\\\n",
       "\tchr11\\_3159822\\_3160045 & -2.534243 &  0.84872329 & -0.08015588 & -0.48217843 & -5.061516 & -2.487189 & -5.870155 & 3.910627 & 4.839506 & -6.878539 & -6.476517 & 2.6496802 & 7.229018 & -1.944942 & 1.806340 & 254.5949 & 1.871434e-28 & 6.231091e-24\\\\\n",
       "\tchr1\\_188978272\\_188978478 & -2.639239 &  0.26640569 &  0.11884807 & -0.07666495 & -5.110811 & -3.559781 & -6.465426 & 6.300422 & 6.447980 & -6.848585 & -6.653072 & 1.1085877 & 6.142734 & -1.180450 & 4.002649 & 254.5872 & 1.872366e-28 & 6.231091e-24\\\\\n",
       "\tchr1\\_24612248\\_24612448 & -1.529424 &  0.47409110 & -0.07771836 &  0.24413979 & -4.636751 & -3.863247 & -5.866763 & 4.543033 & 5.094842 & -5.938494 & -6.260352 & 1.7996452 & 6.680536 & -2.218153 & 6.531863 & 252.8877 & 2.089541e-28 & 6.231091e-24\\\\\n",
       "\tchr1\\_171070288\\_171070800 & -1.068217 &  0.05833574 &  0.23468395 &  0.62933918 & -4.656344 & -5.093353 & -6.219905 & 5.482666 & 5.306318 & -6.151279 & -6.545934 & 1.7964078 & 7.082091 & -3.363986 & 1.442507 & 249.9677 & 2.527450e-28 & 6.699513e-24\\\\\n",
       "\tchr1\\_24611737\\_24611948 & -1.682568 &  0.25899141 & -0.09115058 &  1.13668729 & -4.378802 & -4.315060 & -6.256619 & 4.765605 & 5.115747 & -6.223349 & -7.451187 & 2.2910249 & 7.806514 & -1.935207 & 6.396829 & 243.7294 & 3.823350e-28 & 9.121098e-24\\\\\n",
       "\\end{tabular}\n"
      ],
      "text/markdown": [
       "\n",
       "A data.frame: 10 × 18\n",
       "\n",
       "| <!--/--> | d0_Y_vs_A &lt;dbl&gt; | d1_Y_vs_A &lt;dbl&gt; | d3_Y_vs_A &lt;dbl&gt; | d5_Y_vs_A &lt;dbl&gt; | d7_Y_vs_A &lt;dbl&gt; | d1_Y_vs_d0_Y &lt;dbl&gt; | d1_A_vs_d0_A &lt;dbl&gt; | d3_Y_vs_d1_Y &lt;dbl&gt; | d3_A_vs_d1_A &lt;dbl&gt; | d5_Y_vs_d3_Y &lt;dbl&gt; | d5_A_vs_d3_A &lt;dbl&gt; | d7_Y_vs_d5_Y &lt;dbl&gt; | d7_A_vs_d5_A &lt;dbl&gt; | d0_Y_Pax_7_vs_d0_Y_noPax7 &lt;dbl&gt; | AveExpr &lt;dbl&gt; | F &lt;dbl&gt; | P.Value &lt;dbl&gt; | adj.P.Val &lt;dbl&gt; |\n",
       "|---|---|---|---|---|---|---|---|---|---|---|---|---|---|---|---|---|---|---|\n",
       "| chr10_104244318_104244518 | -2.966033 | -1.08637623 | -0.01448627 | -0.59053222 | -5.303721 | -6.658213 | -8.537870 | 8.965596 | 7.893706 | -7.930016 | -7.353970 | 2.2588058 | 6.971995 | -2.489510 | 2.577579 | 528.4427 | 1.125475e-33 | 2.684967e-28 |\n",
       "| chr8_4656715_4656923 | -1.999319 |  1.20950559 |  0.61820592 |  1.13895557 | -4.032018 | -3.260727 | -6.469552 | 5.394890 | 5.986190 | -5.394242 | -5.914992 | 0.8969099 | 6.067883 | -2.504218 | 1.402779 | 277.8377 | 4.467335e-29 | 3.809489e-24 |\n",
       "| chr17_22876400_22876602 | -1.794323 |  2.07787138 |  0.52712987 | -0.43473278 | -4.797786 | -3.082190 | -6.954385 | 5.284909 | 6.835651 | -7.960901 | -6.999038 | 2.8856956 | 7.248749 | -3.046847 | 2.870165 | 276.6574 | 4.790545e-29 | 3.809489e-24 |\n",
       "| chr1_142729889_142730090 | -3.273219 | -0.82055502 |  0.36916070 | -0.81077059 | -6.079459 | -5.325273 | -7.777937 | 8.556542 | 7.366827 | -9.426556 | -8.246625 | 2.8316363 | 8.100325 | -2.337698 | 2.523585 | 267.0445 | 8.556626e-29 | 5.103236e-24 |\n",
       "| chr1_24613316_24613516 | -1.632953 |  0.61904722 | -0.06819192 |  0.29730265 | -4.294446 | -3.730984 | -5.982984 | 4.343100 | 5.030339 | -5.544739 | -5.910234 | 1.6207364 | 6.212485 | -1.633654 | 6.912836 | 256.0101 | 1.708930e-28 | 6.231091e-24 |\n",
       "| chr11_3159822_3160045 | -2.534243 |  0.84872329 | -0.08015588 | -0.48217843 | -5.061516 | -2.487189 | -5.870155 | 3.910627 | 4.839506 | -6.878539 | -6.476517 | 2.6496802 | 7.229018 | -1.944942 | 1.806340 | 254.5949 | 1.871434e-28 | 6.231091e-24 |\n",
       "| chr1_188978272_188978478 | -2.639239 |  0.26640569 |  0.11884807 | -0.07666495 | -5.110811 | -3.559781 | -6.465426 | 6.300422 | 6.447980 | -6.848585 | -6.653072 | 1.1085877 | 6.142734 | -1.180450 | 4.002649 | 254.5872 | 1.872366e-28 | 6.231091e-24 |\n",
       "| chr1_24612248_24612448 | -1.529424 |  0.47409110 | -0.07771836 |  0.24413979 | -4.636751 | -3.863247 | -5.866763 | 4.543033 | 5.094842 | -5.938494 | -6.260352 | 1.7996452 | 6.680536 | -2.218153 | 6.531863 | 252.8877 | 2.089541e-28 | 6.231091e-24 |\n",
       "| chr1_171070288_171070800 | -1.068217 |  0.05833574 |  0.23468395 |  0.62933918 | -4.656344 | -5.093353 | -6.219905 | 5.482666 | 5.306318 | -6.151279 | -6.545934 | 1.7964078 | 7.082091 | -3.363986 | 1.442507 | 249.9677 | 2.527450e-28 | 6.699513e-24 |\n",
       "| chr1_24611737_24611948 | -1.682568 |  0.25899141 | -0.09115058 |  1.13668729 | -4.378802 | -4.315060 | -6.256619 | 4.765605 | 5.115747 | -6.223349 | -7.451187 | 2.2910249 | 7.806514 | -1.935207 | 6.396829 | 243.7294 | 3.823350e-28 | 9.121098e-24 |\n",
       "\n"
      ],
      "text/plain": [
       "                          d0_Y_vs_A d1_Y_vs_A   d3_Y_vs_A   d5_Y_vs_A  \n",
       "chr10_104244318_104244518 -2.966033 -1.08637623 -0.01448627 -0.59053222\n",
       "chr8_4656715_4656923      -1.999319  1.20950559  0.61820592  1.13895557\n",
       "chr17_22876400_22876602   -1.794323  2.07787138  0.52712987 -0.43473278\n",
       "chr1_142729889_142730090  -3.273219 -0.82055502  0.36916070 -0.81077059\n",
       "chr1_24613316_24613516    -1.632953  0.61904722 -0.06819192  0.29730265\n",
       "chr11_3159822_3160045     -2.534243  0.84872329 -0.08015588 -0.48217843\n",
       "chr1_188978272_188978478  -2.639239  0.26640569  0.11884807 -0.07666495\n",
       "chr1_24612248_24612448    -1.529424  0.47409110 -0.07771836  0.24413979\n",
       "chr1_171070288_171070800  -1.068217  0.05833574  0.23468395  0.62933918\n",
       "chr1_24611737_24611948    -1.682568  0.25899141 -0.09115058  1.13668729\n",
       "                          d7_Y_vs_A d1_Y_vs_d0_Y d1_A_vs_d0_A d3_Y_vs_d1_Y\n",
       "chr10_104244318_104244518 -5.303721 -6.658213    -8.537870    8.965596    \n",
       "chr8_4656715_4656923      -4.032018 -3.260727    -6.469552    5.394890    \n",
       "chr17_22876400_22876602   -4.797786 -3.082190    -6.954385    5.284909    \n",
       "chr1_142729889_142730090  -6.079459 -5.325273    -7.777937    8.556542    \n",
       "chr1_24613316_24613516    -4.294446 -3.730984    -5.982984    4.343100    \n",
       "chr11_3159822_3160045     -5.061516 -2.487189    -5.870155    3.910627    \n",
       "chr1_188978272_188978478  -5.110811 -3.559781    -6.465426    6.300422    \n",
       "chr1_24612248_24612448    -4.636751 -3.863247    -5.866763    4.543033    \n",
       "chr1_171070288_171070800  -4.656344 -5.093353    -6.219905    5.482666    \n",
       "chr1_24611737_24611948    -4.378802 -4.315060    -6.256619    4.765605    \n",
       "                          d3_A_vs_d1_A d5_Y_vs_d3_Y d5_A_vs_d3_A d7_Y_vs_d5_Y\n",
       "chr10_104244318_104244518 7.893706     -7.930016    -7.353970    2.2588058   \n",
       "chr8_4656715_4656923      5.986190     -5.394242    -5.914992    0.8969099   \n",
       "chr17_22876400_22876602   6.835651     -7.960901    -6.999038    2.8856956   \n",
       "chr1_142729889_142730090  7.366827     -9.426556    -8.246625    2.8316363   \n",
       "chr1_24613316_24613516    5.030339     -5.544739    -5.910234    1.6207364   \n",
       "chr11_3159822_3160045     4.839506     -6.878539    -6.476517    2.6496802   \n",
       "chr1_188978272_188978478  6.447980     -6.848585    -6.653072    1.1085877   \n",
       "chr1_24612248_24612448    5.094842     -5.938494    -6.260352    1.7996452   \n",
       "chr1_171070288_171070800  5.306318     -6.151279    -6.545934    1.7964078   \n",
       "chr1_24611737_24611948    5.115747     -6.223349    -7.451187    2.2910249   \n",
       "                          d7_A_vs_d5_A d0_Y_Pax_7_vs_d0_Y_noPax7 AveExpr \n",
       "chr10_104244318_104244518 6.971995     -2.489510                 2.577579\n",
       "chr8_4656715_4656923      6.067883     -2.504218                 1.402779\n",
       "chr17_22876400_22876602   7.248749     -3.046847                 2.870165\n",
       "chr1_142729889_142730090  8.100325     -2.337698                 2.523585\n",
       "chr1_24613316_24613516    6.212485     -1.633654                 6.912836\n",
       "chr11_3159822_3160045     7.229018     -1.944942                 1.806340\n",
       "chr1_188978272_188978478  6.142734     -1.180450                 4.002649\n",
       "chr1_24612248_24612448    6.680536     -2.218153                 6.531863\n",
       "chr1_171070288_171070800  7.082091     -3.363986                 1.442507\n",
       "chr1_24611737_24611948    7.806514     -1.935207                 6.396829\n",
       "                          F        P.Value      adj.P.Val   \n",
       "chr10_104244318_104244518 528.4427 1.125475e-33 2.684967e-28\n",
       "chr8_4656715_4656923      277.8377 4.467335e-29 3.809489e-24\n",
       "chr17_22876400_22876602   276.6574 4.790545e-29 3.809489e-24\n",
       "chr1_142729889_142730090  267.0445 8.556626e-29 5.103236e-24\n",
       "chr1_24613316_24613516    256.0101 1.708930e-28 6.231091e-24\n",
       "chr11_3159822_3160045     254.5949 1.871434e-28 6.231091e-24\n",
       "chr1_188978272_188978478  254.5872 1.872366e-28 6.231091e-24\n",
       "chr1_24612248_24612448    252.8877 2.089541e-28 6.231091e-24\n",
       "chr1_171070288_171070800  249.9677 2.527450e-28 6.699513e-24\n",
       "chr1_24611737_24611948    243.7294 3.823350e-28 9.121098e-24"
      ]
     },
     "metadata": {},
     "output_type": "display_data"
    }
   ],
   "source": [
    "topTable(e)"
   ]
  },
  {
   "cell_type": "code",
   "execution_count": 50,
   "metadata": {},
   "outputs": [
    {
     "data": {
      "text/html": [
       "238563"
      ],
      "text/latex": [
       "238563"
      ],
      "text/markdown": [
       "238563"
      ],
      "text/plain": [
       "[1] 238563"
      ]
     },
     "metadata": {},
     "output_type": "display_data"
    }
   ],
   "source": [
    "nrow(cleaned_E)"
   ]
  },
  {
   "cell_type": "code",
   "execution_count": 51,
   "metadata": {},
   "outputs": [
    {
     "data": {
      "text/html": [
       "<table>\n",
       "<caption>A data.frame: 6 × 40</caption>\n",
       "<thead>\n",
       "\t<tr><th></th><th scope=col>d0_Aged_Rep1</th><th scope=col>d0_Aged_Rep2</th><th scope=col>d0_Aged_Rep3</th><th scope=col>d0_Aged_Rep4</th><th scope=col>d0_Aged_Rep5</th><th scope=col>d0_Aged_Rep6</th><th scope=col>d0_Aged_Rep7</th><th scope=col>d0_Young_Pax7_Rep1</th><th scope=col>d0_Young_Pax7_Rep2</th><th scope=col>d0_Young_Pax7_Rep3</th><th scope=col>⋯</th><th scope=col>d5_Young_Rep2</th><th scope=col>d7_Aged_Rep1</th><th scope=col>d7_Aged_Rep2</th><th scope=col>d7_Aged_Rep3</th><th scope=col>d7_Aged_Rep4</th><th scope=col>d7_Young_Rep1</th><th scope=col>d7_Young_Rep2</th><th scope=col>d7_Young_Rep3</th><th scope=col>d7_Young_Rep4</th><th scope=col>d7_Young_Rep5</th></tr>\n",
       "\t<tr><th></th><th scope=col>&lt;dbl&gt;</th><th scope=col>&lt;dbl&gt;</th><th scope=col>&lt;dbl&gt;</th><th scope=col>&lt;dbl&gt;</th><th scope=col>&lt;dbl&gt;</th><th scope=col>&lt;dbl&gt;</th><th scope=col>&lt;dbl&gt;</th><th scope=col>&lt;dbl&gt;</th><th scope=col>&lt;dbl&gt;</th><th scope=col>&lt;dbl&gt;</th><th scope=col>⋯</th><th scope=col>&lt;dbl&gt;</th><th scope=col>&lt;dbl&gt;</th><th scope=col>&lt;dbl&gt;</th><th scope=col>&lt;dbl&gt;</th><th scope=col>&lt;dbl&gt;</th><th scope=col>&lt;dbl&gt;</th><th scope=col>&lt;dbl&gt;</th><th scope=col>&lt;dbl&gt;</th><th scope=col>&lt;dbl&gt;</th><th scope=col>&lt;dbl&gt;</th></tr>\n",
       "</thead>\n",
       "<tbody>\n",
       "\t<tr><th scope=row>chr1_3060420_3060620</th><td> 0.2980111</td><td>-0.4949106</td><td>-0.8352578</td><td>-0.1160573</td><td> 0.2730918</td><td>-1.2475962</td><td>-0.8879229</td><td>-1.90072660</td><td>-0.08176152</td><td>-0.8222272</td><td>⋯</td><td>-0.05084371</td><td>-1.464294</td><td>-0.11006068</td><td>-1.3047446</td><td> 0.1712703</td><td>-1.2683797</td><td>-1.82190825</td><td>-1.899839012</td><td>-2.0046108</td><td>-1.65164836</td></tr>\n",
       "\t<tr><th scope=row>chr1_3100938_3101138</th><td> 0.1849240</td><td> 1.5523861</td><td> 1.5793781</td><td> 1.2666634</td><td>-0.2395032</td><td> 0.6429433</td><td> 2.2516198</td><td> 1.43304206</td><td>-0.58963195</td><td> 0.2204195</td><td>⋯</td><td>-0.32854850</td><td>-2.141257</td><td>-2.26703297</td><td>-1.3599426</td><td>-0.5035253</td><td>-1.1222927</td><td>-2.07613874</td><td>-1.834772792</td><td>-1.8082717</td><td>-2.40409078</td></tr>\n",
       "\t<tr><th scope=row>chr1_3103699_3103899</th><td>-1.8132443</td><td>-1.3379290</td><td>-1.0882839</td><td>-1.2455845</td><td>-0.2638067</td><td>-1.8023063</td><td>-1.9987796</td><td>-0.09346071</td><td>-1.52124420</td><td>-0.9930103</td><td>⋯</td><td>-1.62595165</td><td>-1.147750</td><td> 0.07087044</td><td>-0.5156485</td><td>-0.9869808</td><td>-0.2602057</td><td>-0.08722435</td><td>-0.009158339</td><td> 0.2355524</td><td> 0.04249603</td></tr>\n",
       "\t<tr><th scope=row>chr1_3119588_3119939</th><td>-1.3741031</td><td> 0.2536048</td><td> 1.1944576</td><td>-0.1375741</td><td> 0.1435114</td><td> 0.2128912</td><td>-0.1758270</td><td> 1.02677433</td><td>-1.42451178</td><td> 0.1306106</td><td>⋯</td><td> 0.67643144</td><td>-2.216750</td><td>-1.40418049</td><td>-0.7770812</td><td>-0.0192496</td><td> 1.8052421</td><td> 1.24270281</td><td> 1.457381996</td><td> 1.4233681</td><td> 0.79838427</td></tr>\n",
       "\t<tr><th scope=row>chr1_3119941_3120162</th><td>-0.7314200</td><td>-0.6006032</td><td>-0.2880665</td><td>-0.6325003</td><td>-1.6280749</td><td>-1.5048052</td><td> 0.5280731</td><td> 0.10359787</td><td>-1.23938086</td><td>-0.2683879</td><td>⋯</td><td> 0.49333440</td><td>-1.613924</td><td>-1.99574760</td><td>-1.0122742</td><td>-0.3800374</td><td> 1.2092776</td><td> 0.52187464</td><td> 0.740642792</td><td> 0.6748637</td><td> 0.24646564</td></tr>\n",
       "\t<tr><th scope=row>chr1_3212807_3213180</th><td> 1.2863337</td><td> 2.6202389</td><td> 2.4499429</td><td> 2.5089691</td><td> 2.5984299</td><td> 2.1845759</td><td> 2.1230662</td><td> 0.57735879</td><td> 2.02451064</td><td> 0.4180125</td><td>⋯</td><td> 0.38018376</td><td> 0.654511</td><td>-0.30475782</td><td>-0.0590653</td><td> 0.3272756</td><td>-0.1682086</td><td>-0.57601229</td><td>-0.719008485</td><td>-0.2828867</td><td>-0.87231518</td></tr>\n",
       "</tbody>\n",
       "</table>\n"
      ],
      "text/latex": [
       "A data.frame: 6 × 40\n",
       "\\begin{tabular}{r|llllllllllllllllllllllllllllllllllllllll}\n",
       "  & d0\\_Aged\\_Rep1 & d0\\_Aged\\_Rep2 & d0\\_Aged\\_Rep3 & d0\\_Aged\\_Rep4 & d0\\_Aged\\_Rep5 & d0\\_Aged\\_Rep6 & d0\\_Aged\\_Rep7 & d0\\_Young\\_Pax7\\_Rep1 & d0\\_Young\\_Pax7\\_Rep2 & d0\\_Young\\_Pax7\\_Rep3 & d0\\_Young\\_Rep1 & d0\\_Young\\_Rep2 & d0\\_Young\\_Rep3 & d0\\_Young\\_Rep4 & d1\\_Aged\\_Rep1 & d1\\_Aged\\_Rep2 & d1\\_Young\\_Rep1 & d1\\_Young\\_Rep2 & d1\\_Young\\_Rep3 & d3\\_Aged\\_Rep1 & d3\\_Aged\\_Rep2 & d3\\_Aged\\_Rep3 & d3\\_Aged\\_Rep4 & d3\\_Young\\_Rep1 & d3\\_Young\\_Rep2 & d3\\_Young\\_Rep3 & d3\\_Young\\_Rep4 & d5\\_Aged\\_Rep1 & d5\\_Aged\\_Rep2 & d5\\_Young\\_Rep1 & d5\\_Young\\_Rep2 & d7\\_Aged\\_Rep1 & d7\\_Aged\\_Rep2 & d7\\_Aged\\_Rep3 & d7\\_Aged\\_Rep4 & d7\\_Young\\_Rep1 & d7\\_Young\\_Rep2 & d7\\_Young\\_Rep3 & d7\\_Young\\_Rep4 & d7\\_Young\\_Rep5\\\\\n",
       "  & <dbl> & <dbl> & <dbl> & <dbl> & <dbl> & <dbl> & <dbl> & <dbl> & <dbl> & <dbl> & <dbl> & <dbl> & <dbl> & <dbl> & <dbl> & <dbl> & <dbl> & <dbl> & <dbl> & <dbl> & <dbl> & <dbl> & <dbl> & <dbl> & <dbl> & <dbl> & <dbl> & <dbl> & <dbl> & <dbl> & <dbl> & <dbl> & <dbl> & <dbl> & <dbl> & <dbl> & <dbl> & <dbl> & <dbl> & <dbl>\\\\\n",
       "\\hline\n",
       "\tchr1\\_3060420\\_3060620 &  0.2980111 & -0.4949106 & -0.8352578 & -0.1160573 &  0.2730918 & -1.2475962 & -0.8879229 & -1.90072660 & -0.08176152 & -0.8222272 & -0.5710728 & -0.09589359 & -0.4109401 & -0.14066251 & -0.47916456 & -0.4781977 & -2.0007796 & -3.37683063 & -2.9365937 & -0.34214131 & -1.0072195 & -0.6391974 & -0.8962690 & -0.3710281 & -0.89584367 & -0.75791375 &  0.2302322 &  1.2073417 &  0.1602806 & -0.82432701 & -0.05084371 & -1.464294 & -0.11006068 & -1.3047446 &  0.1712703 & -1.2683797 & -1.82190825 & -1.899839012 & -2.0046108 & -1.65164836\\\\\n",
       "\tchr1\\_3100938\\_3101138 &  0.1849240 &  1.5523861 &  1.5793781 &  1.2666634 & -0.2395032 &  0.6429433 &  2.2516198 &  1.43304206 & -0.58963195 &  0.2204195 &  0.7771850 &  0.69132943 &  0.5398821 &  0.31979910 &  0.43808161 &  0.4517617 & -1.2111648 & -1.84145849 & -1.5369782 & -0.01886569 & -1.2737778 & -1.3861568 & -2.0203336 & -2.4776275 &  0.03972464 & -0.48695967 & -1.0932762 & -0.6980275 & -0.7064819 & -0.92311357 & -0.32854850 & -2.141257 & -2.26703297 & -1.3599426 & -0.5035253 & -1.1222927 & -2.07613874 & -1.834772792 & -1.8082717 & -2.40409078\\\\\n",
       "\tchr1\\_3103699\\_3103899 & -1.8132443 & -1.3379290 & -1.0882839 & -1.2455845 & -0.2638067 & -1.8023063 & -1.9987796 & -0.09346071 & -1.52124420 & -0.9930103 & -0.9545694 & -0.90677007 & -0.5816388 & -0.37600527 & -1.26739133 & -0.7330471 & -0.7319231 & -0.01418053 & -0.4072554 & -1.34914731 & -1.5496851 & -1.4229518 & -1.8654382 & -2.3812134 & -1.32691750 & -1.60949019 & -1.8301383 & -1.1289914 & -1.3285444 & -0.90176534 & -1.62595165 & -1.147750 &  0.07087044 & -0.5156485 & -0.9869808 & -0.2602057 & -0.08722435 & -0.009158339 &  0.2355524 &  0.04249603\\\\\n",
       "\tchr1\\_3119588\\_3119939 & -1.3741031 &  0.2536048 &  1.1944576 & -0.1375741 &  0.1435114 &  0.2128912 & -0.1758270 &  1.02677433 & -1.42451178 &  0.1306106 & -0.2786165 &  2.04500610 &  1.6021849 &  0.90670549 & -0.06111996 &  0.8388906 &  0.5336473 &  0.77426581 &  0.3168619 &  0.31010408 & -0.3325802 & -1.7108892 & -1.1123326 & -0.9906757 &  0.68456812 &  0.08536491 &  0.5462948 &  1.4643105 &  2.1578232 &  1.12128435 &  0.67643144 & -2.216750 & -1.40418049 & -0.7770812 & -0.0192496 &  1.8052421 &  1.24270281 &  1.457381996 &  1.4233681 &  0.79838427\\\\\n",
       "\tchr1\\_3119941\\_3120162 & -0.7314200 & -0.6006032 & -0.2880665 & -0.6325003 & -1.6280749 & -1.5048052 &  0.5280731 &  0.10359787 & -1.23938086 & -0.2683879 & -0.4023633 & -0.43581073 & -1.0175699 & -1.30666547 & -0.76618912 & -0.4971948 &  0.3548637 & -0.10676959 & -0.3359686 & -0.60899057 & -0.2884648 & -1.4491449 &  0.3576439 & -1.2904289 &  0.82338737 &  0.91244808 & -1.5833730 &  1.0672999 &  1.0947941 & -0.01620359 &  0.49333440 & -1.613924 & -1.99574760 & -1.0122742 & -0.3800374 &  1.2092776 &  0.52187464 &  0.740642792 &  0.6748637 &  0.24646564\\\\\n",
       "\tchr1\\_3212807\\_3213180 &  1.2863337 &  2.6202389 &  2.4499429 &  2.5089691 &  2.5984299 &  2.1845759 &  2.1230662 &  0.57735879 &  2.02451064 &  0.4180125 &  1.3353595 & -0.25932791 & -0.3097496 & -0.07645915 &  0.52979175 &  0.4955558 &  1.3555029 &  0.52043436 &  1.8533143 &  2.10861512 &  0.5846426 &  1.4560176 &  0.7365045 &  0.7571345 &  0.06095198 &  0.36412370 &  0.4651349 &  0.7311237 &  0.3818415 &  1.08979319 &  0.38018376 &  0.654511 & -0.30475782 & -0.0590653 &  0.3272756 & -0.1682086 & -0.57601229 & -0.719008485 & -0.2828867 & -0.87231518\\\\\n",
       "\\end{tabular}\n"
      ],
      "text/markdown": [
       "\n",
       "A data.frame: 6 × 40\n",
       "\n",
       "| <!--/--> | d0_Aged_Rep1 &lt;dbl&gt; | d0_Aged_Rep2 &lt;dbl&gt; | d0_Aged_Rep3 &lt;dbl&gt; | d0_Aged_Rep4 &lt;dbl&gt; | d0_Aged_Rep5 &lt;dbl&gt; | d0_Aged_Rep6 &lt;dbl&gt; | d0_Aged_Rep7 &lt;dbl&gt; | d0_Young_Pax7_Rep1 &lt;dbl&gt; | d0_Young_Pax7_Rep2 &lt;dbl&gt; | d0_Young_Pax7_Rep3 &lt;dbl&gt; | ⋯ ⋯ | d5_Young_Rep2 &lt;dbl&gt; | d7_Aged_Rep1 &lt;dbl&gt; | d7_Aged_Rep2 &lt;dbl&gt; | d7_Aged_Rep3 &lt;dbl&gt; | d7_Aged_Rep4 &lt;dbl&gt; | d7_Young_Rep1 &lt;dbl&gt; | d7_Young_Rep2 &lt;dbl&gt; | d7_Young_Rep3 &lt;dbl&gt; | d7_Young_Rep4 &lt;dbl&gt; | d7_Young_Rep5 &lt;dbl&gt; |\n",
       "|---|---|---|---|---|---|---|---|---|---|---|---|---|---|---|---|---|---|---|---|---|---|\n",
       "| chr1_3060420_3060620 |  0.2980111 | -0.4949106 | -0.8352578 | -0.1160573 |  0.2730918 | -1.2475962 | -0.8879229 | -1.90072660 | -0.08176152 | -0.8222272 | ⋯ | -0.05084371 | -1.464294 | -0.11006068 | -1.3047446 |  0.1712703 | -1.2683797 | -1.82190825 | -1.899839012 | -2.0046108 | -1.65164836 |\n",
       "| chr1_3100938_3101138 |  0.1849240 |  1.5523861 |  1.5793781 |  1.2666634 | -0.2395032 |  0.6429433 |  2.2516198 |  1.43304206 | -0.58963195 |  0.2204195 | ⋯ | -0.32854850 | -2.141257 | -2.26703297 | -1.3599426 | -0.5035253 | -1.1222927 | -2.07613874 | -1.834772792 | -1.8082717 | -2.40409078 |\n",
       "| chr1_3103699_3103899 | -1.8132443 | -1.3379290 | -1.0882839 | -1.2455845 | -0.2638067 | -1.8023063 | -1.9987796 | -0.09346071 | -1.52124420 | -0.9930103 | ⋯ | -1.62595165 | -1.147750 |  0.07087044 | -0.5156485 | -0.9869808 | -0.2602057 | -0.08722435 | -0.009158339 |  0.2355524 |  0.04249603 |\n",
       "| chr1_3119588_3119939 | -1.3741031 |  0.2536048 |  1.1944576 | -0.1375741 |  0.1435114 |  0.2128912 | -0.1758270 |  1.02677433 | -1.42451178 |  0.1306106 | ⋯ |  0.67643144 | -2.216750 | -1.40418049 | -0.7770812 | -0.0192496 |  1.8052421 |  1.24270281 |  1.457381996 |  1.4233681 |  0.79838427 |\n",
       "| chr1_3119941_3120162 | -0.7314200 | -0.6006032 | -0.2880665 | -0.6325003 | -1.6280749 | -1.5048052 |  0.5280731 |  0.10359787 | -1.23938086 | -0.2683879 | ⋯ |  0.49333440 | -1.613924 | -1.99574760 | -1.0122742 | -0.3800374 |  1.2092776 |  0.52187464 |  0.740642792 |  0.6748637 |  0.24646564 |\n",
       "| chr1_3212807_3213180 |  1.2863337 |  2.6202389 |  2.4499429 |  2.5089691 |  2.5984299 |  2.1845759 |  2.1230662 |  0.57735879 |  2.02451064 |  0.4180125 | ⋯ |  0.38018376 |  0.654511 | -0.30475782 | -0.0590653 |  0.3272756 | -0.1682086 | -0.57601229 | -0.719008485 | -0.2828867 | -0.87231518 |\n",
       "\n"
      ],
      "text/plain": [
       "                     d0_Aged_Rep1 d0_Aged_Rep2 d0_Aged_Rep3 d0_Aged_Rep4\n",
       "chr1_3060420_3060620  0.2980111   -0.4949106   -0.8352578   -0.1160573  \n",
       "chr1_3100938_3101138  0.1849240    1.5523861    1.5793781    1.2666634  \n",
       "chr1_3103699_3103899 -1.8132443   -1.3379290   -1.0882839   -1.2455845  \n",
       "chr1_3119588_3119939 -1.3741031    0.2536048    1.1944576   -0.1375741  \n",
       "chr1_3119941_3120162 -0.7314200   -0.6006032   -0.2880665   -0.6325003  \n",
       "chr1_3212807_3213180  1.2863337    2.6202389    2.4499429    2.5089691  \n",
       "                     d0_Aged_Rep5 d0_Aged_Rep6 d0_Aged_Rep7 d0_Young_Pax7_Rep1\n",
       "chr1_3060420_3060620  0.2730918   -1.2475962   -0.8879229   -1.90072660       \n",
       "chr1_3100938_3101138 -0.2395032    0.6429433    2.2516198    1.43304206       \n",
       "chr1_3103699_3103899 -0.2638067   -1.8023063   -1.9987796   -0.09346071       \n",
       "chr1_3119588_3119939  0.1435114    0.2128912   -0.1758270    1.02677433       \n",
       "chr1_3119941_3120162 -1.6280749   -1.5048052    0.5280731    0.10359787       \n",
       "chr1_3212807_3213180  2.5984299    2.1845759    2.1230662    0.57735879       \n",
       "                     d0_Young_Pax7_Rep2 d0_Young_Pax7_Rep3 ⋯ d5_Young_Rep2\n",
       "chr1_3060420_3060620 -0.08176152        -0.8222272         ⋯ -0.05084371  \n",
       "chr1_3100938_3101138 -0.58963195         0.2204195         ⋯ -0.32854850  \n",
       "chr1_3103699_3103899 -1.52124420        -0.9930103         ⋯ -1.62595165  \n",
       "chr1_3119588_3119939 -1.42451178         0.1306106         ⋯  0.67643144  \n",
       "chr1_3119941_3120162 -1.23938086        -0.2683879         ⋯  0.49333440  \n",
       "chr1_3212807_3213180  2.02451064         0.4180125         ⋯  0.38018376  \n",
       "                     d7_Aged_Rep1 d7_Aged_Rep2 d7_Aged_Rep3 d7_Aged_Rep4\n",
       "chr1_3060420_3060620 -1.464294    -0.11006068  -1.3047446    0.1712703  \n",
       "chr1_3100938_3101138 -2.141257    -2.26703297  -1.3599426   -0.5035253  \n",
       "chr1_3103699_3103899 -1.147750     0.07087044  -0.5156485   -0.9869808  \n",
       "chr1_3119588_3119939 -2.216750    -1.40418049  -0.7770812   -0.0192496  \n",
       "chr1_3119941_3120162 -1.613924    -1.99574760  -1.0122742   -0.3800374  \n",
       "chr1_3212807_3213180  0.654511    -0.30475782  -0.0590653    0.3272756  \n",
       "                     d7_Young_Rep1 d7_Young_Rep2 d7_Young_Rep3 d7_Young_Rep4\n",
       "chr1_3060420_3060620 -1.2683797    -1.82190825   -1.899839012  -2.0046108   \n",
       "chr1_3100938_3101138 -1.1222927    -2.07613874   -1.834772792  -1.8082717   \n",
       "chr1_3103699_3103899 -0.2602057    -0.08722435   -0.009158339   0.2355524   \n",
       "chr1_3119588_3119939  1.8052421     1.24270281    1.457381996   1.4233681   \n",
       "chr1_3119941_3120162  1.2092776     0.52187464    0.740642792   0.6748637   \n",
       "chr1_3212807_3213180 -0.1682086    -0.57601229   -0.719008485  -0.2828867   \n",
       "                     d7_Young_Rep5\n",
       "chr1_3060420_3060620 -1.65164836  \n",
       "chr1_3100938_3101138 -2.40409078  \n",
       "chr1_3103699_3103899  0.04249603  \n",
       "chr1_3119588_3119939  0.79838427  \n",
       "chr1_3119941_3120162  0.24646564  \n",
       "chr1_3212807_3213180 -0.87231518  "
      ]
     },
     "metadata": {},
     "output_type": "display_data"
    }
   ],
   "source": [
    "cleaned_E_df=as.data.frame(cleaned_E)\n",
    "head(cleaned_E_df)"
   ]
  },
  {
   "cell_type": "markdown",
   "metadata": {},
   "source": [
    "## Plot d0_Y vs d0_Y_Pax7"
   ]
  },
  {
   "cell_type": "code",
   "execution_count": 53,
   "metadata": {},
   "outputs": [],
   "source": [
    "d0_Y=(cleaned_E_df$d0_Young_Rep1+\n",
    "      cleaned_E_df$d0_Young_Rep2+\n",
    "      cleaned_E_df$d0_Young_Rep3+\n",
    "      cleaned_E_df$d0_Young_Rep4)/4\n",
    "d0_Y_Pax7=(cleaned_E_df$d0_Young_Pax7_Rep1+\n",
    "          cleaned_E_df$d0_Young_Pax7_Rep2+\n",
    "          cleaned_E_df$d0_Young_Pax7_Rep3)/3"
   ]
  },
  {
   "cell_type": "code",
   "execution_count": 54,
   "metadata": {},
   "outputs": [],
   "source": [
    "d0_Y_df=data.frame(rownames(cleaned_E_df),d0_Y,d0_Y_Pax7)"
   ]
  },
  {
   "cell_type": "code",
   "execution_count": 55,
   "metadata": {},
   "outputs": [
    {
     "data": {
      "text/html": [
       "<table>\n",
       "<caption>A data.frame: 6 × 3</caption>\n",
       "<thead>\n",
       "\t<tr><th scope=col>rownames.cleaned_E_df.</th><th scope=col>d0_Y</th><th scope=col>d0_Y_Pax7</th></tr>\n",
       "\t<tr><th scope=col>&lt;fct&gt;</th><th scope=col>&lt;dbl&gt;</th><th scope=col>&lt;dbl&gt;</th></tr>\n",
       "</thead>\n",
       "<tbody>\n",
       "\t<tr><td>chr1_3060420_3060620</td><td>-0.3046422</td><td>-0.93490512</td></tr>\n",
       "\t<tr><td>chr1_3100938_3101138</td><td> 0.5820489</td><td> 0.35460987</td></tr>\n",
       "\t<tr><td>chr1_3103699_3103899</td><td>-0.7047459</td><td>-0.86923840</td></tr>\n",
       "\t<tr><td>chr1_3119588_3119939</td><td> 1.0688200</td><td>-0.08904229</td></tr>\n",
       "\t<tr><td>chr1_3119941_3120162</td><td>-0.7906023</td><td>-0.46805697</td></tr>\n",
       "\t<tr><td>chr1_3212807_3213180</td><td> 0.1724557</td><td> 1.00662732</td></tr>\n",
       "</tbody>\n",
       "</table>\n"
      ],
      "text/latex": [
       "A data.frame: 6 × 3\n",
       "\\begin{tabular}{r|lll}\n",
       " rownames.cleaned\\_E\\_df. & d0\\_Y & d0\\_Y\\_Pax7\\\\\n",
       " <fct> & <dbl> & <dbl>\\\\\n",
       "\\hline\n",
       "\t chr1\\_3060420\\_3060620 & -0.3046422 & -0.93490512\\\\\n",
       "\t chr1\\_3100938\\_3101138 &  0.5820489 &  0.35460987\\\\\n",
       "\t chr1\\_3103699\\_3103899 & -0.7047459 & -0.86923840\\\\\n",
       "\t chr1\\_3119588\\_3119939 &  1.0688200 & -0.08904229\\\\\n",
       "\t chr1\\_3119941\\_3120162 & -0.7906023 & -0.46805697\\\\\n",
       "\t chr1\\_3212807\\_3213180 &  0.1724557 &  1.00662732\\\\\n",
       "\\end{tabular}\n"
      ],
      "text/markdown": [
       "\n",
       "A data.frame: 6 × 3\n",
       "\n",
       "| rownames.cleaned_E_df. &lt;fct&gt; | d0_Y &lt;dbl&gt; | d0_Y_Pax7 &lt;dbl&gt; |\n",
       "|---|---|---|\n",
       "| chr1_3060420_3060620 | -0.3046422 | -0.93490512 |\n",
       "| chr1_3100938_3101138 |  0.5820489 |  0.35460987 |\n",
       "| chr1_3103699_3103899 | -0.7047459 | -0.86923840 |\n",
       "| chr1_3119588_3119939 |  1.0688200 | -0.08904229 |\n",
       "| chr1_3119941_3120162 | -0.7906023 | -0.46805697 |\n",
       "| chr1_3212807_3213180 |  0.1724557 |  1.00662732 |\n",
       "\n"
      ],
      "text/plain": [
       "  rownames.cleaned_E_df. d0_Y       d0_Y_Pax7  \n",
       "1 chr1_3060420_3060620   -0.3046422 -0.93490512\n",
       "2 chr1_3100938_3101138    0.5820489  0.35460987\n",
       "3 chr1_3103699_3103899   -0.7047459 -0.86923840\n",
       "4 chr1_3119588_3119939    1.0688200 -0.08904229\n",
       "5 chr1_3119941_3120162   -0.7906023 -0.46805697\n",
       "6 chr1_3212807_3213180    0.1724557  1.00662732"
      ]
     },
     "metadata": {},
     "output_type": "display_data"
    }
   ],
   "source": [
    "head(d0_Y_df)"
   ]
  },
  {
   "cell_type": "code",
   "execution_count": 57,
   "metadata": {},
   "outputs": [
    {
     "data": {
      "text/html": [
       "<strong>png:</strong> 2"
      ],
      "text/latex": [
       "\\textbf{png:} 2"
      ],
      "text/markdown": [
       "**png:** 2"
      ],
      "text/plain": [
       "png \n",
       "  2 "
      ]
     },
     "metadata": {},
     "output_type": "display_data"
    }
   ],
   "source": [
    "svg(filename=\"ATAC_d0Y_vs_d0YPax7.svg\",\n",
    "   height=8,\n",
    "   width=8,\n",
    "   pointsize=12)\n",
    "print(ggplot(data=d0_Y_df,\n",
    "      aes(x=d0_Y_df$d0_Y,\n",
    "         y=d0_Y_df$d0_Y_Pax7))+\n",
    "geom_point(alpha=0.3)+\n",
    "geom_abline(slope=1)+\n",
    "xlab(\"D0 Young\")+\n",
    "ylab(\"D0 Young PAX7\")+\n",
    "ggtitle(\"cpm ATAC-seq counts\")+\n",
    "theme_bw(20))\n",
    "dev.off()"
   ]
  },
  {
   "cell_type": "code",
   "execution_count": null,
   "metadata": {},
   "outputs": [],
   "source": []
  }
 ],
 "metadata": {
  "kernelspec": {
   "display_name": "R 3.5",
   "language": "R",
   "name": "ir35"
  },
  "language_info": {
   "codemirror_mode": "r",
   "file_extension": ".r",
   "mimetype": "text/x-r-source",
   "name": "R",
   "pygments_lexer": "r",
   "version": "3.5.1"
  }
 },
 "nbformat": 4,
 "nbformat_minor": 2
}
